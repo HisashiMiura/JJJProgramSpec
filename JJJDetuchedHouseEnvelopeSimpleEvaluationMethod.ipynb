{
 "cells": [
  {
   "cell_type": "code",
   "execution_count": 1,
   "metadata": {
    "collapsed": false
   },
   "outputs": [
    {
     "name": "stdout",
     "output_type": "stream",
     "text": [
      "Importing Jupyter notebook from DistanceCoefficientDegradation.ipynb\n"
     ]
    }
   ],
   "source": [
    "import pandas as pd\n",
    "import numpy as np\n",
    "from decimal import Decimal\n",
    "from collections import namedtuple\n",
    "import matplotlib.pyplot as plt\n",
    "import nbimporter\n",
    "from DistanceCoefficientDegradation import get_distance_coefficient_degradation\n",
    "from DistanceCoefficientDegradation import distance_rbc"
   ]
  },
  {
   "cell_type": "markdown",
   "metadata": {},
   "source": [
    "# 当該住戸の外皮の部位の面積等を用いずに外皮性能を評価する方法"
   ]
  },
  {
   "cell_type": "markdown",
   "metadata": {},
   "source": [
    "## はじめに"
   ]
  },
  {
   "cell_type": "markdown",
   "metadata": {},
   "source": [
    "本計算方法は、省エネ基準の「当該住戸の外皮の部位の面積等を用いずに外皮性能を評価する方法」に、以下のアレンジを加えた評価となっています。\n",
    "\n",
    "- 省エネ基準では主開口部の方位は南西に固定されているところ、本計算方法では8方位の中から選択可能\n",
    "- 省エネ基準では、窓のU値・η値(暖房期・冷房期）について1種類のみ指定可能であるところ、本計算方法では主開口とそのほかの開口に分けて入力可能\n",
    "- 区域建蔽率から求まる方位係数の低減を考慮\n",
    "\n",
    "< 以下はU値計算のノートに記述 >\n",
    "- 屋根／天井、外壁、床について省エネ基準でのU値入力はそのままに、R値と断熱材厚さからU値を計算できる手法を追加\n",
    "- ドアについて省エネ基準でのU値入力はそのままに、枠の種類・戸の種類・ガラスの有無と有りの場合のUg値からU値を計算できる手法を追加\n",
    "- 窓について省エネ基準でのU値入力はそのままに、建具の種類、Ug値からU値を計算できる手法を追加\n",
    "- 土間床周辺部について省エネ基準でのψ値入力はそのままに、断熱材の厚さや長さ、施工位置などからψを計算する手法を追加"
   ]
  },
  {
   "cell_type": "markdown",
   "metadata": {},
   "source": [
    "## 一次エネ計算方法で使用する関数について"
   ]
  },
  {
   "cell_type": "markdown",
   "metadata": {},
   "source": [
    "本仕様書は将来的な拡張性を考えた計算方法である、  \n",
    "U_A, eta_A_H, eta_A_C について記してあるが、  \n",
    "当面使用する関数は、  \n",
    "U_A_2, eta_A_H_2, eta_A_C_2 である。  \n",
    "U_A_2, eta_A_H_2, eta_A_C_2 の定義等は最後に記す。"
   ]
  },
  {
   "cell_type": "markdown",
   "metadata": {},
   "source": [
    "## 型"
   ]
  },
  {
   "cell_type": "markdown",
   "metadata": {},
   "source": [
    "direction 型：主開口方位から時計回りに0度、90度、180度、270度、上面、下面  \n",
    "direction_H 型：direction 型のうち、上面・下面を除いたもの ( H = Horizontal )  \n",
    "direction_base 型：direction_H 型に加えて、内側(Inside)　を加えたもの  \n",
    "orientation 型：南・南西・西・北西・北・北東・東・南東の8方位に加え、上面、下面を加えたもの"
   ]
  },
  {
   "cell_type": "code",
   "execution_count": 2,
   "metadata": {
    "collapsed": true
   },
   "outputs": [],
   "source": [
    "class direction:\n",
    "    def __init__( self, ES0, ES90, ES180, ES270, top, bottom ):\n",
    "        self.ES0    = ES0\n",
    "        self.ES90   = ES90\n",
    "        self.ES180  = ES180\n",
    "        self.ES270  = ES270\n",
    "        self.top    = top\n",
    "        self.bottom = bottom"
   ]
  },
  {
   "cell_type": "code",
   "execution_count": 3,
   "metadata": {
    "collapsed": true
   },
   "outputs": [],
   "source": [
    "class direction_H:\n",
    "    def __init__( self, ES0, ES90, ES180, ES270 ):\n",
    "        self.ES0   = ES0\n",
    "        self.ES90  = ES90\n",
    "        self.ES180 = ES180\n",
    "        self.ES270 = ES270"
   ]
  },
  {
   "cell_type": "code",
   "execution_count": 4,
   "metadata": {
    "collapsed": true
   },
   "outputs": [],
   "source": [
    "class direction_base:\n",
    "    def __init__( self, ES0, ES90, ES180, ES270, IS ):\n",
    "        self.ES0   = ES0\n",
    "        self.ES90  = ES90\n",
    "        self.ES180 = ES180\n",
    "        self.ES270 = ES270\n",
    "        self.IS    = IS"
   ]
  },
  {
   "cell_type": "code",
   "execution_count": 5,
   "metadata": {
    "collapsed": true
   },
   "outputs": [],
   "source": [
    "class orientation:\n",
    "    def __init__( self, S, SW, W, NW, N, NE, E, SE, top, bottom ):\n",
    "        self.S      = S\n",
    "        self.SW     = SW\n",
    "        self.W      = W\n",
    "        self.NW     = NW\n",
    "        self.N      = N\n",
    "        self.NE     = NE\n",
    "        self.E      = E\n",
    "        self.SE     = SE\n",
    "        self.top    = top\n",
    "        self.bottom = bottom"
   ]
  },
  {
   "cell_type": "markdown",
   "metadata": {},
   "source": [
    "### orientation型からdirection型への変更"
   ]
  },
  {
   "cell_type": "markdown",
   "metadata": {},
   "source": [
    "主開口方位を指定することで、orientation型(8方位＋上・下)からdirection型(4方向＋上・下)に変換する。"
   ]
  },
  {
   "cell_type": "code",
   "execution_count": 6,
   "metadata": {
    "collapsed": true
   },
   "outputs": [],
   "source": [
    "def orientation_to_direction( typeO, main_direction ):\n",
    "    # typeO orientation 型\n",
    "    # main_direction: 主たる方位　( 'S', 'SW', 'W', 'NW', 'N', 'NE', 'E', 'SE' )\n",
    "    # direction_H 型: 主たる方位から、0,90,180,270 度の値\n",
    "    if   ( main_direction == 'S' ): return direction ( typeO.S,  typeO.W,  typeO.N,  typeO.E,  typeO.top, typeO.bottom )\n",
    "    elif ( main_direction == 'SW'): return direction ( typeO.SW, typeO.NW, typeO.NE, typeO.SE, typeO.top, typeO.bottom )\n",
    "    elif ( main_direction == 'W' ): return direction ( typeO.W,  typeO.N,  typeO.E,  typeO.S,  typeO.top, typeO.bottom  )\n",
    "    elif ( main_direction == 'NW'): return direction ( typeO.NW, typeO.NE, typeO.SE, typeO.SW, typeO.top, typeO.bottom )\n",
    "    elif ( main_direction == 'N' ): return direction ( typeO.N,  typeO.E,  typeO.S,  typeO.W,  typeO.top, typeO.bottom  )\n",
    "    elif ( main_direction == 'NE'): return direction ( typeO.NE, typeO.SE, typeO.SW, typeO.NW, typeO.top, typeO.bottom )\n",
    "    elif ( main_direction == 'E' ): return direction ( typeO.E,  typeO.S,  typeO.W,  typeO.N,  typeO.top, typeO.bottom  )\n",
    "    elif ( main_direction == 'SE'): return direction ( typeO.SE, typeO.SW, typeO.NW, typeO.NE, typeO.top, typeO.bottom )\n",
    "    else: raise( 'Wrong Direction Name' )"
   ]
  },
  {
   "cell_type": "markdown",
   "metadata": {},
   "source": [
    "## デフォルトで設定された面積"
   ]
  },
  {
   "cell_type": "markdown",
   "metadata": {},
   "source": [
    "デフォルトで設定される面積は、省エネ基準の仕様書の第3章第2節の表3で指定される。  \n",
    "ただし、ここで定義する方法は主開口方位を任意に設定できる（省エネ基準では主開口方位が南西に固定されている。）ため、方位について以下のように読み替える。  \n",
    "※ES:Envelope Surface 主開口方位から時計回りに0度・90度・180度・270度  \n",
    "南西→ES0  \n",
    "北西→ES90  \n",
    "北東→ES180  \n",
    "南東→ES270  "
   ]
  },
  {
   "cell_type": "code",
   "execution_count": 7,
   "metadata": {
    "collapsed": false
   },
   "outputs": [],
   "source": [
    "class Area_and_Length:\n",
    "    \n",
    "    def __init__(self, house):\n",
    "        # house には 'floor_ins' 又は 'base_ins' を指定する。\n",
    "        \n",
    "        if house == 'floor_ins':\n",
    "            house_num = 0\n",
    "        elif house == 'base_ins':\n",
    "            house_num = 1\n",
    "        else:\n",
    "            raise(\"Wrong character for house type\")\n",
    "\n",
    "        self.env    = [ 266.10, 275.69 ][house_num]                                  # 外皮の部位の面積の合計(m2)\n",
    "        self.A      = 90.0                                                           # 延べ床面積の合計(m2)\n",
    "        self.roof   = 50.85                                                          # 屋根又は天井の面積(m2)\n",
    "        self.wall   = direction_H( 30.47, 22.37, 47.92, 22.28 )                      # 壁の面積(m2) (4方位)\n",
    "        self.door   = direction_H( 0.00, 1.89, 1.62, 0.00 )                          # ドアの面積(m2) (4方位)\n",
    "        self.wnd    = direction_H( 22.69, 2.38, 3.63, 4.37 )                         # 窓の面積(m2) (4方位)\n",
    "        self.floor  = [ 45.05, 0.0 ][house_num]                                      # 床（床断熱した床）の面積(m2)\n",
    "        self.base   = [ direction_base(  0.00, 0.91, 0.91, 0.00, 1.82 ),\n",
    "                        direction_base(  5.30, 1.48, 4.62, 2.40, 0.00 ) ][house_num] # 玄関等を除く基礎の面積(m2)\n",
    "        self.base_d = [ direction_base(  0.00, 0.33, 0.25, 0.00, 0.57 ),\n",
    "                        direction_base(  0.00, 0.33, 0.25, 0.00, 0.00 ) ][house_num] # 玄関等の基礎の面積(m2)\n",
    "        self.prm    = [ direction_base(  0.00, 1.82, 1.82, 0.00, 3.64 ),\n",
    "                        direction_base( 10.61, 2.97, 9.24, 4.79, 0.00 ) ][house_num] # 玄関等を除く土間床等の外周部の長さ(m)\n",
    "        self.prm_d  = [ direction_base(  0.00, 1.82, 1.37, 0.00, 3.19 ),\n",
    "                        direction_base(  0.00, 1.82, 1.37, 0.00, 0.00 ) ][house_num] # 玄関等の土間床等の外周部の長さ(m)"
   ]
  },
  {
   "cell_type": "markdown",
   "metadata": {},
   "source": [
    "## 方位係数"
   ]
  },
  {
   "cell_type": "markdown",
   "metadata": {},
   "source": [
    "方位係数の値は、省エネ基準の仕様書の第3章を参照のこと。  \n",
    "方位係数の低減係数は、地域の区分と隣棟との関係によって定義される。  \n",
    "係数の値などは、ファイル「DistanceCoefficientDegradation.jpynb」を参照のこと。  \n",
    "なお、隣棟との関係のカテゴリとは、  \n",
    "0: 方位係数の低減係数はなし(=1.0)\n",
    "1: 当該住戸の当該部位 1階 隣住戸 1階建て  \n",
    "1: 当該住戸の当該部位 2階 隣住戸 2階建て  \n",
    "1: 当該住戸の当該部位 3階 隣住戸 3階建て  \n",
    "2: 当該住戸の当該部位 1階 隣住戸 2階建て  \n",
    "2: 当該住戸の当該部位 2階 隣住戸 3階建て  \n",
    "3: 当該住戸の当該部位 1階 隣住戸 3階建て  \n",
    "本来であれば、これらの値は、部位ごとに定義される。ただし、本プログラム（JJJ Programe)では、入力が煩雑になるため、全てCategory2の値を使用することにする。（後述）"
   ]
  },
  {
   "cell_type": "markdown",
   "metadata": {},
   "source": [
    "### 1) 暖房期"
   ]
  },
  {
   "cell_type": "code",
   "execution_count": 8,
   "metadata": {
    "collapsed": true
   },
   "outputs": [],
   "source": [
    "class Nu_H:\n",
    "    \n",
    "    def __init__( self, region ):\n",
    "        if region < 1:\n",
    "            raise ( 'value error of region' )\n",
    "        S      = [ 0.935, 0.856, 0.851, 0.815, 0.983, 0.936, 1.023, 'ND' ][region-1]\n",
    "        SW     = [ 0.790, 0.753, 0.750, 0.723, 0.815, 0.763, 0.848, 'ND' ][region-1]\n",
    "        W      = [ 0.535, 0.544, 0.542, 0.527, 0.538, 0.523, 0.548, 'ND' ][region-1]\n",
    "        NW     = [ 0.325, 0.341, 0.351, 0.326, 0.297, 0.317, 0.284, 'ND' ][region-1]\n",
    "        N      = [ 0.260, 0.263, 0.284, 0.256, 0.238, 0.261, 0.227, 'ND' ][region-1]\n",
    "        NE     = [ 0.333, 0.341, 0.348, 0.330, 0.310, 0.325, 0.281, 'ND' ][region-1]\n",
    "        E      = [ 0.564, 0.554, 0.540, 0.531, 0.568, 0.579, 0.543, 'ND' ][region-1]\n",
    "        SE     = [ 0.823, 0.766, 0.751, 0.724, 0.846, 0.833, 0.843, 'ND' ][region-1]\n",
    "        top    = [ 1.0,   1.0,   1.0,   1.0,   1.0,   1.0,   1.0,   'ND' ][region-1]\n",
    "        bottom = [ 0.0,   0.0,   0.0,   0.0,   0.0,   0.0,   0.0,   'ND' ][region-1]\n",
    "        self.value = orientation ( S, SW, W, NW, N, NE, E, SE, top, bottom )\n",
    "    \n",
    "    def get_value( self, rbc, category ):\n",
    "        # rbc: 区域建蔽率\n",
    "        # category: カテゴリー ( 0:低減係数なし 1~3:隣棟との関係 )\n",
    "        if category == 0:\n",
    "            return self.value\n",
    "        else:\n",
    "            r = distance_rbc(rbc)\n",
    "            return orientation ( self.value.S  * get_distance_coefficient_degradation(r, 'Heating', category, 'S'),\n",
    "                                 self.value.SW * get_distance_coefficient_degradation(r, 'Heating', category, 'SW'),\n",
    "                                 self.value.W  * get_distance_coefficient_degradation(r, 'Heating', category, 'W'),\n",
    "                                 self.value.NW * get_distance_coefficient_degradation(r, 'Heating', category, 'NW'),\n",
    "                                 self.value.N  * get_distance_coefficient_degradation(r, 'Heating', category, 'N'),\n",
    "                                 self.value.NE * get_distance_coefficient_degradation(r, 'Heating', category, 'NE'),\n",
    "                                 self.value.E  * get_distance_coefficient_degradation(r, 'Heating', category, 'E'),\n",
    "                                 self.value.SE * get_distance_coefficient_degradation(r, 'Heating', category, 'SE'),\n",
    "                                 self.value.top,\n",
    "                                 self.value.bottom )"
   ]
  },
  {
   "cell_type": "markdown",
   "metadata": {},
   "source": [
    "### 2) 冷房期"
   ]
  },
  {
   "cell_type": "code",
   "execution_count": 9,
   "metadata": {
    "collapsed": true
   },
   "outputs": [],
   "source": [
    "class Nu_C:\n",
    "    \n",
    "    def __init__( self, region ):\n",
    "        if region < 1:\n",
    "            raise ( 'value error of region' )\n",
    "        S      = [ 0.502, 0.507, 0.476, 0.437, 0.472, 0.434, 0.412, 0.480 ][region-1]\n",
    "        SW     = [ 0.526, 0.548, 0.550, 0.481, 0.520, 0.491, 0.479, 0.517 ][region-1]\n",
    "        W      = [ 0.508, 0.529, 0.553, 0.481, 0.518, 0.504, 0.495, 0.505 ][region-1]\n",
    "        NW     = [ 0.411, 0.428, 0.447, 0.401, 0.442, 0.427, 0.406, 0.411 ][region-1]\n",
    "        N      = [ 0.329, 0.341, 0.335, 0.322, 0.373, 0.341, 0.307, 0.325 ][region-1]\n",
    "        NE     = [ 0.430, 0.412, 0.390, 0.426, 0.437, 0.431, 0.415, 0.414 ][region-1]\n",
    "        E      = [ 0.545, 0.503, 0.468, 0.518, 0.500, 0.512, 0.509, 0.515 ][region-1]\n",
    "        SE     = [ 0.560, 0.527, 0.487, 0.508, 0.500, 0.498, 0.490, 0.528 ][region-1]\n",
    "        top    = [ 1.0,   1.0,   1.0,   1.0,   1.0,   1.0,   1.0,   1.0   ][region-1]\n",
    "        bottom = [ 0.0,   0.0,   0.0,   0.0,   0.0,   0.0,   0.0,   0.0   ][region-1]\n",
    "        self.value = orientation ( S, SW, W, NW, N, NE, E, SE, top, bottom )\n",
    "\n",
    "    def get_value( self, rbc, category ):\n",
    "        # rbc: 区域建蔽率\n",
    "        # category: カテゴリー ( 0:低減係数なし 1~3:隣棟との関係 )\n",
    "        if category == 0:\n",
    "            return self.value\n",
    "        else:\n",
    "            r = distance_rbc(rbc)\n",
    "            return orientation ( self.value.S  * get_distance_coefficient_degradation(r, 'Cooling', category, 'S'),\n",
    "                                 self.value.SW * get_distance_coefficient_degradation(r, 'Cooling', category, 'SW'),\n",
    "                                 self.value.W  * get_distance_coefficient_degradation(r, 'Cooling', category, 'W'),\n",
    "                                 self.value.NW * get_distance_coefficient_degradation(r, 'Cooling', category, 'NW'),\n",
    "                                 self.value.N  * get_distance_coefficient_degradation(r, 'Cooling', category, 'N'),\n",
    "                                 self.value.NE * get_distance_coefficient_degradation(r, 'Cooling', category, 'NE'),\n",
    "                                 self.value.E  * get_distance_coefficient_degradation(r, 'Cooling', category, 'E'),\n",
    "                                 self.value.SE * get_distance_coefficient_degradation(r, 'Cooling', category, 'SE'),\n",
    "                                 self.value.top,\n",
    "                                 self.value.bottom )"
   ]
  },
  {
   "cell_type": "markdown",
   "metadata": {},
   "source": [
    "## 取得日射熱補正係数(デフォルト値)"
   ]
  },
  {
   "cell_type": "markdown",
   "metadata": {},
   "source": [
    "### 1) 暖房期"
   ]
  },
  {
   "cell_type": "markdown",
   "metadata": {},
   "source": [
    "暖房期の取得日射熱補正係数は地域の区分に応じて以下のように与えられる。  \n",
    "\n",
    "|      | 1地域       | 2地域       | 3地域       | 4地域       | 5地域       | 6地域       | 7地域       | 8地域 |\n",
    "| ---- | ----------- | ----------- | ----------- | ----------- | ----------- | ----------- | ----------- | ----- |\n",
    "| 南   | 0.655333333 | 0.628666667 | 0.637333333 | 0.616       | 0.654333333 | 0.642       | 0.649666667 | 'ND'  |\n",
    "| 南西 | 0.658       | 0.647666667 | 0.649666667 | 0.642333333 | 0.666666667 | 0.653666667 | 0.669666667 | 'ND'  |\n",
    "| 西   | 0.636666667 | 0.643333333 | 0.636333333 | 0.636       | 0.642666667 | 0.640666667 | 0.643       | 'ND'  |\n",
    "| 北西 | 0.605       | 0.604       | 0.601666667 | 0.595       | 0.595       | 0.595       | 0.589333333 | 'ND'  |\n",
    "| 北   | 0.62        | 0.618       | 0.617666667 | 0.619666667 | 0.628       | 0.627666667 | 0.636       | 'ND'  |\n",
    "| 北東 | 0.602       | 0.605       | 0.601666667 | 0.597666667 | 0.592       | 0.589       | 0.587333333 | 'ND'  |\n",
    "| 東   | 0.640333333 | 0.642333333 | 0.631333333 | 0.637333333 | 0.646666667 | 0.642333333 | 0.639666667 | 'ND'  |\n",
    "| 南東 | 0.664666667 | 0.655666667 | 0.648666667 | 0.642333333 | 0.670666667 | 0.674666667 | 0.665666667 | 'ND'  |\n",
    "| 上   | 'ND'        | 'ND'        | 'ND'        | 'ND'        | 'ND'        | 'ND'        | 'ND'        | 'ND'  |\n",
    "| 下   | 'ND'        | 'ND'        | 'ND'        | 'ND'        | 'ND'        | 'ND'        | 'ND'        | 'ND'  |"
   ]
  },
  {
   "cell_type": "code",
   "execution_count": 10,
   "metadata": {
    "collapsed": true
   },
   "outputs": [],
   "source": [
    "class f_H_default:\n",
    "    \n",
    "    def __init__( self ):\n",
    "        \n",
    "        self.S      = [ 0.655333333, 0.628666667, 0.637333333, 0.616,       0.654333333, 0.642,       0.649666667, 'ND' ]\n",
    "        self.SW     = [ 0.658,       0.647666667, 0.649666667, 0.642333333, 0.666666667, 0.653666667, 0.669666667, 'ND' ]\n",
    "        self.W      = [ 0.636666667, 0.643333333, 0.636333333, 0.636,       0.642666667, 0.640666667, 0.643,       'ND' ]\n",
    "        self.NW     = [ 0.605,       0.604,       0.601666667, 0.595,       0.595,       0.595,       0.589333333, 'ND' ]\n",
    "        self.N      = [ 0.62,        0.618,       0.617666667, 0.619666667, 0.628,       0.627666667, 0.636,       'ND' ]\n",
    "        self.NE     = [ 0.602,       0.605,       0.601666667, 0.597666667, 0.592,       0.589,       0.587333333, 'ND' ]\n",
    "        self.E      = [ 0.640333333, 0.642333333, 0.631333333, 0.637333333, 0.646666667, 0.642333333, 0.639666667, 'ND' ]\n",
    "        self.SE     = [ 0.664666667, 0.655666667, 0.648666667, 0.642333333, 0.670666667, 0.674666667, 0.665666667, 'ND' ]\n",
    "        self.top    = [ 'ND',        'ND',        'ND',        'ND',        'ND',        'ND',        'ND',        'ND' ]\n",
    "        self.bottom = [ 'ND',        'ND',        'ND',        'ND',        'ND',        'ND',        'ND',        'ND' ]\n",
    "\n",
    "    def get_value( self, region ):\n",
    "        # region: 地域の区分 ( 1 ～ 8 )\n",
    "        if region < 1:\n",
    "            raise ( 'value error of region' )\n",
    "        \n",
    "        idx = region - 1\n",
    "        \n",
    "        return orientation ( self.S[idx], self.SW[idx], self.W[idx], self.NW[idx],\n",
    "                             self.N[idx], self.NE[idx], self.E[idx], self.SE[idx], self.top[idx], self.bottom[idx] )"
   ]
  },
  {
   "cell_type": "markdown",
   "metadata": {},
   "source": [
    "### 2) 冷房期"
   ]
  },
  {
   "cell_type": "markdown",
   "metadata": {},
   "source": [
    "冷房期の取得日射熱補正係数は地域の区分と有効なひさし（日除け）の有無に応じて以下のように与えられる。\n",
    "\n",
    "有効なひさし（日除け）が無い場合\n",
    "\n",
    "|      | 1地域 | 2地域 | 3地域 | 4地域 | 5地域 | 6地域 | 7地域 | 8地域 |\n",
    "| ---- | ----- | ----- | ----- | ----- | ----- | ----- | ----- | ----- |\n",
    "| 南   | 0.807 | 0.812 | 0.799 | 0.784 | 0.807 | 0.795 | 0.788 | 0.824 |\n",
    "| 南西 | 0.86  | 0.861 | 0.859 | 0.85  | 0.858 | 0.852 | 0.847 | 0.858 |\n",
    "| 西   | 0.88  | 0.878 | 0.883 | 0.876 | 0.875 | 0.88  | 0.88  | 0.876 |\n",
    "| 北西 | 0.866 | 0.864 | 0.865 | 0.861 | 0.862 | 0.864 | 0.862 | 0.859 |\n",
    "| 北   | 0.853 | 0.857 | 0.853 | 0.852 | 0.86  | 0.847 | 0.838 | 0.848 |\n",
    "| 北東 | 0.865 | 0.864 | 0.862 | 0.861 | 0.863 | 0.862 | 0.861 | 0.857 |\n",
    "| 東   | 0.882 | 0.877 | 0.87  | 0.881 | 0.874 | 0.88  | 0.881 | 0.877 |\n",
    "| 南東 | 0.864 | 0.858 | 0.853 | 0.853 | 0.854 | 0.852 | 0.849 | 0.86  |\n",
    "| 上   | 'ND'  | 'ND'  | 'ND'  | 'ND'  | 'ND'  | 'ND'  | 'ND'  | 'ND'  |\n",
    "| 下   | 'ND'  | 'ND'  | 'ND'  | 'ND'  | 'ND'  | 'ND'  | 'ND'  | 'ND'  |\n",
    "\n",
    "有効なひさし（日除け）が有る場合\n",
    "\n",
    "|      | 1地域       | 2地域       | 3地域       | 4地域       | 5地域       | 6地域       | 7地域       | 8地域       |\n",
    "| ---- | ----------- | ----------- | ----------- | ----------- | ----------- | ----------- | ----------- | ----------- |\n",
    "| 南   | 0.685       | 0.688       | 0.685       | 0.683       | 0.687666667 | 0.677666667 | 0.672333333 | 0.678       |\n",
    "| 南西 | 0.689       | 0.684666667 | 0.682333333 | 0.677       | 0.682       | 0.678333333 | 0.678666667 | 0.673       |\n",
    "| 西   | 0.700666667 | 0.691666667 | 0.679666667 | 0.690666667 | 0.685       | 0.689666667 | 0.692       | 0.691666667 |\n",
    "| 北西 | 0.65        | 0.644333333 | 0.634       | 0.632666667 | 0.642333333 | 0.636333333 | 0.631       | 0.654666667 |\n",
    "| 北   | 0.545       | 0.553333333 | 0.538       | 0.525       | 0.565       | 0.562333333 | 0.558       | 0.609333333 |\n",
    "| 北東 | 0.646       | 0.646666667 | 0.644333333 | 0.631       | 0.647666667 | 0.637333333 | 0.628333333 | 0.651666667 |\n",
    "| 東   | 0.698       | 0.692333333 | 0.699666667 | 0.683666667 | 0.686333333 | 0.691666667 | 0.690666667 | 0.691666667 |\n",
    "| 南東 | 0.689       | 0.685666667 | 0.686666667 | 0.677333333 | 0.678666667 | 0.683333333 | 0.679333333 | 0.677333333 |\n",
    "| 上   | 'ND'        | 'ND'        | 'ND'        | 'ND'        | 'ND'        | 'ND'        | 'ND'        | 'ND'        |\n",
    "| 下   | 'ND'        | 'ND'        | 'ND'        | 'ND'        | 'ND'        | 'ND'        | 'ND'        | 'ND'        |"
   ]
  },
  {
   "cell_type": "code",
   "execution_count": 11,
   "metadata": {
    "collapsed": true
   },
   "outputs": [],
   "source": [
    "class f_C_default:\n",
    "    \n",
    "    def __init__( self ):\n",
    "            \n",
    "        self.S_n      = [ 0.807, 0.812, 0.799, 0.784, 0.807, 0.795, 0.788, 0.824 ]\n",
    "        self.SW_n     = [ 0.86,  0.861, 0.859, 0.85,  0.858, 0.852, 0.847, 0.858 ]\n",
    "        self.W_n      = [ 0.88,  0.878, 0.883, 0.876, 0.875, 0.88,  0.88,  0.876 ]\n",
    "        self.NW_n     = [ 0.866, 0.864, 0.865, 0.861, 0.862, 0.864, 0.862, 0.859 ]\n",
    "        self.N_n      = [ 0.853, 0.857, 0.853, 0.852, 0.86,  0.847, 0.838, 0.848 ]\n",
    "        self.NE_n     = [ 0.865, 0.864, 0.862, 0.861, 0.863, 0.862, 0.861, 0.857 ]\n",
    "        self.E_n      = [ 0.882, 0.877, 0.87,  0.881, 0.874, 0.88,  0.881, 0.877 ]\n",
    "        self.SE_n     = [ 0.864, 0.858, 0.853, 0.853, 0.854, 0.852, 0.849, 0.86  ]\n",
    "        self.top_n    = [ 'ND',  'ND',  'ND',  'ND',  'ND',  'ND',  'ND',  'ND'  ]\n",
    "        self.bottom_n = [ 'ND',  'ND',  'ND',  'ND',  'ND',  'ND',  'ND',  'ND'  ]\n",
    "        \n",
    "        self.S_y      = [ 0.685,       0.688,       0.685,       0.683,       0.687666667, 0.677666667, 0.672333333, 0.678       ]\n",
    "        self.SW_y     = [ 0.689,       0.684666667, 0.682333333, 0.677,       0.682,       0.678333333, 0.678666667, 0.673       ]\n",
    "        self.W_y      = [ 0.700666667, 0.691666667, 0.679666667, 0.690666667, 0.685,       0.689666667, 0.692,       0.691666667 ]\n",
    "        self.NW_y     = [ 0.65,        0.644333333, 0.634,       0.632666667, 0.642333333, 0.636333333, 0.631,       0.654666667 ]\n",
    "        self.N_y      = [ 0.545,       0.553333333, 0.538,       0.525,       0.565,       0.562333333, 0.558,       0.609333333 ]\n",
    "        self.NE_y     = [ 0.646,       0.646666667, 0.644333333, 0.631,       0.647666667, 0.637333333, 0.628333333, 0.651666667 ]\n",
    "        self.E_y      = [ 0.698,       0.692333333, 0.699666667, 0.683666667, 0.686333333, 0.691666667, 0.690666667, 0.691666667 ]\n",
    "        self.SE_y     = [ 0.689,       0.685666667, 0.686666667, 0.677333333, 0.678666667, 0.683333333, 0.679333333, 0.677333333 ]\n",
    "        self.top_y    = [ 'ND',        'ND',        'ND',        'ND',        'ND',        'ND',        'ND',        'ND'        ]\n",
    "        self.bottom_y = [ 'ND',        'ND',        'ND',        'ND',        'ND',        'ND',        'ND',        'ND'        ]\n",
    "\n",
    "    def get_value( self, region, effective_eaves ):\n",
    "\n",
    "        # region: 地域の区分 ( 1 ～ 8 )\n",
    "        # effective_eaves: 有効な日除けの有無 ( 'yes':あり, 'no':なし )\n",
    "        \n",
    "        if region < 1:\n",
    "            raise ( 'value error of region' )\n",
    "        \n",
    "        idx = region - 1\n",
    "        \n",
    "        if ( effective_eaves == 'yes' ):\n",
    "            return orientation ( self.S_y[idx], self.SW_y[idx], self.W_y[idx], self.NW_y[idx],\n",
    "                                 self.N_y[idx], self.NE_y[idx], self.E_y[idx], self.SE_y[idx], self.top_y[idx], self.bottom_y[idx] )\n",
    "        elif ( effective_eaves == 'no' ):\n",
    "            return orientation ( self.S_n[idx], self.SW_n[idx], self.W_n[idx], self.NW_n[idx],\n",
    "                                 self.N_n[idx], self.NE_n[idx], self.E_n[idx], self.SE_n[idx], self.top_n[idx], self.bottom_n[idx] )\n",
    "        else:\n",
    "            raise( 'wrong value of effective_eaves' )"
   ]
  },
  {
   "cell_type": "markdown",
   "metadata": {},
   "source": [
    "## 住宅の種類の判別"
   ]
  },
  {
   "cell_type": "markdown",
   "metadata": {},
   "source": [
    "面積はデフォルト値をおく。\n",
    "温度差係数はデフォルト値を使用した。\n",
    "床断熱(floor_ins)・基礎断熱(floor_base)のどちらにも当てはまらない場合（床断熱と基礎断熱の併用など）は、両方の値を計算し、大きい方の値を採用する。  \n",
    "この判別は、UA値計算だけでなく、ηA値計算にも適用される。"
   ]
  },
  {
   "cell_type": "code",
   "execution_count": 12,
   "metadata": {
    "collapsed": false
   },
   "outputs": [],
   "source": [
    "def AppliedHouseDecision(house, U_roof, U_wall, U_door, U_wnd_main, U_wnd_other, U_floor, U_base, U_base_d, psi_prm, psi_prm_d):\n",
    "    if ( house == 'floor_ins' ) | ( house == 'base_ins' ) :\n",
    "        return house\n",
    "    else:\n",
    "        f_i = get_U_A('floor_ins', U_roof, U_wall, U_door, U_wnd_main, U_wnd_other, U_floor, U_base, U_base_d, psi_prm, psi_prm_d)\n",
    "        f_b = get_U_A('base_ins',  U_roof, U_wall, U_door, U_wnd_main, U_wnd_other, U_floor, U_base, U_base_d, psi_prm, psi_prm_d)\n",
    "        if f_i > f_b:\n",
    "            return 'floor_ins'\n",
    "        else:\n",
    "            return 'base_ins'"
   ]
  },
  {
   "cell_type": "markdown",
   "metadata": {},
   "source": [
    "## 外皮平均熱貫流率"
   ]
  },
  {
   "cell_type": "markdown",
   "metadata": {},
   "source": [
    "ここで計算した外皮平均熱貫流率$U_A$は少数点第2位未満を切り上げすることになっている。（省エネ基準の仕様書の第3章を参照のこと。）\n",
    "\n",
    "$$ U_A= \\frac{q}{A_{env}} $$\n",
    "\n",
    "$U_A$:外皮平均熱貫流率(W/m<sup>2</sup>K)  \n",
    "$q$:単位温度差あたりの外皮熱損失量(W/K)"
   ]
  },
  {
   "cell_type": "code",
   "execution_count": 13,
   "metadata": {
    "collapsed": true
   },
   "outputs": [],
   "source": [
    "def U_A(house, U_roof, U_wall, U_door, U_wnd_main, U_wnd_other, U_floor, U_base, U_base_d, psi_prm, psi_prm_d):\n",
    "    \n",
    "    # 床断熱住宅と基礎断熱住宅の併用住宅の場合、それぞれ計算してU値で大きい方を採用する。その判断。\n",
    "    house_d = AppliedHouseDecision(house, U_roof, U_wall, U_door, U_wnd_main, U_wnd_other, U_floor, U_base, U_base_d, psi_prm, psi_prm_d)\n",
    "    \n",
    "    return get_U_A(house_d, U_roof, U_wall, U_door, U_wnd_main, U_wnd_other, U_floor, U_base, U_base_d, psi_prm, psi_prm_d)"
   ]
  },
  {
   "cell_type": "code",
   "execution_count": 14,
   "metadata": {
    "collapsed": true
   },
   "outputs": [],
   "source": [
    "def get_U_A(house, U_roof, U_wall, U_door, U_wnd_main, U_wnd_other, U_floor, U_base, U_base_d, psi_prm, psi_prm_d):\n",
    "\n",
    "    # デフォルト面積の読み込み\n",
    "    area = Area_and_Length(house)\n",
    "\n",
    "    # q値の計算\n",
    "    q_all = get_q_all(U_roof, U_wall, U_door, U_wnd_main, U_wnd_other, U_floor, U_base, U_base_d, psi_prm, psi_prm_d, area)\n",
    "    \n",
    "    # UA値(端数処理をしていない)の計算\n",
    "    U_A_Raw = Decimal( q_all / area.env )\n",
    "    \n",
    "    # 小数点第3位未満を切り上げ\n",
    "    return U_A_Raw.quantize(Decimal('0.00'), rounding = 'ROUND_UP')"
   ]
  },
  {
   "cell_type": "markdown",
   "metadata": {},
   "source": [
    "## 単位温度差あたりの外皮熱損失量"
   ]
  },
  {
   "cell_type": "markdown",
   "metadata": {},
   "source": [
    "$\\begin{align} q &= q_{roof} + q_{wall} + q_{door} + q_{wnd} + q_{floor} + q_{base} + q_{base,d} + q_{prm} + q_{prm,d} \\end{align}$ \n",
    "\n",
    "$q$:単位温度差当たりの外皮熱損失量(W/K)  \n",
    "\n",
    "roof:屋根, wall:壁, door:ドア, wnd:窓, IF:断熱床, floor:床, base:基礎, d:玄関部分  "
   ]
  },
  {
   "cell_type": "code",
   "execution_count": 15,
   "metadata": {
    "collapsed": true
   },
   "outputs": [],
   "source": [
    "def get_q_all(U_roof, U_wall, U_door, U_wnd_main, U_wnd_other, U_floor, U_base, U_base_d, psi_prm, psi_prm_d, area):\n",
    "    \n",
    "    q_all = q_roof   ( area.roof,   U_roof   ) \\\n",
    "          + q_wall   ( area.wall,   U_wall   ) \\\n",
    "          + q_door   ( area.door,   U_door   ) \\\n",
    "          + q_wnd    ( area.wnd,    U_wnd_main, U_wnd_other ) \\\n",
    "          + q_floor  ( area.floor,  U_floor  ) \\\n",
    "          + q_base   ( area.base,   U_base   ) \\\n",
    "          + q_base_d ( area.base_d, U_base_d ) \\\n",
    "          + q_prm    ( area.prm,    psi_prm  ) \\\n",
    "          + q_prm_d  ( area.prm_d,  psi_prm_d)\n",
    "    return q_all"
   ]
  },
  {
   "cell_type": "markdown",
   "metadata": {},
   "source": [
    "## 部位の種類ごとの計算"
   ]
  },
  {
   "cell_type": "markdown",
   "metadata": {},
   "source": [
    "以下、各項目ごとに計算式を定義する。\n",
    "\n",
    "$A$:面積(m<sup>2</sup>)  \n",
    "$L$:長さ(m)  \n",
    "$H$:温度差係数  \n",
    "$U$:熱貫流率(W/m<sup>2</sup>K)  \n",
    "$\\psi$:線熱貫流率(W/mK)  \n",
    "\n",
    "0,90,180,270: 主開口方位から時計回りに、順に、0度、90度、180度、270度  \n",
    "OS,IS: 順に、室外側、室内側  "
   ]
  },
  {
   "cell_type": "markdown",
   "metadata": {},
   "source": [
    "### 1) 屋根\n",
    "\n",
    "$\\begin{align} q_{roof} = A_{roof} \\times H_{roof} \\times U_{roof} \\end{align}$ "
   ]
  },
  {
   "cell_type": "code",
   "execution_count": 16,
   "metadata": {
    "collapsed": true
   },
   "outputs": [],
   "source": [
    "def q_roof( A_roof, U_roof ):\n",
    "    # 温度差係数は1.0\n",
    "    H_roof = 1.0\n",
    "    return A_roof * H_roof * U_roof"
   ]
  },
  {
   "cell_type": "markdown",
   "metadata": {},
   "source": [
    "### 2) 外壁\n",
    "\n",
    "$\\begin{align} q_{wall} = ( A_{wall,0} + A_{wall,90} + A_{wall,180} + A_{wall,270} ) \\times H_{wall} \\times U_{wall} \\end{align}$ "
   ]
  },
  {
   "cell_type": "code",
   "execution_count": 17,
   "metadata": {
    "collapsed": true
   },
   "outputs": [],
   "source": [
    "def q_wall( A_wall, U_wall ):\n",
    "    # 温度差係数は1.0\n",
    "    H_wall = 1.0\n",
    "    return ( A_wall.ES0 + A_wall.ES90 + A_wall.ES180 + A_wall.ES270 ) * H_wall * U_wall"
   ]
  },
  {
   "cell_type": "markdown",
   "metadata": {},
   "source": [
    "### 3) ドア\n",
    "\n",
    "$\\begin{align} q_{door} = ( A_{door,0} + A_{door,90} + A_{door,180} + A_{door,270} ) \\times H_{door} \\times U_{door} \\end{align}$ "
   ]
  },
  {
   "cell_type": "code",
   "execution_count": 18,
   "metadata": {
    "collapsed": true
   },
   "outputs": [],
   "source": [
    "def q_door( A_door, U_door ):\n",
    "    # 温度差係数は1.0\n",
    "    H_door = 1.0\n",
    "    return ( A_door.ES0 + A_door.ES90 + A_door.ES180 + A_door.ES270 ) * H_door * U_door"
   ]
  },
  {
   "cell_type": "markdown",
   "metadata": {},
   "source": [
    "### 4) 窓\n",
    "\n",
    "$\\begin{align} q_{wnd} = ( A_{wnd, 0} + A_{wnd, 90} + A_{wnd, 180} + A_{wnd, 270} ) \\times H_{wnd}  \\times U_{wnd} \\end{align}$ "
   ]
  },
  {
   "cell_type": "code",
   "execution_count": 19,
   "metadata": {
    "collapsed": true
   },
   "outputs": [],
   "source": [
    "def q_wnd( A_wnd, U_wnd_main, U_wnd_other ):\n",
    "    # 温度差係数は1.0\n",
    "    H_wnd = 1.0\n",
    "    return ( A_wnd.ES0 * U_wnd_main + ( A_wnd.ES90 + A_wnd.ES180 + A_wnd.ES270 ) * U_wnd_other ) * H_wnd"
   ]
  },
  {
   "cell_type": "markdown",
   "metadata": {},
   "source": [
    "### 5) 床\n",
    "\n",
    "$\\begin{align} q_{floor} = A_{IF} \\times H_{floor} \\times U_{floor} \\end{align}$ "
   ]
  },
  {
   "cell_type": "code",
   "execution_count": 20,
   "metadata": {
    "collapsed": true
   },
   "outputs": [],
   "source": [
    "def q_floor( A_IF, U_floor ):\n",
    "    # 温度差係数は0.7\n",
    "    H_floor = 0.7\n",
    "    return A_IF * H_floor * U_floor"
   ]
  },
  {
   "cell_type": "markdown",
   "metadata": {},
   "source": [
    "### 6) 基礎\n",
    "\n",
    "$\\begin{align} q_{base} = ( ( A_{base,0} + A_{base,90} + A_{base,180} + A_{base,270} ) \\times H_{base,OS} + A_{base,IS} \\times H_{base,IS} ) \\times U_{base} \\end{align}$"
   ]
  },
  {
   "cell_type": "code",
   "execution_count": 21,
   "metadata": {
    "collapsed": true
   },
   "outputs": [],
   "source": [
    "def q_base( A_base, U_base ):\n",
    "    # 温度差係数(室外側)は1.0\n",
    "    # 温度差係数(室内側)は0.7\n",
    "    H_base_OS = 1.0\n",
    "    H_base_IS = 0.7\n",
    "    q_base_OS  = ( A_base.ES0 + A_base.ES90 + A_base.ES180 + A_base.ES270 ) * H_base_OS * U_base\n",
    "    q_base_IS  =   A_base.IS                                                * H_base_IS * U_base\n",
    "    return q_base_OS + q_base_IS"
   ]
  },
  {
   "cell_type": "markdown",
   "metadata": {},
   "source": [
    "### 7) 基礎(玄関ドア等)\n",
    "\n",
    "$\\begin{align} q_{base,d} = ( ( A_{base,d,0} + A_{base,d,90} + A_{base,d,180} + A_{base,d,270} ) \\times H_{base,OS} + A_{base,d,IS} \\times H_{base,IS} ) \\times U_{base,d} \\end{align}$"
   ]
  },
  {
   "cell_type": "code",
   "execution_count": 22,
   "metadata": {
    "collapsed": true
   },
   "outputs": [],
   "source": [
    "def q_base_d( A_base_d, U_base_d ):\n",
    "    # 温度差係数(室外側)は1.0\n",
    "    # 温度差係数(室内側)は0.7\n",
    "    H_base_OS = 1.0\n",
    "    H_base_IS = 0.7\n",
    "    q_base_d_OS = ( A_base_d.ES0 + A_base_d.ES90 + A_base_d.ES180 + A_base_d.ES270 ) * H_base_OS * U_base_d\n",
    "    q_base_d_IS =   A_base_d.IS                                                      * H_base_IS * U_base_d\n",
    "    return q_base_d_OS + q_base_d_IS"
   ]
  },
  {
   "cell_type": "markdown",
   "metadata": {},
   "source": [
    "### 8) 土間床周辺部\n",
    "\n",
    "$\\begin{align} q_{prm} = ( ( L_{prm,  0} + L_{prm,  90} + L_{prm,  180} + L_{prm,  270} ) \\times H_{prm,OS} + L_{prm,IS}   \\times H_{prm,IS} ) \\times \\psi_{prm} \\end{align}$ "
   ]
  },
  {
   "cell_type": "code",
   "execution_count": 23,
   "metadata": {
    "collapsed": true
   },
   "outputs": [],
   "source": [
    "def q_prm( L_prm, psi_prm ):\n",
    "    # 温度差係数(室外側)は1.0\n",
    "    # 温度差係数(室内側)は0.7\n",
    "    H_prm_OS = 1.0\n",
    "    H_prm_IS = 0.7\n",
    "    q_prm_OS = ( L_prm.ES0 + L_prm.ES90 + L_prm.ES180 + L_prm.ES270 ) * H_prm_OS * psi_prm\n",
    "    q_prm_IS =   L_prm.IS                                             * H_prm_IS * psi_prm\n",
    "    return q_prm_OS + q_prm_IS"
   ]
  },
  {
   "cell_type": "markdown",
   "metadata": {},
   "source": [
    "### 9) 土間床周辺部(玄関ドア等)\n",
    "\n",
    "$\\begin{align} q_{prm,d} = ( ( L_{prm,d,0} + L_{prm,d,90} + L_{prm,d,180} + L_{prm,d,270} ) \\times H_{prm,OS} + L_{prm,d,IS} \\times H_{prm,IS} ) \\times \\psi_{prm,d} \\end{align}$ "
   ]
  },
  {
   "cell_type": "code",
   "execution_count": 24,
   "metadata": {
    "collapsed": true
   },
   "outputs": [],
   "source": [
    "def q_prm_d( L_prm_d, psi_prm_d ):\n",
    "    # 温度差係数(室外側)は1.0\n",
    "    # 温度差係数(室内側)は0.7\n",
    "    H_prm_OS = 1.0\n",
    "    H_prm_IS = 0.7\n",
    "    q_prm_d_OS  = ( L_prm_d.ES0 + L_prm_d.ES90 + L_prm_d.ES180 + L_prm_d.ES270 ) * H_prm_OS * psi_prm_d\n",
    "    q_prm_d_IS  =   L_prm_d.IS                                                   * H_prm_IS * psi_prm_d\n",
    "    return q_prm_d_OS + q_prm_d_IS"
   ]
  },
  {
   "cell_type": "markdown",
   "metadata": {},
   "source": [
    "## 平均日射熱取得率"
   ]
  },
  {
   "cell_type": "markdown",
   "metadata": {},
   "source": [
    "### 1) 暖房期"
   ]
  },
  {
   "cell_type": "markdown",
   "metadata": {},
   "source": [
    "ここで計算した暖房期の平均日射熱取得率$\\eta_{A,H}$は小数点第1位未満を切り下げすることになっている。（省エネ基準の仕様書の第3章を参照のこと。）\n",
    "\n",
    "$$ \\eta_{A,H}=\\frac{m_H}{A_{env}}\\times 100 $$\n",
    "\n",
    "$\\eta_{A,H}$:暖房期の平均日射熱取得率  \n",
    "$m_H$:単位日射強度当たりの暖房期の日射熱取得量(W/(W/m<sup>2</sup>))"
   ]
  },
  {
   "cell_type": "code",
   "execution_count": 25,
   "metadata": {
    "collapsed": false
   },
   "outputs": [],
   "source": [
    "def eta_A_H( house, region, main_direction,\n",
    "             U_roof, U_wall, U_door, U_wnd_main, U_wnd_other, U_floor, U_base, U_base_d,\n",
    "             psi_prm, psi_prm_d,\n",
    "             eta_d_wnd_H_main, eta_d_wnd_H_other, RBC, NBCategory ):\n",
    "    # house: 家の種類 'floor_ins', 'base_ins', 'floor_and_base_ins'\n",
    "    # region: 地域の区分 ( 1 ～ 8 )\n",
    "    # main_direction: 主開口の方位 ( 'S', 'SW', 'W', 'NW', 'N', 'NE', 'E', 'SE' )\n",
    "    # U_roof, U_wall, U_door, U_wnd_main, U_wnd_other, U_floor, U_base, U_base_d:\n",
    "    # 屋根・壁・ドア・主開口窓・その他の開口窓・床・基礎・基礎(玄関ドア等)のU値(W/m2K) \n",
    "    # psi_prm, psi_prm_d:\n",
    "    # 土間床外周部・土間床外周部(玄関ドア等)のψ値(W/mK)\n",
    "    # eta_d_wnd_H_main, eta_d_wnd_H_other: \n",
    "    # 主開口窓の暖房期・その他開口窓の暖房期のηd値\n",
    "    # RBC: 区域建蔽率\n",
    "    # NBCategory: 隣棟との関係(0,1,2,3)\n",
    "    \n",
    "    # 床断熱住宅と基礎断熱住宅の併用住宅の場合、それぞれ計算してU値で大きい方を採用する。その判断。\n",
    "    house_d = AppliedHouseDecision(house, U_roof, U_wall, U_door, U_wnd_main, U_wnd_other, U_floor, U_base, U_base_d, psi_prm, psi_prm_d)\n",
    "    \n",
    "    return get_eta_A_H( house_d, U_roof, U_wall, U_door, U_base, U_base_d, eta_d_wnd_H_main, eta_d_wnd_H_other,\n",
    "                        region, main_direction, RBC, NBCategory )"
   ]
  },
  {
   "cell_type": "code",
   "execution_count": 26,
   "metadata": {
    "collapsed": true
   },
   "outputs": [],
   "source": [
    "def get_eta_A_H( house, U_roof, U_wall, U_door, U_base, U_base_d, eta_d_wnd_H_main, eta_d_wnd_H_other,\n",
    "                 region, main_direction, RBC, NBCategory ):\n",
    "    \n",
    "    if region == 8:\n",
    "        return 'ND'    # 8地域は暖房期間がないため未定義\n",
    "    \n",
    "    # デフォルト面積の読み込み\n",
    "    area = Area_and_Length(house)\n",
    "    \n",
    "    # 方位係数\n",
    "    nu_h = orientation_to_direction( Nu_H(region).get_value(RBC,NBCategory), main_direction )\n",
    "    \n",
    "    # m_H値の計算\n",
    "    m_H_all = get_m_H_all( U_roof, U_wall, U_door, U_base, U_base_d, eta_d_wnd_H_main, eta_d_wnd_H_other,\n",
    "                           region, main_direction, area, nu_h )\n",
    "    \n",
    "    # ηAH値(端数処理をしていない)の計算\n",
    "    eta_A_H_Raw = Decimal( m_H_all / area.env * 100 )\n",
    "    \n",
    "    # 小数点第2位未満を切り下げ\n",
    "    return eta_A_H_Raw.quantize(Decimal('0.0'), rounding = 'ROUND_DOWN')"
   ]
  },
  {
   "cell_type": "markdown",
   "metadata": {},
   "source": [
    "### 2) 冷房期"
   ]
  },
  {
   "cell_type": "markdown",
   "metadata": {},
   "source": [
    "ここで計算した冷房期の平均日射熱取得率$\\eta_{A,C}$は小数点第1位未満を切り上げすることになっている。（省エネ基準の仕様書の第3章を参照のこと。）\n",
    "\n",
    "$$ \\eta_{A,C}=\\frac{m_C}{A_{env}}\\times 100 $$\n",
    "\n",
    "$\\eta_{A,C}$:冷房期の平均日射熱取得率  \n",
    "$m_C$:単位日射強度当たりの冷房期の日射熱取得量(W/(W/m<sup>2</sup>))"
   ]
  },
  {
   "cell_type": "code",
   "execution_count": 27,
   "metadata": {
    "collapsed": true
   },
   "outputs": [],
   "source": [
    "def eta_A_C( house, region, main_direction,\n",
    "             U_roof, U_wall, U_door, U_wnd_main, U_wnd_other, U_floor, U_base, U_base_d,\n",
    "             psi_prm, psi_prm_d,\n",
    "             eta_d_wnd_C_main, eta_d_wnd_C_other, RBC, NBCategory, effective_eaves ):\n",
    "    # house: 家の種類 'floor_ins', 'base_ins', 'floor_and_base_ins'\n",
    "    # region: 地域の区分 ( 1 ～ 8 )\n",
    "    # main_direction: 主開口の方位 ( 'S', 'SW', 'W', 'NW', 'N', 'NE', 'E', 'SE' )\n",
    "    # U_roof, U_wall, U_door, U_wnd_main, U_wnd_other, U_floor, U_base, U_base_d:\n",
    "    # 屋根・壁・ドア・主開口窓・その他の開口窓・床・基礎・基礎(玄関ドア等)のU値(W/m2K) \n",
    "    # psi_prm, psi_prm_d:\n",
    "    # 土間床外周部・土間床外周部(玄関ドア等)のψ値(W/mK)\n",
    "    # eta_d_wnd_C_main, eta_d_wnd_C_other: \n",
    "    # 主開口窓の冷房期・その他開口窓の冷房期のηd値\n",
    "    # RBC: 区域建蔽率\n",
    "    # NBCategory: 隣棟との関係(0,1,2,3)\n",
    "    # effective_eaves: 有効な日除けの有無(yes, no)\n",
    "    \n",
    "    # 床断熱住宅と基礎断熱住宅の併用住宅の場合、それぞれ計算してU値で大きい方を採用する。その判断。\n",
    "    house_d = AppliedHouseDecision(house, U_roof, U_wall, U_door, U_wnd_main, U_wnd_other, U_floor, U_base, U_base_d, psi_prm, psi_prm_d)\n",
    "    \n",
    "    return get_eta_A_C( house_d, U_roof, U_wall, U_door, U_base, U_base_d, eta_d_wnd_C_main, eta_d_wnd_C_other,\n",
    "                        region, main_direction, RBC, NBCategory, effective_eaves )"
   ]
  },
  {
   "cell_type": "code",
   "execution_count": 28,
   "metadata": {
    "collapsed": true
   },
   "outputs": [],
   "source": [
    "def get_eta_A_C( house, U_roof, U_wall, U_door, U_base, U_base_d, eta_d_wnd_C_main, eta_d_wnd_C_other,\n",
    "                 region, main_direction, RBC, NBCategory, effective_eaves ):\n",
    "\n",
    "    # デフォルト面積の読み込み\n",
    "    area = Area_and_Length(house)\n",
    "    \n",
    "    # 方位係数\n",
    "    nu_c = orientation_to_direction( Nu_C(region).get_value(RBC,NBCategory), main_direction )\n",
    "\n",
    "    # m_C値の計算\n",
    "    m_C_all = get_m_C_all( U_roof, U_wall, U_door, U_base, U_base_d, eta_d_wnd_C_main, eta_d_wnd_C_other,\n",
    "                           region, main_direction, area, nu_c, effective_eaves )\n",
    "\n",
    "    # ηAC値(端数処理をしていない)の計算\n",
    "    eta_A_C_Raw = Decimal( m_C_all / area.env * 100 )\n",
    "    \n",
    "    # 小数点第2位未満を切り上げ\n",
    "    return eta_A_C_Raw.quantize(Decimal('0.0'), rounding = 'ROUND_UP')"
   ]
  },
  {
   "cell_type": "markdown",
   "metadata": {},
   "source": [
    "## 単位日射強度当たりの日射熱取得量"
   ]
  },
  {
   "cell_type": "markdown",
   "metadata": {},
   "source": [
    "### 1) 暖房期"
   ]
  },
  {
   "cell_type": "markdown",
   "metadata": {},
   "source": [
    "$ \\begin{align}m_H &= m_{H,roof} + m_{H,wall} + m_{H,door} + m_{H,wnd} + m_{H,base} + m_{H,base,d} \\end{align}$  \n",
    "\n",
    "$m_H$:暖房期の単位日射強度当たりの日射熱取得量(W/(W/m<sup>2</sup>))  \n",
    "\n",
    "roof:屋根, wall:壁, door:ドア, wnd:窓, base:基礎, d:玄関部分"
   ]
  },
  {
   "cell_type": "code",
   "execution_count": 29,
   "metadata": {
    "collapsed": true
   },
   "outputs": [],
   "source": [
    "def get_m_H_all( U_roof, U_wall, U_door, U_base, U_base_d, eta_d_wnd_H_main, eta_d_wnd_H_other, region, main_direction, area, nu_h ):\n",
    "    m_H_all = m_H_roof  ( area.roof,   nu_h, U_roof   ) \\\n",
    "            + m_H_wall  ( area.wall,   nu_h, U_wall   ) \\\n",
    "            + m_H_door  ( area.door,   nu_h, U_door   ) \\\n",
    "            + m_H_wnd   ( area.wnd,    nu_h, eta_d_wnd_H_main, eta_d_wnd_H_other, region, main_direction ) \\\n",
    "            + m_H_base  ( area.base,   nu_h, U_base   ) \\\n",
    "            + m_H_base_d( area.base_d, nu_h, U_base_d )\n",
    "    return m_H_all"
   ]
  },
  {
   "cell_type": "markdown",
   "metadata": {},
   "source": [
    "### 2) 冷房期"
   ]
  },
  {
   "cell_type": "markdown",
   "metadata": {},
   "source": [
    "$ \\begin{align}m_C &= m_{C,roof} + m_{C,wall} + m_{C,door} + m_{C,wnd} + m_{C,base} + m_{C,base,d} \\end{align}$  \n",
    "\n",
    "$m_C$:冷房期の単位日射強度当たりの日射熱取得量(W/(W/m<sup>2</sup>))  \n",
    "\n",
    "roof:屋根, wall:壁, door:ドア, wnd:窓, base:基礎, d:玄関部分"
   ]
  },
  {
   "cell_type": "code",
   "execution_count": 30,
   "metadata": {
    "collapsed": true
   },
   "outputs": [],
   "source": [
    "def get_m_C_all( U_roof, U_wall, U_door, U_base, U_base_d, eta_d_wnd_C_main, eta_d_wnd_C_other, region, main_direction, area, nu_c, effective_eaves ):\n",
    "    m_C_all = m_C_roof  ( area.roof,   nu_c, U_roof   ) \\\n",
    "            + m_C_wall  ( area.wall,   nu_c, U_wall   ) \\\n",
    "            + m_C_door  ( area.door,   nu_c, U_door   ) \\\n",
    "            + m_C_wnd   ( area.wnd,    nu_c, eta_d_wnd_C_main, eta_d_wnd_C_other, region, main_direction, effective_eaves ) \\\n",
    "            + m_C_base  ( area.base,   nu_c, U_base   ) \\\n",
    "            + m_C_base_d( area.base_d, nu_c, U_base_d )\n",
    "    return m_C_all"
   ]
  },
  {
   "cell_type": "markdown",
   "metadata": {},
   "source": [
    "## 部位の種類ごとの計算"
   ]
  },
  {
   "cell_type": "markdown",
   "metadata": {},
   "source": [
    "以下、各項目ごとに計算式を定義する。\n",
    "\n",
    "$A$:面積(m<sup>2</sup>)  \n",
    "$\\nu$:方位係数  \n",
    "$\\eta$:日射熱取得率  \n",
    "\n",
    "0,90,180,270: 主開口方位から時計回りに、順に、0度、90度、180度、270度  \n",
    "top,bottom: 順に、上面、下面  "
   ]
  },
  {
   "cell_type": "markdown",
   "metadata": {},
   "source": [
    "### 1) 屋根"
   ]
  },
  {
   "cell_type": "markdown",
   "metadata": {},
   "source": [
    "$ \\begin{align} m_{H,roof} = A_{roof} \\times \\nu_{H,top} \\times \\eta_{H,roof} \\end{align}$  \n",
    "$ \\begin{align} m_{C,roof} = A_{roof} \\times \\nu_{C,top} \\times \\eta_{C,roof} \\end{align}$  \n",
    "\n",
    "$ \\begin{align} \\eta_{H,roof} = U_{roof} \\times 0.034 \\end{align} $  \n",
    "$ \\begin{align} \\eta_{C,roof} = U_{roof} \\times 0.034 \\end{align} $"
   ]
  },
  {
   "cell_type": "code",
   "execution_count": 31,
   "metadata": {
    "collapsed": true
   },
   "outputs": [],
   "source": [
    "def m_H_roof( A_roof, nu_H, U_roof ):\n",
    "    eta_H_roof = U_roof * 0.034\n",
    "    return A_roof * nu_H.top * eta_H_roof"
   ]
  },
  {
   "cell_type": "code",
   "execution_count": 32,
   "metadata": {
    "collapsed": true
   },
   "outputs": [],
   "source": [
    "def m_C_roof( A_roof, nu_C, U_roof ):\n",
    "    eta_C_roof = U_roof * 0.034\n",
    "    return A_roof * nu_C.top * eta_C_roof"
   ]
  },
  {
   "cell_type": "markdown",
   "metadata": {},
   "source": [
    "### 2) 壁"
   ]
  },
  {
   "cell_type": "markdown",
   "metadata": {},
   "source": [
    "$ \\begin{align} m_{H,wall} = ( A_{wall,0} \\times \\nu_{H,0} + A_{wall,90} \\times \\nu_{H,90} + A_{wall,180} \\times \\nu_{H,180} + A_{wall,270} \\times \\nu_{H,270} ) \\times \\eta_{H,wall} \\end{align} $  \n",
    "$ \\begin{align} m_{C,wall} = ( A_{wall,0} \\times \\nu_{C,0} + A_{wall,90} \\times \\nu_{C,90} + A_{wall,180} \\times \\nu_{C,180} + A_{wall,270} \\times \\nu_{C,270} ) \\times \\eta_{C,wall} \\end{align} $  \n",
    "\n",
    "$ \\begin{align} \\eta_{H,wall} = U_{wall} \\times 0.034 \\end{align} $  \n",
    "$ \\begin{align} \\eta_{C,wall} = U_{wall} \\times 0.034 \\end{align} $"
   ]
  },
  {
   "cell_type": "code",
   "execution_count": 33,
   "metadata": {
    "collapsed": true
   },
   "outputs": [],
   "source": [
    "def m_H_wall( A_wall, nu_H, U_wall ):\n",
    "    eta_H_wall = U_wall * 0.034\n",
    "    return A_wall.ES0   * nu_H.ES0   * eta_H_wall \\\n",
    "         + A_wall.ES90  * nu_H.ES90  * eta_H_wall \\\n",
    "         + A_wall.ES180 * nu_H.ES180 * eta_H_wall \\\n",
    "         + A_wall.ES270 * nu_H.ES270 * eta_H_wall"
   ]
  },
  {
   "cell_type": "code",
   "execution_count": 34,
   "metadata": {
    "collapsed": true
   },
   "outputs": [],
   "source": [
    "def m_C_wall( A_wall, nu_C, U_wall ):\n",
    "    eta_C_wall = U_wall * 0.034\n",
    "    return A_wall.ES0   * nu_C.ES0   * eta_C_wall \\\n",
    "         + A_wall.ES90  * nu_C.ES90  * eta_C_wall \\\n",
    "         + A_wall.ES180 * nu_C.ES180 * eta_C_wall \\\n",
    "         + A_wall.ES270 * nu_C.ES270 * eta_C_wall"
   ]
  },
  {
   "cell_type": "markdown",
   "metadata": {},
   "source": [
    "\n",
    "### 3) ドア"
   ]
  },
  {
   "cell_type": "markdown",
   "metadata": {},
   "source": [
    "$ \\begin{align} m_{H,door} = ( A_{door,0} \\times \\nu_{H,0} + A_{door,90} \\times \\nu_{H,90} + A_{door,180} \\times \\nu_{H,180} + A_{door,270} \\times \\nu_{H,270} ) \\times \\eta_{H,door} \\end{align} $  \n",
    "$ \\begin{align} m_{C,door} = ( A_{door,0} \\times \\nu_{C,0} + A_{door,90} \\times \\nu_{C,90} + A_{door,180} \\times \\nu_{C,180} + A_{door,270} \\times \\nu_{C,270} ) \\times \\eta_{C,door} \\end{align} $  \n",
    "\n",
    "$ \\begin{align} \\eta_{H,door} = U_{door} \\times 0.034 \\end{align} $  \n",
    "$ \\begin{align} \\eta_{C,door} = U_{door} \\times 0.034 \\end{align} $"
   ]
  },
  {
   "cell_type": "code",
   "execution_count": 35,
   "metadata": {
    "collapsed": true
   },
   "outputs": [],
   "source": [
    "def m_H_door( A_door, nu_H, U_door ):\n",
    "    eta_H_door = U_door * 0.034\n",
    "    return A_door.ES0   * nu_H.ES0   * eta_H_door \\\n",
    "         + A_door.ES90  * nu_H.ES90  * eta_H_door \\\n",
    "         + A_door.ES180 * nu_H.ES180 * eta_H_door \\\n",
    "         + A_door.ES270 * nu_H.ES270 * eta_H_door"
   ]
  },
  {
   "cell_type": "code",
   "execution_count": 36,
   "metadata": {
    "collapsed": true
   },
   "outputs": [],
   "source": [
    "def m_C_door( A_door, nu_C, U_door ):\n",
    "    eta_C_door = U_door * 0.034\n",
    "    return A_door.ES0   * nu_C.ES0   * eta_C_door \\\n",
    "         + A_door.ES90  * nu_C.ES90  * eta_C_door \\\n",
    "         + A_door.ES180 * nu_C.ES180 * eta_C_door \\\n",
    "         + A_door.ES270 * nu_C.ES270 * eta_C_door"
   ]
  },
  {
   "cell_type": "markdown",
   "metadata": {},
   "source": [
    "### 4) 窓"
   ]
  },
  {
   "cell_type": "markdown",
   "metadata": {},
   "source": [
    "窓の場合は、日除け等を勘案した取得日射量補正係数が方位によって異なること、主開口とその他の物性を分けて入力できること等から、方位別に$\\eta$値を設定する。  \n",
    "$ \\begin{align} m_{H,wnd} = A_{wnd,0} \\times \\nu_{H,0} \\times \\eta_{H,wnd,0} + A_{wnd,90} \\times \\nu_{H,90} \\times \\eta_{H,wnd,90} + A_{wnd,180} \\times \\nu_{H,180} \\times \\eta_{H,wnd,180} + A_{wnd,270} \\times \\nu_{H,270} \\times \\eta_{H,wnd,270} \\end{align} $  \n",
    "$ \\begin{align} m_{C,wnd} = A_{wnd,0} \\times \\nu_{C,0} \\times \\eta_{C,wnd,0} + A_{wnd,90} \\times \\nu_{C,90} \\times \\eta_{C,wnd,90} + A_{wnd,180} \\times \\nu_{C,180} \\times \\eta_{C,wnd,180} + A_{wnd,270} \\times \\nu_{C,270} \\times \\eta_{C,wnd,270} \\end{align} $  \n",
    "\n",
    "主開口方位の日射熱取得率は、主開口方位とその他の方位で別々に入力させる。  \n",
    "窓の日射熱取得率については、複数の仕様の窓が存在する場合に最も不利な値を入力させるために、暖房期と冷房期とで（多くの場合で一致するものの）異なる値をとる場合がある。  \n",
    "$ \\begin{align} \\eta_{H,wnd,0} = \\eta_{H,wnd,d,main} \\times f_{H,0} \\end{align} $  \n",
    "$ \\begin{align} \\eta_{H,wnd,90} = \\eta_{H,wnd,d,other} \\times f_{H,90} \\end{align} $  \n",
    "$ \\begin{align} \\eta_{H,wnd,180} = \\eta_{H,wnd,d,other} \\times f_{H,180} \\end{align} $  \n",
    "$ \\begin{align} \\eta_{H,wnd,270} = \\eta_{H,wnd,d,other} \\times f_{H,270} \\end{align} $  \n",
    "$ \\begin{align} \\eta_{C,wnd,0} = \\eta_{C,wnd,d,main} \\times f_{C,0} \\end{align} $  \n",
    "$ \\begin{align} \\eta_{C,wnd,90} = \\eta_{C,wnd,d,other} \\times f_{C,90} \\end{align} $  \n",
    "$ \\begin{align} \\eta_{C,wnd,180} = \\eta_{C,wnd,d,other} \\times f_{C,180} \\end{align} $  \n",
    "$ \\begin{align} \\eta_{C,wnd,270} = \\eta_{C,wnd,d,other} \\times f_{C,270} \\end{align} $  \n",
    "\n",
    "f値は、地域の区分に応じてデフォルト値を与える。  \n",
    "暖房期f値は一意に定まる。  \n",
    "冷房期f値は「有効な日除けの有無」に応じて定まる。"
   ]
  },
  {
   "cell_type": "code",
   "execution_count": 37,
   "metadata": {
    "collapsed": true
   },
   "outputs": [],
   "source": [
    "def m_H_wnd( A_wnd, nu_H, eta_d_wnd_H_main, eta_d_wnd_H_other, region, main_direction ):\n",
    "    f_H = orientation_to_direction( f_H_default().get_value(region), main_direction )\n",
    "    return A_wnd.ES0   * nu_H.ES0   * eta_d_wnd_H_main  * f_H.ES0 \\\n",
    "         + A_wnd.ES90  * nu_H.ES90  * eta_d_wnd_H_other * f_H.ES90 \\\n",
    "         + A_wnd.ES180 * nu_H.ES180 * eta_d_wnd_H_other * f_H.ES180 \\\n",
    "         + A_wnd.ES270 * nu_H.ES270 * eta_d_wnd_H_other * f_H.ES270"
   ]
  },
  {
   "cell_type": "code",
   "execution_count": 38,
   "metadata": {
    "collapsed": true
   },
   "outputs": [],
   "source": [
    "def m_C_wnd( A_wnd, nu_C, eta_d_wnd_C_main, eta_d_wnd_C_other, region, main_direction, effective_eaves ):\n",
    "    f_C = orientation_to_direction( f_C_default().get_value(region, effective_eaves), main_direction )\n",
    "    return A_wnd.ES0   * nu_C.ES0   * eta_d_wnd_C_main  * f_C.ES0 \\\n",
    "         + A_wnd.ES90  * nu_C.ES90  * eta_d_wnd_C_other * f_C.ES90 \\\n",
    "         + A_wnd.ES180 * nu_C.ES180 * eta_d_wnd_C_other * f_C.ES180 \\\n",
    "         + A_wnd.ES270 * nu_C.ES270 * eta_d_wnd_C_other * f_C.ES270"
   ]
  },
  {
   "cell_type": "markdown",
   "metadata": {},
   "source": [
    "### 5) 基礎"
   ]
  },
  {
   "cell_type": "markdown",
   "metadata": {},
   "source": [
    "$ \\begin{align} m_{H,base} = ( A_{base,0} \\times \\nu_{H,0} + A_{base,90} \\times \\nu_{H,90} + A_{base,180} \\times \\nu_{H,180} + A_{base,270} \\times \\nu_{H,270} ) \\times \\eta_{H,base} \\end{align} $  \n",
    "$ \\begin{align} m_{C,base} = ( A_{base,0} \\times \\nu_{C,0} + A_{base,90} \\times \\nu_{C,90} + A_{base,180} \\times \\nu_{C,180} + A_{base,270} \\times \\nu_{C,270} ) \\times \\eta_{C,base} \\end{align} $  \n",
    "\n",
    "$ \\begin{align} \\eta_{H,base} = U_{base} \\times 0.034 \\end{align} $  \n",
    "$ \\begin{align} \\eta_{C,base} = U_{base} \\times 0.034 \\end{align} $"
   ]
  },
  {
   "cell_type": "code",
   "execution_count": 39,
   "metadata": {
    "collapsed": true
   },
   "outputs": [],
   "source": [
    "def m_H_base( A_base, nu_H, U_base ):\n",
    "    eta_H_base = U_base * 0.034\n",
    "    return A_base.ES0   * nu_H.ES0   * eta_H_base \\\n",
    "         + A_base.ES90  * nu_H.ES90  * eta_H_base \\\n",
    "         + A_base.ES180 * nu_H.ES180 * eta_H_base \\\n",
    "         + A_base.ES270 * nu_H.ES270 * eta_H_base"
   ]
  },
  {
   "cell_type": "code",
   "execution_count": 40,
   "metadata": {
    "collapsed": true
   },
   "outputs": [],
   "source": [
    "def m_C_base( A_base, nu_C, U_base ):\n",
    "    eta_C_base = U_base * 0.034\n",
    "    return A_base.ES0   * nu_C.ES0   * eta_C_base \\\n",
    "         + A_base.ES90  * nu_C.ES90  * eta_C_base \\\n",
    "         + A_base.ES180 * nu_C.ES180 * eta_C_base \\\n",
    "         + A_base.ES270 * nu_C.ES270 * eta_C_base"
   ]
  },
  {
   "cell_type": "markdown",
   "metadata": {},
   "source": [
    "### 6) 基礎(玄関ドア等)"
   ]
  },
  {
   "cell_type": "markdown",
   "metadata": {},
   "source": [
    "$ \\begin{align} m_{H,base,d} = ( A_{base,d,0} \\times \\nu_{H,0} + A_{base,d,90} \\times \\nu_{H,90} + A_{base,d,180} \\times \\nu_{H,180} + A_{base,d,270} \\times \\nu_{H,270} ) \\times \\eta_{H,base,d} \\end{align} $  \n",
    "$ \\begin{align} m_{C,base,d} = ( A_{base,d,0} \\times \\nu_{C,0} + A_{base,d,90} \\times \\nu_{C,90} + A_{base,d,180} \\times \\nu_{C,180} + A_{base,d,270} \\times \\nu_{C,270} ) \\times \\eta_{C,base,d} \\end{align} $  \n",
    "\n",
    "$ \\begin{align} \\eta_{H,base,d} = U_{base,d} \\times 0.034 \\end{align} $  \n",
    "$ \\begin{align} \\eta_{C,base,d} = U_{base,d} \\times 0.034 \\end{align} $"
   ]
  },
  {
   "cell_type": "code",
   "execution_count": 41,
   "metadata": {
    "collapsed": true
   },
   "outputs": [],
   "source": [
    "def m_H_base_d( A_base_d, nu_H, U_base_d ):\n",
    "    eta_H_base_d = U_base_d * 0.034\n",
    "    return A_base_d.ES0   * nu_H.ES0   * eta_H_base_d \\\n",
    "         + A_base_d.ES90  * nu_H.ES90  * eta_H_base_d \\\n",
    "         + A_base_d.ES180 * nu_H.ES180 * eta_H_base_d \\\n",
    "         + A_base_d.ES270 * nu_H.ES270 * eta_H_base_d"
   ]
  },
  {
   "cell_type": "code",
   "execution_count": 42,
   "metadata": {
    "collapsed": true
   },
   "outputs": [],
   "source": [
    "def m_C_base_d( A_base_d, nu_C, U_base_d ):\n",
    "    eta_C_base_d = U_base_d * 0.034\n",
    "    return A_base_d.ES0   * nu_C.ES0   * eta_C_base_d \\\n",
    "         + A_base_d.ES90  * nu_C.ES90  * eta_C_base_d \\\n",
    "         + A_base_d.ES180 * nu_C.ES180 * eta_C_base_d \\\n",
    "         + A_base_d.ES270 * nu_C.ES270 * eta_C_base_d"
   ]
  },
  {
   "cell_type": "markdown",
   "metadata": {},
   "source": [
    "## 外皮平均熱貫流率(一次エネ計算プログラム使用版)"
   ]
  },
  {
   "cell_type": "markdown",
   "metadata": {},
   "source": [
    "現在、基礎の熱損失は土間床外周部のψ値に含まれる計算となっている。  \n",
    "基礎の熱損失を含まない土間床外周部のψ値の計算方法が確立されるまでの当分の間、基礎の熱損失は0とする。"
   ]
  },
  {
   "cell_type": "code",
   "execution_count": 43,
   "metadata": {
    "collapsed": false
   },
   "outputs": [],
   "source": [
    "def U_A_2( house, U_roof, U_wall, U_door, U_wnd_main, U_wnd_other, U_floor, psi_prm, psi_prm_d ):\n",
    "    \n",
    "    # house: 家の種類( 'floor_ins' , 'base_ins' , 'floor_base_ins' )\n",
    "    # U_roof: 屋根のU値(W/m2K)\n",
    "    # U_wall: 壁のU値(W/m2K)\n",
    "    # U_door: ドアのU値(W/m2K)\n",
    "    # U_wnd_main: 主開口窓のU値(W/m2K)\n",
    "    # U_wnd_other: その他の開口窓のU値(W/m2K)\n",
    "    # U_floor: 床のU値(W/m2K)\n",
    "    # psi_prm: 土間床外周部のψ値(W/mK)\n",
    "    # psi_prm_d: 土間床外周部(玄関ドア等)のψ値(W/mK)    \n",
    "    \n",
    "    return U_A(house, U_roof, U_wall, U_door, U_wnd_main, U_wnd_other, U_floor, 0.0, 0.0, psi_prm, psi_prm_d)"
   ]
  },
  {
   "cell_type": "markdown",
   "metadata": {},
   "source": [
    "## 平均日射熱取得率(一次エネ計算プログラム使用版)"
   ]
  },
  {
   "cell_type": "markdown",
   "metadata": {},
   "source": [
    "### 1) 暖房期"
   ]
  },
  {
   "cell_type": "markdown",
   "metadata": {},
   "source": [
    "現在、基礎の熱損失は土間床外周部のψ値に含まれる計算となっている。  \n",
    "基礎の熱損失を含まない土間床外周部のψ値の計算方法が確立されるまでの当分の間、基礎の熱損失は0とする。  \n",
    "隣棟との関係については、隣棟の影響考慮する場合はCategory2に、考慮しない場合はCategory0とする。"
   ]
  },
  {
   "cell_type": "code",
   "execution_count": 44,
   "metadata": {
    "collapsed": false
   },
   "outputs": [],
   "source": [
    "def eta_A_H_2( house, region, main_direction,\n",
    "               U_roof, U_wall, U_door, U_wnd_main, U_wnd_other, U_floor, psi_prm, psi_prm_d,\n",
    "               eta_d_wnd_H_main, eta_d_wnd_H_other, ricchi, NBEffect ):\n",
    "    # house: 家の種類 'floor_ins', 'base_ins', 'floor_and_base_ins'\n",
    "    # region: 地域の区分 ( 1 ～ 8 )\n",
    "    # main_direction: 主開口の方位 ( 'S', 'SW', 'W', 'NW', 'N', 'NE', 'E', 'SE' )\n",
    "    # U_roof, U_wall, U_door, U_wnd_main, U_wnd_other, U_floor: 屋根・壁・ドア・主開口窓・その他の開口窓・床のU値(W/m2K) \n",
    "    # psi_prm, psi_prm_d: 土間床外周部・土間床外周部(玄関ドア等)のψ値(W/mK)\n",
    "    # eta_d_wnd_H_main, eta_d_wnd_H_other: 主開口窓の暖房期・その他開口窓の暖房期のηd値\n",
    "    # ricchi: 立地\n",
    "        # kougai: 郊外\n",
    "        # toshibu: 密集していない都市部\n",
    "        # misshu_toshibu: 密集している都市部\n",
    "    # NBEffect: 隣棟の影響 'yes' 考慮する 'no' 考慮しない\n",
    "    \n",
    "    NBCategory = get_NBCategory(NBEffect)\n",
    "    RBC = getRBC(ricchi)\n",
    "    return eta_A_H( house, region, main_direction,\n",
    "                    U_roof, U_wall, U_door, U_wnd_main, U_wnd_other, U_floor, 0.0, 0.0, psi_prm, psi_prm_d,\n",
    "                    eta_d_wnd_H_main, eta_d_wnd_H_other, RBC, NBCategory )"
   ]
  },
  {
   "cell_type": "markdown",
   "metadata": {},
   "source": [
    "### 2) 冷房期"
   ]
  },
  {
   "cell_type": "markdown",
   "metadata": {},
   "source": [
    "現在、基礎の熱損失は土間床外周部のψ値に含まれる計算となっている。  \n",
    "基礎の熱損失を含まない土間床外周部のψ値の計算方法が確立されるまでの当分の間、基礎の熱損失は0とする。  \n",
    "隣棟との関係については、考慮する場合はCategory2に、考慮しない場合はCategory0とする。"
   ]
  },
  {
   "cell_type": "code",
   "execution_count": 45,
   "metadata": {
    "collapsed": true
   },
   "outputs": [],
   "source": [
    "def eta_A_C_2( house, region, main_direction,\n",
    "               U_roof, U_wall, U_door, U_wnd_main, U_wnd_other, U_floor, psi_prm, psi_prm_d,\n",
    "               eta_d_wnd_C_main, eta_d_wnd_C_other, ricchi, NBEffect, effective_eaves ):\n",
    "    # house: 家の種類 'floor_ins', 'base_ins', 'floor_and_base_ins'\n",
    "    # region: 地域の区分 ( 1 ～ 8 )\n",
    "    # main_direction: 主開口の方位 ( 'S', 'SW', 'W', 'NW', 'N', 'NE', 'E', 'SE' )\n",
    "    # U_roof, U_wall, U_door, U_wnd_main, U_wnd_other, U_floor: 屋根・壁・ドア・主開口窓・その他の開口窓・床のU値(W/m2K) \n",
    "    # psi_prm, psi_prm_d: 土間床外周部・土間床外周部(玄関ドア等)のψ値(W/mK)\n",
    "    # eta_d_wnd_C_main, eta_d_wnd_C_other: 主開口窓の冷房期・その他開口窓の冷房期のηd値\n",
    "    # ricchi: 立地\n",
    "        # kougai: 郊外\n",
    "        # toshibu: 密集していない都市部\n",
    "        # misshu_toshibu: 密集している都市部\n",
    "    # NBEffect: 隣棟の影響 'yes' 考慮する 'no' 考慮しない\n",
    "    # effective_eaves: 有効な日除けの有無(yes, no)\n",
    "    \n",
    "    NBCategory = get_NBCategory(NBEffect)\n",
    "    RBC = getRBC(ricchi)\n",
    "    return eta_A_C( house, region, main_direction,\n",
    "                    U_roof, U_wall, U_door, U_wnd_main, U_wnd_other, U_floor, 0.0, 0.0, psi_prm, psi_prm_d,\n",
    "                    eta_d_wnd_C_main, eta_d_wnd_C_other, RBC, NBCategory, effective_eaves )"
   ]
  },
  {
   "cell_type": "markdown",
   "metadata": {},
   "source": [
    "## 隣棟との関係"
   ]
  },
  {
   "cell_type": "markdown",
   "metadata": {},
   "source": [
    "隣棟との関係については、隣棟の影響考慮する場合はCategory2に、考慮しない場合はCategory0とする。"
   ]
  },
  {
   "cell_type": "code",
   "execution_count": 46,
   "metadata": {
    "collapsed": true
   },
   "outputs": [],
   "source": [
    "def get_NBCategory(NBEffect):\n",
    "    # NBEffect: 隣棟の影響 'yes' 考慮する 'no' 考慮しない\n",
    "    return 2 if NBEffect == 'yes' else 0"
   ]
  },
  {
   "cell_type": "markdown",
   "metadata": {},
   "source": [
    "## 区域建蔽率(地域建蔽率)について(根拠)"
   ]
  },
  {
   "cell_type": "markdown",
   "metadata": {},
   "source": [
    "区域建蔽率・・・当該住宅を中心に平面的に円状の範囲に入る建物面積の割合。  \n",
    "地域建蔽率・・・所謂建蔽率のこと。  \n",
    "区域建蔽率と地域建蔽率とは定義が異なるが、ほぼ同じような値になるため、ここでは区別せずに使用する。  \n",
    "\n",
    "立地については、以下のように要素技術によって定義がことなるが、「日射熱の利用」にあるように以下のように定義する。\n",
    "\n",
    "| 立地  | 名称                 | 地域建蔽率(%) |\n",
    "| ----- | -------------------- | ------------- |\n",
    "| 立地1 | 郊外                 | 25.0          |\n",
    "| 立地2 | 密集していない都市部 | 35.0          |\n",
    "| 立地3 | 密集都市部           | 50.0          |"
   ]
  },
  {
   "cell_type": "markdown",
   "metadata": {},
   "source": [
    "### 1) 自然風の利用における定義"
   ]
  },
  {
   "cell_type": "markdown",
   "metadata": {},
   "source": [
    "| 立地  | 名称         | 区域建蔽率 |\n",
    "| ----- | ------------ | ---------- |\n",
    "| 立地1 | 都市型の立地 | 20%超      |\n",
    "| 立地2 | 郊外型の立地 | 20%以下    |"
   ]
  },
  {
   "cell_type": "markdown",
   "metadata": {},
   "source": [
    "### 2) 昼光利用における定義"
   ]
  },
  {
   "cell_type": "markdown",
   "metadata": {},
   "source": [
    "| 立地  | 名称                                   |\n",
    "| ----- | -------------------------------------- |\n",
    "| 立地1 | 太陽光の利用が困難な過密・高層型の立地 |\n",
    "| 立地2 | 太陽光の利用に工夫が必要な過密型の立地 |\n",
    "| 立地3 | 太陽光の利用が容易な郊外型の立地       |"
   ]
  },
  {
   "cell_type": "markdown",
   "metadata": {},
   "source": [
    "### 3) 日射遮蔽における定義"
   ]
  },
  {
   "cell_type": "markdown",
   "metadata": {},
   "source": [
    "| 立地  | 名称                 | 壁面高さに対する隣棟間隔の比 | 隣棟間隔(m) | 区域建蔽率(%) | 冷房期の隣棟遮蔽係数(%) |\n",
    "| ----- | -------------------- | ---------------------------- | ----------- | ------------- | ----------------------- |\n",
    "| 立地1 | 郊外                 | 2.2                          | 15.5        | 24.2          | 89.0                    |\n",
    "| 立地2 | 密集していない都市部 | 1.8                          | 12.3        | 28.0          | 83.0                    |\n",
    "| 立地3 | 密集都市部           | 0.6                          | 4.5         | 44.7          | 58.0                    |\n",
    "\n",
    "※ 区域建蔽率は、隣棟間隔から以下のように算出した。  \n",
    "出典：H26年度 住宅外皮の省エネ技術の定量的評価業務  \n",
    "出典：上記業務におけるデータ「方位係数低減係数(グルーピング)2.csv」  \n",
    "$ \\begin{align} r_{BC} = \\frac { \\ln{(d/67.10)} } { (-6.05) } \\end{align} $  \n",
    "$ \\begin{align} d = 67.10 \\times \\exp{ ( -6.05 \\times r_{BC} ) }\\end{align} $  \n",
    "ここで、  \n",
    "$ r_{BC} $ : 地域建蔽率\n",
    "$ d $ : 隣棟距離(m)"
   ]
  },
  {
   "cell_type": "markdown",
   "metadata": {},
   "source": [
    "隣棟遮蔽係数は、方位・隣棟との関係（カテゴリ・隣棟の相対的な高さ）に応じて定まる値である。  \n",
    "ここでは、自立ガイドラインに公開されている値と、方位・隣棟との関係に応じて計算される値とを比較した。"
   ]
  },
  {
   "cell_type": "code",
   "execution_count": 47,
   "metadata": {
    "collapsed": false
   },
   "outputs": [
    {
     "data": {
      "image/png": "[encoded data removed]",
      "text/plain": [
       "<matplotlib.figure.Figure at 0x2acec6a7f98>"
      ]
     },
     "metadata": {},
     "output_type": "display_data"
    }
   ],
   "source": [
    "drt = ['S','SW','W','NW','N','NE','E','SE']\n",
    "\n",
    "plt.figure(figsize= (15,3))\n",
    "\n",
    "distance = [15.5, 12.3, 4.5]\n",
    "expected = [0.89, 0.83, 0.58]\n",
    "\n",
    "for fn in [1,2,3]:\n",
    "    plt.subplot(1,3,fn)\n",
    "    n = 0\n",
    "    for c in [1,2,3]:\n",
    "        x = []\n",
    "        y = []\n",
    "        for r in drt:\n",
    "            x.append(n)\n",
    "            y.append(get_distance_coefficient_degradation(distance[fn-1], 'Cooling', c, r))\n",
    "            n = n + 1\n",
    "        plt.bar(x,y)\n",
    "    plt.plot( [ -0.5,23.5 ] , [ expected[fn-1], expected[fn-1] ], \"r\" )\n",
    "    plt.axis([-1,24,0,1])\n",
    "    plt.title(\"distance = \" + str(distance[fn-1]) + \"m\")\n",
    "plt.show()"
   ]
  },
  {
   "cell_type": "markdown",
   "metadata": {},
   "source": [
    "### 4) 日射熱の利用における定義"
   ]
  },
  {
   "cell_type": "markdown",
   "metadata": {},
   "source": [
    "| 立地  | 名称                 | 地域建蔽率(%) | 暖房期の隣棟遮蔽係数(%) |\n",
    "| ----- | -------------------- | ------------- | ----------------------- |\n",
    "| 立地1 | 郊外                 | 25.0          | 96.0                    |\n",
    "| 立地2 | 密集していない都市部 | 35.0          | 88.0                    |\n",
    "| 立地3 | 密集都市部           | 50.0          | 59.0                    |"
   ]
  },
  {
   "cell_type": "code",
   "execution_count": 48,
   "metadata": {
    "collapsed": false
   },
   "outputs": [
    {
     "data": {
      "image/png": "[encoded data removed]",
      "text/plain": [
       "<matplotlib.figure.Figure at 0x2acecd55320>"
      ]
     },
     "metadata": {},
     "output_type": "display_data"
    }
   ],
   "source": [
    "drt = ['S','SW','W','NW','N','NE','E','SE']\n",
    "\n",
    "plt.figure(figsize= (15,3))\n",
    "\n",
    "RBC = [0.25, 0.35, 0.5]\n",
    "expected = [0.96, 0.88, 0.59]\n",
    "\n",
    "for fn in [1,2,3]:\n",
    "    plt.subplot(1,3,fn)\n",
    "    n = 0\n",
    "    for c in [1,2,3]:\n",
    "        x = []\n",
    "        y = []\n",
    "        for r in drt:\n",
    "            x.append(n)\n",
    "            y.append(get_distance_coefficient_degradation(distance_rbc(RBC[fn-1]), 'Heating', c, r))\n",
    "            n = n + 1\n",
    "        plt.bar(x,y)\n",
    "    plt.plot( [ -0.5,23.5 ] , [ expected[fn-1], expected[fn-1] ], \"r\" )\n",
    "    plt.axis([-1,24,0,1])\n",
    "    plt.title(\"RBC = \" + str(RBC[fn-1]) )\n",
    "plt.show()"
   ]
  },
  {
   "cell_type": "markdown",
   "metadata": {},
   "source": [
    "## 区域建蔽率(地域建蔽率)について(仕様)"
   ]
  },
  {
   "cell_type": "markdown",
   "metadata": {},
   "source": [
    "立地（郊外＝'kougai',密集していない都市部＝'toshibu',密集している都市部＝'misshu_toshibu'）に応じて、25%,35%,50%とする。\n",
    "\n",
    "| 立地  | 名称                 | 地域建蔽率(%) |\n",
    "| ----- | -------------------- | ------------- |\n",
    "| 立地1 | 郊外                 | 25.0          |\n",
    "| 立地2 | 密集していない都市部 | 35.0          |\n",
    "| 立地3 | 密集都市部           | 50.0          |"
   ]
  },
  {
   "cell_type": "code",
   "execution_count": 49,
   "metadata": {
    "collapsed": true
   },
   "outputs": [],
   "source": [
    "def getRBC(ricchi):\n",
    "    # ricchi: 立地\n",
    "        # kougai: 郊外\n",
    "        # toshibu: 密集していない都市部\n",
    "        # misshu_toshibu: 密集している都市部\n",
    "    if ricchi == 'kougai':\n",
    "        return 0.25\n",
    "    elif ricchi == 'toshibu':\n",
    "        return 0.35\n",
    "    elif ricchi == 'misshu_toshibu':\n",
    "        return 0.5\n",
    "    else:\n",
    "        raise(\"error: ricchi\")"
   ]
  }
 ],
 "metadata": {
  "kernelspec": {
   "display_name": "Python 3",
   "language": "python",
   "name": "python3"
  },
  "language_info": {
   "codemirror_mode": {
    "name": "ipython",
    "version": 3
   },
   "file_extension": ".py",
   "mimetype": "text/x-python",
   "name": "python",
   "nbconvert_exporter": "python",
   "pygments_lexer": "ipython3",
   "version": "3.6.0"
  }
 },
 "nbformat": 4,
 "nbformat_minor": 2
}
