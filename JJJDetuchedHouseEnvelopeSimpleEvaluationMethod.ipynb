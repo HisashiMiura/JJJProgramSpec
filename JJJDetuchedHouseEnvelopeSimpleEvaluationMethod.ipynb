{
 "cells": [
  {
   "cell_type": "code",
   "execution_count": 1,
   "metadata": {
    "collapsed": false
   },
   "outputs": [],
   "source": [
    "import pandas as pd\n",
    "import numpy as np\n",
    "from decimal import Decimal\n",
    "from collections import namedtuple\n",
    "import matplotlib.pyplot as plt"
   ]
  },
  {
   "cell_type": "markdown",
   "metadata": {},
   "source": [
    "# 当該住戸の外皮の部位の面積等を用いずに外皮性能を評価する方法"
   ]
  },
  {
   "cell_type": "markdown",
   "metadata": {},
   "source": [
    "本計算方法は、省エネ基準の「当該住戸の外皮の部位の面積等を用いずに外皮性能を評価する方法」に、以下のアレンジを加えた評価となっています。\n",
    "\n",
    "- 省エネ基準では主開口部の方位は南西に固定されているところ、本計算方法では8方位の中から選択可能\n",
    "- 省エネ基準では、窓のU値・η値(暖房期・冷房期）について1種類のみ指定可能であるところ、本計算方法では主開口とそのほかの開口に分けて入力可能\n",
    "- 区域建蔽率から求まる方位係数の低減を考慮\n",
    "\n",
    "< 以下はU値計算のノートに記述 >\n",
    "- 屋根／天井、外壁、床について省エネ基準でのU値入力はそのままに、R値と断熱材厚さからU値を計算できる手法を追加\n",
    "- ドアについて省エネ基準でのU値入力はそのままに、枠の種類・戸の種類・ガラスの有無と有りの場合のUg値からU値を計算できる手法を追加\n",
    "- 窓について省エネ基準でのU値入力はそのままに、建具の種類、Ug値からU値を計算できる手法を追加\n",
    "- 土間床周辺部について省エネ基準でのψ値入力はそのままに、断熱材の厚さや長さ、施工位置などからψを計算する手法を追加"
   ]
  },
  {
   "cell_type": "markdown",
   "metadata": {},
   "source": [
    "## デフォルトで設定された面積"
   ]
  },
  {
   "cell_type": "markdown",
   "metadata": {},
   "source": [
    "デフォルトで設定される面積は、省エネ基準の仕様書の第3章第2節の表3で指定される。  \n",
    "ただし、ここで定義する方法は主開口方位を任意に設定できる（省エネ基準では主開口方位が南西に固定されている。）ため、方位について以下のように読み替える。  \n",
    "※ES:Envelope Surface 主開口方位から時計回りに0度・90度・180度・270度\n",
    "南西→ES0  \n",
    "北西→ES90  \n",
    "北東→ES180  \n",
    "南東→ES270  "
   ]
  },
  {
   "cell_type": "code",
   "execution_count": 2,
   "metadata": {
    "collapsed": false
   },
   "outputs": [],
   "source": [
    "direction      = namedtuple( 'direction',      ('ES0', 'ES90', 'ES180', 'ES270'       ) )\n",
    "direction_base = namedtuple( 'direction_base', ('ES0', 'ES90', 'ES180', 'ES270', 'IS' ) )"
   ]
  },
  {
   "cell_type": "code",
   "execution_count": 106,
   "metadata": {
    "collapsed": false
   },
   "outputs": [],
   "source": [
    "class Area_and_Length:\n",
    "    \n",
    "    def __init__(self, house):\n",
    "        # house には 'floor_ins' 又は 'base_ins' を指定する。\n",
    "        \n",
    "        if house == 'floor_ins':\n",
    "            house_num = 0\n",
    "        elif house == 'base_ins':\n",
    "            house_num = 1\n",
    "        else:\n",
    "            raise(\"Wrong character for house type\")\n",
    "\n",
    "        self.env    = [ 266.10, 275.69 ][house_num]                                  # 外皮の部位の面積の合計(m2)\n",
    "        self.A      = 90.0                                                           # 延べ床面積の合計(m2)\n",
    "        self.roof   = 50.85                                                          # 屋根又は天井の面積(m2)\n",
    "        self.wall   = direction( 30.47, 22.37, 47.92, 22.28 )                        # 壁の面積(m2) (4方位)\n",
    "        self.door   = direction ( 0.00, 1.89, 1.62, 0.00 )                           # ドアの面積(m2) (4方位)\n",
    "        self.wnd    = direction ( 22.69, 2.38, 3.63, 4.37 )                          # 窓の面積(m2) (4方位)\n",
    "        self.floor  = [ 45.05, 0.0 ][house_num]                                      # 床（床断熱した床）の面積(m2)\n",
    "        self.base   = [ direction_base(  0.00, 0.91, 0.91, 0.00, 1.82 ),\n",
    "                        direction_base(  5.30, 1.48, 4.62, 2.40, 0.00 ) ][house_num] # 玄関等を除く基礎の面積(m2)\n",
    "        self.base_d = [ direction_base(  0.00, 0.33, 0.25, 0.00, 0.57 ),\n",
    "                        direction_base(  0.00, 0.33, 0.25, 0.00, 0.00 ) ][house_num] # 玄関等の基礎の面積(m2)\n",
    "        self.prm    = [ direction_base(  0.00, 1.82, 1.82, 0.00, 3.64 ),\n",
    "                        direction_base( 10.61, 2.97, 9.24, 4.79, 0.00 ) ][house_num] # 玄関等を除く土間床等の外周部の長さ(m)\n",
    "        self.prm_d  = [ direction_base(  0.00, 1.82, 1.37, 0.00, 3.19 ),\n",
    "                        direction_base(  0.00, 1.82, 1.37, 0.00, 0.00 ) ][house_num] # 玄関等の土間床等の外周部の長さ(m)"
   ]
  },
  {
   "cell_type": "markdown",
   "metadata": {},
   "source": [
    "設定された値の確認"
   ]
  },
  {
   "cell_type": "code",
   "execution_count": 107,
   "metadata": {
    "collapsed": false
   },
   "outputs": [
    {
     "data": {
      "text/plain": [
       "(266.1, 275.69)"
      ]
     },
     "execution_count": 107,
     "metadata": {},
     "output_type": "execute_result"
    }
   ],
   "source": [
    "(Area_and_Length('floor_ins').env, Area_and_Length('base_ins').env )\n",
    "# (266.1, 275.69)"
   ]
  },
  {
   "cell_type": "code",
   "execution_count": 108,
   "metadata": {
    "collapsed": false
   },
   "outputs": [
    {
     "data": {
      "text/plain": [
       "(90.0, 90.0)"
      ]
     },
     "execution_count": 108,
     "metadata": {},
     "output_type": "execute_result"
    }
   ],
   "source": [
    "(Area_and_Length('floor_ins').A, Area_and_Length('base_ins').A )\n",
    "# (90.0, 90.0)"
   ]
  },
  {
   "cell_type": "code",
   "execution_count": 109,
   "metadata": {
    "collapsed": false
   },
   "outputs": [
    {
     "data": {
      "text/plain": [
       "(50.85, 50.85)"
      ]
     },
     "execution_count": 109,
     "metadata": {},
     "output_type": "execute_result"
    }
   ],
   "source": [
    "(Area_and_Length('floor_ins').roof, Area_and_Length('base_ins').roof )\n",
    "# (50.85, 50.85)"
   ]
  },
  {
   "cell_type": "code",
   "execution_count": 110,
   "metadata": {
    "collapsed": false
   },
   "outputs": [
    {
     "data": {
      "text/plain": [
       "(direction(ES0=30.47, ES90=22.37, ES180=47.92, ES270=22.28),\n",
       " direction(ES0=30.47, ES90=22.37, ES180=47.92, ES270=22.28))"
      ]
     },
     "execution_count": 110,
     "metadata": {},
     "output_type": "execute_result"
    }
   ],
   "source": [
    "(Area_and_Length('floor_ins').wall, Area_and_Length('base_ins').wall )\n",
    "# (direction(ES0=30.47, ES90=22.37, ES180=47.92, ES270=22.28),\n",
    "#  direction(ES0=30.47, ES90=22.37, ES180=47.92, ES270=22.28))"
   ]
  },
  {
   "cell_type": "code",
   "execution_count": 111,
   "metadata": {
    "collapsed": false
   },
   "outputs": [
    {
     "data": {
      "text/plain": [
       "(direction(ES0=0.0, ES90=1.89, ES180=1.62, ES270=0.0),\n",
       " direction(ES0=0.0, ES90=1.89, ES180=1.62, ES270=0.0))"
      ]
     },
     "execution_count": 111,
     "metadata": {},
     "output_type": "execute_result"
    }
   ],
   "source": [
    "(Area_and_Length('floor_ins').door, Area_and_Length('base_ins').door )\n",
    "# (direction(ES0=0.0, ES90=1.89, ES180=1.62, ES270=0.0),\n",
    "# direction(ES0=0.0, ES90=1.89, ES180=1.62, ES270=0.0))"
   ]
  },
  {
   "cell_type": "code",
   "execution_count": 112,
   "metadata": {
    "collapsed": false
   },
   "outputs": [
    {
     "data": {
      "text/plain": [
       "(direction(ES0=22.69, ES90=2.38, ES180=3.63, ES270=4.37),\n",
       " direction(ES0=22.69, ES90=2.38, ES180=3.63, ES270=4.37))"
      ]
     },
     "execution_count": 112,
     "metadata": {},
     "output_type": "execute_result"
    }
   ],
   "source": [
    "(Area_and_Length('floor_ins').wnd, Area_and_Length('base_ins').wnd )\n",
    "# (direction(ES0=22.69, ES90=2.38, ES180=3.63, ES270=4.37),\n",
    "# direction(ES0=22.69, ES90=2.38, ES180=3.63, ES270=4.37))"
   ]
  },
  {
   "cell_type": "code",
   "execution_count": 113,
   "metadata": {
    "collapsed": false
   },
   "outputs": [
    {
     "data": {
      "text/plain": [
       "(45.05, 0.0)"
      ]
     },
     "execution_count": 113,
     "metadata": {},
     "output_type": "execute_result"
    }
   ],
   "source": [
    "(Area_and_Length('floor_ins').floor, Area_and_Length('base_ins').floor )\n",
    "# (45.05, 0.0)"
   ]
  },
  {
   "cell_type": "code",
   "execution_count": 114,
   "metadata": {
    "collapsed": false
   },
   "outputs": [
    {
     "data": {
      "text/plain": [
       "(direction_base(ES0=0.0, ES90=0.91, ES180=0.91, ES270=0.0, IS=1.82),\n",
       " direction_base(ES0=5.3, ES90=1.48, ES180=4.62, ES270=2.4, IS=0.0))"
      ]
     },
     "execution_count": 114,
     "metadata": {},
     "output_type": "execute_result"
    }
   ],
   "source": [
    "(Area_and_Length('floor_ins').base, Area_and_Length('base_ins').base )\n",
    "# (direction_base(ES0=0.0, ES90=0.91, ES180=0.91, ES270=0.0, IS=1.82),\n",
    "# direction_base(ES0=5.3, ES90=1.48, ES180=4.62, ES270=2.4, IS=0.0))"
   ]
  },
  {
   "cell_type": "code",
   "execution_count": 115,
   "metadata": {
    "collapsed": false
   },
   "outputs": [
    {
     "data": {
      "text/plain": [
       "(direction_base(ES0=0.0, ES90=0.33, ES180=0.25, ES270=0.0, IS=0.57),\n",
       " direction_base(ES0=0.0, ES90=0.33, ES180=0.25, ES270=0.0, IS=0.0))"
      ]
     },
     "execution_count": 115,
     "metadata": {},
     "output_type": "execute_result"
    }
   ],
   "source": [
    "(Area_and_Length('floor_ins').base_d, Area_and_Length('base_ins').base_d)\n",
    "# (direction_base(ES0=0.0, ES90=0.33, ES180=0.25, ES270=0.0, IS=0.57),\n",
    "# direction_base(ES0=0.0, ES90=0.33, ES180=0.25, ES270=0.0, IS=0.0))"
   ]
  },
  {
   "cell_type": "code",
   "execution_count": 116,
   "metadata": {
    "collapsed": false
   },
   "outputs": [
    {
     "data": {
      "text/plain": [
       "(direction_base(ES0=0.0, ES90=1.82, ES180=1.82, ES270=0.0, IS=3.64),\n",
       " direction_base(ES0=10.61, ES90=2.97, ES180=9.24, ES270=4.79, IS=0.0))"
      ]
     },
     "execution_count": 116,
     "metadata": {},
     "output_type": "execute_result"
    }
   ],
   "source": [
    "(Area_and_Length('floor_ins').prm, Area_and_Length('base_ins').prm )\n",
    "# (direction_base(ES0=0.0, ES90=1.82, ES180=1.82, ES270=0.0, IS=3.64),\n",
    "# direction_base(ES0=10.61, ES90=2.97, ES180=9.24, ES270=4.79, IS=0.0))"
   ]
  },
  {
   "cell_type": "code",
   "execution_count": 117,
   "metadata": {
    "collapsed": false
   },
   "outputs": [
    {
     "data": {
      "text/plain": [
       "(direction_base(ES0=0.0, ES90=1.82, ES180=1.37, ES270=0.0, IS=3.19),\n",
       " direction_base(ES0=0.0, ES90=1.82, ES180=1.37, ES270=0.0, IS=0.0))"
      ]
     },
     "execution_count": 117,
     "metadata": {},
     "output_type": "execute_result"
    }
   ],
   "source": [
    "(Area_and_Length('floor_ins').prm_d, Area_and_Length('base_ins').prm_d )\n",
    "# (direction_base(ES0=0.0, ES90=1.82, ES180=1.37, ES270=0.0, IS=3.19),\n",
    "# direction_base(ES0=0.0, ES90=1.82, ES180=1.37, ES270=0.0, IS=0.0))"
   ]
  },
  {
   "cell_type": "markdown",
   "metadata": {},
   "source": [
    "## 方位係数"
   ]
  },
  {
   "cell_type": "code",
   "execution_count": 15,
   "metadata": {
    "collapsed": true
   },
   "outputs": [],
   "source": [
    "orientation_coeff = namedtuple( 'orientation_coeff', ('S', 'SW', 'W', 'NW', 'N', 'NE', 'E', 'SE', 'top', 'bottom' ) )"
   ]
  },
  {
   "cell_type": "markdown",
   "metadata": {},
   "source": [
    "### 方位係数低減係数"
   ]
  },
  {
   "cell_type": "markdown",
   "metadata": {},
   "source": [
    "H26年度事項建て発注のEP&B「住宅外皮の省エネ技術の定量的評価業務」に基づく。\n",
    "詳細な係数データは同報告書内のデータ「方位係数低減係数(グルーピング)2.xls」にある。\n",
    "\n",
    "方位係数低減係数は以下の式で表されることとする。  \n",
    "$$ \\varepsilon = \\frac{a}{1+be^{c\\alpha}} $$\n",
    "\n",
    "ここで、  \n",
    "$ \\varepsilon $ : 方位係数低減係数  \n",
    "$ \\alpha $ : 地域建蔽率  \n",
    "であり、係数$a$,$b$,$c$は地域・方位・隣等との高さの関係により、次の表によって表される。\n",
    "\n",
    "1地域 暖房\n",
    "\n",
    "| 隣等との高さ関係 | 方位 | a | b | c |\n",
    "| ---------------- | --- | ------ | ------ | ------ |\n",
    "| 0階差            | 南 | ------ | ------ | ------ |\n",
    "| 0階差            | 南 | ------ | ------ | ------ |\n",
    "\n",
    "| 0階差            |  a  |  1.008 |  0.963 |  0.996 |\n",
    "| 1階差            |  b  |  0.004 |  0.004 |  0.006 | \n",
    "| 2階差            |  c  | -8.735 | -8.559 | -8.371 |\n",
    "\n",
    "最上階－１階\ta\t1.003 \t0.927 \t0.985 \n",
    "\tb\t0.003 \t0.006 \t0.007 \n",
    "\tc\t-13.768 \t-10.896 \t-11.429 \n",
    "最上階－２階\ta\t1.035 \t0.910 \t0.995 \n",
    "\tb\t0.011 \t0.011 \t0.017 \n",
    "\tc\t-13.141 \t-11.138 \t-11.483 \n",
    "\n",
    "最上階\ta\t0.984 \t0.976 \t0.980 \n",
    "\tb\t0.009 \t0.004 \t0.008 \n",
    "\tc\t-6.642 \t-8.496 \t-7.691 \n",
    "最上階－１階\ta\t0.932 \t0.950 \t0.965 \n",
    "\tb\t0.003 \t0.003 \t0.012 \n",
    "\tc\t-10.999 \t-12.267 \t-9.908 \n",
    "最上階－２階\ta\t0.908 \t0.953 \t0.969 \n",
    "\tb\t0.002 \t0.006 \t0.023 \n",
    "\tc\t-13.242 \t-12.691 \t-10.016 \n"
   ]
  },
  {
   "cell_type": "markdown",
   "metadata": {},
   "source": [
    "## 方位係数(暖房期)"
   ]
  },
  {
   "cell_type": "code",
   "execution_count": 16,
   "metadata": {
    "collapsed": true
   },
   "outputs": [],
   "source": [
    "class Nu_H:\n",
    "    \n",
    "    def __init__( self, region ):\n",
    "        if region < 1:\n",
    "            raise ( 'value error of region' )\n",
    "        S      = [ 0.935, 0.856, 0.851, 0.815, 0.983, 0.936, 1.023, 'ND' ][region-1]\n",
    "        SW     = [ 0.790, 0.753, 0.750, 0.723, 0.815, 0.763, 0.848, 'ND' ][region-1]\n",
    "        W      = [ 0.535, 0.544, 0.542, 0.527, 0.538, 0.523, 0.548, 'ND' ][region-1]\n",
    "        NW     = [ 0.325, 0.341, 0.351, 0.326, 0.297, 0.317, 0.284, 'ND' ][region-1]\n",
    "        N      = [ 0.260, 0.263, 0.284, 0.256, 0.238, 0.261, 0.227, 'ND' ][region-1]\n",
    "        NE     = [ 0.333, 0.341, 0.348, 0.330, 0.310, 0.325, 0.281, 'ND' ][region-1]\n",
    "        E      = [ 0.564, 0.554, 0.540, 0.531, 0.568, 0.579, 0.543, 'ND' ][region-1]\n",
    "        SE     = [ 0.823, 0.766, 0.751, 0.724, 0.846, 0.833, 0.843, 'ND' ][region-1]\n",
    "        top    = [ 1.0,   1.0,   1.0,   1.0,   1.0,   1.0,   1.0,   'ND' ][region-1]\n",
    "        bottom = [ 0.0,   0.0,   0.0,   0.0,   0.0,   0.0,   0.0,   'ND' ][region-1]\n",
    "        self.value = orientation_coeff ( S, SW, W, NW, N, NE, E, SE, top, bottom )"
   ]
  },
  {
   "cell_type": "code",
   "execution_count": 17,
   "metadata": {
    "collapsed": false
   },
   "outputs": [
    {
     "data": {
      "text/plain": [
       "orientation_coeff(S=0.935, SW=0.79, W=0.535, NW=0.325, N=0.26, NE=0.333, E=0.564, SE=0.823, top=1.0, bottom=0.0)"
      ]
     },
     "execution_count": 17,
     "metadata": {},
     "output_type": "execute_result"
    }
   ],
   "source": [
    "Nu_H(1).value"
   ]
  },
  {
   "cell_type": "code",
   "execution_count": 18,
   "metadata": {
    "collapsed": false
   },
   "outputs": [
    {
     "data": {
      "text/plain": [
       "orientation_coeff(S=0.856, SW=0.753, W=0.544, NW=0.341, N=0.263, NE=0.341, E=0.554, SE=0.766, top=1.0, bottom=0.0)"
      ]
     },
     "execution_count": 18,
     "metadata": {},
     "output_type": "execute_result"
    }
   ],
   "source": [
    "Nu_H(2).value"
   ]
  },
  {
   "cell_type": "code",
   "execution_count": 19,
   "metadata": {
    "collapsed": false
   },
   "outputs": [
    {
     "data": {
      "text/plain": [
       "orientation_coeff(S=0.851, SW=0.75, W=0.542, NW=0.351, N=0.284, NE=0.348, E=0.54, SE=0.751, top=1.0, bottom=0.0)"
      ]
     },
     "execution_count": 19,
     "metadata": {},
     "output_type": "execute_result"
    }
   ],
   "source": [
    "Nu_H(3).value"
   ]
  },
  {
   "cell_type": "code",
   "execution_count": 20,
   "metadata": {
    "collapsed": false
   },
   "outputs": [
    {
     "data": {
      "text/plain": [
       "orientation_coeff(S=0.815, SW=0.723, W=0.527, NW=0.326, N=0.256, NE=0.33, E=0.531, SE=0.724, top=1.0, bottom=0.0)"
      ]
     },
     "execution_count": 20,
     "metadata": {},
     "output_type": "execute_result"
    }
   ],
   "source": [
    "Nu_H(4).value"
   ]
  },
  {
   "cell_type": "code",
   "execution_count": 21,
   "metadata": {
    "collapsed": false
   },
   "outputs": [
    {
     "data": {
      "text/plain": [
       "orientation_coeff(S=0.983, SW=0.815, W=0.538, NW=0.297, N=0.238, NE=0.31, E=0.568, SE=0.846, top=1.0, bottom=0.0)"
      ]
     },
     "execution_count": 21,
     "metadata": {},
     "output_type": "execute_result"
    }
   ],
   "source": [
    "Nu_H(5).value"
   ]
  },
  {
   "cell_type": "code",
   "execution_count": 22,
   "metadata": {
    "collapsed": false
   },
   "outputs": [
    {
     "data": {
      "text/plain": [
       "orientation_coeff(S=0.936, SW=0.763, W=0.523, NW=0.317, N=0.261, NE=0.325, E=0.579, SE=0.833, top=1.0, bottom=0.0)"
      ]
     },
     "execution_count": 22,
     "metadata": {},
     "output_type": "execute_result"
    }
   ],
   "source": [
    "Nu_H(6).value"
   ]
  },
  {
   "cell_type": "code",
   "execution_count": 23,
   "metadata": {
    "collapsed": false
   },
   "outputs": [
    {
     "data": {
      "text/plain": [
       "orientation_coeff(S=1.023, SW=0.848, W=0.548, NW=0.284, N=0.227, NE=0.281, E=0.543, SE=0.843, top=1.0, bottom=0.0)"
      ]
     },
     "execution_count": 23,
     "metadata": {},
     "output_type": "execute_result"
    }
   ],
   "source": [
    "Nu_H(7).value"
   ]
  },
  {
   "cell_type": "code",
   "execution_count": 24,
   "metadata": {
    "collapsed": false
   },
   "outputs": [
    {
     "data": {
      "text/plain": [
       "orientation_coeff(S='ND', SW='ND', W='ND', NW='ND', N='ND', NE='ND', E='ND', SE='ND', top='ND', bottom='ND')"
      ]
     },
     "execution_count": 24,
     "metadata": {},
     "output_type": "execute_result"
    }
   ],
   "source": [
    "Nu_H(8).value"
   ]
  },
  {
   "cell_type": "markdown",
   "metadata": {},
   "source": [
    "## 方位係数(冷房期)"
   ]
  },
  {
   "cell_type": "code",
   "execution_count": 25,
   "metadata": {
    "collapsed": true
   },
   "outputs": [],
   "source": [
    "class Nu_C:\n",
    "    \n",
    "    def __init__( self, region ):\n",
    "        if region < 1:\n",
    "            raise ( 'value error of region' )\n",
    "        S      = [ 0.502, 0.507, 0.476, 0.437, 0.472, 0.434, 0.412, 0.480 ][region-1]\n",
    "        SW     = [ 0.526, 0.548, 0.550, 0.481, 0.520, 0.491, 0.479, 0.517 ][region-1]\n",
    "        W      = [ 0.508, 0.529, 0.553, 0.481, 0.518, 0.504, 0.495, 0.505 ][region-1]\n",
    "        NW     = [ 0.411, 0.428, 0.447, 0.401, 0.442, 0.427, 0.406, 0.411 ][region-1]\n",
    "        N      = [ 0.329, 0.341, 0.335, 0.322, 0.373, 0.341, 0.307, 0.325 ][region-1]\n",
    "        NE     = [ 0.430, 0.412, 0.390, 0.426, 0.437, 0.431, 0.415, 0.414 ][region-1]\n",
    "        E      = [ 0.545, 0.503, 0.468, 0.518, 0.500, 0.512, 0.509, 0.515 ][region-1]\n",
    "        SE     = [ 0.560, 0.527, 0.487, 0.508, 0.500, 0.498, 0.490, 0.528 ][region-1]\n",
    "        top    = [ 1.0,   1.0,   1.0,   1.0,   1.0,   1.0,   1.0,   1.0   ][region-1]\n",
    "        bottom = [ 0.0,   0.0,   0.0,   0.0,   0.0,   0.0,   0.0,   0.0   ][region-1]\n",
    "        self.value = orientation_coeff ( S, SW, W, NW, N, NE, E, SE, top, bottom )"
   ]
  },
  {
   "cell_type": "code",
   "execution_count": 26,
   "metadata": {
    "collapsed": false
   },
   "outputs": [
    {
     "data": {
      "text/plain": [
       "orientation_coeff(S=0.502, SW=0.526, W=0.508, NW=0.411, N=0.329, NE=0.43, E=0.545, SE=0.56, top=1.0, bottom=0.0)"
      ]
     },
     "execution_count": 26,
     "metadata": {},
     "output_type": "execute_result"
    }
   ],
   "source": [
    "Nu_C(1).value"
   ]
  },
  {
   "cell_type": "code",
   "execution_count": 27,
   "metadata": {
    "collapsed": false
   },
   "outputs": [
    {
     "data": {
      "text/plain": [
       "orientation_coeff(S=0.507, SW=0.548, W=0.529, NW=0.428, N=0.341, NE=0.412, E=0.503, SE=0.527, top=1.0, bottom=0.0)"
      ]
     },
     "execution_count": 27,
     "metadata": {},
     "output_type": "execute_result"
    }
   ],
   "source": [
    "Nu_C(2).value"
   ]
  },
  {
   "cell_type": "code",
   "execution_count": 28,
   "metadata": {
    "collapsed": false
   },
   "outputs": [
    {
     "data": {
      "text/plain": [
       "orientation_coeff(S=0.476, SW=0.55, W=0.553, NW=0.447, N=0.335, NE=0.39, E=0.468, SE=0.487, top=1.0, bottom=0.0)"
      ]
     },
     "execution_count": 28,
     "metadata": {},
     "output_type": "execute_result"
    }
   ],
   "source": [
    "Nu_C(3).value"
   ]
  },
  {
   "cell_type": "code",
   "execution_count": 29,
   "metadata": {
    "collapsed": false
   },
   "outputs": [
    {
     "data": {
      "text/plain": [
       "orientation_coeff(S=0.437, SW=0.481, W=0.481, NW=0.401, N=0.322, NE=0.426, E=0.518, SE=0.508, top=1.0, bottom=0.0)"
      ]
     },
     "execution_count": 29,
     "metadata": {},
     "output_type": "execute_result"
    }
   ],
   "source": [
    "Nu_C(4).value"
   ]
  },
  {
   "cell_type": "code",
   "execution_count": 30,
   "metadata": {
    "collapsed": false
   },
   "outputs": [
    {
     "data": {
      "text/plain": [
       "orientation_coeff(S=0.472, SW=0.52, W=0.518, NW=0.442, N=0.373, NE=0.437, E=0.5, SE=0.5, top=1.0, bottom=0.0)"
      ]
     },
     "execution_count": 30,
     "metadata": {},
     "output_type": "execute_result"
    }
   ],
   "source": [
    "Nu_C(5).value"
   ]
  },
  {
   "cell_type": "code",
   "execution_count": 31,
   "metadata": {
    "collapsed": false
   },
   "outputs": [
    {
     "data": {
      "text/plain": [
       "orientation_coeff(S=0.434, SW=0.491, W=0.504, NW=0.427, N=0.341, NE=0.431, E=0.512, SE=0.498, top=1.0, bottom=0.0)"
      ]
     },
     "execution_count": 31,
     "metadata": {},
     "output_type": "execute_result"
    }
   ],
   "source": [
    "Nu_C(6).value"
   ]
  },
  {
   "cell_type": "code",
   "execution_count": 32,
   "metadata": {
    "collapsed": false
   },
   "outputs": [
    {
     "data": {
      "text/plain": [
       "orientation_coeff(S=0.412, SW=0.479, W=0.495, NW=0.406, N=0.307, NE=0.415, E=0.509, SE=0.49, top=1.0, bottom=0.0)"
      ]
     },
     "execution_count": 32,
     "metadata": {},
     "output_type": "execute_result"
    }
   ],
   "source": [
    "Nu_C(7).value"
   ]
  },
  {
   "cell_type": "code",
   "execution_count": 33,
   "metadata": {
    "collapsed": false
   },
   "outputs": [
    {
     "data": {
      "text/plain": [
       "orientation_coeff(S=0.48, SW=0.517, W=0.505, NW=0.411, N=0.325, NE=0.414, E=0.515, SE=0.528, top=1.0, bottom=0.0)"
      ]
     },
     "execution_count": 33,
     "metadata": {},
     "output_type": "execute_result"
    }
   ],
   "source": [
    "Nu_C(8).value"
   ]
  },
  {
   "cell_type": "markdown",
   "metadata": {},
   "source": [
    "## 取得日射熱補正係数(デフォルト値)"
   ]
  },
  {
   "cell_type": "code",
   "execution_count": 34,
   "metadata": {
    "collapsed": true
   },
   "outputs": [],
   "source": [
    "class f_H_default:\n",
    "    \n",
    "    def __init__( self ):\n",
    "        \n",
    "        self.S      = [ 0.655333333, 0.628666667, 0.637333333, 0.616,       0.654333333, 0.642,       0.649666667, 'ND' ]\n",
    "        self.SW     = [ 0.658,       0.647666667, 0.649666667, 0.642333333, 0.666666667, 0.653666667, 0.669666667, 'ND' ]\n",
    "        self.W      = [ 0.636666667, 0.643333333, 0.636333333, 0.636,       0.642666667, 0.640666667, 0.643,       'ND' ]\n",
    "        self.NW     = [ 0.605,       0.604,       0.601666667, 0.595,       0.595,       0.595,       0.589333333, 'ND' ]\n",
    "        self.N      = [ 0.62,        0.618,       0.617666667, 0.619666667, 0.628,       0.627666667, 0.636,       'ND' ]\n",
    "        self.NE     = [ 0.602,       0.605,       0.601666667, 0.597666667, 0.592,       0.589,       0.587333333, 'ND' ]\n",
    "        self.E      = [ 0.640333333, 0.642333333, 0.631333333, 0.637333333, 0.646666667, 0.642333333, 0.639666667, 'ND' ]\n",
    "        self.SE     = [ 0.664666667, 0.655666667, 0.648666667, 0.642333333, 0.670666667, 0.674666667, 0.665666667, 'ND' ]\n",
    "        self.top    = [ 'ND',        'ND',        'ND',        'ND',        'ND',        'ND',        'ND',        'ND' ]\n",
    "        self.bottom = [ 'ND',        'ND',        'ND',        'ND',        'ND',        'ND',        'ND',        'ND' ]\n",
    "\n",
    "    def get_value( self, region ):\n",
    "        # region: 地域の区分 ( 1 ～ 8 )\n",
    "        if region < 1:\n",
    "            raise ( 'value error of region' )\n",
    "        \n",
    "        idx = region - 1\n",
    "        \n",
    "        return orientation_coeff ( self.S[idx], self.SW[idx], self.W[idx], self.NW[idx],\n",
    "                                   self.N[idx], self.NE[idx], self.E[idx], self.SE[idx], self.top[idx], self.bottom[idx] )"
   ]
  },
  {
   "cell_type": "code",
   "execution_count": 35,
   "metadata": {
    "collapsed": false
   },
   "outputs": [
    {
     "data": {
      "text/plain": [
       "orientation_coeff(S=0.655333333, SW=0.658, W=0.636666667, NW=0.605, N=0.62, NE=0.602, E=0.640333333, SE=0.664666667, top='ND', bottom='ND')"
      ]
     },
     "execution_count": 35,
     "metadata": {},
     "output_type": "execute_result"
    }
   ],
   "source": [
    "f_H_default().get_value( region = 1 )"
   ]
  },
  {
   "cell_type": "code",
   "execution_count": 36,
   "metadata": {
    "collapsed": false
   },
   "outputs": [
    {
     "data": {
      "text/plain": [
       "orientation_coeff(S=0.628666667, SW=0.647666667, W=0.643333333, NW=0.604, N=0.618, NE=0.605, E=0.642333333, SE=0.655666667, top='ND', bottom='ND')"
      ]
     },
     "execution_count": 36,
     "metadata": {},
     "output_type": "execute_result"
    }
   ],
   "source": [
    "f_H_default().get_value( region = 2 )"
   ]
  },
  {
   "cell_type": "code",
   "execution_count": 37,
   "metadata": {
    "collapsed": false
   },
   "outputs": [
    {
     "data": {
      "text/plain": [
       "orientation_coeff(S=0.637333333, SW=0.649666667, W=0.636333333, NW=0.601666667, N=0.617666667, NE=0.601666667, E=0.631333333, SE=0.648666667, top='ND', bottom='ND')"
      ]
     },
     "execution_count": 37,
     "metadata": {},
     "output_type": "execute_result"
    }
   ],
   "source": [
    "f_H_default().get_value( region = 3 )"
   ]
  },
  {
   "cell_type": "code",
   "execution_count": 38,
   "metadata": {
    "collapsed": false
   },
   "outputs": [
    {
     "data": {
      "text/plain": [
       "orientation_coeff(S=0.616, SW=0.642333333, W=0.636, NW=0.595, N=0.619666667, NE=0.597666667, E=0.637333333, SE=0.642333333, top='ND', bottom='ND')"
      ]
     },
     "execution_count": 38,
     "metadata": {},
     "output_type": "execute_result"
    }
   ],
   "source": [
    "f_H_default().get_value( region = 4 )"
   ]
  },
  {
   "cell_type": "code",
   "execution_count": 39,
   "metadata": {
    "collapsed": false
   },
   "outputs": [
    {
     "data": {
      "text/plain": [
       "orientation_coeff(S=0.654333333, SW=0.666666667, W=0.642666667, NW=0.595, N=0.628, NE=0.592, E=0.646666667, SE=0.670666667, top='ND', bottom='ND')"
      ]
     },
     "execution_count": 39,
     "metadata": {},
     "output_type": "execute_result"
    }
   ],
   "source": [
    "f_H_default().get_value( region = 5 )"
   ]
  },
  {
   "cell_type": "code",
   "execution_count": 40,
   "metadata": {
    "collapsed": false
   },
   "outputs": [
    {
     "data": {
      "text/plain": [
       "orientation_coeff(S=0.642, SW=0.653666667, W=0.640666667, NW=0.595, N=0.627666667, NE=0.589, E=0.642333333, SE=0.674666667, top='ND', bottom='ND')"
      ]
     },
     "execution_count": 40,
     "metadata": {},
     "output_type": "execute_result"
    }
   ],
   "source": [
    "f_H_default().get_value( region = 6 )"
   ]
  },
  {
   "cell_type": "code",
   "execution_count": 41,
   "metadata": {
    "collapsed": false
   },
   "outputs": [
    {
     "data": {
      "text/plain": [
       "orientation_coeff(S=0.649666667, SW=0.669666667, W=0.643, NW=0.589333333, N=0.636, NE=0.587333333, E=0.639666667, SE=0.665666667, top='ND', bottom='ND')"
      ]
     },
     "execution_count": 41,
     "metadata": {},
     "output_type": "execute_result"
    }
   ],
   "source": [
    "f_H_default().get_value( region = 7 )"
   ]
  },
  {
   "cell_type": "code",
   "execution_count": 42,
   "metadata": {
    "collapsed": false
   },
   "outputs": [
    {
     "data": {
      "text/plain": [
       "orientation_coeff(S='ND', SW='ND', W='ND', NW='ND', N='ND', NE='ND', E='ND', SE='ND', top='ND', bottom='ND')"
      ]
     },
     "execution_count": 42,
     "metadata": {},
     "output_type": "execute_result"
    }
   ],
   "source": [
    "f_H_default().get_value( region = 8 )"
   ]
  },
  {
   "cell_type": "code",
   "execution_count": 43,
   "metadata": {
    "collapsed": true
   },
   "outputs": [],
   "source": [
    "class f_C_default:\n",
    "    \n",
    "    def __init__( self ):\n",
    "            \n",
    "        self.S_n      = [ 0.807, 0.812, 0.799, 0.784, 0.807, 0.795, 0.788, 0.824 ]\n",
    "        self.SW_n     = [ 0.86,  0.861, 0.859, 0.85,  0.858, 0.852, 0.847, 0.858 ]\n",
    "        self.W_n      = [ 0.88,  0.878, 0.883, 0.876, 0.875, 0.88,  0.88,  0.876 ]\n",
    "        self.NW_n     = [ 0.866, 0.864, 0.865, 0.861, 0.862, 0.864, 0.862, 0.859 ]\n",
    "        self.N_n      = [ 0.853, 0.857, 0.853, 0.852, 0.86,  0.847, 0.838, 0.848 ]\n",
    "        self.NE_n     = [ 0.865, 0.864, 0.862, 0.861, 0.863, 0.862, 0.861, 0.857 ]\n",
    "        self.E_n      = [ 0.882, 0.877, 0.87,  0.881, 0.874, 0.88,  0.881, 0.877 ]\n",
    "        self.SE_n     = [ 0.864, 0.858, 0.853, 0.853, 0.854, 0.852, 0.849, 0.86  ]\n",
    "        self.top_n    = [ 'ND',  'ND',  'ND',  'ND',  'ND',  'ND',  'ND',  'ND'  ]\n",
    "        self.bottom_n = [ 'ND',  'ND',  'ND',  'ND',  'ND',  'ND',  'ND',  'ND'  ]\n",
    "        \n",
    "        self.S_y      = [ 0.685,       0.688,       0.685,       0.683,       0.687666667, 0.677666667, 0.672333333, 0.678       ]\n",
    "        self.SW_y     = [ 0.689,       0.684666667, 0.682333333, 0.677,       0.682,       0.678333333, 0.678666667, 0.673       ]\n",
    "        self.W_y      = [ 0.700666667, 0.691666667, 0.679666667, 0.690666667, 0.685,       0.689666667, 0.692,       0.691666667 ]\n",
    "        self.NW_y     = [ 0.65,        0.644333333, 0.634,       0.632666667, 0.642333333, 0.636333333, 0.631,       0.654666667 ]\n",
    "        self.N_y      = [ 0.545,       0.553333333, 0.538,       0.525,       0.565,       0.562333333, 0.558,       0.609333333 ]\n",
    "        self.NE_y     = [ 0.646,       0.646666667, 0.644333333, 0.631,       0.647666667, 0.637333333, 0.628333333, 0.651666667 ]\n",
    "        self.E_y      = [ 0.698,       0.692333333, 0.699666667, 0.683666667, 0.686333333, 0.691666667, 0.690666667, 0.691666667 ]\n",
    "        self.SE_y     = [ 0.689,       0.685666667, 0.686666667, 0.677333333, 0.678666667, 0.683333333, 0.679333333, 0.677333333 ]\n",
    "        self.top_y    = [ 'ND',        'ND',        'ND',        'ND',        'ND',        'ND',        'ND',        'ND'        ]\n",
    "        self.bottom_y = [ 'ND',        'ND',        'ND',        'ND',        'ND',        'ND',        'ND',        'ND'        ]\n",
    "\n",
    "    def get_value( self, region, effective_eaves ):\n",
    "\n",
    "        # region: 地域の区分 ( 1 ～ 8 )\n",
    "        # effective_eaves: 有効な日除けの有無 ( 'yes':あり, 'no':なし )\n",
    "        \n",
    "        if region < 1:\n",
    "            raise ( 'value error of region' )\n",
    "        \n",
    "        idx = region - 1\n",
    "        \n",
    "        if ( effective_eaves == 'yes' ):\n",
    "            return orientation_coeff ( self.S_y[idx], self.SW_y[idx], self.W_y[idx], self.NW_y[idx],\n",
    "                                       self.N_y[idx], self.NE_y[idx], self.E_y[idx], self.SE_y[idx], self.top_y[idx], self.bottom_y[idx] )\n",
    "        elif ( effective_eaves == 'no' ):\n",
    "            return orientation_coeff ( self.S_n[idx], self.SW_n[idx], self.W_n[idx], self.NW_n[idx],\n",
    "                                       self.N_n[idx], self.NE_n[idx], self.E_n[idx], self.SE_n[idx], self.top_n[idx], self.bottom_n[idx] )\n",
    "        else:\n",
    "            raise( 'wrong value of effective_eaves' )"
   ]
  },
  {
   "cell_type": "code",
   "execution_count": 44,
   "metadata": {
    "collapsed": false
   },
   "outputs": [
    {
     "data": {
      "text/plain": [
       "orientation_coeff(S=0.685, SW=0.689, W=0.700666667, NW=0.65, N=0.545, NE=0.646, E=0.698, SE=0.689, top='ND', bottom='ND')"
      ]
     },
     "execution_count": 44,
     "metadata": {},
     "output_type": "execute_result"
    }
   ],
   "source": [
    "f_C_default().get_value( region = 1, effective_eaves = 'yes' )"
   ]
  },
  {
   "cell_type": "code",
   "execution_count": 45,
   "metadata": {
    "collapsed": false
   },
   "outputs": [
    {
     "data": {
      "text/plain": [
       "orientation_coeff(S=0.688, SW=0.684666667, W=0.691666667, NW=0.644333333, N=0.553333333, NE=0.646666667, E=0.692333333, SE=0.685666667, top='ND', bottom='ND')"
      ]
     },
     "execution_count": 45,
     "metadata": {},
     "output_type": "execute_result"
    }
   ],
   "source": [
    "f_C_default().get_value( region = 2, effective_eaves = 'yes' )"
   ]
  },
  {
   "cell_type": "code",
   "execution_count": 46,
   "metadata": {
    "collapsed": false
   },
   "outputs": [
    {
     "data": {
      "text/plain": [
       "orientation_coeff(S=0.685, SW=0.682333333, W=0.679666667, NW=0.634, N=0.538, NE=0.644333333, E=0.699666667, SE=0.686666667, top='ND', bottom='ND')"
      ]
     },
     "execution_count": 46,
     "metadata": {},
     "output_type": "execute_result"
    }
   ],
   "source": [
    "f_C_default().get_value( region = 3, effective_eaves = 'yes' )"
   ]
  },
  {
   "cell_type": "code",
   "execution_count": 47,
   "metadata": {
    "collapsed": false
   },
   "outputs": [
    {
     "data": {
      "text/plain": [
       "orientation_coeff(S=0.683, SW=0.677, W=0.690666667, NW=0.632666667, N=0.525, NE=0.631, E=0.683666667, SE=0.677333333, top='ND', bottom='ND')"
      ]
     },
     "execution_count": 47,
     "metadata": {},
     "output_type": "execute_result"
    }
   ],
   "source": [
    "f_C_default().get_value( region = 4, effective_eaves = 'yes' )"
   ]
  },
  {
   "cell_type": "code",
   "execution_count": 48,
   "metadata": {
    "collapsed": false
   },
   "outputs": [
    {
     "data": {
      "text/plain": [
       "orientation_coeff(S=0.687666667, SW=0.682, W=0.685, NW=0.642333333, N=0.565, NE=0.647666667, E=0.686333333, SE=0.678666667, top='ND', bottom='ND')"
      ]
     },
     "execution_count": 48,
     "metadata": {},
     "output_type": "execute_result"
    }
   ],
   "source": [
    "f_C_default().get_value( region = 5, effective_eaves = 'yes' )"
   ]
  },
  {
   "cell_type": "code",
   "execution_count": 49,
   "metadata": {
    "collapsed": false
   },
   "outputs": [
    {
     "data": {
      "text/plain": [
       "orientation_coeff(S=0.677666667, SW=0.678333333, W=0.689666667, NW=0.636333333, N=0.562333333, NE=0.637333333, E=0.691666667, SE=0.683333333, top='ND', bottom='ND')"
      ]
     },
     "execution_count": 49,
     "metadata": {},
     "output_type": "execute_result"
    }
   ],
   "source": [
    "f_C_default().get_value( region = 6, effective_eaves = 'yes' )"
   ]
  },
  {
   "cell_type": "code",
   "execution_count": 50,
   "metadata": {
    "collapsed": false
   },
   "outputs": [
    {
     "data": {
      "text/plain": [
       "orientation_coeff(S=0.672333333, SW=0.678666667, W=0.692, NW=0.631, N=0.558, NE=0.628333333, E=0.690666667, SE=0.679333333, top='ND', bottom='ND')"
      ]
     },
     "execution_count": 50,
     "metadata": {},
     "output_type": "execute_result"
    }
   ],
   "source": [
    "f_C_default().get_value( region = 7, effective_eaves = 'yes' )"
   ]
  },
  {
   "cell_type": "code",
   "execution_count": 51,
   "metadata": {
    "collapsed": false
   },
   "outputs": [
    {
     "data": {
      "text/plain": [
       "orientation_coeff(S=0.678, SW=0.673, W=0.691666667, NW=0.654666667, N=0.609333333, NE=0.651666667, E=0.691666667, SE=0.677333333, top='ND', bottom='ND')"
      ]
     },
     "execution_count": 51,
     "metadata": {},
     "output_type": "execute_result"
    }
   ],
   "source": [
    "f_C_default().get_value( region = 8, effective_eaves = 'yes' )"
   ]
  },
  {
   "cell_type": "code",
   "execution_count": 52,
   "metadata": {
    "collapsed": false
   },
   "outputs": [
    {
     "data": {
      "text/plain": [
       "orientation_coeff(S=0.807, SW=0.86, W=0.88, NW=0.866, N=0.853, NE=0.865, E=0.882, SE=0.864, top='ND', bottom='ND')"
      ]
     },
     "execution_count": 52,
     "metadata": {},
     "output_type": "execute_result"
    }
   ],
   "source": [
    "f_C_default().get_value( region = 1, effective_eaves = 'no' )"
   ]
  },
  {
   "cell_type": "code",
   "execution_count": 53,
   "metadata": {
    "collapsed": false
   },
   "outputs": [
    {
     "data": {
      "text/plain": [
       "orientation_coeff(S=0.812, SW=0.861, W=0.878, NW=0.864, N=0.857, NE=0.864, E=0.877, SE=0.858, top='ND', bottom='ND')"
      ]
     },
     "execution_count": 53,
     "metadata": {},
     "output_type": "execute_result"
    }
   ],
   "source": [
    "f_C_default().get_value( region = 2, effective_eaves = 'no' )"
   ]
  },
  {
   "cell_type": "code",
   "execution_count": 54,
   "metadata": {
    "collapsed": false
   },
   "outputs": [
    {
     "data": {
      "text/plain": [
       "orientation_coeff(S=0.799, SW=0.859, W=0.883, NW=0.865, N=0.853, NE=0.862, E=0.87, SE=0.853, top='ND', bottom='ND')"
      ]
     },
     "execution_count": 54,
     "metadata": {},
     "output_type": "execute_result"
    }
   ],
   "source": [
    "f_C_default().get_value( region = 3, effective_eaves = 'no' )"
   ]
  },
  {
   "cell_type": "code",
   "execution_count": 55,
   "metadata": {
    "collapsed": false
   },
   "outputs": [
    {
     "data": {
      "text/plain": [
       "orientation_coeff(S=0.784, SW=0.85, W=0.876, NW=0.861, N=0.852, NE=0.861, E=0.881, SE=0.853, top='ND', bottom='ND')"
      ]
     },
     "execution_count": 55,
     "metadata": {},
     "output_type": "execute_result"
    }
   ],
   "source": [
    "f_C_default().get_value( region = 4, effective_eaves = 'no' )"
   ]
  },
  {
   "cell_type": "code",
   "execution_count": 56,
   "metadata": {
    "collapsed": false
   },
   "outputs": [
    {
     "data": {
      "text/plain": [
       "orientation_coeff(S=0.807, SW=0.858, W=0.875, NW=0.862, N=0.86, NE=0.863, E=0.874, SE=0.854, top='ND', bottom='ND')"
      ]
     },
     "execution_count": 56,
     "metadata": {},
     "output_type": "execute_result"
    }
   ],
   "source": [
    "f_C_default().get_value( region = 5, effective_eaves = 'no' )"
   ]
  },
  {
   "cell_type": "code",
   "execution_count": 57,
   "metadata": {
    "collapsed": false
   },
   "outputs": [
    {
     "data": {
      "text/plain": [
       "orientation_coeff(S=0.795, SW=0.852, W=0.88, NW=0.864, N=0.847, NE=0.862, E=0.88, SE=0.852, top='ND', bottom='ND')"
      ]
     },
     "execution_count": 57,
     "metadata": {},
     "output_type": "execute_result"
    }
   ],
   "source": [
    "f_C_default().get_value( region = 6, effective_eaves = 'no' )"
   ]
  },
  {
   "cell_type": "code",
   "execution_count": 58,
   "metadata": {
    "collapsed": false
   },
   "outputs": [
    {
     "data": {
      "text/plain": [
       "orientation_coeff(S=0.788, SW=0.847, W=0.88, NW=0.862, N=0.838, NE=0.861, E=0.881, SE=0.849, top='ND', bottom='ND')"
      ]
     },
     "execution_count": 58,
     "metadata": {},
     "output_type": "execute_result"
    }
   ],
   "source": [
    "f_C_default().get_value( region = 7, effective_eaves = 'no' )"
   ]
  },
  {
   "cell_type": "code",
   "execution_count": 59,
   "metadata": {
    "collapsed": false
   },
   "outputs": [
    {
     "data": {
      "text/plain": [
       "orientation_coeff(S=0.824, SW=0.858, W=0.876, NW=0.859, N=0.848, NE=0.857, E=0.877, SE=0.86, top='ND', bottom='ND')"
      ]
     },
     "execution_count": 59,
     "metadata": {},
     "output_type": "execute_result"
    }
   ],
   "source": [
    "f_C_default().get_value( region = 8, effective_eaves = 'no' )"
   ]
  },
  {
   "cell_type": "markdown",
   "metadata": {},
   "source": [
    "## 外皮平均熱貫流率"
   ]
  },
  {
   "cell_type": "markdown",
   "metadata": {},
   "source": [
    "外皮平均熱貫流率  \n",
    "ここで計算した外皮平均熱貫流率$U_A$は少数点第2位未満を切り上げすることになっている。\n",
    "\n",
    "$$ U_A= \\frac{q}{A_{env}} $$\n",
    "\n",
    "$U_A$:外皮平均熱貫流率(W/m<sup>2</sup>K)  \n",
    "$q$:単位温度差あたりの外皮熱損失量(W/K)"
   ]
  },
  {
   "cell_type": "code",
   "execution_count": 60,
   "metadata": {
    "collapsed": true
   },
   "outputs": [],
   "source": [
    "def U_A(q,A_env):\n",
    "    U_A_Raw = Decimal(q/A_env)\n",
    "    # 小数点第3位未満を切り上げ\n",
    "    return U_A_Raw.quantize(Decimal('0.00'), rounding = 'ROUND_UP')"
   ]
  },
  {
   "cell_type": "markdown",
   "metadata": {},
   "source": [
    "## 暖房期の平均日射熱取得率"
   ]
  },
  {
   "cell_type": "markdown",
   "metadata": {},
   "source": [
    "暖房期の平均日射熱取得率  \n",
    "ここで計算した暖房期の平均日射熱取得率$\\eta_{A,H}$は小数点第1位未満を切り下げすることになっている。\n",
    "\n",
    "$$ \\eta_{A,H}=\\frac{m_H}{A_{env}}\\times 100 $$\n",
    "\n",
    "$\\eta_{A,H}$:暖房期の平均日射熱取得率  \n",
    "$m_H$:単位日射強度当たりの暖房期の日射熱取得量(W/(W/m<sup>2</sup>))"
   ]
  },
  {
   "cell_type": "code",
   "execution_count": 61,
   "metadata": {
    "collapsed": true
   },
   "outputs": [],
   "source": [
    "def eta_A_H(m_H,A_env):\n",
    "    eta_A_H_Raw = Decimal(m_H/A_env*100)\n",
    "    return eta_A_H_Raw.quantize(Decimal('0.0'), rounding = 'ROUND_DOWN')"
   ]
  },
  {
   "cell_type": "markdown",
   "metadata": {},
   "source": [
    "## 冷房期の平均日射熱取得率"
   ]
  },
  {
   "cell_type": "markdown",
   "metadata": {},
   "source": [
    "冷房期の平均日射熱取得率  \n",
    "ここで計算した冷房期の平均日射熱取得率$\\eta_{A,C}$は小数点第1位未満を切り上げすることになっている。\n",
    "\n",
    "$$ \\eta_{A,C}=\\frac{m_C}{A_{env}}\\times 100 $$\n",
    "\n",
    "$\\eta_{A,C}$:冷房期の平均日射熱取得率  \n",
    "$m_C$:単位日射強度当たりの冷房期の日射熱取得量(W/(W/m<sup>2</sup>))"
   ]
  },
  {
   "cell_type": "code",
   "execution_count": 62,
   "metadata": {
    "collapsed": true
   },
   "outputs": [],
   "source": [
    "def eta_A_C(m_C,A_env):\n",
    "    eta_A_C_Raw = Decimal(m_C/A_env*100)\n",
    "    return eta_A_C_Raw.quantize(Decimal('0.0'), rounding = 'ROUND_UP')"
   ]
  },
  {
   "cell_type": "markdown",
   "metadata": {},
   "source": [
    "## 単位温度差あたりの外皮熱損失量"
   ]
  },
  {
   "cell_type": "markdown",
   "metadata": {},
   "source": [
    "単位温度差あたりの外皮熱損失量\n",
    "\n",
    "$\\begin{align} q &= q_{roof} + q_{wall} + q_{door} + q_{wnd} + q_{floor} + q_{base} + q_{base,d} + q_{prm} + q_{prm,d} \\end{align}$ \n",
    "\n",
    "$q$:単位温度差当たりの外皮熱損失量(W/K)  \n",
    "\n",
    "roof:屋根, wall:壁, door:ドア, wnd:窓, IF:断熱床, floor:床, base:基礎, d:玄関部分  "
   ]
  },
  {
   "cell_type": "markdown",
   "metadata": {},
   "source": [
    "以下、各項目ごとに計算式を定義する。\n",
    "\n",
    "$A$:面積(m<sup>2</sup>)  \n",
    "$L$:長さ(m)  \n",
    "$H$:温度差係数  \n",
    "$U$:熱貫流率(W/m<sup>2</sup>K)  \n",
    "$\\psi$:線熱貫流率(W/mK)  \n",
    "\n",
    "0,90,180,270: 主開口方位から時計回りに、順に、0度、90度、180度、270度  \n",
    "OS,IS: 順に、室外側、室内側  "
   ]
  },
  {
   "cell_type": "markdown",
   "metadata": {},
   "source": [
    "### 屋根\n",
    "\n",
    "$\\begin{align} q_{roof} = A_{roof} \\times H_{roof} \\times U_{roof} \\end{align}$ "
   ]
  },
  {
   "cell_type": "code",
   "execution_count": 63,
   "metadata": {
    "collapsed": true
   },
   "outputs": [],
   "source": [
    "def q_roof( A_roof, U_roof ):\n",
    "    # 温度差係数は1.0\n",
    "    H_roof = 1.0\n",
    "    return A_roof * H_roof * U_roof"
   ]
  },
  {
   "cell_type": "markdown",
   "metadata": {},
   "source": [
    "### 外壁\n",
    "\n",
    "$\\begin{align} q_{wall} = ( A_{wall,0} + A_{wall,90} + A_{wall,180} + A_{wall,270} ) \\times H_{wall} \\times U_{wall} \\end{align}$ "
   ]
  },
  {
   "cell_type": "code",
   "execution_count": 64,
   "metadata": {
    "collapsed": true
   },
   "outputs": [],
   "source": [
    "def q_wall( A_wall, U_wall ):\n",
    "    # 温度差係数は1.0\n",
    "    H_wall = 1.0\n",
    "    return ( A_wall.ES0 + A_wall.ES90 + A_wall.ES180 + A_wall.ES270 ) * H_wall * U_wall"
   ]
  },
  {
   "cell_type": "markdown",
   "metadata": {},
   "source": [
    "### ドア\n",
    "\n",
    "$\\begin{align} q_{door} = ( A_{door,0} + A_{door,90} + A_{door,180} + A_{door,270} ) \\times H_{door} \\times U_{door} \\end{align}$ "
   ]
  },
  {
   "cell_type": "code",
   "execution_count": 65,
   "metadata": {
    "collapsed": true
   },
   "outputs": [],
   "source": [
    "def q_door( A_door, U_door ):\n",
    "    # 温度差係数は1.0\n",
    "    H_door = 1.0\n",
    "    return ( A_door.ES0 + A_door.ES90 + A_door.ES180 + A_door.ES270 ) * H_door * U_door"
   ]
  },
  {
   "cell_type": "markdown",
   "metadata": {},
   "source": [
    "### 窓\n",
    "\n",
    "$\\begin{align} q_{wnd} = ( A_{wnd, 0} + A_{wnd, 90} + A_{wnd, 180} + A_{wnd, 270} ) \\times H_{wnd}  \\times U_{wnd} \\end{align}$ "
   ]
  },
  {
   "cell_type": "code",
   "execution_count": 66,
   "metadata": {
    "collapsed": true
   },
   "outputs": [],
   "source": [
    "def q_wnd( A_wnd, U_wnd_main, U_wnd_other ):\n",
    "    # 温度差係数は1.0\n",
    "    H_wnd = 1.0\n",
    "    return ( A_wnd.ES0 * U_wnd_main + ( A_wnd.ES90 + A_wnd.ES180 + A_wnd.ES270 ) * U_wnd_other ) * H_wnd"
   ]
  },
  {
   "cell_type": "markdown",
   "metadata": {},
   "source": [
    "### 床\n",
    "\n",
    "$\\begin{align} q_{floor} = A_{IF} \\times H_{floor} \\times U_{floor} \\end{align}$ "
   ]
  },
  {
   "cell_type": "code",
   "execution_count": 67,
   "metadata": {
    "collapsed": true
   },
   "outputs": [],
   "source": [
    "def q_floor( A_IF, U_floor ):\n",
    "    # 温度差係数は0.7\n",
    "    H_floor = 0.7\n",
    "    return A_IF * H_floor * U_floor"
   ]
  },
  {
   "cell_type": "markdown",
   "metadata": {},
   "source": [
    "### 基礎\n",
    "\n",
    "$\\begin{align} q_{base} = ( ( A_{base,0} + A_{base,90} + A_{base,180} + A_{base,270} ) \\times H_{base,OS} + A_{base,IS} \\times H_{base,IS} ) \\times U_{base} \\end{align}$"
   ]
  },
  {
   "cell_type": "code",
   "execution_count": 68,
   "metadata": {
    "collapsed": true
   },
   "outputs": [],
   "source": [
    "def q_base( A_base, U_base ):\n",
    "    # 温度差係数(室外側)は1.0\n",
    "    # 温度差係数(室内側)は0.7\n",
    "    H_base_OS = 1.0\n",
    "    H_base_IS = 0.7\n",
    "    q_base_OS  = ( A_base.ES0 + A_base.ES90 + A_base.ES180 + A_base.ES270 ) * H_base_OS * U_base\n",
    "    q_base_IS  =   A_base.IS                                                * H_base_IS * U_base\n",
    "    return q_base_OS + q_base_IS"
   ]
  },
  {
   "cell_type": "markdown",
   "metadata": {},
   "source": [
    "### 基礎(玄関ドア等)\n",
    "\n",
    "$\\begin{align} q_{base,d} = ( ( A_{base,d,0} + A_{base,d,90} + A_{base,d,180} + A_{base,d,270} ) \\times H_{base,OS} + A_{base,d,IS} \\times H_{base,IS} ) \\times U_{base,d} \\end{align}$"
   ]
  },
  {
   "cell_type": "code",
   "execution_count": 69,
   "metadata": {
    "collapsed": true
   },
   "outputs": [],
   "source": [
    "def q_base_d( A_base_d, U_base_d ):\n",
    "    # 温度差係数(室外側)は1.0\n",
    "    # 温度差係数(室内側)は0.7\n",
    "    H_base_OS = 1.0\n",
    "    H_base_IS = 0.7\n",
    "    q_base_d_OS = ( A_base_d.ES0 + A_base_d.ES90 + A_base_d.ES180 + A_base_d.ES270 ) * H_base_OS * U_base_d\n",
    "    q_base_d_IS =   A_base_d.IS                                                      * H_base_IS * U_base_d\n",
    "    return q_base_d_OS + q_base_d_IS"
   ]
  },
  {
   "cell_type": "markdown",
   "metadata": {},
   "source": [
    "### 土間床周辺部\n",
    "\n",
    "$\\begin{align} q_{prm} = ( ( L_{prm,  0} + L_{prm,  90} + L_{prm,  180} + L_{prm,  270} ) \\times H_{prm,OS} + L_{prm,IS}   \\times H_{prm,IS} ) \\times \\psi_{prm} \\end{align}$ "
   ]
  },
  {
   "cell_type": "code",
   "execution_count": 70,
   "metadata": {
    "collapsed": true
   },
   "outputs": [],
   "source": [
    "def q_prm( L_prm, psi_prm ):\n",
    "    # 温度差係数(室外側)は1.0\n",
    "    # 温度差係数(室内側)は0.7\n",
    "    H_prm_OS = 1.0\n",
    "    H_prm_IS = 0.7\n",
    "    q_prm_OS = ( L_prm.ES0 + L_prm.ES90 + L_prm.ES180 + L_prm.ES270 ) * H_prm_OS * psi_prm\n",
    "    q_prm_IS =   L_prm.IS                                             * H_prm_IS * psi_prm\n",
    "    return q_prm_OS + q_prm_IS"
   ]
  },
  {
   "cell_type": "markdown",
   "metadata": {},
   "source": [
    "### 土間床周辺部(玄関ドア等)\n",
    "\n",
    "$\\begin{align} q_{prm,d} = ( ( L_{prm,d,0} + L_{prm,d,90} + L_{prm,d,180} + L_{prm,d,270} ) \\times H_{prm,OS} + L_{prm,d,IS} \\times H_{prm,IS} ) \\times \\psi_{prm,d} \\end{align}$ "
   ]
  },
  {
   "cell_type": "code",
   "execution_count": 71,
   "metadata": {
    "collapsed": true
   },
   "outputs": [],
   "source": [
    "def q_prm_d( L_prm_d, psi_prm_d ):\n",
    "    # 温度差係数(室外側)は1.0\n",
    "    # 温度差係数(室内側)は0.7\n",
    "    H_prm_OS = 1.0\n",
    "    H_prm_IS = 0.7\n",
    "    q_prm_d_OS  = ( L_prm_d.ES0 + L_prm_d.ES90 + L_prm_d.ES180 + L_prm_d.ES270 ) * H_prm_OS * psi_prm_d\n",
    "    q_prm_d_IS  =   L_prm_d.IS                                                   * H_prm_IS * psi_prm_d\n",
    "    return q_prm_d_OS + q_prm_d_IS"
   ]
  },
  {
   "cell_type": "markdown",
   "metadata": {},
   "source": [
    "面積はデフォルト値をおく。\n",
    "温度差係数はデフォルト値を使用した。\n",
    "床断熱(floor_ins)・基礎断熱(floor_base)のどちらにも当てはまらない場合（床断熱と基礎断熱の併用など）は、両方の値を計算し、大きい方の値を採用する。"
   ]
  },
  {
   "cell_type": "code",
   "execution_count": 72,
   "metadata": {
    "collapsed": true
   },
   "outputs": [],
   "source": [
    "def U_A_simple_unit(house, U_roof, U_wall, U_door, U_wnd_main, U_wnd_other, U_floor, U_base, U_base_d, psi_prm, psi_prm_d):\n",
    "    \n",
    "    # デフォルト面積の読み込み\n",
    "    area = Area_and_Length(house)\n",
    "    \n",
    "    q_all = q_roof   ( area.roof,   U_roof   ) \\\n",
    "          + q_wall   ( area.wall,   U_wall   ) \\\n",
    "          + q_door   ( area.door,   U_door   ) \\\n",
    "          + q_wnd    ( area.wnd,    U_wnd_main, U_wnd_other ) \\\n",
    "          + q_floor  ( area.floor,  U_floor  ) \\\n",
    "          + q_base   ( area.base,   U_base   ) \\\n",
    "          + q_base_d ( area.base_d, U_base_d ) \\\n",
    "          + q_prm    ( area.prm,    psi_prm  ) \\\n",
    "          + q_prm_d  ( area.prm_d,  psi_prm_d)\n",
    "    return U_A(q_all, area.env)"
   ]
  },
  {
   "cell_type": "code",
   "execution_count": 73,
   "metadata": {
    "collapsed": false
   },
   "outputs": [],
   "source": [
    "def AppliedHouseDecision(house, U_roof, U_wall, U_door, U_wnd_main, U_wnd_other, U_floor, U_base, U_base_d, psi_prm, psi_prm_d):\n",
    "    if ( house == 'floor_ins' ) | ( house == 'base_ins' ) :\n",
    "        return house\n",
    "    else:\n",
    "        f_i = U_A_simple_unit('floor_ins', U_roof, U_wall, U_door, U_wnd_main, U_wnd_other, U_floor, U_base, U_base_d, psi_prm, psi_prm_d)\n",
    "        f_b = U_A_simple_unit('base_ins',  U_roof, U_wall, U_door, U_wnd_main, U_wnd_other, U_floor, U_base, U_base_d, psi_prm, psi_prm_d)\n",
    "        if f_i > f_b:\n",
    "            return 'floor_ins'\n",
    "        else:\n",
    "            return 'base_ins'"
   ]
  },
  {
   "cell_type": "code",
   "execution_count": 74,
   "metadata": {
    "collapsed": true
   },
   "outputs": [],
   "source": [
    "def U_A_simple(house, U_roof, U_wall, U_door, U_wnd_main, U_wnd_other, U_floor, U_base, U_base_d, psi_prm, psi_prm_d):\n",
    "    \n",
    "    # 床断熱住宅と基礎断熱住宅の併用住宅の場合、それぞれ計算してU値で大きい方を採用する。その判断。\n",
    "    house_d = AppliedHouseDecision(house, U_roof, U_wall, U_door, U_wnd_main, U_wnd_other, U_floor, U_base, U_base_d, psi_prm, psi_prm_d)\n",
    "    \n",
    "    return U_A_simple_unit(house_d, U_roof, U_wall, U_door, U_wnd_main, U_wnd_other, U_floor, U_base, U_base_d, psi_prm, psi_prm_d)"
   ]
  },
  {
   "cell_type": "markdown",
   "metadata": {},
   "source": [
    "単位日射強度当たりの日射熱取得量(暖房期)  \n",
    "\n",
    "$ \\begin{align}m_H &= m_{H,roof} + m_{H,wall} + m_{H,door} + m_{H,wnd} + m_{H,base} + m_{H,base,d} \\end{align}$  \n",
    "\n",
    "単位日射強度当たりの日射熱取得量(冷房期)  \n",
    "\n",
    "$ \\begin{align}m_C &= m_{C,roof} + m_{C,wall} + m_{C,door} + m_{C,wnd} + m_{C,base} + m_{C,base,d} \\end{align}$  \n",
    "\n",
    "$m$:単位日射強度当たりの日射熱取得量(W/(W/m<sup>2</sup>))  \n",
    "\n",
    "H:暖房期, C:冷房期  \n",
    "\n",
    "roof:屋根, wall:壁, door:ドア, wnd:窓, base:基礎, d:玄関部分"
   ]
  },
  {
   "cell_type": "markdown",
   "metadata": {},
   "source": [
    "以下、各項目ごとに計算式を定義する。\n",
    "\n",
    "$A$:面積(m<sup>2</sup>)  \n",
    "$\\nu$:方位係数  \n",
    "$\\eta$:日射熱取得率  \n",
    "\n",
    "0,90,180,270: 主開口方位から時計回りに、順に、0度、90度、180度、270度  \n",
    "top,bottom: 順に、上面、下面  "
   ]
  },
  {
   "cell_type": "markdown",
   "metadata": {},
   "source": [
    "### 屋根"
   ]
  },
  {
   "cell_type": "markdown",
   "metadata": {},
   "source": [
    "$ \\begin{align} m_{H,roof} = A_{roof} \\times \\nu_{H,top} \\times \\eta_{H,roof} \\end{align}$  \n",
    "$ \\begin{align} m_{C,roof} = A_{roof} \\times \\nu_{C,top} \\times \\eta_{C,roof} \\end{align}$  "
   ]
  },
  {
   "cell_type": "code",
   "execution_count": 75,
   "metadata": {
    "collapsed": true
   },
   "outputs": [],
   "source": [
    "def m_H_roof( A_roof, nu_H_top, eta_H_roof ):\n",
    "    return A_roof * nu_H_top * eta_H_roof\n",
    "\n",
    "def m_C_roof( A_roof, nu_C_top, eta_C_roof ):\n",
    "    return A_roof * nu_C_top * eta_C_roof"
   ]
  },
  {
   "cell_type": "markdown",
   "metadata": {},
   "source": [
    "### 壁"
   ]
  },
  {
   "cell_type": "markdown",
   "metadata": {},
   "source": [
    "$ \\begin{align} m_{H,wall} = ( A_{wall,0} \\times \\nu_{H,0} + A_{wall,90} \\times \\nu_{H,90} + A_{wall,180} \\times \\nu_{H,180} + A_{wall,270} \\times \\nu_{H,270} ) \\times \\eta_{H,wall} \\end{align} $  \n",
    "$ \\begin{align} m_{C,wall} = ( A_{wall,0} \\times \\nu_{C,0} + A_{wall,90} \\times \\nu_{C,90} + A_{wall,180} \\times \\nu_{C,180} + A_{wall,270} \\times \\nu_{C,270} ) \\times \\eta_{C,wall} \\end{align} $  "
   ]
  },
  {
   "cell_type": "code",
   "execution_count": 76,
   "metadata": {
    "collapsed": true
   },
   "outputs": [],
   "source": [
    "def m_H_wall( A_wall, nu_H, eta_H_wall ):\n",
    "    return A_wall.ES0   * nu_H.ES0   * eta_H_wall \\\n",
    "         + A_wall.ES90  * nu_H.ES90  * eta_H_wall \\\n",
    "         + A_wall.ES180 * nu_H.ES180 * eta_H_wall \\\n",
    "         + A_wall.ES270 * nu_H.ES270 * eta_H_wall\n",
    "\n",
    "def m_C_wall( A_wall, nu_C, eta_C_wall ):\n",
    "    return A_wall.ES0   * nu_C.ES0   * eta_C_wall \\\n",
    "         + A_wall.ES90  * nu_C.ES90  * eta_C_wall \\\n",
    "         + A_wall.ES180 * nu_C.ES180 * eta_C_wall \\\n",
    "         + A_wall.ES270 * nu_C.ES270 * eta_C_wall"
   ]
  },
  {
   "cell_type": "markdown",
   "metadata": {},
   "source": [
    "\n",
    "### ドア"
   ]
  },
  {
   "cell_type": "markdown",
   "metadata": {},
   "source": [
    "$ \\begin{align} m_{H,door} = ( A_{door,0} \\times \\nu_{H,0} + A_{door,90} \\times \\nu_{H,90} + A_{door,180} \\times \\nu_{H,180} + A_{door,270} \\times \\nu_{H,270} ) \\times \\eta_{H,door} \\end{align} $  \n",
    "$ \\begin{align} m_{C,door} = ( A_{door,0} \\times \\nu_{C,0} + A_{door,90} \\times \\nu_{C,90} + A_{door,180} \\times \\nu_{C,180} + A_{door,270} \\times \\nu_{C,270} ) \\times \\eta_{C,door} \\end{align} $  "
   ]
  },
  {
   "cell_type": "code",
   "execution_count": 77,
   "metadata": {
    "collapsed": true
   },
   "outputs": [],
   "source": [
    "def m_H_door( A_door, nu_H, eta_H_door ):\n",
    "    return A_door.ES0   * nu_H.ES0   * eta_H_door \\\n",
    "         + A_door.ES90  * nu_H.ES90  * eta_H_door \\\n",
    "         + A_door.ES180 * nu_H.ES180 * eta_H_door \\\n",
    "         + A_door.ES270 * nu_H.ES270 * eta_H_door\n",
    "\n",
    "def m_C_door( A_door, nu_C, eta_C_door ):\n",
    "    return A_door.ES0   * nu_C.ES0   * eta_C_door \\\n",
    "         + A_door.ES90  * nu_C.ES90  * eta_C_door \\\n",
    "         + A_door.ES180 * nu_C.ES180 * eta_C_door \\\n",
    "         + A_door.ES270 * nu_C.ES270 * eta_C_door"
   ]
  },
  {
   "cell_type": "markdown",
   "metadata": {},
   "source": [
    "### 窓"
   ]
  },
  {
   "cell_type": "markdown",
   "metadata": {},
   "source": [
    "窓の場合は、日除け等を勘案した取得日射量補正係数が方位によって異なること、主開口とその他の物性を分けて入力できること等から、方位別に$\\eta$値を設定する。  \n",
    "$ \\begin{align} m_{H,wnd} = A_{wnd,0} \\times \\nu_{H,0} \\times \\eta_{H,wnd,0} + A_{wnd,90} \\times \\nu_{H,90} \\times \\eta_{H,wnd,90} + A_{wnd,180} \\times \\nu_{H,180} \\times \\eta_{H,wnd,180} + A_{wnd,270} \\times \\nu_{H,270} \\times \\eta_{H,wnd,270} \\end{align} $  \n",
    "$ \\begin{align} m_{C,wnd} = A_{wnd,0} \\times \\nu_{C,0} \\times \\eta_{C,wnd,0} + A_{wnd,90} \\times \\nu_{C,90} \\times \\eta_{C,wnd,90} + A_{wnd,180} \\times \\nu_{C,180} \\times \\eta_{C,wnd,180} + A_{wnd,270} \\times \\nu_{C,270} \\times \\eta_{C,wnd,270} \\end{align} $  "
   ]
  },
  {
   "cell_type": "code",
   "execution_count": 78,
   "metadata": {
    "collapsed": true
   },
   "outputs": [],
   "source": [
    "def m_H_wnd( A_wnd, nu_H, eta_H_wnd):\n",
    "    return A_wnd.ES0   * nu_H.ES0   * eta_H_wnd.ES0 \\\n",
    "         + A_wnd.ES90  * nu_H.ES90  * eta_H_wnd.ES90 \\\n",
    "         + A_wnd.ES180 * nu_H.ES180 * eta_H_wnd.ES180 \\\n",
    "         + A_wnd.ES270 * nu_H.ES270 * eta_H_wnd.ES270\n",
    "\n",
    "def m_C_wnd( A_wnd, nu_C, eta_C_wnd):\n",
    "    return A_wnd.ES0   * nu_C.ES0   * eta_C_wnd.ES0 \\\n",
    "         + A_wnd.ES90  * nu_C.ES90  * eta_C_wnd.ES90 \\\n",
    "         + A_wnd.ES180 * nu_C.ES180 * eta_C_wnd.ES180 \\\n",
    "         + A_wnd.ES270 * nu_C.ES270 * eta_C_wnd.ES270"
   ]
  },
  {
   "cell_type": "markdown",
   "metadata": {},
   "source": [
    "### 基礎"
   ]
  },
  {
   "cell_type": "markdown",
   "metadata": {},
   "source": [
    "$ \\begin{align} m_{H,base} = ( A_{base,0} \\times \\nu_{H,0} + A_{base,90} \\times \\nu_{H,90} + A_{base,180} \\times \\nu_{H,180} + A_{base,270} \\times \\nu_{H,270} ) \\times \\eta_{H,base} \\end{align} $  \n",
    "$ \\begin{align} m_{C,base} = ( A_{base,0} \\times \\nu_{C,0} + A_{base,90} \\times \\nu_{C,90} + A_{base,180} \\times \\nu_{C,180} + A_{base,270} \\times \\nu_{C,270} ) \\times \\eta_{C,base} \\end{align} $  "
   ]
  },
  {
   "cell_type": "code",
   "execution_count": 79,
   "metadata": {
    "collapsed": true
   },
   "outputs": [],
   "source": [
    "def m_H_base( A_base, nu_H, eta_H_base ):\n",
    "    return A_base.ES0   * nu_H.ES0   * eta_H_base \\\n",
    "         + A_base.ES90  * nu_H.ES90  * eta_H_base \\\n",
    "         + A_base.ES180 * nu_H.ES180 * eta_H_base \\\n",
    "         + A_base.ES270 * nu_H.ES270 * eta_H_base\n",
    "    \n",
    "def m_C_base( A_base, nu_C, eta_C_base ):\n",
    "    return A_base.ES0   * nu_C.ES0   * eta_C_base \\\n",
    "         + A_base.ES90  * nu_C.ES90  * eta_C_base \\\n",
    "         + A_base.ES180 * nu_C.ES180 * eta_C_base \\\n",
    "         + A_base.ES270 * nu_C.ES270 * eta_C_base"
   ]
  },
  {
   "cell_type": "markdown",
   "metadata": {},
   "source": [
    "### 基礎(玄関ドア等)"
   ]
  },
  {
   "cell_type": "markdown",
   "metadata": {},
   "source": [
    "$ \\begin{align} m_{H,base,d} = ( A_{base,d,0} \\times \\nu_{H,0} + A_{base,d,90} \\times \\nu_{H,90} + A_{base,d,180} \\times \\nu_{H,180} + A_{base,d,270} \\times \\nu_{H,270} ) \\times \\eta_{H,base,d} \\end{align} $  \n",
    "$ \\begin{align} m_{C,base,d} = ( A_{base,d,0} \\times \\nu_{C,0} + A_{base,d,90} \\times \\nu_{C,90} + A_{base,d,180} \\times \\nu_{C,180} + A_{base,d,270} \\times \\nu_{C,270} ) \\times \\eta_{C,base,d} \\end{align} $  "
   ]
  },
  {
   "cell_type": "code",
   "execution_count": 80,
   "metadata": {
    "collapsed": true
   },
   "outputs": [],
   "source": [
    "def m_H_base_d( A_base_d, nu_H, eta_H_base_d ):\n",
    "    return A_base_d.ES0   * nu_H.ES0   * eta_H_base_d \\\n",
    "         + A_base_d.ES90  * nu_H.ES90  * eta_H_base_d \\\n",
    "         + A_base_d.ES180 * nu_H.ES180 * eta_H_base_d \\\n",
    "         + A_base_d.ES270 * nu_H.ES270 * eta_H_base_d\n",
    "    \n",
    "def m_C_base_d( A_base_d, nu_C, eta_C_base_d ):\n",
    "    return A_base_d.ES0   * nu_C.ES0   * eta_C_base_d \\\n",
    "         + A_base_d.ES90  * nu_C.ES90  * eta_C_base_d \\\n",
    "         + A_base_d.ES180 * nu_C.ES180 * eta_C_base_d \\\n",
    "         + A_base_d.ES270 * nu_C.ES270 * eta_C_base_d"
   ]
  },
  {
   "cell_type": "code",
   "execution_count": 81,
   "metadata": {
    "collapsed": false
   },
   "outputs": [
    {
     "data": {
      "text/plain": [
       "50.85"
      ]
     },
     "execution_count": 81,
     "metadata": {},
     "output_type": "execute_result"
    }
   ],
   "source": [
    "m_H_roof( Area_and_Length('floor_ins').roof, Nu_H(6).value.top, 1.0 )"
   ]
  },
  {
   "cell_type": "code",
   "execution_count": 82,
   "metadata": {
    "collapsed": false
   },
   "outputs": [
    {
     "data": {
      "text/plain": [
       "64.47314"
      ]
     },
     "execution_count": 82,
     "metadata": {},
     "output_type": "execute_result"
    }
   ],
   "source": [
    "nu_H = direction ( Nu_H(6).value.SW, Nu_H(6).value.NW, Nu_H(6).value.NE, Nu_H(6).value.SE )\n",
    "m_H_wall( Area_and_Length('floor_ins').wall, nu_H, 1.0)"
   ]
  },
  {
   "cell_type": "code",
   "execution_count": 83,
   "metadata": {
    "collapsed": false
   },
   "outputs": [
    {
     "data": {
      "text/plain": [
       "22.88689"
      ]
     },
     "execution_count": 83,
     "metadata": {},
     "output_type": "execute_result"
    }
   ],
   "source": [
    "nu_H = direction ( Nu_H(6).value.SW, Nu_H(6).value.NW, Nu_H(6).value.NE, Nu_H(6).value.SE )\n",
    "eta_H = direction ( 1.0, 1.0, 1.0, 1.0 )\n",
    "m_H_wnd( Area_and_Length('floor_ins').wnd, nu_H, eta_H)"
   ]
  },
  {
   "cell_type": "code",
   "execution_count": 84,
   "metadata": {
    "collapsed": true
   },
   "outputs": [],
   "source": [
    "def nu_from_main_direction( OC, main_direction ):\n",
    "    # OC orientation_coeff 型\n",
    "    # main_direction: 主たる方位　( 'S', 'SW', 'W', 'NW', 'N', 'NE', 'E', 'SE' )\n",
    "    # direction 型: 主たる方位から、0,90,180,270 度の値\n",
    "    if   ( main_direction == 'S' ): return direction ( OC.value.S,  OC.value.W,  OC.value.N,  OC.value.E  )\n",
    "    elif ( main_direction == 'SW'): return direction ( OC.value.SW, OC.value.NW, OC.value.NE, OC.value.SE )\n",
    "    elif ( main_direction == 'W' ): return direction ( OC.value.W,  OC.value.N,  OC.value.E,  OC.value.S  )\n",
    "    elif ( main_direction == 'NW'): return direction ( OC.value.NW, OC.value.NE, OC.value.SE, OC.value.SW )\n",
    "    elif ( main_direction == 'N' ): return direction ( OC.value.N,  OC.value.E,  OC.value.S,  OC.value.W  )\n",
    "    elif ( main_direction == 'NE'): return direction ( OC.value.NE, OC.value.SE, OC.value.SW, OC.value.NW )\n",
    "    elif ( main_direction == 'E' ): return direction ( OC.value.E,  OC.value.S,  OC.value.W,  OC.value.N  )\n",
    "    elif ( main_direction == 'SE'): return direction ( OC.value.SE, OC.value.SW, OC.value.NW, OC.value.NE )\n",
    "    else: raise( 'Wrong Direction Name' )"
   ]
  },
  {
   "cell_type": "code",
   "execution_count": 85,
   "metadata": {
    "collapsed": false
   },
   "outputs": [],
   "source": [
    "def eta_H_simple( house, region, main_direction,\n",
    "                   U_roof, U_wall, U_door, U_wnd_main, U_wnd_other, U_floor, U_base, U_base_d, psi_prm, psi_prm_d,\n",
    "                   eta_d_wnd_H_main, eta_d_wnd_H_other, f_H ):\n",
    "    # house: 家の種類 'floor_ins', 'base_ins', 'floor_and_base_ins'\n",
    "    # region: 地域の区分 ( 1 ～ 8 )\n",
    "    # main_direction: 主開口の方位 ( 'S', 'SW', 'W', 'NW', 'N', 'NE', 'E', 'SE' )\n",
    "    # U_roof: 屋根のU値(W/m2K)\n",
    "    # U_wall: 壁のU値(W/m2K)\n",
    "    # U_door: ドアのU値(W/m2K)\n",
    "    # U_wnd_main: 主開口窓のU値(W/m2K)\n",
    "    # U_wnd_other: その他の開口窓のU値(W/m2K)\n",
    "    # U_floor: 床のU値(W/m2K)\n",
    "    # U_base: 基礎のU値(W/m2K)\n",
    "    # U_base_d: 基礎(玄関ドア等)のU値(W/m2K)\n",
    "    # psi_prm: 土間床外周部のψ値(W/mK)\n",
    "    # psi_prm_d: 土間床外周部(玄関ドア等)のψ値(W/mK)\n",
    "    # eta_d_wnd_H_main: 主開口窓の暖房期のηd値\n",
    "    # eta_d_wnd_H_other: その他開口窓の暖房期のηd値\n",
    "    # f_H: direction型: f_H値\n",
    "    \n",
    "    if region == 8:\n",
    "        return 'ND'    # 8地域は暖房期間がないため未定義\n",
    "    else:\n",
    "        \n",
    "        # 床断熱住宅と基礎断熱住宅の併用住宅の場合、それぞれ計算してU値で大きい方を採用する。その判断。\n",
    "        house_d = AppliedHouseDecision(house, U_roof, U_wall, U_door, U_wnd_main, U_wnd_other, U_floor, U_base, U_base_d, psi_prm, psi_prm_d)\n",
    "    \n",
    "        # デフォルト面積の読み込み\n",
    "        area = Area_and_Length(house_d)\n",
    "\n",
    "        # 方位係数\n",
    "        nu_h = nu_from_main_direction( Nu_H(region), main_direction )\n",
    "        nu_h_top = Nu_H(region).value.top\n",
    "\n",
    "        eta_H_roof   = U_roof   * 0.034\n",
    "        eta_H_wall   = U_wall   * 0.034\n",
    "        eta_H_door   = U_door   * 0.034\n",
    "        eta_H_base   = U_base   * 0.034\n",
    "        eta_H_base_d = U_base_d * 0.034\n",
    "\n",
    "        eta_H_wnd = direction( eta_d_wnd_H_main  * f_H.ES0,\n",
    "                               eta_d_wnd_H_other * f_H.ES90,\n",
    "                               eta_d_wnd_H_other * f_H.ES180,\n",
    "                               eta_d_wnd_H_other * f_H.ES270 )\n",
    "        \n",
    "        m_H_all = m_H_roof  ( area.roof,   nu_h_top, eta_H_roof   ) \\\n",
    "                + m_H_wall  ( area.wall,   nu_h,     eta_H_wall   ) \\\n",
    "                + m_H_door  ( area.door,   nu_h,     eta_H_door   ) \\\n",
    "                + m_H_wnd   ( area.wnd,    nu_h,     eta_H_wnd    ) \\\n",
    "                + m_H_base  ( area.base,   nu_h,     eta_H_base   ) \\\n",
    "                + m_H_base_d( area.base_d, nu_h,     eta_H_base_d )\n",
    "\n",
    "        return eta_A_H( m_H_all, area.env )"
   ]
  },
  {
   "cell_type": "code",
   "execution_count": 86,
   "metadata": {
    "collapsed": false
   },
   "outputs": [
    {
     "data": {
      "text/plain": [
       "Decimal('0.97')"
      ]
     },
     "execution_count": 86,
     "metadata": {},
     "output_type": "execute_result"
    }
   ],
   "source": [
    "U_A_simple( house = 'floor_ins', U_roof = 1.0, U_wall = 1.0, U_door = 1.0, U_wnd_main = 1.0, U_wnd_other = 1.0, U_floor = 1.0,\n",
    "            U_base = 1.0, U_base_d = 1.0, psi_prm = 1.0, psi_prm_d = 1.0)"
   ]
  },
  {
   "cell_type": "code",
   "execution_count": 87,
   "metadata": {
    "collapsed": false
   },
   "outputs": [
    {
     "data": {
      "text/plain": [
       "Decimal('10.2')"
      ]
     },
     "execution_count": 87,
     "metadata": {},
     "output_type": "execute_result"
    }
   ],
   "source": [
    "eta_H_simple( house = 'floor_ins', region = 6, main_direction = 'S',\n",
    "              U_roof = 1.0, U_wall = 1.0, U_door = 1.0, U_wnd_main = 1.0, U_wnd_other = 1.0, U_floor = 1.0,\n",
    "              U_base = 1.0, U_base_d = 1.0, psi_prm = 1.0, psi_prm_d = 1.0,\n",
    "              eta_d_wnd_H_main = 1.0, eta_d_wnd_H_other = 1.0, f_H = direction(0.9,0.9,0.9,0.9) )"
   ]
  }
 ],
 "metadata": {
  "kernelspec": {
   "display_name": "Python 3",
   "language": "python",
   "name": "python3"
  },
  "language_info": {
   "codemirror_mode": {
    "name": "ipython",
    "version": 3
   },
   "file_extension": ".py",
   "mimetype": "text/x-python",
   "name": "python",
   "nbconvert_exporter": "python",
   "pygments_lexer": "ipython3",
   "version": "3.6.0"
  }
 },
 "nbformat": 4,
 "nbformat_minor": 2
}
