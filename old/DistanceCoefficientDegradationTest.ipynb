{
 "cells": [
  {
   "cell_type": "code",
   "execution_count": 1,
   "metadata": {
    "collapsed": false
   },
   "outputs": [
    {
     "name": "stdout",
     "output_type": "stream",
     "text": [
      "Importing Jupyter notebook from DistanceCoefficientDegradation.ipynb\n"
     ]
    }
   ],
   "source": [
    "# import numpy as np\n",
    "# import pandas as pd\n",
    "# import matplotlib.pyplot as plt\n",
    "# import matplotlib as mpl\n",
    "# from scipy import optimize as opt\n",
    "import nbimporter\n",
    "from DistanceCoefficientDegradation import distance_rbc\n",
    "from DistanceCoefficientDegradation import get_distance_coefficient_degradation"
   ]
  },
  {
   "cell_type": "markdown",
   "metadata": {},
   "source": [
    "# 方位係数の低減係数のテスト"
   ]
  },
  {
   "cell_type": "markdown",
   "metadata": {},
   "source": [
    "テストの方針  \n",
    "距離は 0.0m と 0.9m (0.0m の場合の結果は必ず0となる。)  \n",
    "カテゴリ と 方位 は、全種類実施する。"
   ]
  },
  {
   "cell_type": "code",
   "execution_count": 2,
   "metadata": {
    "collapsed": true
   },
   "outputs": [],
   "source": [
    "test_get_distance_coefficient_degradation_input = []\n",
    "\n",
    "    # 返り値: 方位係数の低減係数\n",
    "    # 引数:\n",
    "    # 第1引数  d: 隣棟との距離(m)\n",
    "    # 第2引数  s: 暖冷房の別\n",
    "    # 第3引数  c: カテゴリ(1～3)\n",
    "    # 第4引数  drt: 方位(8方位)\n",
    "\n",
    "test_get_distance_coefficient_degradation_input.append( [ 0.0, 'Cooling', 1, 'S' ] )\n",
    "test_get_distance_coefficient_degradation_input.append( [ 0.0, 'Cooling', 1, 'SW' ] )\n",
    "test_get_distance_coefficient_degradation_input.append( [ 0.0, 'Cooling', 1, 'E' ] )\n",
    "test_get_distance_coefficient_degradation_input.append( [ 0.0, 'Cooling', 1, 'NW' ] )\n",
    "test_get_distance_coefficient_degradation_input.append( [ 0.0, 'Cooling', 1, 'N' ] )\n",
    "test_get_distance_coefficient_degradation_input.append( [ 0.0, 'Cooling', 1, 'NE' ] )\n",
    "test_get_distance_coefficient_degradation_input.append( [ 0.0, 'Cooling', 1, 'E' ] )\n",
    "test_get_distance_coefficient_degradation_input.append( [ 0.0, 'Cooling', 1, 'SE' ] )\n",
    "test_get_distance_coefficient_degradation_input.append( [ 0.9, 'Cooling', 1, 'S' ] )\n",
    "test_get_distance_coefficient_degradation_input.append( [ 0.9, 'Cooling', 1, 'SW' ] )\n",
    "test_get_distance_coefficient_degradation_input.append( [ 0.9, 'Cooling', 1, 'E' ] )\n",
    "test_get_distance_coefficient_degradation_input.append( [ 0.9, 'Cooling', 1, 'NW' ] )\n",
    "test_get_distance_coefficient_degradation_input.append( [ 0.9, 'Cooling', 1, 'N' ] )\n",
    "test_get_distance_coefficient_degradation_input.append( [ 0.9, 'Cooling', 1, 'NE' ] )\n",
    "test_get_distance_coefficient_degradation_input.append( [ 0.9, 'Cooling', 1, 'E' ] )\n",
    "test_get_distance_coefficient_degradation_input.append( [ 0.9, 'Cooling', 1, 'SE' ] )\n",
    "test_get_distance_coefficient_degradation_input.append( [ 0.0, 'Cooling', 2, 'S' ] )\n",
    "test_get_distance_coefficient_degradation_input.append( [ 0.0, 'Cooling', 2, 'SW' ] )\n",
    "test_get_distance_coefficient_degradation_input.append( [ 0.0, 'Cooling', 2, 'E' ] )\n",
    "test_get_distance_coefficient_degradation_input.append( [ 0.0, 'Cooling', 2, 'NW' ] )\n",
    "test_get_distance_coefficient_degradation_input.append( [ 0.0, 'Cooling', 2, 'N' ] )\n",
    "test_get_distance_coefficient_degradation_input.append( [ 0.0, 'Cooling', 2, 'NE' ] )\n",
    "test_get_distance_coefficient_degradation_input.append( [ 0.0, 'Cooling', 2, 'E' ] )\n",
    "test_get_distance_coefficient_degradation_input.append( [ 0.0, 'Cooling', 2, 'SE' ] )\n",
    "test_get_distance_coefficient_degradation_input.append( [ 0.9, 'Cooling', 2, 'S' ] )\n",
    "test_get_distance_coefficient_degradation_input.append( [ 0.9, 'Cooling', 2, 'SW' ] )\n",
    "test_get_distance_coefficient_degradation_input.append( [ 0.9, 'Cooling', 2, 'E' ] )\n",
    "test_get_distance_coefficient_degradation_input.append( [ 0.9, 'Cooling', 2, 'NW' ] )\n",
    "test_get_distance_coefficient_degradation_input.append( [ 0.9, 'Cooling', 2, 'N' ] )\n",
    "test_get_distance_coefficient_degradation_input.append( [ 0.9, 'Cooling', 2, 'NE' ] )\n",
    "test_get_distance_coefficient_degradation_input.append( [ 0.9, 'Cooling', 2, 'E' ] )\n",
    "test_get_distance_coefficient_degradation_input.append( [ 0.9, 'Cooling', 2, 'SE' ] )\n",
    "test_get_distance_coefficient_degradation_input.append( [ 0.0, 'Cooling', 3, 'S' ] )\n",
    "test_get_distance_coefficient_degradation_input.append( [ 0.0, 'Cooling', 3, 'SW' ] )\n",
    "test_get_distance_coefficient_degradation_input.append( [ 0.0, 'Cooling', 3, 'E' ] )\n",
    "test_get_distance_coefficient_degradation_input.append( [ 0.0, 'Cooling', 3, 'NW' ] )\n",
    "test_get_distance_coefficient_degradation_input.append( [ 0.0, 'Cooling', 3, 'N' ] )\n",
    "test_get_distance_coefficient_degradation_input.append( [ 0.0, 'Cooling', 3, 'NE' ] )\n",
    "test_get_distance_coefficient_degradation_input.append( [ 0.0, 'Cooling', 3, 'E' ] )\n",
    "test_get_distance_coefficient_degradation_input.append( [ 0.0, 'Cooling', 3, 'SE' ] )\n",
    "test_get_distance_coefficient_degradation_input.append( [ 0.9, 'Cooling', 3, 'S' ] )\n",
    "test_get_distance_coefficient_degradation_input.append( [ 0.9, 'Cooling', 3, 'SW' ] )\n",
    "test_get_distance_coefficient_degradation_input.append( [ 0.9, 'Cooling', 3, 'E' ] )\n",
    "test_get_distance_coefficient_degradation_input.append( [ 0.9, 'Cooling', 3, 'NW' ] )\n",
    "test_get_distance_coefficient_degradation_input.append( [ 0.9, 'Cooling', 3, 'N' ] )\n",
    "test_get_distance_coefficient_degradation_input.append( [ 0.9, 'Cooling', 3, 'NE' ] )\n",
    "test_get_distance_coefficient_degradation_input.append( [ 0.9, 'Cooling', 3, 'E' ] )\n",
    "test_get_distance_coefficient_degradation_input.append( [ 0.9, 'Cooling', 3, 'SE' ] )\n",
    "test_get_distance_coefficient_degradation_input.append( [ 0.0, 'Heating', 1, 'S' ] )\n",
    "test_get_distance_coefficient_degradation_input.append( [ 0.0, 'Heating', 1, 'SW' ] )\n",
    "test_get_distance_coefficient_degradation_input.append( [ 0.0, 'Heating', 1, 'E' ] )\n",
    "test_get_distance_coefficient_degradation_input.append( [ 0.0, 'Heating', 1, 'NW' ] )\n",
    "test_get_distance_coefficient_degradation_input.append( [ 0.0, 'Heating', 1, 'N' ] )\n",
    "test_get_distance_coefficient_degradation_input.append( [ 0.0, 'Heating', 1, 'NE' ] )\n",
    "test_get_distance_coefficient_degradation_input.append( [ 0.0, 'Heating', 1, 'E' ] )\n",
    "test_get_distance_coefficient_degradation_input.append( [ 0.0, 'Heating', 1, 'SE' ] )\n",
    "test_get_distance_coefficient_degradation_input.append( [ 0.9, 'Heating', 1, 'S' ] )\n",
    "test_get_distance_coefficient_degradation_input.append( [ 0.9, 'Heating', 1, 'SW' ] )\n",
    "test_get_distance_coefficient_degradation_input.append( [ 0.9, 'Heating', 1, 'E' ] )\n",
    "test_get_distance_coefficient_degradation_input.append( [ 0.9, 'Heating', 1, 'NW' ] )\n",
    "test_get_distance_coefficient_degradation_input.append( [ 0.9, 'Heating', 1, 'N' ] )\n",
    "test_get_distance_coefficient_degradation_input.append( [ 0.9, 'Heating', 1, 'NE' ] )\n",
    "test_get_distance_coefficient_degradation_input.append( [ 0.9, 'Heating', 1, 'E' ] )\n",
    "test_get_distance_coefficient_degradation_input.append( [ 0.9, 'Heating', 1, 'SE' ] )\n",
    "test_get_distance_coefficient_degradation_input.append( [ 0.0, 'Heating', 2, 'S' ] )\n",
    "test_get_distance_coefficient_degradation_input.append( [ 0.0, 'Heating', 2, 'SW' ] )\n",
    "test_get_distance_coefficient_degradation_input.append( [ 0.0, 'Heating', 2, 'E' ] )\n",
    "test_get_distance_coefficient_degradation_input.append( [ 0.0, 'Heating', 2, 'NW' ] )\n",
    "test_get_distance_coefficient_degradation_input.append( [ 0.0, 'Heating', 2, 'N' ] )\n",
    "test_get_distance_coefficient_degradation_input.append( [ 0.0, 'Heating', 2, 'NE' ] )\n",
    "test_get_distance_coefficient_degradation_input.append( [ 0.0, 'Heating', 2, 'E' ] )\n",
    "test_get_distance_coefficient_degradation_input.append( [ 0.0, 'Heating', 2, 'SE' ] )\n",
    "test_get_distance_coefficient_degradation_input.append( [ 0.9, 'Heating', 2, 'S' ] )\n",
    "test_get_distance_coefficient_degradation_input.append( [ 0.9, 'Heating', 2, 'SW' ] )\n",
    "test_get_distance_coefficient_degradation_input.append( [ 0.9, 'Heating', 2, 'E' ] )\n",
    "test_get_distance_coefficient_degradation_input.append( [ 0.9, 'Heating', 2, 'NW' ] )\n",
    "test_get_distance_coefficient_degradation_input.append( [ 0.9, 'Heating', 2, 'N' ] )\n",
    "test_get_distance_coefficient_degradation_input.append( [ 0.9, 'Heating', 2, 'NE' ] )\n",
    "test_get_distance_coefficient_degradation_input.append( [ 0.9, 'Heating', 2, 'E' ] )\n",
    "test_get_distance_coefficient_degradation_input.append( [ 0.9, 'Heating', 2, 'SE' ] )\n",
    "test_get_distance_coefficient_degradation_input.append( [ 0.0, 'Heating', 3, 'S' ] )\n",
    "test_get_distance_coefficient_degradation_input.append( [ 0.0, 'Heating', 3, 'SW' ] )\n",
    "test_get_distance_coefficient_degradation_input.append( [ 0.0, 'Heating', 3, 'E' ] )\n",
    "test_get_distance_coefficient_degradation_input.append( [ 0.0, 'Heating', 3, 'NW' ] )\n",
    "test_get_distance_coefficient_degradation_input.append( [ 0.0, 'Heating', 3, 'N' ] )\n",
    "test_get_distance_coefficient_degradation_input.append( [ 0.0, 'Heating', 3, 'NE' ] )\n",
    "test_get_distance_coefficient_degradation_input.append( [ 0.0, 'Heating', 3, 'E' ] )\n",
    "test_get_distance_coefficient_degradation_input.append( [ 0.0, 'Heating', 3, 'SE' ] )\n",
    "test_get_distance_coefficient_degradation_input.append( [ 0.9, 'Heating', 3, 'S' ] )\n",
    "test_get_distance_coefficient_degradation_input.append( [ 0.9, 'Heating', 3, 'SW' ] )\n",
    "test_get_distance_coefficient_degradation_input.append( [ 0.9, 'Heating', 3, 'E' ] )\n",
    "test_get_distance_coefficient_degradation_input.append( [ 0.9, 'Heating', 3, 'NW' ] )\n",
    "test_get_distance_coefficient_degradation_input.append( [ 0.9, 'Heating', 3, 'N' ] )\n",
    "test_get_distance_coefficient_degradation_input.append( [ 0.9, 'Heating', 3, 'NE' ] )\n",
    "test_get_distance_coefficient_degradation_input.append( [ 0.9, 'Heating', 3, 'E' ] )\n",
    "test_get_distance_coefficient_degradation_input.append( [ 0.9, 'Heating', 3, 'SE' ] )"
   ]
  },
  {
   "cell_type": "code",
   "execution_count": 3,
   "metadata": {
    "collapsed": false
   },
   "outputs": [
    {
     "data": {
      "text/plain": [
       "[[0, 0.0],\n",
       " [1, 0.0],\n",
       " [2, 0.0],\n",
       " [3, 0.0],\n",
       " [4, 0.0],\n",
       " [5, 0.0],\n",
       " [6, 0.0],\n",
       " [7, 0.0],\n",
       " [8, 0.4763301214914118],\n",
       " [9, 0.41107184923439344],\n",
       " [10, 0.34942424045280074],\n",
       " [11, 0.376441977926046],\n",
       " [12, 0.3810349096310968],\n",
       " [13, 0.3776062737287608],\n",
       " [14, 0.34942424045280074],\n",
       " [15, 0.41075953096458667],\n",
       " [16, 0.0],\n",
       " [17, 0.0],\n",
       " [18, 0.0],\n",
       " [19, 0.0],\n",
       " [20, 0.0],\n",
       " [21, 0.0],\n",
       " [22, 0.0],\n",
       " [23, 0.0],\n",
       " [24, 0.1659020769038285],\n",
       " [25, 0.08256880733944953],\n",
       " [26, 0.08307353750229232],\n",
       " [27, 0.09543193125282678],\n",
       " [28, 0.11956330339848566],\n",
       " [29, 0.09722849146880926],\n",
       " [30, 0.08307353750229232],\n",
       " [31, 0.08525429930479328],\n",
       " [32, 0.0],\n",
       " [33, 0.0],\n",
       " [34, 0.0],\n",
       " [35, 0.0],\n",
       " [36, 0.0],\n",
       " [37, 0.0],\n",
       " [38, 0.0],\n",
       " [39, 0.0],\n",
       " [40, 0.08441677348470976],\n",
       " [41, 0.03623747108712413],\n",
       " [42, 0.046165585654330404],\n",
       " [43, 0.04961034023949819],\n",
       " [44, 0.0727862772369031],\n",
       " [45, 0.05096327227863718],\n",
       " [46, 0.046165585654330404],\n",
       " [47, 0.03753609239653513],\n",
       " [48, 0.0],\n",
       " [49, 0.0],\n",
       " [50, 0.0],\n",
       " [51, 0.0],\n",
       " [52, 0.0],\n",
       " [53, 0.0],\n",
       " [54, 0.0],\n",
       " [55, 0.0],\n",
       " [56, 0.37158298246716526],\n",
       " [57, 0.34469200524246396],\n",
       " [58, 0.3343982960596379],\n",
       " [59, 0.39024390243902435],\n",
       " [60, 0.4119722450899682],\n",
       " [61, 0.38920107500610807],\n",
       " [62, 0.3343982960596379],\n",
       " [63, 0.3384493252183117],\n",
       " [64, 0.0],\n",
       " [65, 0.0],\n",
       " [66, 0.0],\n",
       " [67, 0.0],\n",
       " [68, 0.0],\n",
       " [69, 0.0],\n",
       " [70, 0.0],\n",
       " [71, 0.0],\n",
       " [72, 0.034096397179561484],\n",
       " [73, 0.04196206169764322],\n",
       " [74, 0.06410856340664484],\n",
       " [75, 0.10418346322673117],\n",
       " [76, 0.11433885395447702],\n",
       " [77, 0.10554561717352416],\n",
       " [78, 0.06410856340664484],\n",
       " [79, 0.040030719016991456],\n",
       " [80, 0.0],\n",
       " [81, 0.0],\n",
       " [82, 0.0],\n",
       " [83, 0.0],\n",
       " [84, 0.0],\n",
       " [85, 0.0],\n",
       " [86, 0.0],\n",
       " [87, 0.0],\n",
       " [88, 0.013709438800670676],\n",
       " [89, 0.018163966617574866],\n",
       " [90, 0.02940891002620596],\n",
       " [91, 0.05997367926301936],\n",
       " [92, 0.06976744186046512],\n",
       " [93, 0.060680067631035124],\n",
       " [94, 0.02940891002620596],\n",
       " [95, 0.01748870112006288]]"
      ]
     },
     "execution_count": 3,
     "metadata": {},
     "output_type": "execute_result"
    }
   ],
   "source": [
    "test_get_distance_coefficient_degradation_output = []\n",
    "for i, t in enumerate(test_get_distance_coefficient_degradation_input):\n",
    "    test_get_distance_coefficient_degradation_output.append( [i, get_distance_coefficient_degradation( t[0],t[1],t[2],t[3] ) ] )\n",
    "test_get_distance_coefficient_degradation_output"
   ]
  },
  {
   "cell_type": "markdown",
   "metadata": {},
   "source": [
    "# 区域建蔽率と隣等距離との関係のテスト"
   ]
  },
  {
   "cell_type": "markdown",
   "metadata": {},
   "source": [
    "テストの方針  \n",
    "区域建蔽率は 0.0, 0.5, 1.0 で実施する。"
   ]
  },
  {
   "cell_type": "code",
   "execution_count": 4,
   "metadata": {
    "collapsed": true
   },
   "outputs": [],
   "source": [
    "test_distance_rbc_input = []\n",
    "\n",
    "    # 返り値: 隣等距離(m)\n",
    "    # 引数:\n",
    "    # 第1引数  rbc: 区域建蔽率(0～1)\n",
    "\n",
    "test_distance_rbc_input.append( [0.0] )\n",
    "test_distance_rbc_input.append( [0.5] )\n",
    "test_distance_rbc_input.append( [1.0] )"
   ]
  },
  {
   "cell_type": "code",
   "execution_count": 5,
   "metadata": {
    "collapsed": false
   },
   "outputs": [
    {
     "data": {
      "text/plain": [
       "[[0, 67.099999999999994], [1, 3.2582298072176687], [2, 0.15821254063549461]]"
      ]
     },
     "execution_count": 5,
     "metadata": {},
     "output_type": "execute_result"
    }
   ],
   "source": [
    "test_distance_rbc_output = []\n",
    "for i, t in enumerate(test_distance_rbc_input):\n",
    "    test_distance_rbc_output.append( [i, distance_rbc( t[0] ) ] )\n",
    "test_distance_rbc_output"
   ]
  },
  {
   "cell_type": "code",
   "execution_count": null,
   "metadata": {
    "collapsed": true
   },
   "outputs": [],
   "source": []
  }
 ],
 "metadata": {
  "kernelspec": {
   "display_name": "Python 3",
   "language": "python",
   "name": "python3"
  },
  "language_info": {
   "codemirror_mode": {
    "name": "ipython",
    "version": 3
   },
   "file_extension": ".py",
   "mimetype": "text/x-python",
   "name": "python",
   "nbconvert_exporter": "python",
   "pygments_lexer": "ipython3",
   "version": "3.6.0"
  }
 },
 "nbformat": 4,
 "nbformat_minor": 2
}
