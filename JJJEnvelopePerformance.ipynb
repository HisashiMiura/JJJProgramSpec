{
 "cells": [
  {
   "cell_type": "code",
   "execution_count": 1,
   "metadata": {
    "collapsed": false
   },
   "outputs": [],
   "source": [
    "import numpy as np\n",
    "import matplotlib.pyplot as plt\n",
    "from decimal import Decimal\n",
    "from enum import Enum\n",
    "from collections import namedtuple"
   ]
  },
  {
   "cell_type": "markdown",
   "metadata": {},
   "source": [
    "# 外皮性能の計算方法 (関数)"
   ]
  },
  {
   "cell_type": "markdown",
   "metadata": {},
   "source": [
    "## はじめに"
   ]
  },
  {
   "cell_type": "markdown",
   "metadata": {},
   "source": [
    "本計算は第3章「暖冷房負荷と外皮性能」第2章「外皮性能」にもとづく。"
   ]
  },
  {
   "cell_type": "markdown",
   "metadata": {},
   "source": [
    "## 型について"
   ]
  },
  {
   "cell_type": "markdown",
   "metadata": {},
   "source": [
    "### 地域の区分に関する列挙型"
   ]
  },
  {
   "cell_type": "markdown",
   "metadata": {},
   "source": [
    "地域の区分8地域を表す。"
   ]
  },
  {
   "cell_type": "code",
   "execution_count": 2,
   "metadata": {
    "collapsed": true
   },
   "outputs": [],
   "source": [
    "class Region(Enum):\n",
    "    Division1 = 1\n",
    "    Division2 = 2\n",
    "    Division3 = 3\n",
    "    Division4 = 4\n",
    "    Division5 = 5\n",
    "    Division6 = 6\n",
    "    Division7 = 7\n",
    "    Division8 = 8"
   ]
  },
  {
   "cell_type": "markdown",
   "metadata": {},
   "source": [
    "### orientation 型 (簡易法のみに使用)"
   ]
  },
  {
   "cell_type": "markdown",
   "metadata": {},
   "source": [
    "主開口方位から時計回りに0°、90°、180°、270°を表す。省エネ基準における簡易評価法においては、主開口方位は南西と固定されているため、順に、南西、北西、北東、南東の意味と同じである。"
   ]
  },
  {
   "cell_type": "code",
   "execution_count": 3,
   "metadata": {
    "collapsed": true
   },
   "outputs": [],
   "source": [
    "class orientation:\n",
    "    def __init__(self, D0, D90, D180, D270):\n",
    "        self.D0   = D0\n",
    "        self.D90  = D90\n",
    "        self.D180 = D180\n",
    "        self.D270 = D270\n",
    "    \n",
    "    def sum(self):\n",
    "        return self.D0 + self.D90 + self.D180 + self.D270\n",
    "    \n",
    "    def array(self):\n",
    "        return np.array([self.D0, self.D90, self.D180, self.D270])"
   ]
  },
  {
   "cell_type": "code",
   "execution_count": 4,
   "metadata": {
    "collapsed": true
   },
   "outputs": [],
   "source": [
    "Orientation = namedtuple('Orientation', 'D0 D90 D180 D270')"
   ]
  },
  {
   "cell_type": "markdown",
   "metadata": {},
   "source": [
    "### 方位に関する列挙型"
   ]
  },
  {
   "cell_type": "markdown",
   "metadata": {},
   "source": [
    "基準で扱う方位は8方位と上面・下面である。"
   ]
  },
  {
   "cell_type": "code",
   "execution_count": 5,
   "metadata": {
    "collapsed": true
   },
   "outputs": [],
   "source": [
    "class Direction(Enum):\n",
    "    S  = 0\n",
    "    SW = 1\n",
    "    W  = 2\n",
    "    NW = 3\n",
    "    N  = 4\n",
    "    NE = 5\n",
    "    E  = 6\n",
    "    SE = 7\n",
    "    TOP = 8\n",
    "    Bottom = 9"
   ]
  },
  {
   "cell_type": "markdown",
   "metadata": {},
   "source": [
    "### 隣接空間に関する列挙型"
   ]
  },
  {
   "cell_type": "markdown",
   "metadata": {},
   "source": [
    "隣接空間の種類は付録Bで定められている。  \n",
    "ここでは、以下のようにネーミングする。  \n",
    "* External: 「外気」「外気に通じる空間」\n",
    "* SemiExternal: 「外気に通じていない空間」「外気に通じる床裏」\n",
    "* Internal: 「住戸及び住戸と同様の熱的環境の空間」「外気に通じていない床裏」"
   ]
  },
  {
   "cell_type": "code",
   "execution_count": 6,
   "metadata": {
    "collapsed": true
   },
   "outputs": [],
   "source": [
    "class AdjacentSpaceType(Enum):\n",
    "    External     = 0\n",
    "    SemiExternal = 1\n",
    "    Internal     = 2"
   ]
  },
  {
   "cell_type": "markdown",
   "metadata": {},
   "source": [
    "## 外皮の部位について"
   ]
  },
  {
   "cell_type": "markdown",
   "metadata": {},
   "source": [
    "外皮の部位は、外壁(界壁)・天井・屋根・床(界床)から成る一般部位と、開口部、土間床で構成される。また、熱の計算においては、外皮の部位を面的に流れる熱流に加え、RC造やS造の隅角部等における熱橋計算および土間床外周部の熱計算を行う必要がある。  \n",
    "それぞれ、「外皮の部位」「熱橋」「土間床外周部」とする。"
   ]
  },
  {
   "cell_type": "markdown",
   "metadata": {},
   "source": [
    "### 外皮の部位 (詳細法)"
   ]
  },
  {
   "cell_type": "markdown",
   "metadata": {},
   "source": [
    "外皮の部位は、面積・熱損失係数(U値)・暖房期の日射熱取得率・冷房期の日射熱取得率・方位・隣接空間の種類をもつ。"
   ]
  },
  {
   "cell_type": "code",
   "execution_count": 7,
   "metadata": {
    "collapsed": true
   },
   "outputs": [],
   "source": [
    "EnvPart = namedtuple(\"EnvPart\", \"A U eta_H eta_C direction ASType\")\n",
    "# A: 面積(m2)\n",
    "# U: 熱損失係数(W/m2K)\n",
    "# eta_H: 暖房期の日射熱取得率(-)\n",
    "# eta_C: 冷房期の日射熱取得率(-)\n",
    "# directino: 方位 [direction列挙型]\n",
    "# ASType: 隣接空間の種類 [AdjacentSpaceType型]"
   ]
  },
  {
   "cell_type": "markdown",
   "metadata": {},
   "source": [
    "### 外皮の部位 (簡易法)"
   ]
  },
  {
   "cell_type": "markdown",
   "metadata": {},
   "source": [
    "外皮の部位の簡易法版。詳細法版と異なり、面積・方位をもたない。"
   ]
  },
  {
   "cell_type": "code",
   "execution_count": 8,
   "metadata": {
    "collapsed": true
   },
   "outputs": [],
   "source": [
    "SimpleEnvPart = namedtuple(\"SimpleEnvPart\", \"U eta_H eta_C ASType\")\n",
    "# U: 熱損失係数(W/m2K)\n",
    "# eta_H: 暖房期の日射熱取得率(-)\n",
    "# eta_C: 冷房期の日射熱取得率(-)\n",
    "# ASType: 隣接空間の種類 [AdjacentSpaceType型]"
   ]
  },
  {
   "cell_type": "markdown",
   "metadata": {},
   "source": [
    "### 外皮の部位(窓)(簡易法)"
   ]
  },
  {
   "cell_type": "markdown",
   "metadata": {},
   "source": [
    "外皮の部位(窓)の簡易法版。簡易法に限り、窓の$U$値、$\\eta_H$値、$\\eta_C$値、方位、隣接空間の種類に加えて、$\\eta_d$値、$f_H$値、$f_C$値が必要である。簡易法の場合、最も不利側の$\\eta_d$値、$f$値を計算する必要があるため。ただし、$f$値に関しては、デフォルト値を適用する場合、入力する必要はない。"
   ]
  },
  {
   "cell_type": "code",
   "execution_count": 9,
   "metadata": {
    "collapsed": true
   },
   "outputs": [],
   "source": [
    "SimpleEnvWnd = namedtuple(\"SimpleEnvWnd\", \"U eta_H eta_C ASType eta_d f_H f_C\")\n",
    "# U: 熱損失係数(W/m2K)\n",
    "# eta_H: 暖房期の日射熱取得率(-)\n",
    "# eta_C: 冷房期の日射熱取得率(-)\n",
    "# ASType: 隣接空間の種類 [AdjacentSpaceType型]\n",
    "# eta_d: 垂直面日射熱取得率(-)\n",
    "# f_H: 暖房期の取得日射熱補正係数(-)\n",
    "# f_C: 冷房期の取得日射熱補正係数(-)"
   ]
  },
  {
   "cell_type": "markdown",
   "metadata": {},
   "source": [
    "### 熱橋 (詳細法)"
   ]
  },
  {
   "cell_type": "markdown",
   "metadata": {},
   "source": [
    "熱橋は、長さ・線熱損失係数・暖房期の日射熱取得率・冷房期の日射熱取得率・方位1と方位2・隣接空間の種類をもつ。熱橋は多くの場合、隅角部等に発生し、2方位に面する場合が多いため、方位1と方位2を持つことにする。方位1と方位2に順番は無い。また、T型熱橋など、接続する部位が同じ方位を持つ場合は、方位1と方位2に同じ方位を入力すること。  \n",
    "ただし、熱橋の日射熱取得率は、本来であれば、  \n",
    "$\\begin{align} \\eta = \\gamma \\times 0.034 \\times \\frac{ L \\times \\psi }{ A } \\end{align}$  \n",
    "で表されるのに対し、  \n",
    "$\\begin{align} \\eta' = \\gamma \\times 0.034 \\times \\psi \\end{align} $  \n",
    "で表されることとする。  \n",
    "ここで、  \n",
    "$\\eta$: 日射熱取得率(-)  \n",
    "$\\eta'$: 熱橋の日射熱取得率(m)  \n",
    "従って、$ m $ 値(m<sup>2</sup>)の計算において、仕様書によると、  \n",
    "$\\begin{align} m = A \\times \\eta \\times \\nu \\end{align} $  \n",
    "ではなく、  \n",
    "$\\begin{align} m = L \\times \\eta' \\times \\nu \\end{align} $  \n",
    "で計算される。"
   ]
  },
  {
   "cell_type": "code",
   "execution_count": 10,
   "metadata": {
    "collapsed": true
   },
   "outputs": [],
   "source": [
    "EnvHB = namedtuple(\"EnvHB\", \"L psi eta_H_dash eta_C_dash direction1 direction2 ASType\")\n",
    "# L: 長さ(m)\n",
    "# psi: 線熱損失係数(W/mK)\n",
    "# eta_H: 暖房期の熱橋の日射熱取得率(m)\n",
    "# eta_C: 冷房期の熱橋の日射熱取得率(m)\n",
    "# direction1: 方位1 [direction列挙型]\n",
    "# direction2: 方位2 [direction列挙型]\n",
    "# ASType: 隣接空間の種類 [AdjacentSpaceType型]"
   ]
  },
  {
   "cell_type": "markdown",
   "metadata": {},
   "source": [
    "### 熱橋 (簡易法)"
   ]
  },
  {
   "cell_type": "markdown",
   "metadata": {},
   "source": [
    "熱橋の簡易法版はない。現時点で、簡易法は木造戸建て住宅のみ認められている。木造戸建て住宅は熱橋計算が不要なため、簡易法では熱橋を持つ必要はない。"
   ]
  },
  {
   "cell_type": "markdown",
   "metadata": {},
   "source": [
    "### 土間床外周部 (詳細法)"
   ]
  },
  {
   "cell_type": "markdown",
   "metadata": {},
   "source": [
    "土間床外周部は、長さ・線熱損失係数・隣接空間の種類をもつ。日射に関する熱の移動はない。従って、方位の概念も持たない。"
   ]
  },
  {
   "cell_type": "code",
   "execution_count": 11,
   "metadata": {
    "collapsed": true
   },
   "outputs": [],
   "source": [
    "EnvEFPeri = namedtuple(\"EnvEFPeri\", \"L psi ASType\")\n",
    "# L: 長さ(m)\n",
    "# psi: 線熱損失係数(W/mK)\n",
    "# ASType: 隣接空間の種類 [AdjacentSpaceType型]"
   ]
  },
  {
   "cell_type": "markdown",
   "metadata": {},
   "source": [
    "### 土間床外周部 (簡易法)"
   ]
  },
  {
   "cell_type": "markdown",
   "metadata": {},
   "source": [
    "土間床外周部の簡易法版。詳細法版と違い、長さをもたない。"
   ]
  },
  {
   "cell_type": "code",
   "execution_count": 12,
   "metadata": {
    "collapsed": true
   },
   "outputs": [],
   "source": [
    "SimpleEnvEFPeri = namedtuple(\"SimpleEnvEFPeri\", \"psi ASType\")\n",
    "# psi: 線熱損失係数(W/mK)\n",
    "# ASType: 隣接空間の種類 [AdjacentSpaceType型]"
   ]
  },
  {
   "cell_type": "markdown",
   "metadata": {},
   "source": [
    "## 熱損失係数(換気による熱損失を含まない)"
   ]
  },
  {
   "cell_type": "markdown",
   "metadata": {},
   "source": [
    "#### 定義"
   ]
  },
  {
   "cell_type": "markdown",
   "metadata": {},
   "source": [
    "熱損失係数(換気による熱損失を含まない)$Q'$(W/m<sup>2</sup>K)は式(1)に基づく。"
   ]
  },
  {
   "cell_type": "code",
   "execution_count": 13,
   "metadata": {
    "collapsed": false
   },
   "outputs": [],
   "source": [
    "def get_Q_dash(U_A, r_env):\n",
    "    # U_A: 外皮平均熱損失係数(W/m2K)\n",
    "    # r_env: 床面積の合計に対する外皮の部位の面積の合計の比\n",
    "    return U_A * r_env"
   ]
  },
  {
   "cell_type": "markdown",
   "metadata": {},
   "source": [
    "#### 説明"
   ]
  },
  {
   "cell_type": "markdown",
   "metadata": {},
   "source": [
    "外皮平均熱貫流率は、単位温度差あたりの熱損失量 $q$ を床面積の合計で除した値である。  \n",
    "$ U_A = q \\div A_f $  \n",
    "熱損失係数は、単位温度差あたりの熱損失量 $q$ を外皮の部位の面積の合計で除した値である。  \n",
    "$ Q' = q \\div A_{env} $  \n",
    "床面積の合計に対する外皮の部位の面積の合計の比 $r_{env}$ は、 $U_A$ 値を $Q'$ に変換する係数である。"
   ]
  },
  {
   "cell_type": "code",
   "execution_count": 14,
   "metadata": {
    "collapsed": false
   },
   "outputs": [
    {
     "data": {
      "text/plain": [
       "2.227962191872085"
      ]
     },
     "execution_count": 14,
     "metadata": {},
     "output_type": "execute_result"
    }
   ],
   "source": [
    "get_Q_dash( 0.87 , 307.51/120.08 )"
   ]
  },
  {
   "cell_type": "markdown",
   "metadata": {},
   "source": [
    "## 日射取得係数"
   ]
  },
  {
   "cell_type": "markdown",
   "metadata": {},
   "source": [
    "#### 定義"
   ]
  },
  {
   "cell_type": "markdown",
   "metadata": {},
   "source": [
    "暖房期の日射取得係数($\\mu_H$)は式(2)に基づく。"
   ]
  },
  {
   "cell_type": "code",
   "execution_count": 15,
   "metadata": {
    "collapsed": true
   },
   "outputs": [],
   "source": [
    "def getMuH(eta_A_H, r_env):\n",
    "    # eta_A_H: 暖房期の日射取得係数(-)\n",
    "    # r_env: 床面積の合計に対する外皮の部位の面積の合計の比\n",
    "    return eta_A_H * r_env / 100"
   ]
  },
  {
   "cell_type": "markdown",
   "metadata": {},
   "source": [
    "冷房期の日射取得係数($\\mu_C$)は式(3)に基づく。"
   ]
  },
  {
   "cell_type": "code",
   "execution_count": 16,
   "metadata": {
    "collapsed": true
   },
   "outputs": [],
   "source": [
    "def getMuC(eta_A_C, r_env):\n",
    "    # eta_A_C: 冷房期の日射取得係数(-)\n",
    "    # r_env: 床面積の合計に対する外皮の部位の面積の合計の比\n",
    "    return eta_A_C * r_env / 100"
   ]
  },
  {
   "cell_type": "markdown",
   "metadata": {},
   "source": [
    "#### 説明"
   ]
  },
  {
   "cell_type": "code",
   "execution_count": 17,
   "metadata": {
    "collapsed": false
   },
   "outputs": [
    {
     "data": {
      "text/plain": [
       "0.11011767155229846"
      ]
     },
     "execution_count": 17,
     "metadata": {},
     "output_type": "execute_result"
    }
   ],
   "source": [
    "getMuH(4.3, 307.51/120.08 )"
   ]
  },
  {
   "cell_type": "code",
   "execution_count": 18,
   "metadata": {
    "collapsed": false
   },
   "outputs": [
    {
     "data": {
      "text/plain": [
       "0.07170453031312457"
      ]
     },
     "execution_count": 18,
     "metadata": {},
     "output_type": "execute_result"
    }
   ],
   "source": [
    "getMuC(2.8, 307.51/120.08 )"
   ]
  },
  {
   "cell_type": "markdown",
   "metadata": {},
   "source": [
    "## 当該住戸の外皮の部位の面積等を用いて外皮性能を評価する方法"
   ]
  },
  {
   "cell_type": "markdown",
   "metadata": {},
   "source": [
    "### 外皮平均熱貫流率"
   ]
  },
  {
   "cell_type": "markdown",
   "metadata": {},
   "source": [
    "#### 定義"
   ]
  },
  {
   "cell_type": "markdown",
   "metadata": {},
   "source": [
    "外皮平均熱貫流率($U_A$)は式(4)に基づく。得られた値の100分の1未満の端数は切り上げ、小数第2位までの値とする。"
   ]
  },
  {
   "cell_type": "code",
   "execution_count": 19,
   "metadata": {
    "collapsed": false
   },
   "outputs": [],
   "source": [
    "def get_UA( U_parts, psi_parts, A_env ):\n",
    "    # U_parts: 外皮の部位 [ U_part の配列 ]\n",
    "    #          U_part: 外皮の部位 ( 面積(m2), 熱貫流率(W/m2K), 温度差係数(-) )\n",
    "    # psi_parts: 熱橋等 [ psi_part の配列 ]\n",
    "    #            psi_part: 熱橋等 ( 長さ(m), 線熱貫流率(W/mK), 温度差係数(-) )\n",
    "    # A_env: 外皮の部位の面積の合計(m2)\n",
    "    return Decimal( (   sum([U_part[0]   * U_part[1]   * U_part[2]   for U_part   in U_parts  ])\n",
    "                      + sum([psi_part[0] * psi_part[1] * psi_part[2] for psi_part in psi_parts])\n",
    "                    ) / A_env\n",
    "                  ).quantize( Decimal('0.00'), rounding = 'ROUND_UP' )"
   ]
  },
  {
   "cell_type": "markdown",
   "metadata": {},
   "source": [
    "#### 説明"
   ]
  },
  {
   "cell_type": "markdown",
   "metadata": {},
   "source": [
    "例題として、以下の住宅で計算する。  \n",
    "* 4m × 4m × 2.5m の基礎断熱住宅（屋根 16 m<sup>2</sup>、 壁 10 m<sup>2</sup> が4枚、 地盤の周囲は 4m が4か所）\n",
    "* $U$値は1.0\n",
    "* $\\psi$値は1.8\n",
    "* 温度差係数は1.0  \n",
    "外皮の面積の合計には、熱損失はゼロである土間床も含まれる。"
   ]
  },
  {
   "cell_type": "code",
   "execution_count": 20,
   "metadata": {
    "collapsed": false
   },
   "outputs": [
    {
     "data": {
      "text/plain": [
       "Decimal('1.08')"
      ]
     },
     "execution_count": 20,
     "metadata": {},
     "output_type": "execute_result"
    }
   ],
   "source": [
    "# 配列の要素は、Uに関しては(壁,壁,壁,壁,天井)、Lに関しては(地盤周囲 × 4)\n",
    "get_UA( [(10.0, 1.0, 1.0), (10.0, 1.0, 1.0), (10.0, 1.0, 1.0), (10.0, 1.0, 1.0), (16.0, 1.0, 1.0)],\n",
    "     [(4.0, 1.8, 1.0), (4.0, 1.8, 1.0), (4.0, 1.8, 1.0)],\n",
    "     72.0 )"
   ]
  },
  {
   "cell_type": "markdown",
   "metadata": {},
   "source": [
    "### 暖房期の平均日射熱取得率及び冷房期の平均日射熱取得率"
   ]
  },
  {
   "cell_type": "markdown",
   "metadata": {},
   "source": [
    "#### 定義"
   ]
  },
  {
   "cell_type": "markdown",
   "metadata": {},
   "source": [
    "暖房期の平均日射熱取得率($\\eta_{A,H}$)は式(5)に基づく。得られた値の10分の1未満の端数は切り下げ、小数第1位までの値とする。"
   ]
  },
  {
   "cell_type": "code",
   "execution_count": 21,
   "metadata": {
    "collapsed": true
   },
   "outputs": [],
   "source": [
    "def get_eta_A_H(parts, partHBs, A_env):\n",
    "    # parts: 外皮の部位 [part の配列]\n",
    "    #        part: 外皮の部位 ( 面積(m2), 暖房期の日射熱取得率(-), 暖房期の方位係数(-) )\n",
    "    # partHBs: 熱橋 [partHB の配列]\n",
    "    #          partHB: 熱橋 ( 長さ(m), 暖房期の熱橋の日射熱取得率(m), 暖房期の方位係数1(-), 暖房期の方位係数2(-) )\n",
    "    # A_env: 外皮の部位の面積の合計(m2)\n",
    "    return Decimal( (   sum([ part[0]   * part[1]   * part[2]                     for part   in parts   ])\n",
    "                      + sum([ partHB[0] * partHB[1] * ( partHB[2] + partHB[3] )/2 for partHB in partHBs ])\n",
    "                    ) / A_env * 100\n",
    "                   ).quantize(Decimal('0.0'), rounding = 'ROUND_DOWN')"
   ]
  },
  {
   "cell_type": "markdown",
   "metadata": {},
   "source": [
    "冷房期の平均日射熱取得率($\\eta_{C,H}$)は式(6)に基づく。得られた値の10分の1未満の端数は切り上げ、小数第1位までの値とする。"
   ]
  },
  {
   "cell_type": "code",
   "execution_count": 22,
   "metadata": {
    "collapsed": true
   },
   "outputs": [],
   "source": [
    "def get_eta_A_C(parts, partHBs, A_env):\n",
    "    # parts: 外皮の部位 [part の配列]\n",
    "    #        part: 外皮の部位 ( 面積(m2), 冷房期の日射熱取得率(-), 冷房期の方位係数(-) )\n",
    "    # partHBs: 熱橋 [partHB の配列]\n",
    "    #          partHB: 熱橋 ( 長さ(m), 冷房期の熱橋の日射熱取得率(m), 冷房期の方位係数1(-), 冷房期の方位係数2(-) )\n",
    "    # A_env: 外皮の部位の面積の合計(m2)\n",
    "    return Decimal( (   sum([ part[0]   * part[1]   * part[2]                     for part   in parts   ])\n",
    "                      + sum([ partHB[0] * partHB[1] * ( partHB[2] + partHB[3] )/2 for partHB in partHBs ])\n",
    "                    ) / A_env * 100 \n",
    "                  ).quantize(Decimal('0.0'), rounding = 'ROUND_UP')"
   ]
  },
  {
   "cell_type": "markdown",
   "metadata": {},
   "source": [
    "#### 説明"
   ]
  },
  {
   "cell_type": "markdown",
   "metadata": {},
   "source": [
    "例題として、以下の住宅で計算する。  \n",
    "* 4m × 4m × 2.5m の基礎断熱住宅（屋根 16 m<sup>2</sup>、 壁 10 m<sup>2</sup> が4枚）\n",
    "* $\\eta$値は暖房期・冷房期ともに0.034  \n",
    "* $\\eta'$値は暖房期・冷房期ともに0.05\n",
    "* 方位係数は6地域の東西南北とする。つまり、暖房期は、東(0.579)、西(0.523)、南(0.936)、北(0.261)、冷房期は、東(0.512)、西(0.504)、南(0.434)、北(0.341)、上面は暖房期・冷房期ともに1.0"
   ]
  },
  {
   "cell_type": "code",
   "execution_count": 23,
   "metadata": {
    "collapsed": false
   },
   "outputs": [
    {
     "data": {
      "text/plain": [
       "Decimal('2.6')"
      ]
     },
     "execution_count": 23,
     "metadata": {},
     "output_type": "execute_result"
    }
   ],
   "source": [
    "# 配列の要素は、(壁,壁,壁,壁,天井)\n",
    "get_eta_A_H( [ (10.0, 0.034, 0.579), (10.0, 0.034, 0.523), (10.0, 0.034, 0.936), (10.0, 0.034, 0.261),\n",
    "               (16.0, 0.034, 1.0) ], \n",
    "             [ (2.5, 0.05, 0.579, 0.523), (2.5, 0.05, 0.523, 0.936), (2.5, 0.05, 0.936, 0.261), (2.5, 0.05, 0.261, 0.579),\n",
    "               (2.0, 0.05, 0.579, 1.0), (2.0, 0.05, 0.523, 1.0), (2.0, 0.05, 0.936, 1.0), (2.0, 0.05, 0.261, 1.0) ],\n",
    "             72.0 )"
   ]
  },
  {
   "cell_type": "code",
   "execution_count": 24,
   "metadata": {
    "collapsed": false
   },
   "outputs": [
    {
     "data": {
      "text/plain": [
       "Decimal('2.4')"
      ]
     },
     "execution_count": 24,
     "metadata": {},
     "output_type": "execute_result"
    }
   ],
   "source": [
    "# 配列の要素は、(壁,壁,壁,壁,天井)\n",
    "get_eta_A_C( [ (10.0, 0.034, 0.512), (10.0, 0.034, 0.504), (10.0, 0.034, 0.434), (10.0, 0.034, 0.341),\n",
    "               (16.0, 0.034, 1.0) ],\n",
    "             [ (2.5, 0.05, 0.512, 0.504), (2.5, 0.05, 0.504, 0.434), (2.5, 0.05, 0.434, 0.341), (2.5, 0.05, 0.341, 0.512),\n",
    "               (2.0, 0.05, 0.512, 1.0), (2.0, 0.05, 0.523, 1.0), (2.0, 0.05, 0.936, 1.0), (2.0, 0.05, 0.261, 1.0) ],\n",
    "             72.0 )"
   ]
  },
  {
   "cell_type": "markdown",
   "metadata": {},
   "source": [
    "### 床面積の合計に対する外皮の部位の面積の合計の比"
   ]
  },
  {
   "cell_type": "markdown",
   "metadata": {},
   "source": [
    "#### 定義"
   ]
  },
  {
   "cell_type": "markdown",
   "metadata": {},
   "source": [
    "床面積の合計に対する外皮部位比($r_{env}$)は式(7)に基づく。"
   ]
  },
  {
   "cell_type": "code",
   "execution_count": 25,
   "metadata": {
    "collapsed": false
   },
   "outputs": [],
   "source": [
    "def get_r_env(A_env, A_A):\n",
    "    # A_env: 外皮の部位の面積の合計(m2)\n",
    "    # A_A: 当該住戸の床面積の合計(m2)\n",
    "    return A_env / A_A"
   ]
  },
  {
   "cell_type": "markdown",
   "metadata": {},
   "source": [
    "#### 説明"
   ]
  },
  {
   "cell_type": "code",
   "execution_count": 26,
   "metadata": {
    "collapsed": false
   },
   "outputs": [
    {
     "data": {
      "text/plain": [
       "2.560876082611592"
      ]
     },
     "execution_count": 26,
     "metadata": {},
     "output_type": "execute_result"
    }
   ],
   "source": [
    "get_r_env( 307.51, 120.08 )"
   ]
  },
  {
   "cell_type": "markdown",
   "metadata": {},
   "source": [
    "### 外皮の部位の面積の合計"
   ]
  },
  {
   "cell_type": "markdown",
   "metadata": {},
   "source": [
    "#### 定義"
   ]
  },
  {
   "cell_type": "markdown",
   "metadata": {},
   "source": [
    "外皮の部位の面積の合計($A_{env}$)は式(8)に基づく。"
   ]
  },
  {
   "cell_type": "code",
   "execution_count": 27,
   "metadata": {
    "collapsed": true
   },
   "outputs": [],
   "source": [
    "def get_A_env(A, A_EF):\n",
    "    # A: 外皮の部位(一般部位又は開口部)の面積 [配列]\n",
    "    # A_EF: 土間床等の面積 [配列]\n",
    "    return sum(A) + sum(A_EF)"
   ]
  },
  {
   "cell_type": "markdown",
   "metadata": {},
   "source": [
    "#### 説明"
   ]
  },
  {
   "cell_type": "markdown",
   "metadata": {},
   "source": [
    "例題として、以下の住宅で計算する。  \n",
    "* 4m × 4m × 2.5m の基礎断熱住宅（屋根 16 m<sup>2</sup>、 壁 10 m<sup>2</sup> が4枚、 地盤 16 m<sup>2</sup>）"
   ]
  },
  {
   "cell_type": "code",
   "execution_count": 28,
   "metadata": {
    "collapsed": false
   },
   "outputs": [
    {
     "data": {
      "text/plain": [
       "72.0"
      ]
     },
     "execution_count": 28,
     "metadata": {},
     "output_type": "execute_result"
    }
   ],
   "source": [
    "get_A_env( [10.0, 10.0, 10.0, 10.0, 16.0], [16.0] )"
   ]
  },
  {
   "cell_type": "markdown",
   "metadata": {},
   "source": [
    "## 当該住戸の外皮の部位の面積等を用いずに外皮性能を評価する方法"
   ]
  },
  {
   "cell_type": "markdown",
   "metadata": {},
   "source": [
    "### 外皮平均熱貫流率(簡易)"
   ]
  },
  {
   "cell_type": "markdown",
   "metadata": {},
   "source": [
    "#### 定義"
   ]
  },
  {
   "cell_type": "markdown",
   "metadata": {},
   "source": [
    "外皮平均熱貫流率$U_A$は、式(9a)及び式(9b)に基づく。得られた値の100分の1未満の端数は切り上げ、小数第2位までの値とする。"
   ]
  },
  {
   "cell_type": "code",
   "execution_count": 29,
   "metadata": {
    "collapsed": true
   },
   "outputs": [],
   "source": [
    "def simple_U_A (A_roof, A_wall, A_door, A_wnd, A_IF, A_base, A_base_IS, A_base_d, A_base_d_IS, L_prm, L_prm_IS, L_prm_d, L_prm_d_IS, H_roof, H_wall, H_door, H_wnd, H_floor, H_base_OS, H_base_IS, H_prm_OS, H_prm_IS, U_roof, U_wall, U_door, U_wnd, U_floor, U_base, U_base_d, psi_prm, psi_prm_d, A_env ):\n",
    "    # A_roof: 標準住戸における屋根又は天井の面積 (m2)\n",
    "    # A_wall: 標準住戸における壁の面積 (m2) [orientation型]\n",
    "    # A_door: 標準住戸におけるドアの面積 (m2) [orientation型]\n",
    "    # A_wnd: 標準住戸における窓の面積 (m2) [orientation型]\n",
    "    # A_IF: 標準住戸における床断熱した床の面積 (m2)\n",
    "    # A_base: 標準住戸における玄関等を除く基礎の面積 (m2) [orientation型]\n",
    "    # A_base_IS: 標準住戸における床下に面した玄関等を除く基礎の面積 (m2)\n",
    "    # A_base_d: 標準住戸における玄関等の基礎の面積 (m2) [orientation型]\n",
    "    # A_base_d_IS: 標準住戸における床下に面した玄関等の基礎の面積 (m2)\n",
    "    # L_prm: 標準住戸における玄関等を除く土間床等の外周部の長さ (m) [orientation型]\n",
    "    # L_prm_IS: 標準住戸における床下に面した玄関等を除く土間床等の外周部の長さ (m)\n",
    "    # L_prm_d: 標準住戸における玄関等の土間床等の外周部の長さ (m) [orientation型]\n",
    "    # L_prm_d_IS: 標準住戸における床下に面した玄関等の土間床等の外周部の長さ (m)\n",
    "    # H_roof: 屋根又は天井の温度差係数\n",
    "    # H_wall: 壁の温度差係数\n",
    "    # H_door: ドアの温度差係数\n",
    "    # H_wnd: 窓の温度差係数\n",
    "    # H_floor: 床の温度差係数\n",
    "    # H_base_OS: 外気に面した基礎の温度差係数\n",
    "    # H_base_IS: 床下に面した基礎の温度差係数\n",
    "    # H_prm_OS: 外気に面した土間床等の周辺部の温度差係数\n",
    "    # H_prm_IS: 床下に面した土間床等の周辺部の温度差係数\n",
    "    # U_roof: 屋根又は天井の熱貫流率(W/m2K)\n",
    "    # U_wall: 壁の熱貫流率(W/m2K)\n",
    "    # U_door: ドアの熱貫流率(W/m2K)\n",
    "    # U_wnd: 窓の熱貫流率(W/m2K)\n",
    "    # U_floor: 床の熱貫流率(W/m2K)\n",
    "    # U_base: 玄関等を除く基礎の熱貫流率(W/m2K)\n",
    "    # U_base_d: 玄関等の基礎の熱貫流率(W/m2K)\n",
    "    # psi_prm: 玄関等を除く土間床等の外周部の熱貫流率(W/mK)\n",
    "    # psi_prm_d: 玄関等を除く土間床等の熱貫流率(W/mK)\n",
    "    # A_env: 標準住戸における外皮の部位の面積の合計(m2)\n",
    "\n",
    "    q = A_roof * H_roof * U_roof \\\n",
    "      + A_wall.sum() * H_wall * U_wall \\\n",
    "      + A_door.sum() * H_door * U_door \\\n",
    "      + A_wnd.sum() * H_wnd * U_wnd \\\n",
    "      + A_IF * H_floor * U_floor \\\n",
    "      + ( A_base.sum() * H_base_OS + A_base_IS * H_base_IS ) * U_base \\\n",
    "      + ( A_base_d.sum() * H_base_OS + A_base_d_IS * H_base_IS ) * U_base_d \\\n",
    "      + ( L_prm.sum() * H_prm_OS + L_prm_IS * H_prm_IS ) * psi_prm \\\n",
    "      + ( L_prm_d.sum() * H_prm_OS + L_prm_d_IS * H_prm_IS ) * psi_prm_d        \n",
    "    \n",
    "    return Decimal(q / A_env).quantize(Decimal('0.00'), rounding='ROUND_UP')"
   ]
  },
  {
   "cell_type": "markdown",
   "metadata": {},
   "source": [
    "#### 説明"
   ]
  },
  {
   "cell_type": "markdown",
   "metadata": {},
   "source": [
    "面積・温度差係数は、後述するように、床断熱住宅と基礎断熱住宅でそれぞれデフォルト値が定義されている。例として、ここでは床断熱住宅の値を用いる。  \n",
    "部位の熱貫流率・線熱貫流率の値は、全て1.0とする。"
   ]
  },
  {
   "cell_type": "code",
   "execution_count": 30,
   "metadata": {
    "collapsed": false
   },
   "outputs": [
    {
     "data": {
      "text/plain": [
       "Decimal('0.97')"
      ]
     },
     "execution_count": 30,
     "metadata": {},
     "output_type": "execute_result"
    }
   ],
   "source": [
    "simple_U_A (50.85, orientation(30.47, 22.37, 47.92, 22.28), orientation(0.0, 1.89, 1.62, 0.0), orientation(22.69, 2.38, 3.63, 4.37), 45.05, orientation(0.00, 0.91, 0.91, 0.00), 1.82, orientation(0.00, 0.33, 0.25, 0.00), 0.57, orientation(0.00, 1.82, 1.82, 0.00), 3.64, orientation(0.00, 1.82, 1.37, 0.00), 3.19, 1.0, 1.0, 1.0, 1.0, 0.7, 1.0, 0.7, 1.0, 0.7, 1.0, 1.0, 1.0, 1.0, 1.0, 1.0, 1.0, 1.0, 1.0, 266.10 )"
   ]
  },
  {
   "cell_type": "markdown",
   "metadata": {},
   "source": [
    "### 暖房期の平均日射熱取得率及び冷房期の平均日射熱取得率(簡易)"
   ]
  },
  {
   "cell_type": "markdown",
   "metadata": {},
   "source": [
    "#### 定義"
   ]
  },
  {
   "cell_type": "markdown",
   "metadata": {},
   "source": [
    "暖房期の平均日射熱取得率($\\eta_{A,H}$)は式(10a)及び式(10b)に基づく。得られた値の10分の1未満の端数は切り下げ、小数第1位までの値とする。"
   ]
  },
  {
   "cell_type": "code",
   "execution_count": 31,
   "metadata": {
    "collapsed": false
   },
   "outputs": [],
   "source": [
    "def simple_eta_A_H(A_roof, A_wall, A_door, A_wnd, A_base, A_base_d, nu_H_top, nu_H, eta_H_roof, eta_H_wall, eta_H_door, eta_H_wnd, eta_H_base, eta_H_base_d, A_env):\n",
    "    # A_roof: 標準住戸における屋根又は天井の面積(m2)\n",
    "    # A_wall: 標準住戸における壁の面積(m2) [orientation型]\n",
    "    # A_door: 標準住戸におけるドアの面積(m2) [orientation型]\n",
    "    # A_wnd: 標準住戸における窓の面積(m2) [orientation型]\n",
    "    # A_base: 標準住戸における玄関等を除く基礎の面積(m2) [orientation型]\n",
    "    # A_base_d: 標準住戸における玄関の基礎の面積(m2) [orientation型]\n",
    "    # nu_H_top; 上面に面した外皮の部位の暖房期の方位係数\n",
    "    # nu_H: 外皮の部位の暖房期の方位係数 [orientation型]\n",
    "    # eta_H_roof: 屋根又は天井の暖房期の日射熱取得率\n",
    "    # eta_H_wall: 壁の暖房期の日射熱取得率\n",
    "    # eta_H_door: ドアの暖房期の日射熱取得率\n",
    "    # eta_H_wnd: 窓の暖房期の日射熱取得率 [orientation型]\n",
    "    # eta_H_base: 玄関等を除く基礎の暖房期の日射熱取得率\n",
    "    # eta_H_base_d: 玄関等の基礎の暖房期の日射熱取得率\n",
    "    # A_env: 標準住戸における外皮の部位の面積の合計(m2)\n",
    "    m_H = A_roof * nu_H_top * eta_H_roof \\\n",
    "        + ( A_wall.array() * nu_H.array() ).sum() * eta_H_wall \\\n",
    "        + ( A_door.array() * nu_H.array() ).sum() * eta_H_door \\\n",
    "        + ( A_wnd.array() * nu_H.array() * eta_H_wnd.array() ).sum() \\\n",
    "        + ( A_base.array() * nu_H.array() ).sum() * eta_H_base \\\n",
    "        + ( A_base_d.array() * nu_H.array() ).sum() * eta_H_base_d\n",
    "\n",
    "    return Decimal( m_H / A_env * 100 ).quantize(Decimal('0.0'), rounding = 'ROUND_DOWN')"
   ]
  },
  {
   "cell_type": "code",
   "execution_count": 32,
   "metadata": {
    "collapsed": true
   },
   "outputs": [],
   "source": [
    "def simple_eta_A_C(A_roof, A_wall, A_door, A_wnd, A_base, A_base_d, nu_C_top, nu_C, eta_C_roof, eta_C_wall, eta_C_door, eta_C_wnd, eta_C_base, eta_C_base_d, A_env):\n",
    "    # A_roof: 標準住戸における屋根又は天井の面積(m2)\n",
    "    # A_wall: 標準住戸における壁の面積(m2) [orientation型]\n",
    "    # A_door: 標準住戸におけるドアの面積(m2) [orientation型]\n",
    "    # A_wnd: 標準住戸における窓の面積(m2) [orientation型]\n",
    "    # A_base: 標準住戸における玄関等を除く基礎の面積(m2) [orientation型]\n",
    "    # A_base_d: 標準住戸における玄関の基礎の面積(m2) [orientation型]\n",
    "    # nu_C_top; 上面に面した外皮の部位の冷房期の方位係数\n",
    "    # nu_C: 外皮の部位の冷房期の方位係数 [orientation型]\n",
    "    # eta_C_roof: 屋根又は天井の冷房期の日射熱取得率\n",
    "    # eta_C_wall: 壁の冷房期の日射熱取得率\n",
    "    # eta_C_door: ドアの冷房期の日射熱取得率\n",
    "    # eta_C_wnd: 窓の冷房期の日射熱取得率 [orientation型]\n",
    "    # eta_C_base: 玄関等を除く基礎の冷房期の日射熱取得率\n",
    "    # eta_C_base_d: 玄関等の基礎の冷房期の日射熱取得率\n",
    "    # A_env: 標準住戸における外皮の部位の面積の合計(m2)\n",
    "    m_C = A_roof * nu_C_top * eta_C_roof \\\n",
    "        + ( A_wall.array() * nu_C.array() ).sum() * eta_C_wall \\\n",
    "        + ( A_door.array() * nu_C.array() ).sum() * eta_C_door \\\n",
    "        + ( A_wnd.array() * nu_C.array() * eta_C_wnd.array() ).sum() \\\n",
    "        + ( A_base.array() * nu_C.array() ).sum() * eta_C_base \\\n",
    "        + ( A_base_d.array() * nu_C.array() ).sum() * eta_C_base_d\n",
    "\n",
    "    return Decimal( m_C / A_env * 100 ).quantize(Decimal('0.0'), rounding = 'ROUND_UP')"
   ]
  },
  {
   "cell_type": "markdown",
   "metadata": {},
   "source": [
    "#### 説明"
   ]
  },
  {
   "cell_type": "markdown",
   "metadata": {},
   "source": [
    "面積は、後述するように、床断熱住宅と基礎断熱住宅でそれぞれデフォルト値が定義されている。例として、ここでは床断熱住宅の値を用いる。  \n",
    "* 非透明部位の日射熱取得率は0.34とし、透明部位の日射熱取得率は0.5とする。  \n",
    "* 線熱貫流率の値は、全て1.0とする。\n",
    "* 方位係数は6地域の値とし、方位は、順に、南西・北西・北東・南東の方位係数を使用した。"
   ]
  },
  {
   "cell_type": "code",
   "execution_count": 33,
   "metadata": {
    "collapsed": false
   },
   "outputs": [
    {
     "data": {
      "text/plain": [
       "Decimal('5.7')"
      ]
     },
     "execution_count": 33,
     "metadata": {},
     "output_type": "execute_result"
    }
   ],
   "source": [
    "simple_eta_A_H(50.85, orientation(30.47, 22.37, 47.92, 22.28), orientation(0.0, 1.89, 1.62, 0.0), orientation(22.69, 2.38, 3.63, 4.37), orientation(0.00, 0.91, 0.91, 0.00), orientation(0.00, 0.33, 0.25, 0.00), 1.0, orientation(0.763, 0.317, 0.325, 0.833), 0.034, 0.034, 0.034, orientation(0.5, 0.5, 0.5, 0.5), 0.034, 0.034, 266.10)"
   ]
  },
  {
   "cell_type": "code",
   "execution_count": 34,
   "metadata": {
    "collapsed": false
   },
   "outputs": [
    {
     "data": {
      "text/plain": [
       "Decimal('4.4')"
      ]
     },
     "execution_count": 34,
     "metadata": {},
     "output_type": "execute_result"
    }
   ],
   "source": [
    "simple_eta_A_C(50.85, orientation(30.47, 22.37, 47.92, 22.28), orientation(0.0, 1.89, 1.62, 0.0), orientation(22.69, 2.38, 3.63, 4.37), orientation(0.00, 0.91, 0.91, 0.00), orientation(0.00, 0.33, 0.25, 0.00), 1.0, orientation(0.491, 0.427, 0.431, 0.498), 0.034, 0.034, 0.034, orientation(0.5, 0.5, 0.5, 0.5), 0.034, 0.034, 266.10)"
   ]
  },
  {
   "cell_type": "markdown",
   "metadata": {},
   "source": [
    "### 床面積の合計に対する外皮の部位の面積の合計の比"
   ]
  },
  {
   "cell_type": "markdown",
   "metadata": {},
   "source": [
    "#### 定義"
   ]
  },
  {
   "cell_type": "markdown",
   "metadata": {},
   "source": [
    "床面積の合計に対する外皮の部位の面積の合計の比 $r_{env}$は式(12)に基づく。この式は、式(7)と同じである。"
   ]
  },
  {
   "cell_type": "markdown",
   "metadata": {},
   "source": [
    "### 標準住戸の種類"
   ]
  },
  {
   "cell_type": "markdown",
   "metadata": {},
   "source": [
    "#### 定義"
   ]
  },
  {
   "cell_type": "markdown",
   "metadata": {},
   "source": [
    "標準住戸の面積は、住宅の種類（「床断熱住戸」又は「基礎断熱住戸」）に依存する。これらに、床断熱住戸と基礎断熱住戸の両方の条件を満たす住戸（「床断熱と基礎断熱の併用住戸」という。）を加えて、住宅の種類を定義する。"
   ]
  },
  {
   "cell_type": "code",
   "execution_count": 35,
   "metadata": {
    "collapsed": true
   },
   "outputs": [],
   "source": [
    "class simple_HouseType(Enum):\n",
    "    floor_ins          = 0\n",
    "    base_ins           = 1\n",
    "    floor_and_base_ins = 2"
   ]
  },
  {
   "cell_type": "markdown",
   "metadata": {},
   "source": [
    "### 標準住戸における外皮の部位の面積及び土間床等の外周部の長さ等"
   ]
  },
  {
   "cell_type": "markdown",
   "metadata": {},
   "source": [
    "#### 定義"
   ]
  },
  {
   "cell_type": "markdown",
   "metadata": {},
   "source": [
    "標準住戸における外皮の部位の面積及び土間床等の外周部の長さ等は、表3に基づく。"
   ]
  },
  {
   "cell_type": "code",
   "execution_count": 36,
   "metadata": {
    "collapsed": true
   },
   "outputs": [],
   "source": [
    "class simple_Area_and_Length:\n",
    "    \n",
    "    def __init__(self, house_type):\n",
    "        # house_type: HouseType 列挙型\n",
    "\n",
    "        if house_type == simple_HouseType.floor_and_base_ins:\n",
    "            rase(\"Not Defined\")\n",
    "\n",
    "        # 外皮の部位の面積の合計(m2)\n",
    "        self.env    = [ 266.10, 275.69 ][house_type.value]\n",
    "\n",
    "        # 延べ床面積の合計(m2)\n",
    "        self.A      = 90.0\n",
    "        \n",
    "        # 屋根又は天井の面積(m2)\n",
    "        self.roof   = 50.85\n",
    "        \n",
    "        # 壁の面積(m2)\n",
    "        self.wall   = orientation( 30.47, 22.37, 47.92, 22.28 )\n",
    "\n",
    "        # ドアの面積(m2)\n",
    "        self.door   = orientation( 0.00, 1.89, 1.62, 0.00 )\n",
    "\n",
    "        # 窓の面積(m2) \n",
    "        self.wnd    = orientation( 22.69, 2.38, 3.63, 4.37 )\n",
    "        \n",
    "        # 床（床断熱した床）の面積(m2)\n",
    "        self.floor  = [ 45.05, 0.0 ][house_type.value]\n",
    "\n",
    "        # 玄関等を除く基礎の面積(m2)\n",
    "        self.base   = [ orientation(  0.00, 0.91, 0.91, 0.00 ),\n",
    "                        orientation(  5.30, 1.48, 4.62, 2.40 ) ][house_type.value]\n",
    "        self.base_IS = [ 1.82, 0.00 ][house_type.value]\n",
    "\n",
    "        # 玄関等の基礎の面積(m2)\n",
    "        self.base_d = [ orientation(  0.00, 0.33, 0.25, 0.00 ),\n",
    "                        orientation(  0.00, 0.33, 0.25, 0.00 )][house_type.value]\n",
    "        self.base_d_IS = [ 0.57, 0.00 ][house_type.value]\n",
    "        \n",
    "        # 玄関等を除く土間床等の外周部の長さ(m)        \n",
    "        self.prm = [ orientation(  0.00, 1.82, 1.82, 0.00 ),\n",
    "                     orientation( 10.61, 2.97, 9.24, 4.79 ) ][house_type.value]\n",
    "        self.prm_IS = [ 3.64, 0.00 ][house_type.value]\n",
    "        \n",
    "        # 玄関等の土間床等の外周部の長さ(m)\n",
    "        self.prm_d  = [ orientation(  0.00, 1.82, 1.37, 0.00 ),\n",
    "                        orientation(  0.00, 1.82, 1.37, 0.00 ) ][house_type.value]\n",
    "        self.prm_d_IS = [ 3.19, 0.00 ][house_type.value]        "
   ]
  },
  {
   "cell_type": "markdown",
   "metadata": {},
   "source": [
    "#### 説明"
   ]
  },
  {
   "cell_type": "markdown",
   "metadata": {},
   "source": [
    "値の確認。"
   ]
  },
  {
   "cell_type": "markdown",
   "metadata": {},
   "source": [
    "床断熱住戸の場合"
   ]
  },
  {
   "cell_type": "code",
   "execution_count": 37,
   "metadata": {
    "collapsed": false
   },
   "outputs": [
    {
     "name": "stdout",
     "output_type": "stream",
     "text": [
      "266.1\n",
      "90.0\n",
      "50.85\n",
      "[ 30.47  22.37  47.92  22.28]\n",
      "[ 0.    1.89  1.62  0.  ]\n",
      "[ 22.69   2.38   3.63   4.37]\n",
      "45.05\n",
      "[ 0.    0.91  0.91  0.  ]\n",
      "1.82\n",
      "[ 0.    0.33  0.25  0.  ]\n",
      "0.57\n",
      "[ 0.    1.82  1.82  0.  ]\n",
      "3.64\n",
      "[ 0.    1.82  1.37  0.  ]\n",
      "3.19\n"
     ]
    }
   ],
   "source": [
    "al_f = simple_Area_and_Length(simple_HouseType.floor_ins)\n",
    "print(al_f.env)\n",
    "print(al_f.A)\n",
    "print(al_f.roof)\n",
    "print(al_f.wall.array())\n",
    "print(al_f.door.array())\n",
    "print(al_f.wnd.array())\n",
    "print(al_f.floor)\n",
    "print(al_f.base.array())\n",
    "print(al_f.base_IS)\n",
    "print(al_f.base_d.array())\n",
    "print(al_f.base_d_IS)\n",
    "print(al_f.prm.array())\n",
    "print(al_f.prm_IS)\n",
    "print(al_f.prm_d.array())\n",
    "print(al_f.prm_d_IS)"
   ]
  },
  {
   "cell_type": "markdown",
   "metadata": {},
   "source": [
    "基礎断熱住戸の場合"
   ]
  },
  {
   "cell_type": "code",
   "execution_count": 38,
   "metadata": {
    "collapsed": false
   },
   "outputs": [
    {
     "name": "stdout",
     "output_type": "stream",
     "text": [
      "275.69\n",
      "90.0\n",
      "50.85\n",
      "[ 30.47  22.37  47.92  22.28]\n",
      "[ 0.    1.89  1.62  0.  ]\n",
      "[ 22.69   2.38   3.63   4.37]\n",
      "0.0\n",
      "[ 5.3   1.48  4.62  2.4 ]\n",
      "0.0\n",
      "[ 0.    0.33  0.25  0.  ]\n",
      "0.0\n",
      "[ 10.61   2.97   9.24   4.79]\n",
      "0.0\n",
      "[ 0.    1.82  1.37  0.  ]\n",
      "0.0\n"
     ]
    }
   ],
   "source": [
    "al_b = simple_Area_and_Length(simple_HouseType.base_ins)\n",
    "print(al_b.env)\n",
    "print(al_b.A)\n",
    "print(al_b.roof)\n",
    "print(al_b.wall.array())\n",
    "print(al_b.door.array())\n",
    "print(al_b.wnd.array())\n",
    "print(al_b.floor)\n",
    "print(al_b.base.array())\n",
    "print(al_b.base_IS)\n",
    "print(al_b.base_d.array())\n",
    "print(al_b.base_d_IS)\n",
    "print(al_b.prm.array())\n",
    "print(al_b.prm_IS)\n",
    "print(al_b.prm_d.array())\n",
    "print(al_b.prm_d_IS)"
   ]
  },
  {
   "cell_type": "markdown",
   "metadata": {},
   "source": [
    "### 床断熱住宅か基礎断熱住宅の判断"
   ]
  },
  {
   "cell_type": "markdown",
   "metadata": {},
   "source": [
    "#### 定義"
   ]
  },
  {
   "cell_type": "markdown",
   "metadata": {},
   "source": [
    "「9.5 標準住戸における外皮の部位の面積及び土間床等の外周部の長さ等」において、「床断熱住戸」及び「基礎断熱住戸」のどちらにも該当する場合、両方の場合で外皮平均熱貫流率を計算し、値が大きい方の場合を採用することとなっている。"
   ]
  },
  {
   "cell_type": "code",
   "execution_count": 39,
   "metadata": {
    "collapsed": true
   },
   "outputs": [],
   "source": [
    "def simple_house_type_judge(floor_ins_U_A, base_ins_U_A):\n",
    "    # floor_ins_U_A: 床断熱住戸のUA値(W/m2K)\n",
    "    # base_ins_U_A: 基礎熱住戸のUA値(W/m2K)\n",
    "    return simple_HouseType.floor_ins if floor_ins_U_A > base_ins_U_A else simple_HouseType.base_ins"
   ]
  },
  {
   "cell_type": "markdown",
   "metadata": {},
   "source": [
    "#### 説明"
   ]
  },
  {
   "cell_type": "markdown",
   "metadata": {},
   "source": [
    "床断熱住戸の方のUA値が大きい場合。"
   ]
  },
  {
   "cell_type": "code",
   "execution_count": 40,
   "metadata": {
    "collapsed": false
   },
   "outputs": [
    {
     "data": {
      "text/plain": [
       "<simple_HouseType.floor_ins: 0>"
      ]
     },
     "execution_count": 40,
     "metadata": {},
     "output_type": "execute_result"
    }
   ],
   "source": [
    "simple_house_type_judge(2.2, 1.1)"
   ]
  },
  {
   "cell_type": "markdown",
   "metadata": {},
   "source": [
    "基礎熱住戸の方のUA値が大きい場合。"
   ]
  },
  {
   "cell_type": "code",
   "execution_count": 41,
   "metadata": {
    "collapsed": false
   },
   "outputs": [
    {
     "data": {
      "text/plain": [
       "<simple_HouseType.base_ins: 1>"
      ]
     },
     "execution_count": 41,
     "metadata": {},
     "output_type": "execute_result"
    }
   ],
   "source": [
    "simple_house_type_judge(1.1, 2.2)"
   ]
  },
  {
   "cell_type": "markdown",
   "metadata": {},
   "source": [
    "### 外皮の部位及び土間床等の周辺部の温度差係数"
   ]
  },
  {
   "cell_type": "markdown",
   "metadata": {},
   "source": [
    "#### 定義"
   ]
  },
  {
   "cell_type": "markdown",
   "metadata": {},
   "source": [
    "外皮の部位及び土間床等の周辺部の温度差係数は表4に基づく。"
   ]
  },
  {
   "cell_type": "code",
   "execution_count": 42,
   "metadata": {
    "collapsed": true
   },
   "outputs": [],
   "source": [
    "class simple_HValue:\n",
    "    roof    = 1.0\n",
    "    wall    = 1.0\n",
    "    door    = 1.0\n",
    "    wnd     = 1.0\n",
    "    floor   = 0.7\n",
    "    base_OS = 1.0\n",
    "    base_IS = 0.7\n",
    "    prm_OS  = 1.0\n",
    "    prm_IS  = 0.7"
   ]
  },
  {
   "cell_type": "markdown",
   "metadata": {},
   "source": [
    "#### 説明"
   ]
  },
  {
   "cell_type": "markdown",
   "metadata": {},
   "source": [
    "確認"
   ]
  },
  {
   "cell_type": "code",
   "execution_count": 43,
   "metadata": {
    "collapsed": false
   },
   "outputs": [
    {
     "data": {
      "text/plain": [
       "1.0"
      ]
     },
     "execution_count": 43,
     "metadata": {},
     "output_type": "execute_result"
    }
   ],
   "source": [
    "simple_HValue.roof"
   ]
  },
  {
   "cell_type": "code",
   "execution_count": 44,
   "metadata": {
    "collapsed": false
   },
   "outputs": [
    {
     "data": {
      "text/plain": [
       "1.0"
      ]
     },
     "execution_count": 44,
     "metadata": {},
     "output_type": "execute_result"
    }
   ],
   "source": [
    "simple_HValue.wall"
   ]
  },
  {
   "cell_type": "code",
   "execution_count": 45,
   "metadata": {
    "collapsed": false
   },
   "outputs": [
    {
     "data": {
      "text/plain": [
       "1.0"
      ]
     },
     "execution_count": 45,
     "metadata": {},
     "output_type": "execute_result"
    }
   ],
   "source": [
    "simple_HValue.door"
   ]
  },
  {
   "cell_type": "code",
   "execution_count": 46,
   "metadata": {
    "collapsed": false
   },
   "outputs": [
    {
     "data": {
      "text/plain": [
       "1.0"
      ]
     },
     "execution_count": 46,
     "metadata": {},
     "output_type": "execute_result"
    }
   ],
   "source": [
    "simple_HValue.wnd"
   ]
  },
  {
   "cell_type": "code",
   "execution_count": 47,
   "metadata": {
    "collapsed": false
   },
   "outputs": [
    {
     "data": {
      "text/plain": [
       "0.7"
      ]
     },
     "execution_count": 47,
     "metadata": {},
     "output_type": "execute_result"
    }
   ],
   "source": [
    "simple_HValue.floor"
   ]
  },
  {
   "cell_type": "code",
   "execution_count": 48,
   "metadata": {
    "collapsed": false
   },
   "outputs": [
    {
     "data": {
      "text/plain": [
       "1.0"
      ]
     },
     "execution_count": 48,
     "metadata": {},
     "output_type": "execute_result"
    }
   ],
   "source": [
    "simple_HValue.base_OS"
   ]
  },
  {
   "cell_type": "code",
   "execution_count": 49,
   "metadata": {
    "collapsed": false
   },
   "outputs": [
    {
     "data": {
      "text/plain": [
       "0.7"
      ]
     },
     "execution_count": 49,
     "metadata": {},
     "output_type": "execute_result"
    }
   ],
   "source": [
    "simple_HValue.base_IS"
   ]
  },
  {
   "cell_type": "code",
   "execution_count": 50,
   "metadata": {
    "collapsed": false
   },
   "outputs": [
    {
     "data": {
      "text/plain": [
       "1.0"
      ]
     },
     "execution_count": 50,
     "metadata": {},
     "output_type": "execute_result"
    }
   ],
   "source": [
    "simple_HValue.prm_OS"
   ]
  },
  {
   "cell_type": "code",
   "execution_count": 51,
   "metadata": {
    "collapsed": false
   },
   "outputs": [
    {
     "data": {
      "text/plain": [
       "0.7"
      ]
     },
     "execution_count": 51,
     "metadata": {},
     "output_type": "execute_result"
    }
   ],
   "source": [
    "simple_HValue.prm_IS"
   ]
  },
  {
   "cell_type": "markdown",
   "metadata": {},
   "source": [
    "### 外皮の部位の熱貫流率"
   ]
  },
  {
   "cell_type": "markdown",
   "metadata": {},
   "source": [
    "#### 定義"
   ]
  },
  {
   "cell_type": "markdown",
   "metadata": {},
   "source": [
    "屋根又は天井の熱貫流率($U_{roof}$)は、「9.8.1 屋根又は天井の熱貫流率」に基づく。  \n",
    "壁の熱貫流率($U_{wall}$)は、「9.8.2 壁の熱貫流率」に基づく。  \n",
    "ドアの熱貫流率($U_{door}$)は、「9.8.3 ドアの熱貫流率」に基づく。  \n",
    "窓の熱貫流率($U_{wnd}$)は、「9.8.4 窓の熱貫流率」に基づく。  \n",
    "床の熱貫流率($U_{floor}$)は、「9.8.5 床の熱貫流率」に基づく。  \n",
    "玄関等を除く基礎の熱貫流率($U_{base}$)は、「9.8.6 玄関等を除く基礎の熱貫流率」に基づく。  \n",
    "玄関等の基礎の熱貫流率($U_{base,d}$)は、「9.8.7 玄関等の基礎の熱貫流率」に基づく。  \n",
    "なお、窓の熱貫流率の2%ルール(床面積の2%に満たない面積の部位は除外できる。)や浴室下部の除外ルール(断熱措置がある場合)等のルールは実装しない。"
   ]
  },
  {
   "cell_type": "code",
   "execution_count": 52,
   "metadata": {
    "collapsed": false
   },
   "outputs": [],
   "source": [
    "def simple_U_part(parts):\n",
    "    # parts: 外皮の部位 [ part の配列 ]\n",
    "    #        part: 外皮の部位 ( U値(W/m2K), H値 )\n",
    "    return max ( parts, key = ( lambda part: part[0] * part[1] ) )\n",
    "\n",
    "simple_U_roof   = simple_U_part\n",
    "simple_U_wall   = simple_U_part\n",
    "simple_U_door   = simple_U_part\n",
    "simple_U_wnd    = simple_U_part\n",
    "simple_U_floor  = simple_U_part\n",
    "simple_U_base   = simple_U_part\n",
    "simple_U_base_d = simple_U_part"
   ]
  },
  {
   "cell_type": "markdown",
   "metadata": {},
   "source": [
    "#### 説明"
   ]
  },
  {
   "cell_type": "markdown",
   "metadata": {},
   "source": [
    "計算例。U値が大きい方が選択される例。"
   ]
  },
  {
   "cell_type": "code",
   "execution_count": 53,
   "metadata": {
    "collapsed": false
   },
   "outputs": [
    {
     "name": "stdout",
     "output_type": "stream",
     "text": [
      "(2.0, 1.0)\n"
     ]
    }
   ],
   "source": [
    "print( simple_U_part([ (1.5,1.0), (2.0,1.0)] ) )"
   ]
  },
  {
   "cell_type": "markdown",
   "metadata": {},
   "source": [
    "計算例。H値の違いによりU値が小さい方が選択される例。"
   ]
  },
  {
   "cell_type": "code",
   "execution_count": 54,
   "metadata": {
    "collapsed": false,
    "slideshow": {
     "slide_type": "-"
    }
   },
   "outputs": [
    {
     "data": {
      "text/plain": [
       "(1.5, 1.0)"
      ]
     },
     "execution_count": 54,
     "metadata": {},
     "output_type": "execute_result"
    }
   ],
   "source": [
    "simple_U_part([ (1.5,1.0), (2.0,0.7)] )"
   ]
  },
  {
   "cell_type": "markdown",
   "metadata": {},
   "source": [
    "### 土間床等の周辺部の熱貫流率"
   ]
  },
  {
   "cell_type": "markdown",
   "metadata": {},
   "source": [
    "#### 定義"
   ]
  },
  {
   "cell_type": "markdown",
   "metadata": {},
   "source": [
    "玄関等を除く土間床等の外周部の線熱貫流率($\\psi_{prm}$)は、「9.2.8 玄関等を除く土間床等の外周部の線熱貫流率」に基づく。  \n",
    "玄関等の土間床等の外周部の線熱貫流率($\\psi_{prm,d}$)は、「9.2.9 玄関等の土間床等の外周部の線熱貫流率」に基づく。  "
   ]
  },
  {
   "cell_type": "code",
   "execution_count": 55,
   "metadata": {
    "collapsed": true
   },
   "outputs": [],
   "source": [
    "def simple_psi_part(parts):\n",
    "    # parts: 土間床等の外周部 [ part の配列 ]\n",
    "    #        part: 土間床等の外周部 ( psi値(W/mK), H値)\n",
    "    return max ( parts, key = ( lambda part: part[0] * part[1] ) )\n",
    "\n",
    "simple_psi_prm   = simple_psi_part\n",
    "simple_psi_prm_d = simple_psi_part"
   ]
  },
  {
   "cell_type": "markdown",
   "metadata": {},
   "source": [
    "#### 説明"
   ]
  },
  {
   "cell_type": "markdown",
   "metadata": {},
   "source": [
    "計算例。U値が大きい方が選択される例。"
   ]
  },
  {
   "cell_type": "code",
   "execution_count": 56,
   "metadata": {
    "collapsed": false
   },
   "outputs": [
    {
     "data": {
      "text/plain": [
       "(2.0, 1.0)"
      ]
     },
     "execution_count": 56,
     "metadata": {},
     "output_type": "execute_result"
    }
   ],
   "source": [
    "simple_psi_part( [ (1.5,1.0), (2.0,1.0) ] )"
   ]
  },
  {
   "cell_type": "markdown",
   "metadata": {},
   "source": [
    "計算例。H値の違いによりU値が小さい方が選択される例。"
   ]
  },
  {
   "cell_type": "code",
   "execution_count": 57,
   "metadata": {
    "collapsed": false
   },
   "outputs": [
    {
     "data": {
      "text/plain": [
       "(1.5, 1.0)"
      ]
     },
     "execution_count": 57,
     "metadata": {},
     "output_type": "execute_result"
    }
   ],
   "source": [
    "simple_psi_part( [ (1.5,1.0), (2.0,0.7) ] )"
   ]
  },
  {
   "cell_type": "markdown",
   "metadata": {},
   "source": [
    "### 外皮の部位(窓を除く)の日射熱取得率"
   ]
  },
  {
   "cell_type": "markdown",
   "metadata": {},
   "source": [
    "#### 定義"
   ]
  },
  {
   "cell_type": "markdown",
   "metadata": {},
   "source": [
    "屋根又は天井の日射熱取得率($\\eta_{H,roof}$・$\\eta_{C,roof}$)は、屋根又は天井の熱貫流率$U_{roof}$を用いて、「9.9.1 屋根又は天井の日射熱取得率」に基づく方法で計算される。  \n",
    "壁の日射熱取得率($\\eta_{H,wall}$・$\\eta_{C,wall}$)は、壁の熱貫流率$U_{wall}$を用いて、「9.9.2 壁の日射熱取得率」に基づく方法で計算される。  \n",
    "ドアの日射熱取得率($\\eta_{H,door}$・$\\eta_{C,door}$)は、ドアの熱貫流率$U_{door}$を用いて、「9.9.3 ドアの日射熱取得率」に基づく方法で計算される。  \n",
    "玄関等を除く基礎の日射熱取得率($\\eta_{H,base}$・$\\eta_{C,base}$)は、玄関等を除く基礎の熱貫流率$U_{base}$を用いて、「9.9.5 玄関等を除く基礎の日射熱取得率」に基づく方法で計算される。  \n",
    "玄関等の基礎の日射熱取得率($\\eta_{H,base,d}$・$\\eta_{C,base,d}$)は、玄関等の基礎の熱貫流率$U_{base,d}$を用いて、「9.9.6 玄関等の基礎の日射熱取得率」に基づく方法で計算される。  "
   ]
  },
  {
   "cell_type": "code",
   "execution_count": 58,
   "metadata": {
    "collapsed": false
   },
   "outputs": [],
   "source": [
    "def simple_eta_H_not_wnd(U_part):\n",
    "    # U_part: 外皮の部位(窓を除く)の熱貫流率(W/m2K)\n",
    "    gamma_H = 1.0 # 暖房期の日除けの効果係数\n",
    "    return 0.034 * U_part * gamma_H\n",
    "\n",
    "simple_eta_H_roof   = simple_eta_H_not_wnd\n",
    "simple_eta_H_wall   = simple_eta_H_not_wnd\n",
    "simple_eta_H_door   = simple_eta_H_not_wnd\n",
    "simple_eta_H_base   = simple_eta_H_not_wnd\n",
    "simple_eta_H_base_d = simple_eta_H_not_wnd"
   ]
  },
  {
   "cell_type": "code",
   "execution_count": 59,
   "metadata": {
    "collapsed": false
   },
   "outputs": [],
   "source": [
    "def simple_eta_C_not_wnd(U_part):\n",
    "    # U_part: 外皮の部位(窓を除く)の熱貫流率(W/m2K)\n",
    "    gamma_C = 1.0 # 冷房期の日除けの効果係数\n",
    "    return 0.034 * U_part * gamma_C\n",
    "\n",
    "simple_eta_C_roof   = simple_eta_C_not_wnd\n",
    "simple_eta_C_wall   = simple_eta_C_not_wnd\n",
    "simple_eta_C_door   = simple_eta_C_not_wnd\n",
    "simple_eta_C_base   = simple_eta_C_not_wnd\n",
    "simple_eta_C_base_d = simple_eta_C_not_wnd"
   ]
  },
  {
   "cell_type": "markdown",
   "metadata": {},
   "source": [
    "#### 説明"
   ]
  },
  {
   "cell_type": "markdown",
   "metadata": {},
   "source": [
    "計算例。U値=1.0の場合。"
   ]
  },
  {
   "cell_type": "code",
   "execution_count": 60,
   "metadata": {
    "collapsed": false
   },
   "outputs": [
    {
     "data": {
      "text/plain": [
       "0.034"
      ]
     },
     "execution_count": 60,
     "metadata": {},
     "output_type": "execute_result"
    }
   ],
   "source": [
    "simple_eta_H_not_wnd(1.0)"
   ]
  },
  {
   "cell_type": "code",
   "execution_count": 61,
   "metadata": {
    "collapsed": false
   },
   "outputs": [
    {
     "data": {
      "text/plain": [
       "0.034"
      ]
     },
     "execution_count": 61,
     "metadata": {},
     "output_type": "execute_result"
    }
   ],
   "source": [
    "simple_eta_C_not_wnd(1.0)"
   ]
  },
  {
   "cell_type": "markdown",
   "metadata": {},
   "source": [
    "### 窓の日射熱取得率"
   ]
  },
  {
   "cell_type": "markdown",
   "metadata": {},
   "source": [
    "#### 定義"
   ]
  },
  {
   "cell_type": "markdown",
   "metadata": {},
   "source": [
    "窓の日射熱取得率($\\eta_{H,wnd,0}$・$\\eta_{H,wnd,90}$・$\\eta_{H,wnd,180}$・$\\eta_{H,wnd,270}$・$\\eta_{C,wnd,0}$・$\\eta_{C,wnd,90}$・$\\eta_{C,wnd,180}$・$\\eta_{C,wnd,270}$)は、「9.9.4 窓の日射熱取得率」に基づく方法で計算される。"
   ]
  },
  {
   "cell_type": "code",
   "execution_count": 62,
   "metadata": {
    "collapsed": false
   },
   "outputs": [],
   "source": [
    "def simple_eta_H_wnd(wnds, is_f_value_default, default_f_H_value):\n",
    "    # wnds: 窓 [wnd の配列]\n",
    "    #       wnd: 窓 (eta_d値(-), デフォルトのf_H値(-))\n",
    "    #            デフォルトのf_H値は、is_f_value_default が False の場合は使用しない。\n",
    "    eta_d_rep = min( [wnd[0] for wnd in wnds ] )\n",
    "    if( is_f_value_default == True ):\n",
    "        return Orientation(eta_d_rep * default_f_H_value.D0,\n",
    "                           eta_d_rep * default_f_H_value.D90,\n",
    "                           eta_d_rep * default_f_H_value.D180,\n",
    "                           eta_d_rep * default_f_H_value.D270)\n",
    "    else:\n",
    "        f_H_rep = np.min( [wnd[1] for wnd in wnds ] )\n",
    "        return Orientation(eta_d_rep * f_H_rep,\n",
    "                           eta_d_rep * f_H_rep,\n",
    "                           eta_d_rep * f_H_rep,\n",
    "                           eta_d_rep * f_H_rep)"
   ]
  },
  {
   "cell_type": "code",
   "execution_count": 63,
   "metadata": {
    "collapsed": true
   },
   "outputs": [],
   "source": [
    "def simple_eta_C_wnd(wnds, is_f_value_default, default_f_C_value):\n",
    "    # wnds: 窓 [wnd の配列]\n",
    "    #       wnd: 窓 (eta_d値(-), デフォルトのf_C値(-))\n",
    "    #            デフォルトのf_C値は、is_f_value_default が False の場合は使用しない。\n",
    "    eta_d_rep = max( [wnd[0] for wnd in wnds ] )\n",
    "    if( is_f_value_default == True ):\n",
    "        return Orientation(eta_d_rep * default_f_C_value.D0,\n",
    "                           eta_d_rep * default_f_C_value.D90,\n",
    "                           eta_d_rep * default_f_C_value.D180,\n",
    "                           eta_d_rep * default_f_C_value.D270)\n",
    "    else:\n",
    "        f_C_rep = np.max( [wnd[1] for wnd in wnds ] )\n",
    "        return Orientation(eta_d_rep * f_C_rep,\n",
    "                           eta_d_rep * f_C_rep,\n",
    "                           eta_d_rep * f_C_rep,\n",
    "                           eta_d_rep * f_C_rep)"
   ]
  },
  {
   "cell_type": "markdown",
   "metadata": {},
   "source": [
    "#### 説明"
   ]
  },
  {
   "cell_type": "markdown",
   "metadata": {},
   "source": [
    "f値にデフォルト値を使用する場合。"
   ]
  },
  {
   "cell_type": "code",
   "execution_count": 64,
   "metadata": {
    "collapsed": false
   },
   "outputs": [
    {
     "data": {
      "text/plain": [
       "Orientation(D0=0.2, D90=0.15, D180=0.2, D270=0.15)"
      ]
     },
     "execution_count": 64,
     "metadata": {},
     "output_type": "execute_result"
    }
   ],
   "source": [
    "simple_eta_H_wnd([(0.5,0.7),(0.6,1.0)], True, Orientation(0.4, 0.3, 0.4, 0.3) )"
   ]
  },
  {
   "cell_type": "code",
   "execution_count": 65,
   "metadata": {
    "collapsed": false
   },
   "outputs": [
    {
     "data": {
      "text/plain": [
       "Orientation(D0=0.24, D90=0.18, D180=0.24, D270=0.18)"
      ]
     },
     "execution_count": 65,
     "metadata": {},
     "output_type": "execute_result"
    }
   ],
   "source": [
    "simple_eta_C_wnd([(0.5,0.7),(0.6,1.0)], True, Orientation(0.4, 0.3, 0.4, 0.3) )"
   ]
  },
  {
   "cell_type": "markdown",
   "metadata": {},
   "source": [
    "f値にデフォルト値を使用しない場合。"
   ]
  },
  {
   "cell_type": "code",
   "execution_count": 66,
   "metadata": {
    "collapsed": false
   },
   "outputs": [
    {
     "data": {
      "text/plain": [
       "Orientation(D0=0.34999999999999998, D90=0.34999999999999998, D180=0.34999999999999998, D270=0.34999999999999998)"
      ]
     },
     "execution_count": 66,
     "metadata": {},
     "output_type": "execute_result"
    }
   ],
   "source": [
    "simple_eta_H_wnd([(0.5,0.7),(0.6,1.0)], False, Orientation(0.4, 0.3, 0.4, 0.3) )"
   ]
  },
  {
   "cell_type": "code",
   "execution_count": 67,
   "metadata": {
    "collapsed": false
   },
   "outputs": [
    {
     "data": {
      "text/plain": [
       "Orientation(D0=0.59999999999999998, D90=0.59999999999999998, D180=0.59999999999999998, D270=0.59999999999999998)"
      ]
     },
     "execution_count": 67,
     "metadata": {},
     "output_type": "execute_result"
    }
   ],
   "source": [
    "simple_eta_C_wnd([(0.5,0.7),(0.6,1.0)], False, Orientation(0.4, 0.3, 0.4, 0.3) )"
   ]
  },
  {
   "cell_type": "markdown",
   "metadata": {},
   "source": [
    "## 温度差係数"
   ]
  },
  {
   "cell_type": "markdown",
   "metadata": {},
   "source": [
    "#### 定義"
   ]
  },
  {
   "cell_type": "code",
   "execution_count": 68,
   "metadata": {
    "collapsed": false
   },
   "outputs": [],
   "source": [
    "def get_H(ASType, region):\n",
    "    # ASType: 隣接空間の種類 [ AdjacentSpaceType 列挙体 ]\n",
    "    # resion: 地域の区分 [ Region 列挙体 ]\n",
    "    if region in { Region.Division1, Region.Division2, Region.Division3 }: # 地域の区分が1～3 の場合\n",
    "        h = {\n",
    "            AdjacentSpaceType.External : 1.0,\n",
    "            AdjacentSpaceType.SemiExternal : 0.7,\n",
    "            AdjacentSpaceType.Internal : 0.05\n",
    "        }\n",
    "        return h[ASType]\n",
    "    else:  # 地域の区分が4～8 の場合\n",
    "        h = {\n",
    "            AdjacentSpaceType.External : 1.0,\n",
    "            AdjacentSpaceType.SemiExternal : 0.7,\n",
    "            AdjacentSpaceType.Internal : 0.15\n",
    "        }\n",
    "        return h[ASType]"
   ]
  },
  {
   "cell_type": "markdown",
   "metadata": {},
   "source": [
    "#### 説明"
   ]
  },
  {
   "cell_type": "code",
   "execution_count": 69,
   "metadata": {
    "collapsed": false
   },
   "outputs": [
    {
     "data": {
      "text/plain": [
       "0.15"
      ]
     },
     "execution_count": 69,
     "metadata": {},
     "output_type": "execute_result"
    }
   ],
   "source": [
    "get_H(AdjacentSpaceType.Internal, Region.Division5 )"
   ]
  },
  {
   "cell_type": "code",
   "execution_count": 70,
   "metadata": {
    "collapsed": false
   },
   "outputs": [
    {
     "data": {
      "text/plain": [
       "0.05"
      ]
     },
     "execution_count": 70,
     "metadata": {},
     "output_type": "execute_result"
    }
   ],
   "source": [
    "get_H(AdjacentSpaceType.Internal, Region.Division3 )"
   ]
  },
  {
   "cell_type": "markdown",
   "metadata": {},
   "source": [
    "## 方位係数"
   ]
  },
  {
   "cell_type": "markdown",
   "metadata": {},
   "source": [
    "#### 定義"
   ]
  },
  {
   "cell_type": "code",
   "execution_count": 71,
   "metadata": {
    "collapsed": true
   },
   "outputs": [],
   "source": [
    "def get_nu_H(region, direction):\n",
    "    # region: 地域の区分 [ Resion 列挙体 ]\n",
    "    # direction: 方位 [ Direction 列挙体 ]\n",
    "    r = region.value # 1～8 地域の区分の番号に対応\n",
    "    d = direction.value # 0～7:南,南西,...,南東 8:上向き 9:下向き\n",
    "    \n",
    "    S      = [ 0.935, 0.856, 0.851, 0.815, 0.983, 0.936, 1.023, 'ND' ][r-1]\n",
    "    SW     = [ 0.790, 0.753, 0.750, 0.723, 0.815, 0.763, 0.848, 'ND' ][r-1]\n",
    "    W      = [ 0.535, 0.544, 0.542, 0.527, 0.538, 0.523, 0.548, 'ND' ][r-1]\n",
    "    NW     = [ 0.325, 0.341, 0.351, 0.326, 0.297, 0.317, 0.284, 'ND' ][r-1]\n",
    "    N      = [ 0.260, 0.263, 0.284, 0.256, 0.238, 0.261, 0.227, 'ND' ][r-1]\n",
    "    NE     = [ 0.333, 0.341, 0.348, 0.330, 0.310, 0.325, 0.281, 'ND' ][r-1]\n",
    "    E      = [ 0.564, 0.554, 0.540, 0.531, 0.568, 0.579, 0.543, 'ND' ][r-1]\n",
    "    SE     = [ 0.823, 0.766, 0.751, 0.724, 0.846, 0.833, 0.843, 'ND' ][r-1]\n",
    "    top    = [ 1.0,   1.0,   1.0,   1.0,   1.0,   1.0,   1.0,   'ND' ][r-1]\n",
    "    bottom = [ 0.0,   0.0,   0.0,   0.0,   0.0,   0.0,   0.0,   'ND' ][r-1]\n",
    "    \n",
    "    return [S, SW, W, NW, N, NE, E, SE, top, bottom][d]"
   ]
  },
  {
   "cell_type": "code",
   "execution_count": 72,
   "metadata": {
    "collapsed": true
   },
   "outputs": [],
   "source": [
    "def get_nu_C(region, direction):\n",
    "    # region: 地域の区分 [ Resion 列挙体 ]\n",
    "    # direction: 方位 [ Direction 列挙体 ]\n",
    "    r = region.value # 1～8 地域の区分の番号に対応\n",
    "    d = direction.value # 0～7:南,南西,...,南東 8:上向き 9:下向き \n",
    "\n",
    "    S      = [ 0.502, 0.507, 0.476, 0.437, 0.472, 0.434, 0.412, 0.480 ][r-1]\n",
    "    SW     = [ 0.526, 0.548, 0.550, 0.481, 0.520, 0.491, 0.479, 0.517 ][r-1]\n",
    "    W      = [ 0.508, 0.529, 0.553, 0.481, 0.518, 0.504, 0.495, 0.505 ][r-1]\n",
    "    NW     = [ 0.411, 0.428, 0.447, 0.401, 0.442, 0.427, 0.406, 0.411 ][r-1]\n",
    "    N      = [ 0.329, 0.341, 0.335, 0.322, 0.373, 0.341, 0.307, 0.325 ][r-1]\n",
    "    NE     = [ 0.430, 0.412, 0.390, 0.426, 0.437, 0.431, 0.415, 0.414 ][r-1]\n",
    "    E      = [ 0.545, 0.503, 0.468, 0.518, 0.500, 0.512, 0.509, 0.515 ][r-1]\n",
    "    SE     = [ 0.560, 0.527, 0.487, 0.508, 0.500, 0.498, 0.490, 0.528 ][r-1]\n",
    "    top    = [ 1.0,   1.0,   1.0,   1.0,   1.0,   1.0,   1.0,   1.0   ][r-1]\n",
    "    bottom = [ 0.0,   0.0,   0.0,   0.0,   0.0,   0.0,   0.0,   0.0   ][r-1]\n",
    "    \n",
    "    return [S, SW, W, NW, N, NE, E, SE, top, bottom][d]"
   ]
  },
  {
   "cell_type": "markdown",
   "metadata": {},
   "source": [
    "#### 説明"
   ]
  },
  {
   "cell_type": "code",
   "execution_count": 73,
   "metadata": {
    "collapsed": false
   },
   "outputs": [
    {
     "data": {
      "text/plain": [
       "0.564"
      ]
     },
     "execution_count": 73,
     "metadata": {},
     "output_type": "execute_result"
    }
   ],
   "source": [
    "get_nu_H(Region.Division1, Direction.E)"
   ]
  },
  {
   "cell_type": "code",
   "execution_count": 74,
   "metadata": {
    "collapsed": false
   },
   "outputs": [
    {
     "data": {
      "text/plain": [
       "0.545"
      ]
     },
     "execution_count": 74,
     "metadata": {},
     "output_type": "execute_result"
    }
   ],
   "source": [
    "get_nu_C(Region.Division1, Direction.E)"
   ]
  },
  {
   "cell_type": "markdown",
   "metadata": {},
   "source": [
    "# 外皮性能の計算方法 (統合)"
   ]
  },
  {
   "cell_type": "markdown",
   "metadata": {},
   "source": []
  },
  {
   "cell_type": "markdown",
   "metadata": {},
   "source": [
    "## 詳細法"
   ]
  },
  {
   "cell_type": "code",
   "execution_count": 75,
   "metadata": {
    "collapsed": false
   },
   "outputs": [],
   "source": [
    "def EnvPerformance(env_parts, env_HBs, env_EF_Peris, A_EF, A_A, region, ):\n",
    "\n",
    "    ##### 面積関係の計算 #####\n",
    "    \n",
    "    # 外皮の表面積の合計(m2)\n",
    "    a_env = get_A_env( [ env_part.A for env_part in env_parts ], A_EF )\n",
    "    print( \"外皮の面積の合計: \" + str(a_env) )\n",
    "    \n",
    "    # 床面積の合計に対する外皮の部位の比\n",
    "    r_env = get_r_env( a_env, A_A )\n",
    "    print( \"床面積の合計に対する外皮の部位の比: \" + str(r_env) )\n",
    "    \n",
    "    ##### UA値、Q'値の計算 #####\n",
    "\n",
    "    # ( 面積, U値, 温度差係数 ) の配列を作成\n",
    "    # 温度差係数は、隣接空間の種類と地域の区分から決定\n",
    "    U_parts = [ (env_part.A, env_part.U, get_H(env_part.ASType, region) ) for env_part in env_parts ]\n",
    "    print( \"U_parts: \" + str(U_parts) )\n",
    "    \n",
    "    # ( 長さ, psi値, 温度差係数 ) の配列を作成\n",
    "    # 温度差係数は、隣接空間の種類と地域の区分から決定\n",
    "    psi_parts1 = [ (env_HB.L, env_HB.psi, get_H(env_HB.ASType, region) ) for env_HB in env_HBs ]\n",
    "    print( \"psi_parts1: \" + str(psi_parts1) )\n",
    "    \n",
    "    # ( 長さ, psi値, 温度差係数 ) の配列を作成\n",
    "    # 温度差係数は、隣接空間の種類と地域の区分から決定\n",
    "    psi_parts2 = [ (env_EF_Peri.L, env_EF_Peri.psi, get_H(env_EF_Peri.ASType, region) ) for env_EF_Peri in env_EF_Peris ]\n",
    "    print( \"psi_parts2: \" + str(psi_parts2) )\n",
    "\n",
    "    # UA値(W/m2K)\n",
    "    UA = get_UA( U_parts, psi_parts1 + psi_parts2, a_env )\n",
    "    print( \"UA値: \" + str(UA) )\n",
    "    \n",
    "    # 熱損失係数(換気による熱損失を含まない) \n",
    "    Q_dash = get_Q_dash( float(UA), r_env )\n",
    "    print( \"熱損失係数(換気による熱損失を含まない) : \" + str(Q_dash) )\n",
    "    \n",
    "    ##### ηA値、m値の計算 (暖房期) #####\n",
    "\n",
    "    # ( 面積, 日射熱取得率, 方位係数 ) の配列を作成\n",
    "    eta_H_parts = [ (env_part.A, env_part.eta_H, get_nu_H(region, env_part.direction) ) for env_part in env_parts ]\n",
    "    print( \"eta_H_parts: \" + str(eta_H_parts) )\n",
    "\n",
    "    # ( 面積, 熱橋の日射熱取得率, 方位係数1, 方位係数2 ) の配列を作成\n",
    "    eta_H_dash_HBs = [ (env_HB.L, env_HB.eta_H_dash, get_nu_H(region, env_HB.direction1), get_nu_H(region, env_HB.direction2) ) for env_HB in env_HBs ]\n",
    "    print( \"eta_H_dash_HBs: \" + str(eta_H_dash_HBs) )\n",
    "\n",
    "    # ηAH値(-)\n",
    "    eta_A_H = get_eta_A_H(eta_H_parts, eta_H_dash_HBs, a_env)\n",
    "    print( \"eta_A_H: \" + str(eta_A_H) )\n",
    "    \n",
    "    # μH値(-)\n",
    "    mu_H = getMuH(float(eta_A_H), r_env)\n",
    "    print( \"mu_H: \" + str(mu_H) )\n",
    "    \n",
    "    ##### ηA値、m値の計算 (冷房期) #####\n",
    "\n",
    "    # ( 面積, 日射熱取得率, 方位係数 ) の配列を作成\n",
    "    eta_C_parts = [ (env_part.A, env_part.eta_C, get_nu_C(region, env_part.direction) ) for env_part in env_parts ]\n",
    "    print( \"eta_C_parts: \" + str(eta_C_parts) )\n",
    "    \n",
    "    # ( 面積, 熱橋の日射熱取得率, 方位係数1, 方位係数2 ) の配列を作成\n",
    "    eta_C_dash_HBs = [ (env_HB.L, env_HB.eta_C_dash, get_nu_C(region, env_HB.direction1), get_nu_C(region, env_HB.direction2) ) for env_HB in env_HBs ]\n",
    "    print( \"eta_C_dash_HBs: \" + str(eta_C_dash_HBs) )    \n",
    "\n",
    "    # ηAC値(-)\n",
    "    eta_A_C = get_eta_A_C(eta_C_parts, eta_C_dash_HBs, a_env)\n",
    "    print( \"eta_A_C: \" + str(eta_A_C) )\n",
    "\n",
    "    # mC値(-)\n",
    "    mu_C = getMuC(float(eta_A_C), r_env)\n",
    "    print( \"mu_C: \" + str(mu_C) )\n"
   ]
  },
  {
   "cell_type": "code",
   "execution_count": 76,
   "metadata": {
    "collapsed": false
   },
   "outputs": [
    {
     "name": "stdout",
     "output_type": "stream",
     "text": [
      "外皮の面積の合計: 19.0\n",
      "床面積の合計に対する外皮の部位の比: 0.6333333333333333\n",
      "U_parts: [(1.0, 1.0, 1.0), (1.0, 2.0, 1.0), (1.0, 3.0, 1.0)]\n",
      "psi_parts1: [(1.0, 1.0, 1.0), (1.0, 1.0, 1.0), (1.0, 1.0, 1.0)]\n",
      "psi_parts2: [(1.0, 1.0, 1.0), (1.0, 1.0, 1.0), (1.0, 1.0, 1.0)]\n",
      "UA値: 0.64\n",
      "熱損失係数(換気による熱損失を含まない) : 0.4053333333333333\n",
      "eta_H_parts: [(1.0, 1.0, 0.579), (1.0, 1.0, 0.579), (1.0, 1.0, 0.579)]\n",
      "eta_H_dash_HBs: [(1.0, 1.0, 0.579, 0.936), (1.0, 1.0, 0.579, 0.936), (1.0, 1.0, 0.579, 0.936)]\n",
      "eta_A_H: 21.1\n",
      "mu_H: 0.13363333333333333\n",
      "eta_C_parts: [(1.0, 1.0, 0.512), (1.0, 1.0, 0.512), (1.0, 1.0, 0.512)]\n",
      "eta_C_dash_HBs: [(1.0, 1.0, 0.512, 0.434), (1.0, 1.0, 0.512, 0.434), (1.0, 1.0, 0.512, 0.434)]\n",
      "eta_A_C: 15.6\n",
      "mu_C: 0.09879999999999999\n"
     ]
    }
   ],
   "source": [
    "env_part_1 = EnvPart(A=1.0,U=1.0,eta_H=1.0,eta_C=1.0,direction=Direction.E,ASType=AdjacentSpaceType.External)\n",
    "env_part_2 = EnvPart(A=1.0,U=2.0,eta_H=1.0,eta_C=1.0,direction=Direction.E,ASType=AdjacentSpaceType.External)\n",
    "env_part_3 = EnvPart(A=1.0,U=3.0,eta_H=1.0,eta_C=1.0,direction=Direction.E,ASType=AdjacentSpaceType.External)\n",
    "env_HB_1 = EnvHB(L=1.0,psi=1.0,eta_H_dash=1.0,eta_C_dash=1.0,direction1=Direction.E,direction2=Direction.S,ASType=AdjacentSpaceType.External)\n",
    "env_HB_2 = EnvHB(L=1.0,psi=1.0,eta_H_dash=1.0,eta_C_dash=1.0,direction1=Direction.E,direction2=Direction.S,ASType=AdjacentSpaceType.External)\n",
    "env_HB_3 = EnvHB(L=1.0,psi=1.0,eta_H_dash=1.0,eta_C_dash=1.0,direction1=Direction.E,direction2=Direction.S,ASType=AdjacentSpaceType.External)\n",
    "env_EF_Peri_1 = EnvEFPeri(L=1.0,psi=1.0,ASType=AdjacentSpaceType.External)\n",
    "env_EF_Peri_2 = EnvEFPeri(L=1.0,psi=1.0,ASType=AdjacentSpaceType.External)\n",
    "env_EF_Peri_3 = EnvEFPeri(L=1.0,psi=1.0,ASType=AdjacentSpaceType.External)\n",
    "\n",
    "EnvPerformance( [ env_part_1, env_part_2, env_part_3 ],\n",
    "                [ env_HB_1, env_HB_2, env_HB_3 ],\n",
    "                [ env_EF_Peri_1, env_EF_Peri_2, env_EF_Peri_3 ],\n",
    "                [ 16.0 ], 30.0, Region.Division6 )"
   ]
  }
 ],
 "metadata": {
  "kernelspec": {
   "display_name": "Python 3",
   "language": "python",
   "name": "python3"
  },
  "language_info": {
   "codemirror_mode": {
    "name": "ipython",
    "version": 3
   },
   "file_extension": ".py",
   "mimetype": "text/x-python",
   "name": "python",
   "nbconvert_exporter": "python",
   "pygments_lexer": "ipython3",
   "version": "3.6.0"
  }
 },
 "nbformat": 4,
 "nbformat_minor": 2
}
