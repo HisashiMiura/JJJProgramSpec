{
 "cells": [
  {
   "cell_type": "code",
   "execution_count": 1,
   "metadata": {
    "collapsed": false
   },
   "outputs": [
    {
     "name": "stdout",
     "output_type": "stream",
     "text": [
      "Importing Jupyter notebook from JJJDetuchedHouseEnvelopeSimpleEvaluationMethod.ipynb\n",
      "Importing Jupyter notebook from DistanceCoefficientDegradation.ipynb\n"
     ]
    }
   ],
   "source": [
    "import nbimporter\n",
    "from JJJDetuchedHouseEnvelopeSimpleEvaluationMethod import Area_and_Length as AL\n",
    "from JJJDetuchedHouseEnvelopeSimpleEvaluationMethod import Nu_H\n",
    "from JJJDetuchedHouseEnvelopeSimpleEvaluationMethod import Nu_C\n",
    "from JJJDetuchedHouseEnvelopeSimpleEvaluationMethod import f_H_default\n",
    "from JJJDetuchedHouseEnvelopeSimpleEvaluationMethod import f_C_default\n",
    "from JJJDetuchedHouseEnvelopeSimpleEvaluationMethod import U_A\n",
    "from JJJDetuchedHouseEnvelopeSimpleEvaluationMethod import eta_A_H\n",
    "from JJJDetuchedHouseEnvelopeSimpleEvaluationMethod import eta_A_C\n",
    "from JJJDetuchedHouseEnvelopeSimpleEvaluationMethod import U_A_2\n",
    "from JJJDetuchedHouseEnvelopeSimpleEvaluationMethod import eta_A_H_2\n",
    "from JJJDetuchedHouseEnvelopeSimpleEvaluationMethod import eta_A_C_2"
   ]
  },
  {
   "cell_type": "markdown",
   "metadata": {},
   "source": [
    "# デフォルトで設定された面積 の テスト"
   ]
  },
  {
   "cell_type": "code",
   "execution_count": 2,
   "metadata": {
    "collapsed": false
   },
   "outputs": [
    {
     "data": {
      "text/plain": [
       "266.1"
      ]
     },
     "execution_count": 2,
     "metadata": {},
     "output_type": "execute_result"
    }
   ],
   "source": [
    "AL('floor_ins').env"
   ]
  },
  {
   "cell_type": "code",
   "execution_count": 3,
   "metadata": {
    "collapsed": false
   },
   "outputs": [
    {
     "data": {
      "text/plain": [
       "275.69"
      ]
     },
     "execution_count": 3,
     "metadata": {},
     "output_type": "execute_result"
    }
   ],
   "source": [
    "AL('base_ins').env"
   ]
  },
  {
   "cell_type": "code",
   "execution_count": 4,
   "metadata": {
    "collapsed": false
   },
   "outputs": [
    {
     "data": {
      "text/plain": [
       "90.0"
      ]
     },
     "execution_count": 4,
     "metadata": {},
     "output_type": "execute_result"
    }
   ],
   "source": [
    "AL('floor_ins').A"
   ]
  },
  {
   "cell_type": "code",
   "execution_count": 5,
   "metadata": {
    "collapsed": false
   },
   "outputs": [
    {
     "data": {
      "text/plain": [
       "90.0"
      ]
     },
     "execution_count": 5,
     "metadata": {},
     "output_type": "execute_result"
    }
   ],
   "source": [
    "AL('base_ins').A"
   ]
  },
  {
   "cell_type": "code",
   "execution_count": 6,
   "metadata": {
    "collapsed": false
   },
   "outputs": [
    {
     "data": {
      "text/plain": [
       "50.85"
      ]
     },
     "execution_count": 6,
     "metadata": {},
     "output_type": "execute_result"
    }
   ],
   "source": [
    "AL('floor_ins').roof"
   ]
  },
  {
   "cell_type": "code",
   "execution_count": 7,
   "metadata": {
    "collapsed": false
   },
   "outputs": [
    {
     "data": {
      "text/plain": [
       "50.85"
      ]
     },
     "execution_count": 7,
     "metadata": {},
     "output_type": "execute_result"
    }
   ],
   "source": [
    "AL('base_ins').roof"
   ]
  },
  {
   "cell_type": "code",
   "execution_count": 8,
   "metadata": {
    "collapsed": false
   },
   "outputs": [
    {
     "data": {
      "text/plain": [
       "(30.47, 22.37, 47.92, 22.28)"
      ]
     },
     "execution_count": 8,
     "metadata": {},
     "output_type": "execute_result"
    }
   ],
   "source": [
    "( AL('floor_ins').wall.ES0,\n",
    "  AL('floor_ins').wall.ES90,\n",
    "  AL('floor_ins').wall.ES180,\n",
    "  AL('floor_ins').wall.ES270 )"
   ]
  },
  {
   "cell_type": "code",
   "execution_count": 9,
   "metadata": {
    "collapsed": false
   },
   "outputs": [
    {
     "data": {
      "text/plain": [
       "(30.47, 22.37, 47.92, 22.28)"
      ]
     },
     "execution_count": 9,
     "metadata": {},
     "output_type": "execute_result"
    }
   ],
   "source": [
    "( AL('base_ins').wall.ES0,\n",
    "  AL('base_ins').wall.ES90,\n",
    "  AL('base_ins').wall.ES180,\n",
    "  AL('base_ins').wall.ES270 )"
   ]
  },
  {
   "cell_type": "code",
   "execution_count": 10,
   "metadata": {
    "collapsed": false
   },
   "outputs": [
    {
     "data": {
      "text/plain": [
       "(0.0, 1.89, 1.62, 0.0)"
      ]
     },
     "execution_count": 10,
     "metadata": {},
     "output_type": "execute_result"
    }
   ],
   "source": [
    "( AL('floor_ins').door.ES0,\n",
    "  AL('floor_ins').door.ES90,\n",
    "  AL('floor_ins').door.ES180,\n",
    "  AL('floor_ins').door.ES270 )"
   ]
  },
  {
   "cell_type": "code",
   "execution_count": 11,
   "metadata": {
    "collapsed": false
   },
   "outputs": [
    {
     "data": {
      "text/plain": [
       "(0.0, 1.89, 1.62, 0.0)"
      ]
     },
     "execution_count": 11,
     "metadata": {},
     "output_type": "execute_result"
    }
   ],
   "source": [
    "( AL('base_ins').door.ES0,\n",
    "  AL('base_ins').door.ES90,\n",
    "  AL('base_ins').door.ES180,\n",
    "  AL('base_ins').door.ES270 )"
   ]
  },
  {
   "cell_type": "code",
   "execution_count": 12,
   "metadata": {
    "collapsed": false
   },
   "outputs": [
    {
     "data": {
      "text/plain": [
       "(22.69, 2.38, 3.63, 4.37)"
      ]
     },
     "execution_count": 12,
     "metadata": {},
     "output_type": "execute_result"
    }
   ],
   "source": [
    "( AL('floor_ins').wnd.ES0,\n",
    "  AL('floor_ins').wnd.ES90,\n",
    "  AL('floor_ins').wnd.ES180,\n",
    "  AL('floor_ins').wnd.ES270 )"
   ]
  },
  {
   "cell_type": "code",
   "execution_count": 13,
   "metadata": {
    "collapsed": false
   },
   "outputs": [
    {
     "data": {
      "text/plain": [
       "(22.69, 2.38, 3.63, 4.37)"
      ]
     },
     "execution_count": 13,
     "metadata": {},
     "output_type": "execute_result"
    }
   ],
   "source": [
    "( AL('base_ins').wnd.ES0,\n",
    "  AL('base_ins').wnd.ES90,\n",
    "  AL('base_ins').wnd.ES180,\n",
    "  AL('base_ins').wnd.ES270 )"
   ]
  },
  {
   "cell_type": "code",
   "execution_count": 14,
   "metadata": {
    "collapsed": false
   },
   "outputs": [
    {
     "data": {
      "text/plain": [
       "45.05"
      ]
     },
     "execution_count": 14,
     "metadata": {},
     "output_type": "execute_result"
    }
   ],
   "source": [
    "AL('floor_ins').floor"
   ]
  },
  {
   "cell_type": "code",
   "execution_count": 15,
   "metadata": {
    "collapsed": false
   },
   "outputs": [
    {
     "data": {
      "text/plain": [
       "0.0"
      ]
     },
     "execution_count": 15,
     "metadata": {},
     "output_type": "execute_result"
    }
   ],
   "source": [
    "AL('base_ins').floor"
   ]
  },
  {
   "cell_type": "code",
   "execution_count": 16,
   "metadata": {
    "collapsed": false
   },
   "outputs": [
    {
     "data": {
      "text/plain": [
       "(0.0, 0.91, 0.91, 0.0, 1.82)"
      ]
     },
     "execution_count": 16,
     "metadata": {},
     "output_type": "execute_result"
    }
   ],
   "source": [
    "( AL('floor_ins').base.ES0,\n",
    "  AL('floor_ins').base.ES90,\n",
    "  AL('floor_ins').base.ES180,\n",
    "  AL('floor_ins').base.ES270,\n",
    "  AL('floor_ins').base.IS )"
   ]
  },
  {
   "cell_type": "code",
   "execution_count": 17,
   "metadata": {
    "collapsed": false
   },
   "outputs": [
    {
     "data": {
      "text/plain": [
       "(5.3, 1.48, 4.62, 2.4, 0.0)"
      ]
     },
     "execution_count": 17,
     "metadata": {},
     "output_type": "execute_result"
    }
   ],
   "source": [
    "( AL('base_ins').base.ES0,\n",
    "  AL('base_ins').base.ES90,\n",
    "  AL('base_ins').base.ES180,\n",
    "  AL('base_ins').base.ES270,\n",
    "  AL('base_ins').base.IS )"
   ]
  },
  {
   "cell_type": "code",
   "execution_count": 18,
   "metadata": {
    "collapsed": false
   },
   "outputs": [
    {
     "data": {
      "text/plain": [
       "(0.0, 0.33, 0.25, 0.0, 0.57)"
      ]
     },
     "execution_count": 18,
     "metadata": {},
     "output_type": "execute_result"
    }
   ],
   "source": [
    "( AL('floor_ins').base_d.ES0,\n",
    "  AL('floor_ins').base_d.ES90,\n",
    "  AL('floor_ins').base_d.ES180,\n",
    "  AL('floor_ins').base_d.ES270,\n",
    "  AL('floor_ins').base_d.IS )"
   ]
  },
  {
   "cell_type": "code",
   "execution_count": 19,
   "metadata": {
    "collapsed": false
   },
   "outputs": [
    {
     "data": {
      "text/plain": [
       "(0.0, 0.33, 0.25, 0.0, 0.0)"
      ]
     },
     "execution_count": 19,
     "metadata": {},
     "output_type": "execute_result"
    }
   ],
   "source": [
    "( AL('base_ins').base_d.ES0,\n",
    "  AL('base_ins').base_d.ES90,\n",
    "  AL('base_ins').base_d.ES180,\n",
    "  AL('base_ins').base_d.ES270,\n",
    "  AL('base_ins').base_d.IS )"
   ]
  },
  {
   "cell_type": "code",
   "execution_count": 20,
   "metadata": {
    "collapsed": false
   },
   "outputs": [
    {
     "data": {
      "text/plain": [
       "(0.0, 1.82, 1.82, 0.0, 3.64)"
      ]
     },
     "execution_count": 20,
     "metadata": {},
     "output_type": "execute_result"
    }
   ],
   "source": [
    "( AL('floor_ins').prm.ES0,\n",
    "  AL('floor_ins').prm.ES90,\n",
    "  AL('floor_ins').prm.ES180,\n",
    "  AL('floor_ins').prm.ES270,\n",
    "  AL('floor_ins').prm.IS )"
   ]
  },
  {
   "cell_type": "code",
   "execution_count": 21,
   "metadata": {
    "collapsed": false
   },
   "outputs": [
    {
     "data": {
      "text/plain": [
       "(10.61, 2.97, 9.24, 4.79, 0.0)"
      ]
     },
     "execution_count": 21,
     "metadata": {},
     "output_type": "execute_result"
    }
   ],
   "source": [
    "( AL('base_ins').prm.ES0,\n",
    "  AL('base_ins').prm.ES90,\n",
    "  AL('base_ins').prm.ES180,\n",
    "  AL('base_ins').prm.ES270,\n",
    "  AL('base_ins').prm.IS )"
   ]
  },
  {
   "cell_type": "code",
   "execution_count": 22,
   "metadata": {
    "collapsed": false
   },
   "outputs": [
    {
     "data": {
      "text/plain": [
       "(0.0, 1.82, 1.37, 0.0, 3.19)"
      ]
     },
     "execution_count": 22,
     "metadata": {},
     "output_type": "execute_result"
    }
   ],
   "source": [
    "( AL('floor_ins').prm_d.ES0,\n",
    "  AL('floor_ins').prm_d.ES90,\n",
    "  AL('floor_ins').prm_d.ES180,\n",
    "  AL('floor_ins').prm_d.ES270,\n",
    "  AL('floor_ins').prm_d.IS )"
   ]
  },
  {
   "cell_type": "code",
   "execution_count": 23,
   "metadata": {
    "collapsed": false
   },
   "outputs": [
    {
     "data": {
      "text/plain": [
       "(0.0, 1.82, 1.37, 0.0, 0.0)"
      ]
     },
     "execution_count": 23,
     "metadata": {},
     "output_type": "execute_result"
    }
   ],
   "source": [
    "( AL('base_ins').prm_d.ES0,\n",
    "  AL('base_ins').prm_d.ES90,\n",
    "  AL('base_ins').prm_d.ES180,\n",
    "  AL('base_ins').prm_d.ES270,\n",
    "  AL('base_ins').prm_d.IS )"
   ]
  },
  {
   "cell_type": "markdown",
   "metadata": {},
   "source": [
    "# 方位係数のテスト"
   ]
  },
  {
   "cell_type": "markdown",
   "metadata": {},
   "source": [
    "## 1) 暖房"
   ]
  },
  {
   "cell_type": "code",
   "execution_count": 24,
   "metadata": {
    "collapsed": true
   },
   "outputs": [],
   "source": [
    "test_Nu_H_input = []\n",
    "\n",
    "    # 返り値: 方位係数\n",
    "    # 引数:\n",
    "        # 第1引数: 地域の区分\n",
    "        # 第2引数: 区域建蔽率\n",
    "        # 第3引数: カテゴリ\n",
    "\n",
    "test_Nu_H_input.append( [ 1, 0.5, 0 ] )\n",
    "test_Nu_H_input.append( [ 1, 0.5, 1 ] )\n",
    "test_Nu_H_input.append( [ 1, 0.5, 2 ] )\n",
    "test_Nu_H_input.append( [ 1, 0.5, 3 ] )\n",
    "test_Nu_H_input.append( [ 2, 0.5, 0 ] )\n",
    "test_Nu_H_input.append( [ 2, 0.5, 1 ] )\n",
    "test_Nu_H_input.append( [ 2, 0.5, 2 ] )\n",
    "test_Nu_H_input.append( [ 2, 0.5, 3 ] )\n",
    "test_Nu_H_input.append( [ 3, 0.5, 0 ] )\n",
    "test_Nu_H_input.append( [ 3, 0.5, 1 ] )\n",
    "test_Nu_H_input.append( [ 3, 0.5, 2 ] )\n",
    "test_Nu_H_input.append( [ 3, 0.5, 3 ] )\n",
    "test_Nu_H_input.append( [ 4, 0.5, 0 ] )\n",
    "test_Nu_H_input.append( [ 4, 0.5, 1 ] )\n",
    "test_Nu_H_input.append( [ 4, 0.5, 2 ] )\n",
    "test_Nu_H_input.append( [ 4, 0.5, 3 ] )\n",
    "test_Nu_H_input.append( [ 5, 0.5, 0 ] )\n",
    "test_Nu_H_input.append( [ 5, 0.5, 1 ] )\n",
    "test_Nu_H_input.append( [ 5, 0.5, 2 ] )\n",
    "test_Nu_H_input.append( [ 5, 0.5, 3 ] )\n",
    "test_Nu_H_input.append( [ 6, 0.5, 0 ] )\n",
    "test_Nu_H_input.append( [ 6, 0.5, 1 ] )\n",
    "test_Nu_H_input.append( [ 6, 0.5, 2 ] )\n",
    "test_Nu_H_input.append( [ 6, 0.5, 3 ] )\n",
    "test_Nu_H_input.append( [ 7, 0.5, 0 ] )\n",
    "test_Nu_H_input.append( [ 7, 0.5, 1 ] )\n",
    "test_Nu_H_input.append( [ 7, 0.5, 2 ] )\n",
    "test_Nu_H_input.append( [ 7, 0.5, 3 ] )"
   ]
  },
  {
   "cell_type": "code",
   "execution_count": 25,
   "metadata": {
    "collapsed": false
   },
   "outputs": [
    {
     "data": {
      "text/plain": [
       "[[0, 0.935, 0.79, 0.535, 0.325, 0.26, 0.333, 0.564, 0.823],\n",
       " [1,\n",
       "  0.73363191761673763,\n",
       "  0.57817738824717313,\n",
       "  0.37837392009831566,\n",
       "  0.23803633329983959,\n",
       "  0.19559911090022178,\n",
       "  0.24401571474002937,\n",
       "  0.40027933039583558,\n",
       "  0.60131663168984717],\n",
       " [2,\n",
       "  0.2957495785198716,\n",
       "  0.24186461982177082,\n",
       "  0.17477951170999864,\n",
       "  0.1269633949796479,\n",
       "  0.1066111813656937,\n",
       "  0.13061366188136994,\n",
       "  0.18277614794005603,\n",
       "  0.24665156985791065],\n",
       " [3,\n",
       "  0.14408619203915524,\n",
       "  0.12629766764038428,\n",
       "  0.09853189622443953,\n",
       "  0.080744737489462468,\n",
       "  0.068786817771074912,\n",
       "  0.0830980895695691,\n",
       "  0.1023211680377145,\n",
       "  0.12843404003334685],\n",
       " [4, 0.856, 0.753, 0.544, 0.341, 0.263, 0.341, 0.554, 0.766],\n",
       " [5,\n",
       "  0.67164590532612556,\n",
       "  0.55109819411407768,\n",
       "  0.38473908884763314,\n",
       "  0.24975504509306246,\n",
       "  0.19785602371830127,\n",
       "  0.24987795413318323,\n",
       "  0.39318217914768255,\n",
       "  0.5596701578061033],\n",
       " [6,\n",
       "  0.27076111145776477,\n",
       "  0.23053678319720686,\n",
       "  0.17771972779483974,\n",
       "  0.13321390057864596,\n",
       "  0.10784131038145171,\n",
       "  0.13375152763227371,\n",
       "  0.17953543609714726,\n",
       "  0.22956877583372973],\n",
       " [7,\n",
       "  0.13191206458344051,\n",
       "  0.12038246042178399,\n",
       "  0.10018944214223384,\n",
       "  0.084719863027405237,\n",
       "  0.069580511822279617,\n",
       "  0.08509444006973893,\n",
       "  0.10050696293066284,\n",
       "  0.11953885135546014],\n",
       " [8, 0.851, 0.75, 0.542, 0.351, 0.284, 0.348, 0.54, 0.751],\n",
       " [9,\n",
       "  0.66772273999127674,\n",
       "  0.54890258377896184,\n",
       "  0.38332460690334036,\n",
       "  0.2570792399638267,\n",
       "  0.21365441344485761,\n",
       "  0.25500741360219281,\n",
       "  0.38324616740026818,\n",
       "  0.54871055941564428],\n",
       " [10,\n",
       "  0.26917956290953016,\n",
       "  0.22961830995737736,\n",
       "  0.17706634644265282,\n",
       "  0.13712046657801974,\n",
       "  0.11645221349175772,\n",
       "  0.13649716016431451,\n",
       "  0.17499843951707494,\n",
       "  0.22507330372210319],\n",
       " [11,\n",
       "  0.1311415501875092,\n",
       "  0.11990284902568127,\n",
       "  0.099821098604946215,\n",
       "  0.087204316488619454,\n",
       "  0.075136370180712592,\n",
       "  0.086841246757387511,\n",
       "  0.097967075780790489,\n",
       "  0.11719801222970047],\n",
       " [12, 0.815, 0.723, 0.527, 0.326, 0.256, 0.33, 0.531, 0.724],\n",
       " [13,\n",
       "  0.6394759495803648,\n",
       "  0.52914209076291918,\n",
       "  0.37271599232114461,\n",
       "  0.23876875278691601,\n",
       "  0.19258989380944913,\n",
       "  0.24181737496759667,\n",
       "  0.37685873127693037,\n",
       "  0.52898328231281821],\n",
       " [14,\n",
       "  0.25779241336224096,\n",
       "  0.22135205079891176,\n",
       "  0.17216598630125099,\n",
       "  0.12735405157958529,\n",
       "  0.10497100934468302,\n",
       "  0.12943696222478102,\n",
       "  0.17208179885845704,\n",
       "  0.21698145392117535],\n",
       " [15,\n",
       "  0.12559384653680375,\n",
       "  0.11558634646075673,\n",
       "  0.097058522075289019,\n",
       "  0.080993182835583891,\n",
       "  0.067728559036135297,\n",
       "  0.082349458132005407,\n",
       "  0.09633429118444399,\n",
       "  0.11298450180333307],\n",
       " [16, 0.983, 0.815, 0.538, 0.297, 0.238, 0.31, 0.568, 0.846],\n",
       " [17,\n",
       "  0.77129430483128669,\n",
       "  0.59647414103980512,\n",
       "  0.3804956430147548,\n",
       "  0.21752858766169952,\n",
       "  0.17904841690097223,\n",
       "  0.22716177648471203,\n",
       "  0.40311819089509682,\n",
       "  0.61812134922188422],\n",
       " [18,\n",
       "  0.31093244458292379,\n",
       "  0.2495185634870167,\n",
       "  0.17575958373827899,\n",
       "  0.11602501018140131,\n",
       "  0.097590235250134993,\n",
       "  0.12159229784752155,\n",
       "  0.18407243267721954,\n",
       "  0.25354462709573805],\n",
       " [19,\n",
       "  0.15148313024009583,\n",
       "  0.13029442927457363,\n",
       "  0.099084411530370967,\n",
       "  0.073788267798062621,\n",
       "  0.062966394728907027,\n",
       "  0.077358581881580832,\n",
       "  0.10304685008053517,\n",
       "  0.132023326692845],\n",
       " [20, 0.936, 0.763, 0.523, 0.317, 0.261, 0.325, 0.579, 0.833],\n",
       " [21,\n",
       "  0.73441655068370748,\n",
       "  0.55841689523113047,\n",
       "  0.36988702843255905,\n",
       "  0.23217697740322815,\n",
       "  0.19635141517291496,\n",
       "  0.2381534753468755,\n",
       "  0.41092505726806527,\n",
       "  0.60862303061681977],\n",
       " [22,\n",
       "  0.29606588822951851,\n",
       "  0.23359836066330522,\n",
       "  0.17085922359687716,\n",
       "  0.12383814218014888,\n",
       "  0.10702122437094637,\n",
       "  0.12747579613046614,\n",
       "  0.18763721570441921,\n",
       "  0.24964855126566171],\n",
       " [23,\n",
       "  0.14424029491834151,\n",
       "  0.12198116507545974,\n",
       "  0.096321835000713771,\n",
       "  0.078757174720491083,\n",
       "  0.069051382454809809,\n",
       "  0.08110173906939927,\n",
       "  0.10504247569829202,\n",
       "  0.12999459945051997],\n",
       " [24, 1.023, 0.848, 0.548, 0.284, 0.227, 0.281, 0.543, 0.843],\n",
       " [25,\n",
       "  0.8026796275100776,\n",
       "  0.62062585472607945,\n",
       "  0.38756805273621869,\n",
       "  0.20800713432970594,\n",
       "  0.1707730699013475,\n",
       "  0.20591115868452931,\n",
       "  0.3853753127747141,\n",
       "  0.61592942954379248],\n",
       " [26,\n",
       "  0.32358483296880064,\n",
       "  0.25962176912514134,\n",
       "  0.17902649049921354,\n",
       "  0.11094647438221539,\n",
       "  0.093079762192355656,\n",
       "  0.11021753450049535,\n",
       "  0.17597065306994758,\n",
       "  0.25264553267341272],\n",
       " [27,\n",
       "  0.15764724540754629,\n",
       "  0.1355701546317036,\n",
       "  0.10092612921680909,\n",
       "  0.07055847829848412,\n",
       "  0.060056183207823098,\n",
       "  0.070121811318465219,\n",
       "  0.098511337312905997,\n",
       "  0.13155515886769306]]"
      ]
     },
     "execution_count": 25,
     "metadata": {},
     "output_type": "execute_result"
    }
   ],
   "source": [
    "test_Nu_H_output = []\n",
    "for i, t in enumerate(test_Nu_H_input):\n",
    "    v = Nu_H(t[0]).get_value(t[1],t[2])\n",
    "    test_Nu_H_output.append( [i, v.S, v.SW, v.W, v.NW, v.N, v.NE, v.E, v.SE ] )\n",
    "test_Nu_H_output"
   ]
  },
  {
   "cell_type": "markdown",
   "metadata": {},
   "source": [
    "## 2) 冷房"
   ]
  },
  {
   "cell_type": "code",
   "execution_count": 26,
   "metadata": {
    "collapsed": true
   },
   "outputs": [],
   "source": [
    "test_Nu_C_input = []\n",
    "\n",
    "    # 返り値: 方位係数\n",
    "    # 引数:\n",
    "        # 第1引数: 地域の区分\n",
    "        # 第2引数: 区域建蔽率\n",
    "        # 第3引数: カテゴリ\n",
    "\n",
    "test_Nu_C_input.append( [ 1, 0.5, 0 ] )\n",
    "test_Nu_C_input.append( [ 1, 0.5, 1 ] )\n",
    "test_Nu_C_input.append( [ 1, 0.5, 2 ] )\n",
    "test_Nu_C_input.append( [ 1, 0.5, 3 ] )\n",
    "test_Nu_C_input.append( [ 2, 0.5, 0 ] )\n",
    "test_Nu_C_input.append( [ 2, 0.5, 1 ] )\n",
    "test_Nu_C_input.append( [ 2, 0.5, 2 ] )\n",
    "test_Nu_C_input.append( [ 2, 0.5, 3 ] )\n",
    "test_Nu_C_input.append( [ 3, 0.5, 0 ] )\n",
    "test_Nu_C_input.append( [ 3, 0.5, 1 ] )\n",
    "test_Nu_C_input.append( [ 3, 0.5, 2 ] )\n",
    "test_Nu_C_input.append( [ 3, 0.5, 3 ] )\n",
    "test_Nu_C_input.append( [ 4, 0.5, 0 ] )\n",
    "test_Nu_C_input.append( [ 4, 0.5, 1 ] )\n",
    "test_Nu_C_input.append( [ 4, 0.5, 2 ] )\n",
    "test_Nu_C_input.append( [ 4, 0.5, 3 ] )\n",
    "test_Nu_C_input.append( [ 5, 0.5, 0 ] )\n",
    "test_Nu_C_input.append( [ 5, 0.5, 1 ] )\n",
    "test_Nu_C_input.append( [ 5, 0.5, 2 ] )\n",
    "test_Nu_C_input.append( [ 5, 0.5, 3 ] )\n",
    "test_Nu_C_input.append( [ 6, 0.5, 0 ] )\n",
    "test_Nu_C_input.append( [ 6, 0.5, 1 ] )\n",
    "test_Nu_C_input.append( [ 6, 0.5, 2 ] )\n",
    "test_Nu_C_input.append( [ 6, 0.5, 3 ] )\n",
    "test_Nu_C_input.append( [ 7, 0.5, 0 ] )\n",
    "test_Nu_C_input.append( [ 7, 0.5, 1 ] )\n",
    "test_Nu_C_input.append( [ 7, 0.5, 2 ] )\n",
    "test_Nu_C_input.append( [ 7, 0.5, 3 ] )\n",
    "test_Nu_C_input.append( [ 8, 0.5, 0 ] )\n",
    "test_Nu_C_input.append( [ 8, 0.5, 1 ] )\n",
    "test_Nu_C_input.append( [ 8, 0.5, 2 ] )\n",
    "test_Nu_C_input.append( [ 8, 0.5, 3 ] )"
   ]
  },
  {
   "cell_type": "code",
   "execution_count": 27,
   "metadata": {
    "collapsed": false
   },
   "outputs": [
    {
     "data": {
      "text/plain": [
       "[[0, 0.502, 0.526, 0.508, 0.411, 0.329, 0.43, 0.545, 0.56],\n",
       " [1,\n",
       "  0.38506502661716552,\n",
       "  0.39516105997685946,\n",
       "  0.35899013719943113,\n",
       "  0.29078602217651495,\n",
       "  0.22851627183454284,\n",
       "  0.3045922700787656,\n",
       "  0.38549597218097342,\n",
       "  0.42006206476846436],\n",
       " [2,\n",
       "  0.24538920797527183,\n",
       "  0.21319294155984225,\n",
       "  0.17267374911804237,\n",
       "  0.14980782059668582,\n",
       "  0.12455782492310402,\n",
       "  0.15827240325240716,\n",
       "  0.18813800102054307,\n",
       "  0.2281365361911761],\n",
       " [3,\n",
       "  0.16939072575800748,\n",
       "  0.12351145216471017,\n",
       "  0.10573640360458307,\n",
       "  0.092278943706730274,\n",
       "  0.084716820532032097,\n",
       "  0.097943216965203639,\n",
       "  0.11460746218360203,\n",
       "  0.13284165050615959],\n",
       " [4, 0.507, 0.548, 0.529, 0.428, 0.341, 0.412, 0.503, 0.527],\n",
       " [5,\n",
       "  0.38890033564721693,\n",
       "  0.41168870887323,\n",
       "  0.37383028066633678,\n",
       "  0.30281366786264818,\n",
       "  0.23685121184066599,\n",
       "  0.2918418959824452,\n",
       "  0.35578802570097179,\n",
       "  0.39530840738032269],\n",
       " [6,\n",
       "  0.24783332359255542,\n",
       "  0.22210975660607141,\n",
       "  0.17981183717213467,\n",
       "  0.15600425113231517,\n",
       "  0.12910096747349079,\n",
       "  0.15164704683719013,\n",
       "  0.17363929268501496,\n",
       "  0.21469277602276751],\n",
       " [7,\n",
       "  0.1710778843810952,\n",
       "  0.12867733039213153,\n",
       "  0.11010739666697725,\n",
       "  0.09609583432233712,\n",
       "  0.087806795749005906,\n",
       "  0.093843268348055564,\n",
       "  0.10577532748321435,\n",
       "  0.12501348181561803],\n",
       " [8, 0.476, 0.55, 0.553, 0.447, 0.335, 0.39, 0.468, 0.487],\n",
       " [9,\n",
       "  0.36512141966089795,\n",
       "  0.4131912224092637,\n",
       "  0.39079044462851464,\n",
       "  0.31625633068832648,\n",
       "  0.23268374183760443,\n",
       "  0.27625810542027585,\n",
       "  0.33103140363430378,\n",
       "  0.36530397418257521],\n",
       " [10,\n",
       "  0.23267980676539718,\n",
       "  0.2229203761557286,\n",
       "  0.18796965209109731,\n",
       "  0.16292967349566562,\n",
       "  0.12682939619829742,\n",
       "  0.14354938899636929,\n",
       "  0.16155703573874156,\n",
       "  0.19839730915196921],\n",
       " [11,\n",
       "  0.16061750091795132,\n",
       "  0.12914695568553347,\n",
       "  0.11510281730971346,\n",
       "  0.10036177089272125,\n",
       "  0.086261808140519008,\n",
       "  0.088832220038207954,\n",
       "  0.098415215232891276,\n",
       "  0.11552479249374949],\n",
       " [12, 0.437, 0.481, 0.481, 0.401, 0.322, 0.426, 0.518, 0.508],\n",
       " [13,\n",
       "  0.33520600922649668,\n",
       "  0.36135450541610148,\n",
       "  0.33990995274198105,\n",
       "  0.28371093647878959,\n",
       "  0.22365422349763767,\n",
       "  0.30175885361291666,\n",
       "  0.36639800658668664,\n",
       "  0.38105630161139264],\n",
       " [14,\n",
       "  0.21361570495058524,\n",
       "  0.19495400169255536,\n",
       "  0.16349620733420939,\n",
       "  0.14616286145808036,\n",
       "  0.1219076584353784,\n",
       "  0.15680010182680337,\n",
       "  0.17881740280484643,\n",
       "  0.20695242925913832],\n",
       " [15,\n",
       "  0.14745766365786708,\n",
       "  0.11294488306316652,\n",
       "  0.10011655538150482,\n",
       "  0.090033713932843901,\n",
       "  0.08291433498879737,\n",
       "  0.097032117272504062,\n",
       "  0.10892966130478138,\n",
       "  0.12050635438773047],\n",
       " [16, 0.472, 0.52, 0.518, 0.442, 0.373, 0.437, 0.5, 0.5],\n",
       " [17,\n",
       "  0.36205317243685681,\n",
       "  0.39065351936875842,\n",
       "  0.36605687218367189,\n",
       "  0.31271878783946377,\n",
       "  0.25907771852366102,\n",
       "  0.30955074889400136,\n",
       "  0.35366602952382881,\n",
       "  0.37505541497184314],\n",
       " [18,\n",
       "  0.23072451427157031,\n",
       "  0.21076108291087067,\n",
       "  0.17607283866761014,\n",
       "  0.16110719392636286,\n",
       "  0.14121601427452218,\n",
       "  0.16084893074721379,\n",
       "  0.17260367066104867,\n",
       "  0.20369333588497865],\n",
       " [19,\n",
       "  0.15926777401948114,\n",
       "  0.12210257628450435,\n",
       "  0.10781782887238982,\n",
       "  0.099239156005778054,\n",
       "  0.096046729660936081,\n",
       "  0.099537641427427881,\n",
       "  0.10514446071890093,\n",
       "  0.11860861652335676],\n",
       " [20, 0.434, 0.491, 0.504, 0.427, 0.341, 0.431, 0.512, 0.498],\n",
       " [21,\n",
       "  0.33290482380846581,\n",
       "  0.36886707309626993,\n",
       "  0.35616344320573479,\n",
       "  0.30210615929287565,\n",
       "  0.23685121184066599,\n",
       "  0.30530062419522785,\n",
       "  0.36215401423240068,\n",
       "  0.37355519331195575],\n",
       " [22,\n",
       "  0.21214923558021509,\n",
       "  0.19900709944084133,\n",
       "  0.17131411329821525,\n",
       "  0.15563975521845463,\n",
       "  0.12910096747349079,\n",
       "  0.15864047860880812,\n",
       "  0.17674615875691385,\n",
       "  0.20287856254143874],\n",
       " [23,\n",
       "  0.14644536848401443,\n",
       "  0.11529300953017622,\n",
       "  0.10490383349746037,\n",
       "  0.095871311344948487,\n",
       "  0.087806795749005906,\n",
       "  0.098170991888378523,\n",
       "  0.10766792777615455,\n",
       "  0.11813418205726334],\n",
       " [24, 0.412, 0.479, 0.495, 0.406, 0.307, 0.415, 0.509, 0.49],\n",
       " [25,\n",
       "  0.31602946407623939,\n",
       "  0.35985199188006778,\n",
       "  0.34980338171991809,\n",
       "  0.2872484793276523,\n",
       "  0.21323554848998375,\n",
       "  0.29396695833183195,\n",
       "  0.36003201805525775,\n",
       "  0.36755430667240629],\n",
       " [26,\n",
       "  0.2013951268641673,\n",
       "  0.19414338214289817,\n",
       "  0.16825493270360428,\n",
       "  0.14798534102738309,\n",
       "  0.11622873024739493,\n",
       "  0.15275127290639295,\n",
       "  0.17571053673294756,\n",
       "  0.19961946916727907],\n",
       " [27,\n",
       "  0.13902187054242846,\n",
       "  0.11247525776976458,\n",
       "  0.10303055075643429,\n",
       "  0.091156328819787094,\n",
       "  0.079051865967580098,\n",
       "  0.094526593117580243,\n",
       "  0.10703706101184116,\n",
       "  0.11623644419288963],\n",
       " [28, 0.48, 0.517, 0.505, 0.411, 0.325, 0.414, 0.515, 0.528],\n",
       " [29,\n",
       "  0.36818966688493909,\n",
       "  0.38839974906470787,\n",
       "  0.35687011670415891,\n",
       "  0.29078602217651495,\n",
       "  0.22573795849916847,\n",
       "  0.2932586042153697,\n",
       "  0.36427601040954366,\n",
       "  0.39605851821026639],\n",
       " [30,\n",
       "  0.23463509925922404,\n",
       "  0.20954515358638487,\n",
       "  0.17165402225317203,\n",
       "  0.14980782059668582,\n",
       "  0.1230434440729751,\n",
       "  0.15238319754999202,\n",
       "  0.17778178078088014,\n",
       "  0.21510016269453747],\n",
       " [31,\n",
       "  0.16196722781642148,\n",
       "  0.12139813834440144,\n",
       "  0.10511197602424104,\n",
       "  0.092278943706730274,\n",
       "  0.083686828793040818,\n",
       "  0.094298818194405359,\n",
       "  0.10829879454046797,\n",
       "  0.12525069904866473]]"
      ]
     },
     "execution_count": 27,
     "metadata": {},
     "output_type": "execute_result"
    }
   ],
   "source": [
    "test_Nu_C_output = []\n",
    "for i, t in enumerate(test_Nu_C_input):\n",
    "    v = Nu_C(t[0]).get_value(t[1],t[2])\n",
    "    test_Nu_C_output.append( [i, v.S, v.SW, v.W, v.NW, v.N, v.NE, v.E, v.SE ] )\n",
    "test_Nu_C_output"
   ]
  },
  {
   "cell_type": "markdown",
   "metadata": {},
   "source": [
    "# 取得日射熱補正係数(デフォルト値)のテスト"
   ]
  },
  {
   "cell_type": "markdown",
   "metadata": {},
   "source": [
    "## 1) 暖房"
   ]
  },
  {
   "cell_type": "code",
   "execution_count": 28,
   "metadata": {
    "collapsed": true
   },
   "outputs": [],
   "source": [
    "test_f_H_default_input = []\n",
    "\n",
    "    # 返り値: 方位係数\n",
    "    # 引数:\n",
    "        # 第1引数: 地域の区分\n",
    "\n",
    "test_f_H_default_input.append( [1] )\n",
    "test_f_H_default_input.append( [2] )\n",
    "test_f_H_default_input.append( [3] )\n",
    "test_f_H_default_input.append( [4] )\n",
    "test_f_H_default_input.append( [5] )\n",
    "test_f_H_default_input.append( [6] )\n",
    "test_f_H_default_input.append( [7] )"
   ]
  },
  {
   "cell_type": "code",
   "execution_count": 29,
   "metadata": {
    "collapsed": false
   },
   "outputs": [
    {
     "data": {
      "text/plain": [
       "[[0,\n",
       "  0.655333333,\n",
       "  0.658,\n",
       "  0.636666667,\n",
       "  0.605,\n",
       "  0.62,\n",
       "  0.602,\n",
       "  0.640333333,\n",
       "  0.664666667,\n",
       "  'ND',\n",
       "  'ND'],\n",
       " [1,\n",
       "  0.628666667,\n",
       "  0.647666667,\n",
       "  0.643333333,\n",
       "  0.604,\n",
       "  0.618,\n",
       "  0.605,\n",
       "  0.642333333,\n",
       "  0.655666667,\n",
       "  'ND',\n",
       "  'ND'],\n",
       " [2,\n",
       "  0.637333333,\n",
       "  0.649666667,\n",
       "  0.636333333,\n",
       "  0.601666667,\n",
       "  0.617666667,\n",
       "  0.601666667,\n",
       "  0.631333333,\n",
       "  0.648666667,\n",
       "  'ND',\n",
       "  'ND'],\n",
       " [3,\n",
       "  0.616,\n",
       "  0.642333333,\n",
       "  0.636,\n",
       "  0.595,\n",
       "  0.619666667,\n",
       "  0.597666667,\n",
       "  0.637333333,\n",
       "  0.642333333,\n",
       "  'ND',\n",
       "  'ND'],\n",
       " [4,\n",
       "  0.654333333,\n",
       "  0.666666667,\n",
       "  0.642666667,\n",
       "  0.595,\n",
       "  0.628,\n",
       "  0.592,\n",
       "  0.646666667,\n",
       "  0.670666667,\n",
       "  'ND',\n",
       "  'ND'],\n",
       " [5,\n",
       "  0.642,\n",
       "  0.653666667,\n",
       "  0.640666667,\n",
       "  0.595,\n",
       "  0.627666667,\n",
       "  0.589,\n",
       "  0.642333333,\n",
       "  0.674666667,\n",
       "  'ND',\n",
       "  'ND'],\n",
       " [6,\n",
       "  0.649666667,\n",
       "  0.669666667,\n",
       "  0.643,\n",
       "  0.589333333,\n",
       "  0.636,\n",
       "  0.587333333,\n",
       "  0.639666667,\n",
       "  0.665666667,\n",
       "  'ND',\n",
       "  'ND']]"
      ]
     },
     "execution_count": 29,
     "metadata": {},
     "output_type": "execute_result"
    }
   ],
   "source": [
    "test_f_H_default_output = []\n",
    "for i, t in enumerate(test_f_H_default_input):\n",
    "    v = f_H_default().get_value( t[0] )\n",
    "    test_f_H_default_output.append( [i, v.S, v.SW, v.W, v.NW, v.N, v.NE, v.E, v.SE, v.top, v.bottom ] )\n",
    "test_f_H_default_output"
   ]
  },
  {
   "cell_type": "markdown",
   "metadata": {},
   "source": [
    "## 2) 冷房"
   ]
  },
  {
   "cell_type": "code",
   "execution_count": 30,
   "metadata": {
    "collapsed": true
   },
   "outputs": [],
   "source": [
    "test_f_C_default_input = []\n",
    "\n",
    "    # 返り値: 方位係数\n",
    "    # 引数:\n",
    "        # 第1引数: 地域の区分\n",
    "\n",
    "test_f_C_default_input.append( [ 1, 'yes' ] )\n",
    "test_f_C_default_input.append( [ 2, 'yes' ] )\n",
    "test_f_C_default_input.append( [ 3, 'yes' ] )\n",
    "test_f_C_default_input.append( [ 4, 'yes' ] )\n",
    "test_f_C_default_input.append( [ 5, 'yes' ] )\n",
    "test_f_C_default_input.append( [ 6, 'yes' ] )\n",
    "test_f_C_default_input.append( [ 7, 'yes' ] )\n",
    "test_f_C_default_input.append( [ 8, 'yes' ] )\n",
    "test_f_C_default_input.append( [ 1, 'no' ] )\n",
    "test_f_C_default_input.append( [ 2, 'no' ] )\n",
    "test_f_C_default_input.append( [ 3, 'no' ] )\n",
    "test_f_C_default_input.append( [ 4, 'no' ] )\n",
    "test_f_C_default_input.append( [ 5, 'no' ] )\n",
    "test_f_C_default_input.append( [ 6, 'no' ] )\n",
    "test_f_C_default_input.append( [ 7, 'no' ] )\n",
    "test_f_C_default_input.append( [ 8, 'no' ] )"
   ]
  },
  {
   "cell_type": "code",
   "execution_count": 31,
   "metadata": {
    "collapsed": false
   },
   "outputs": [
    {
     "data": {
      "text/plain": [
       "[[0, 0.685, 0.689, 0.700666667, 0.65, 0.545, 0.646, 0.698, 0.689, 'ND', 'ND'],\n",
       " [1,\n",
       "  0.688,\n",
       "  0.684666667,\n",
       "  0.691666667,\n",
       "  0.644333333,\n",
       "  0.553333333,\n",
       "  0.646666667,\n",
       "  0.692333333,\n",
       "  0.685666667,\n",
       "  'ND',\n",
       "  'ND'],\n",
       " [2,\n",
       "  0.685,\n",
       "  0.682333333,\n",
       "  0.679666667,\n",
       "  0.634,\n",
       "  0.538,\n",
       "  0.644333333,\n",
       "  0.699666667,\n",
       "  0.686666667,\n",
       "  'ND',\n",
       "  'ND'],\n",
       " [3,\n",
       "  0.683,\n",
       "  0.677,\n",
       "  0.690666667,\n",
       "  0.632666667,\n",
       "  0.525,\n",
       "  0.631,\n",
       "  0.683666667,\n",
       "  0.677333333,\n",
       "  'ND',\n",
       "  'ND'],\n",
       " [4,\n",
       "  0.687666667,\n",
       "  0.682,\n",
       "  0.685,\n",
       "  0.642333333,\n",
       "  0.565,\n",
       "  0.647666667,\n",
       "  0.686333333,\n",
       "  0.678666667,\n",
       "  'ND',\n",
       "  'ND'],\n",
       " [5,\n",
       "  0.677666667,\n",
       "  0.678333333,\n",
       "  0.689666667,\n",
       "  0.636333333,\n",
       "  0.562333333,\n",
       "  0.637333333,\n",
       "  0.691666667,\n",
       "  0.683333333,\n",
       "  'ND',\n",
       "  'ND'],\n",
       " [6,\n",
       "  0.672333333,\n",
       "  0.678666667,\n",
       "  0.692,\n",
       "  0.631,\n",
       "  0.558,\n",
       "  0.628333333,\n",
       "  0.690666667,\n",
       "  0.679333333,\n",
       "  'ND',\n",
       "  'ND'],\n",
       " [7,\n",
       "  0.678,\n",
       "  0.673,\n",
       "  0.691666667,\n",
       "  0.654666667,\n",
       "  0.609333333,\n",
       "  0.651666667,\n",
       "  0.691666667,\n",
       "  0.677333333,\n",
       "  'ND',\n",
       "  'ND'],\n",
       " [8, 0.807, 0.86, 0.88, 0.866, 0.853, 0.865, 0.882, 0.864, 'ND', 'ND'],\n",
       " [9, 0.812, 0.861, 0.878, 0.864, 0.857, 0.864, 0.877, 0.858, 'ND', 'ND'],\n",
       " [10, 0.799, 0.859, 0.883, 0.865, 0.853, 0.862, 0.87, 0.853, 'ND', 'ND'],\n",
       " [11, 0.784, 0.85, 0.876, 0.861, 0.852, 0.861, 0.881, 0.853, 'ND', 'ND'],\n",
       " [12, 0.807, 0.858, 0.875, 0.862, 0.86, 0.863, 0.874, 0.854, 'ND', 'ND'],\n",
       " [13, 0.795, 0.852, 0.88, 0.864, 0.847, 0.862, 0.88, 0.852, 'ND', 'ND'],\n",
       " [14, 0.788, 0.847, 0.88, 0.862, 0.838, 0.861, 0.881, 0.849, 'ND', 'ND'],\n",
       " [15, 0.824, 0.858, 0.876, 0.859, 0.848, 0.857, 0.877, 0.86, 'ND', 'ND']]"
      ]
     },
     "execution_count": 31,
     "metadata": {},
     "output_type": "execute_result"
    }
   ],
   "source": [
    "test_f_C_default_output = []\n",
    "for i, t in enumerate(test_f_C_default_input):\n",
    "    v = f_C_default().get_value( t[0], t[1] )\n",
    "    test_f_C_default_output.append( [i, v.S, v.SW, v.W, v.NW, v.N, v.NE, v.E, v.SE, v.top, v.bottom ] )\n",
    "test_f_C_default_output"
   ]
  },
  {
   "cell_type": "markdown",
   "metadata": {
    "collapsed": true
   },
   "source": [
    "# 外皮平均熱貫流率のテスト"
   ]
  },
  {
   "cell_type": "markdown",
   "metadata": {},
   "source": [
    "テストの方針\n",
    "\n",
    "家の種類・・・全種類実施(3種類)  \n",
    "屋根・壁・ドア・主開口窓・その他の開口窓・床・基礎・基礎(玄関ドア等)のU値・・・1.0固定  \n",
    "土間床外周部・土間床外周部(玄関ドア等)のψ値・・・全て、1.0の場合と2.0の場合の2種類"
   ]
  },
  {
   "cell_type": "code",
   "execution_count": 32,
   "metadata": {
    "collapsed": true
   },
   "outputs": [],
   "source": [
    "test_U_A_input = []\n",
    "\n",
    "    # 引数:\n",
    "        # 第1引数: 家の種類( 'floor_ins' , 'base_ins' , 'floor_base_ins' )\n",
    "        # 第2引数: 屋根のU値(W/m2K)\n",
    "        # 第3引数: 壁のU値(W/m2K)\n",
    "        # 第4引数: ドアのU値(W/m2K)\n",
    "        # 第5引数: 主開口窓のU値(W/m2K)\n",
    "        # 第6引数: その他の開口窓のU値(W/m2K)\n",
    "        # 第7引数: 床のU値(W/m2K)\n",
    "        # 第8引数: 基礎のU値(W/m2K)\n",
    "        # 第9引数: 基礎(玄関ドア等)のU値(W/m2K)\n",
    "        # 第10引数: 土間床外周部のψ値(W/mK)\n",
    "        # 第11引数: 土間床外周部(玄関ドア等)のψ値(W/mK)\n",
    "\n",
    "test_U_A_input.append( [ 'floor_ins', 1.0, 1.0, 1.0, 1.0, 1.0, 1.0, 1.0, 1.0, 1.0, 1.0 ] )\n",
    "test_U_A_input.append( [ 'base_ins', 1.0, 1.0, 1.0, 1.0, 1.0, 1.0, 1.0, 1.0, 1.0, 1.0 ] )\n",
    "test_U_A_input.append( [ 'floor_base_ins', 1.0, 1.0, 1.0, 1.0, 1.0, 1.0, 1.0, 1.0, 1.0, 1.0 ] )\n",
    "test_U_A_input.append( [ 'floor_ins', 1.0, 1.0, 1.0, 1.0, 1.0, 1.0, 1.0, 1.0, 2.0, 2.0 ] )\n",
    "test_U_A_input.append( [ 'base_ins', 1.0, 1.0, 1.0, 1.0, 1.0, 1.0, 1.0, 1.0, 2.0, 2.0 ] )\n",
    "test_U_A_input.append( [ 'floor_base_ins', 1.0, 1.0, 1.0, 1.0, 1.0, 1.0, 1.0, 1.0, 2.0, 2.0 ] )"
   ]
  },
  {
   "cell_type": "code",
   "execution_count": 33,
   "metadata": {
    "collapsed": false
   },
   "outputs": [
    {
     "data": {
      "text/plain": [
       "[[0, Decimal('0.97')],\n",
       " [1, Decimal('0.93')],\n",
       " [2, Decimal('0.97')],\n",
       " [3, Decimal('1.02')],\n",
       " [4, Decimal('1.04')],\n",
       " [5, Decimal('1.04')]]"
      ]
     },
     "execution_count": 33,
     "metadata": {},
     "output_type": "execute_result"
    }
   ],
   "source": [
    "test_U_A_output = []\n",
    "for i, t in enumerate(test_U_A_input):\n",
    "    test_U_A_output.append( [i, U_A( t[0], t[1], t[2], t[3], t[4], t[5], t[6], t[7], t[8], t[9], t[10] ) ] )\n",
    "test_U_A_output"
   ]
  },
  {
   "cell_type": "markdown",
   "metadata": {},
   "source": [
    "# 平均日射熱取得率のテスト"
   ]
  },
  {
   "cell_type": "markdown",
   "metadata": {},
   "source": [
    "## 1) 暖房期"
   ]
  },
  {
   "cell_type": "markdown",
   "metadata": {},
   "source": [
    "テストの方針\n",
    "\n",
    "家の種類・・・全種類実施(3種類) ※  \n",
    "地域の区分・・・全種類(8種類)  \n",
    "主開口の方位・・・全方位(8種類)  \n",
    "屋根・壁・ドア・主開口窓・その他の開口窓・床・基礎・基礎(玄関ドア等)のU値・・・1.0固定  \n",
    "土間床外周部・土間床外周部(玄関ドア等)のψ値・・・全て、1.0の場合と2.0の場合の2種類 ※  \n",
    "主開口窓の暖房期のηd値・その他開口窓の暖房期のηd値・・・1.0固定  \n",
    "区域建蔽率・・・0.5固定  \n",
    "隣棟との関係・・・すべて実施(0,1,2,3)  \n",
    "※ ある特定条件のみ実施"
   ]
  },
  {
   "cell_type": "code",
   "execution_count": 34,
   "metadata": {
    "collapsed": true
   },
   "outputs": [],
   "source": [
    "test_eta_A_H_input = []\n",
    "\n",
    "    # 引数:\n",
    "        # 第1引数: 家の種類( 'floor_ins' , 'base_ins' , 'floor_base_ins' )\n",
    "        # 第2引数: 地域の区分\n",
    "        # 第3引数: 主開口の方位\n",
    "        # 第4引数: 屋根のU値(W/m2K)\n",
    "        # 第5引数: 壁のU値(W/m2K)\n",
    "        # 第6引数: ドアのU値(W/m2K)\n",
    "        # 第7引数: 主開口窓のU値(W/m2K)\n",
    "        # 第8引数: その他の開口窓のU値(W/m2K)\n",
    "        # 第9引数: 床のU値(W/m2K)\n",
    "        # 第10引数: 基礎のU値(W/m2K)\n",
    "        # 第11引数: 基礎(玄関ドア等)のU値(W/m2K)\n",
    "        # 第12引数: 土間床外周部のψ値(W/mK)\n",
    "        # 第13引数: 土間床外周部(玄関ドア等)のψ値(W/mK)\n",
    "        # 第14引数: 主開口窓の暖房期のηd値\n",
    "        # 第15引数: その他開口窓の暖房期のηd値\n",
    "        # 第16引数: 区域建蔽率\n",
    "        # 第17引数: 隣棟との関係(0,1,2,3)\n",
    "\n",
    "# 家の種類とψ値を振ったテスト\n",
    "test_eta_A_H_input.append( [ 'floor_ins', 1, 'S', 1.0, 1.0, 1.0, 1.0, 1.0, 1.0, 1.0, 1.0, 1.0, 1.0, 1.0, 1.0, 0.5, 0 ] )\n",
    "test_eta_A_H_input.append( [ 'floor_ins', 1, 'S', 1.0, 1.0, 1.0, 1.0, 1.0, 1.0, 1.0, 1.0, 2.0, 2.0, 1.0, 1.0, 0.5, 0 ] )\n",
    "test_eta_A_H_input.append( [ 'base_ins', 1, 'S', 1.0, 1.0, 1.0, 1.0, 1.0, 1.0, 1.0, 1.0, 1.0, 1.0, 1.0, 1.0, 0.5, 0 ] )\n",
    "test_eta_A_H_input.append( [ 'base_ins', 1, 'S', 1.0, 1.0, 1.0, 1.0, 1.0, 1.0, 1.0, 1.0, 2.0, 2.0, 1.0, 1.0, 0.5, 0 ] )\n",
    "test_eta_A_H_input.append( [ 'floor_base_ins', 1, 'S', 1.0, 1.0, 1.0, 1.0, 1.0, 1.0, 1.0, 1.0, 1.0, 1.0, 1.0, 1.0, 0.5, 0 ] )\n",
    "test_eta_A_H_input.append( [ 'floor_base_ins', 1, 'S', 1.0, 1.0, 1.0, 1.0, 1.0, 1.0, 1.0, 1.0, 2.0, 2.0, 1.0, 1.0, 0.5, 0 ] )\n",
    "\n",
    "# その他のテスト\n",
    "for r in [1,2,3,4,5,6,7,8]:\n",
    "    for c in [0,1,2,3]:\n",
    "        test_eta_A_H_input.append( [ 'floor_ins', r, 'S',  1.0, 1.0, 1.0, 1.0, 1.0, 1.0, 1.0, 1.0, 1.0, 1.0, 1.0, 1.0, 0.5, c ] )\n",
    "        test_eta_A_H_input.append( [ 'floor_ins', r, 'SW', 1.0, 1.0, 1.0, 1.0, 1.0, 1.0, 1.0, 1.0, 1.0, 1.0, 1.0, 1.0, 0.5, c ] )\n",
    "        test_eta_A_H_input.append( [ 'floor_ins', r, 'W',  1.0, 1.0, 1.0, 1.0, 1.0, 1.0, 1.0, 1.0, 1.0, 1.0, 1.0, 1.0, 0.5, c ] )\n",
    "        test_eta_A_H_input.append( [ 'floor_ins', r, 'NW', 1.0, 1.0, 1.0, 1.0, 1.0, 1.0, 1.0, 1.0, 1.0, 1.0, 1.0, 1.0, 0.5, c ] )\n",
    "        test_eta_A_H_input.append( [ 'floor_ins', r, 'N',  1.0, 1.0, 1.0, 1.0, 1.0, 1.0, 1.0, 1.0, 1.0, 1.0, 1.0, 1.0, 0.5, c ] )\n",
    "        test_eta_A_H_input.append( [ 'floor_ins', r, 'NE', 1.0, 1.0, 1.0, 1.0, 1.0, 1.0, 1.0, 1.0, 1.0, 1.0, 1.0, 1.0, 0.5, c ] )\n",
    "        test_eta_A_H_input.append( [ 'floor_ins', r, 'E',  1.0, 1.0, 1.0, 1.0, 1.0, 1.0, 1.0, 1.0, 1.0, 1.0, 1.0, 1.0, 0.5, c ] )\n",
    "        test_eta_A_H_input.append( [ 'floor_ins', r, 'SE', 1.0, 1.0, 1.0, 1.0, 1.0, 1.0, 1.0, 1.0, 1.0, 1.0, 1.0, 1.0, 0.5, c ] )"
   ]
  },
  {
   "cell_type": "code",
   "execution_count": 35,
   "metadata": {
    "collapsed": false
   },
   "outputs": [
    {
     "data": {
      "text/plain": [
       "[[0, Decimal('7.8')],\n",
       " [1, Decimal('7.8')],\n",
       " [2, Decimal('7.6')],\n",
       " [3, Decimal('7.6')],\n",
       " [4, Decimal('7.8')],\n",
       " [5, Decimal('7.6')],\n",
       " [6, Decimal('7.8')],\n",
       " [7, Decimal('7.2')],\n",
       " [8, Decimal('6.1')],\n",
       " [9, Decimal('5.0')],\n",
       " [10, Decimal('4.7')],\n",
       " [11, Decimal('4.8')],\n",
       " [12, Decimal('5.9')],\n",
       " [13, Decimal('7.2')],\n",
       " [14, Decimal('6.2')],\n",
       " [15, Decimal('5.5')],\n",
       " [16, Decimal('4.6')],\n",
       " [17, Decimal('3.9')],\n",
       " [18, Decimal('3.7')],\n",
       " [19, Decimal('3.7')],\n",
       " [20, Decimal('4.4')],\n",
       " [21, Decimal('5.4')],\n",
       " [22, Decimal('2.9')],\n",
       " [23, Decimal('2.7')],\n",
       " [24, Decimal('2.4')],\n",
       " [25, Decimal('2.1')],\n",
       " [26, Decimal('2.1')],\n",
       " [27, Decimal('2.1')],\n",
       " [28, Decimal('2.3')],\n",
       " [29, Decimal('2.7')],\n",
       " [30, Decimal('1.8')],\n",
       " [31, Decimal('1.7')],\n",
       " [32, Decimal('1.6')],\n",
       " [33, Decimal('1.5')],\n",
       " [34, Decimal('1.4')],\n",
       " [35, Decimal('1.5')],\n",
       " [36, Decimal('1.6')],\n",
       " [37, Decimal('1.7')],\n",
       " [38, Decimal('7.1')],\n",
       " [39, Decimal('6.9')],\n",
       " [40, Decimal('6.0')],\n",
       " [41, Decimal('5.0')],\n",
       " [42, Decimal('4.6')],\n",
       " [43, Decimal('4.8')],\n",
       " [44, Decimal('5.8')],\n",
       " [45, Decimal('6.8')],\n",
       " [46, Decimal('5.6')],\n",
       " [47, Decimal('5.2')],\n",
       " [48, Decimal('4.5')],\n",
       " [49, Decimal('3.8')],\n",
       " [50, Decimal('3.6')],\n",
       " [51, Decimal('3.7')],\n",
       " [52, Decimal('4.3')],\n",
       " [53, Decimal('5.1')],\n",
       " [54, Decimal('2.7')],\n",
       " [55, Decimal('2.6')],\n",
       " [56, Decimal('2.4')],\n",
       " [57, Decimal('2.1')],\n",
       " [58, Decimal('2.0')],\n",
       " [59, Decimal('2.1')],\n",
       " [60, Decimal('2.3')],\n",
       " [61, Decimal('2.5')],\n",
       " [62, Decimal('1.7')],\n",
       " [63, Decimal('1.7')],\n",
       " [64, Decimal('1.6')],\n",
       " [65, Decimal('1.5')],\n",
       " [66, Decimal('1.4')],\n",
       " [67, Decimal('1.5')],\n",
       " [68, Decimal('1.5')],\n",
       " [69, Decimal('1.7')],\n",
       " [70, Decimal('7.2')],\n",
       " [71, Decimal('6.9')],\n",
       " [72, Decimal('5.9')],\n",
       " [73, Decimal('5.0')],\n",
       " [74, Decimal('4.7')],\n",
       " [75, Decimal('4.8')],\n",
       " [76, Decimal('5.7')],\n",
       " [77, Decimal('6.7')],\n",
       " [78, Decimal('5.7')],\n",
       " [79, Decimal('5.2')],\n",
       " [80, Decimal('4.5')],\n",
       " [81, Decimal('3.8')],\n",
       " [82, Decimal('3.7')],\n",
       " [83, Decimal('3.7')],\n",
       " [84, Decimal('4.3')],\n",
       " [85, Decimal('5.0')],\n",
       " [86, Decimal('2.7')],\n",
       " [87, Decimal('2.6')],\n",
       " [88, Decimal('2.4')],\n",
       " [89, Decimal('2.1')],\n",
       " [90, Decimal('2.1')],\n",
       " [91, Decimal('2.1')],\n",
       " [92, Decimal('2.3')],\n",
       " [93, Decimal('2.5')],\n",
       " [94, Decimal('1.7')],\n",
       " [95, Decimal('1.7')],\n",
       " [96, Decimal('1.6')],\n",
       " [97, Decimal('1.5')],\n",
       " [98, Decimal('1.4')],\n",
       " [99, Decimal('1.5')],\n",
       " [100, Decimal('1.5')],\n",
       " [101, Decimal('1.6')],\n",
       " [102, Decimal('6.8')],\n",
       " [103, Decimal('6.6')],\n",
       " [104, Decimal('5.8')],\n",
       " [105, Decimal('4.7')],\n",
       " [106, Decimal('4.4')],\n",
       " [107, Decimal('4.6')],\n",
       " [108, Decimal('5.5')],\n",
       " [109, Decimal('6.4')],\n",
       " [110, Decimal('5.3')],\n",
       " [111, Decimal('5.0')],\n",
       " [112, Decimal('4.3')],\n",
       " [113, Decimal('3.6')],\n",
       " [114, Decimal('3.5')],\n",
       " [115, Decimal('3.5')],\n",
       " [116, Decimal('4.2')],\n",
       " [117, Decimal('4.8')],\n",
       " [118, Decimal('2.6')],\n",
       " [119, Decimal('2.5')],\n",
       " [120, Decimal('2.3')],\n",
       " [121, Decimal('2.0')],\n",
       " [122, Decimal('2.0')],\n",
       " [123, Decimal('2.0')],\n",
       " [124, Decimal('2.2')],\n",
       " [125, Decimal('2.4')],\n",
       " [126, Decimal('1.6')],\n",
       " [127, Decimal('1.6')],\n",
       " [128, Decimal('1.5')],\n",
       " [129, Decimal('1.4')],\n",
       " [130, Decimal('1.4')],\n",
       " [131, Decimal('1.4')],\n",
       " [132, Decimal('1.5')],\n",
       " [133, Decimal('1.6')],\n",
       " [134, Decimal('8.1')],\n",
       " [135, Decimal('7.4')],\n",
       " [136, Decimal('6.2')],\n",
       " [137, Decimal('4.9')],\n",
       " [138, Decimal('4.7')],\n",
       " [139, Decimal('4.7')],\n",
       " [140, Decimal('6.0')],\n",
       " [141, Decimal('7.3')],\n",
       " [142, Decimal('6.4')],\n",
       " [143, Decimal('5.6')],\n",
       " [144, Decimal('4.7')],\n",
       " [145, Decimal('3.8')],\n",
       " [146, Decimal('3.7')],\n",
       " [147, Decimal('3.6')],\n",
       " [148, Decimal('4.5')],\n",
       " [149, Decimal('5.5')],\n",
       " [150, Decimal('3.0')],\n",
       " [151, Decimal('2.7')],\n",
       " [152, Decimal('2.4')],\n",
       " [153, Decimal('2.1')],\n",
       " [154, Decimal('2.0')],\n",
       " [155, Decimal('2.0')],\n",
       " [156, Decimal('2.4')],\n",
       " [157, Decimal('2.7')],\n",
       " [158, Decimal('1.8')],\n",
       " [159, Decimal('1.8')],\n",
       " [160, Decimal('1.6')],\n",
       " [161, Decimal('1.5')],\n",
       " [162, Decimal('1.4')],\n",
       " [163, Decimal('1.4')],\n",
       " [164, Decimal('1.6')],\n",
       " [165, Decimal('1.7')],\n",
       " [166, Decimal('7.7')],\n",
       " [167, Decimal('7.1')],\n",
       " [168, Decimal('6.0')],\n",
       " [169, Decimal('5.0')],\n",
       " [170, Decimal('4.7')],\n",
       " [171, Decimal('4.7')],\n",
       " [172, Decimal('6.0')],\n",
       " [173, Decimal('7.3')],\n",
       " [174, Decimal('6.1')],\n",
       " [175, Decimal('5.3')],\n",
       " [176, Decimal('4.5')],\n",
       " [177, Decimal('3.8')],\n",
       " [178, Decimal('3.7')],\n",
       " [179, Decimal('3.6')],\n",
       " [180, Decimal('4.5')],\n",
       " [181, Decimal('5.5')],\n",
       " [182, Decimal('2.9')],\n",
       " [183, Decimal('2.6')],\n",
       " [184, Decimal('2.4')],\n",
       " [185, Decimal('2.1')],\n",
       " [186, Decimal('2.1')],\n",
       " [187, Decimal('2.0')],\n",
       " [188, Decimal('2.4')],\n",
       " [189, Decimal('2.7')],\n",
       " [190, Decimal('1.8')],\n",
       " [191, Decimal('1.7')],\n",
       " [192, Decimal('1.6')],\n",
       " [193, Decimal('1.5')],\n",
       " [194, Decimal('1.4')],\n",
       " [195, Decimal('1.4')],\n",
       " [196, Decimal('1.6')],\n",
       " [197, Decimal('1.7')],\n",
       " [198, Decimal('8.2')],\n",
       " [199, Decimal('7.6')],\n",
       " [200, Decimal('6.2')],\n",
       " [201, Decimal('4.9')],\n",
       " [202, Decimal('4.7')],\n",
       " [203, Decimal('4.6')],\n",
       " [204, Decimal('5.8')],\n",
       " [205, Decimal('7.3')],\n",
       " [206, Decimal('6.5')],\n",
       " [207, Decimal('5.7')],\n",
       " [208, Decimal('4.7')],\n",
       " [209, Decimal('3.7')],\n",
       " [210, Decimal('3.7')],\n",
       " [211, Decimal('3.5')],\n",
       " [212, Decimal('4.4')],\n",
       " [213, Decimal('5.5')],\n",
       " [214, Decimal('3.1')],\n",
       " [215, Decimal('2.8')],\n",
       " [216, Decimal('2.4')],\n",
       " [217, Decimal('2.0')],\n",
       " [218, Decimal('2.0')],\n",
       " [219, Decimal('2.0')],\n",
       " [220, Decimal('2.3')],\n",
       " [221, Decimal('2.7')],\n",
       " [222, Decimal('1.8')],\n",
       " [223, Decimal('1.8')],\n",
       " [224, Decimal('1.6')],\n",
       " [225, Decimal('1.4')],\n",
       " [226, Decimal('1.4')],\n",
       " [227, Decimal('1.4')],\n",
       " [228, Decimal('1.6')],\n",
       " [229, Decimal('1.7')],\n",
       " [230, 'ND'],\n",
       " [231, 'ND'],\n",
       " [232, 'ND'],\n",
       " [233, 'ND'],\n",
       " [234, 'ND'],\n",
       " [235, 'ND'],\n",
       " [236, 'ND'],\n",
       " [237, 'ND'],\n",
       " [238, 'ND'],\n",
       " [239, 'ND'],\n",
       " [240, 'ND'],\n",
       " [241, 'ND'],\n",
       " [242, 'ND'],\n",
       " [243, 'ND'],\n",
       " [244, 'ND'],\n",
       " [245, 'ND'],\n",
       " [246, 'ND'],\n",
       " [247, 'ND'],\n",
       " [248, 'ND'],\n",
       " [249, 'ND'],\n",
       " [250, 'ND'],\n",
       " [251, 'ND'],\n",
       " [252, 'ND'],\n",
       " [253, 'ND'],\n",
       " [254, 'ND'],\n",
       " [255, 'ND'],\n",
       " [256, 'ND'],\n",
       " [257, 'ND'],\n",
       " [258, 'ND'],\n",
       " [259, 'ND'],\n",
       " [260, 'ND'],\n",
       " [261, 'ND']]"
      ]
     },
     "execution_count": 35,
     "metadata": {},
     "output_type": "execute_result"
    }
   ],
   "source": [
    "test_eta_A_H_output = []\n",
    "for i, t in enumerate(test_eta_A_H_input):\n",
    "    test_eta_A_H_output.append( [i, eta_A_H( t[0], t[1], t[2], t[3], t[4], t[5], t[6], t[7], t[8], t[9], t[10], t[11], t[12], t[13], t[14], t[15], t[16] ) ] )\n",
    "test_eta_A_H_output"
   ]
  },
  {
   "cell_type": "markdown",
   "metadata": {},
   "source": [
    "## 2) 冷房期"
   ]
  },
  {
   "cell_type": "markdown",
   "metadata": {},
   "source": [
    "テストの方針\n",
    "\n",
    "家の種類・・・全種類実施(3種類) ※  \n",
    "地域の区分・・・全種類(8種類)  \n",
    "主開口の方位・・・全方位(8種類)  \n",
    "屋根・壁・ドア・主開口窓・その他の開口窓・床・基礎・基礎(玄関ドア等)のU値・・・1.0固定  \n",
    "土間床外周部・土間床外周部(玄関ドア等)のψ値・・・全て、1.0の場合と2.0の場合の2種類 ※  \n",
    "主開口窓の暖房期のηd値・その他開口窓の暖房期のηd値・・・1.0固定  \n",
    "区域建蔽率・・・0.5固定  \n",
    "隣棟との関係・・・すべて実施(0,1,2,3)  \n",
    "有効な日除けの有無・・・すべて実施('yes','no')  \n",
    "※ ある特定条件のみ実施"
   ]
  },
  {
   "cell_type": "code",
   "execution_count": 36,
   "metadata": {
    "collapsed": true
   },
   "outputs": [],
   "source": [
    "test_eta_A_C_input = []\n",
    "\n",
    "    # 引数:\n",
    "        # 第1引数: 家の種類( 'floor_ins' , 'base_ins' , 'floor_base_ins' )\n",
    "        # 第2引数: 地域の区分\n",
    "        # 第3引数: 主開口の方位\n",
    "        # 第4引数: 屋根のU値(W/m2K)\n",
    "        # 第5引数: 壁のU値(W/m2K)\n",
    "        # 第6引数: ドアのU値(W/m2K)\n",
    "        # 第7引数: 主開口窓のU値(W/m2K)\n",
    "        # 第8引数: その他の開口窓のU値(W/m2K)\n",
    "        # 第9引数: 床のU値(W/m2K)\n",
    "        # 第10引数: 基礎のU値(W/m2K)\n",
    "        # 第11引数: 基礎(玄関ドア等)のU値(W/m2K)\n",
    "        # 第12引数: 土間床外周部のψ値(W/mK)\n",
    "        # 第13引数: 土間床外周部(玄関ドア等)のψ値(W/mK)\n",
    "        # 第14引数: 主開口窓の冷房期のηd値\n",
    "        # 第15引数: その他開口窓の冷房期のηd値\n",
    "        # 第16引数: 区域建蔽率\n",
    "        # 第17引数: 隣棟との関係(0,1,2,3)\n",
    "        # 第18引数: 有効な日除けの有無(yes, no)\n",
    "\n",
    "# 家の種類とψ値を振ったテスト\n",
    "test_eta_A_C_input.append( [ 'floor_ins', 1, 'S', 1.0, 1.0, 1.0, 1.0, 1.0, 1.0, 1.0, 1.0, 1.0, 1.0, 1.0, 1.0, 0.5, 0, 'yes' ] )\n",
    "test_eta_A_C_input.append( [ 'floor_ins', 1, 'S', 1.0, 1.0, 1.0, 1.0, 1.0, 1.0, 1.0, 1.0, 2.0, 2.0, 1.0, 1.0, 0.5, 0, 'yes' ] )\n",
    "test_eta_A_C_input.append( [ 'base_ins', 1, 'S', 1.0, 1.0, 1.0, 1.0, 1.0, 1.0, 1.0, 1.0, 1.0, 1.0, 1.0, 1.0, 0.5, 0, 'yes' ] )\n",
    "test_eta_A_C_input.append( [ 'base_ins', 1, 'S', 1.0, 1.0, 1.0, 1.0, 1.0, 1.0, 1.0, 1.0, 2.0, 2.0, 1.0, 1.0, 0.5, 0, 'yes' ] )\n",
    "test_eta_A_C_input.append( [ 'floor_base_ins', 1, 'S', 1.0, 1.0, 1.0, 1.0, 1.0, 1.0, 1.0, 1.0, 1.0, 1.0, 1.0, 1.0, 0.5, 0, 'yes' ] )\n",
    "test_eta_A_C_input.append( [ 'floor_base_ins', 1, 'S', 1.0, 1.0, 1.0, 1.0, 1.0, 1.0, 1.0, 1.0, 2.0, 2.0, 1.0, 1.0, 0.5, 0, 'yes' ] )\n",
    "\n",
    "# その他のテスト\n",
    "for r in [1,2,3,4,5,6,7,8]:\n",
    "    for c in [0,1,2,3]:\n",
    "        for ee in ['yes','no']:\n",
    "            test_eta_A_C_input.append( [ 'floor_ins', r, 'S',  1.0, 1.0, 1.0, 1.0, 1.0, 1.0, 1.0, 1.0, 1.0, 1.0, 1.0, 1.0, 0.5, c, ee ] )\n",
    "            test_eta_A_C_input.append( [ 'floor_ins', r, 'SW', 1.0, 1.0, 1.0, 1.0, 1.0, 1.0, 1.0, 1.0, 1.0, 1.0, 1.0, 1.0, 0.5, c, ee ] )\n",
    "            test_eta_A_C_input.append( [ 'floor_ins', r, 'W',  1.0, 1.0, 1.0, 1.0, 1.0, 1.0, 1.0, 1.0, 1.0, 1.0, 1.0, 1.0, 0.5, c, ee ] )\n",
    "            test_eta_A_C_input.append( [ 'floor_ins', r, 'NW', 1.0, 1.0, 1.0, 1.0, 1.0, 1.0, 1.0, 1.0, 1.0, 1.0, 1.0, 1.0, 0.5, c, ee ] )\n",
    "            test_eta_A_C_input.append( [ 'floor_ins', r, 'N',  1.0, 1.0, 1.0, 1.0, 1.0, 1.0, 1.0, 1.0, 1.0, 1.0, 1.0, 1.0, 0.5, c, ee ] )\n",
    "            test_eta_A_C_input.append( [ 'floor_ins', r, 'NE', 1.0, 1.0, 1.0, 1.0, 1.0, 1.0, 1.0, 1.0, 1.0, 1.0, 1.0, 1.0, 0.5, c, ee ] )\n",
    "            test_eta_A_C_input.append( [ 'floor_ins', r, 'E',  1.0, 1.0, 1.0, 1.0, 1.0, 1.0, 1.0, 1.0, 1.0, 1.0, 1.0, 1.0, 0.5, c, ee ] )\n",
    "            test_eta_A_C_input.append( [ 'floor_ins', r, 'SE', 1.0, 1.0, 1.0, 1.0, 1.0, 1.0, 1.0, 1.0, 1.0, 1.0, 1.0, 1.0, 0.5, c, ee ] )"
   ]
  },
  {
   "cell_type": "code",
   "execution_count": 37,
   "metadata": {
    "collapsed": false
   },
   "outputs": [
    {
     "data": {
      "text/plain": [
       "[[0, Decimal('5.5')],\n",
       " [1, Decimal('5.5')],\n",
       " [2, Decimal('5.4')],\n",
       " [3, Decimal('5.4')],\n",
       " [4, Decimal('5.5')],\n",
       " [5, Decimal('5.4')],\n",
       " [6, Decimal('5.5')],\n",
       " [7, Decimal('5.8')],\n",
       " [8, Decimal('5.8')],\n",
       " [9, Decimal('5.2')],\n",
       " [10, Decimal('4.4')],\n",
       " [11, Decimal('5.2')],\n",
       " [12, Decimal('5.8')],\n",
       " [13, Decimal('5.9')],\n",
       " [14, Decimal('6.5')],\n",
       " [15, Decimal('7.0')],\n",
       " [16, Decimal('6.9')],\n",
       " [17, Decimal('6.3')],\n",
       " [18, Decimal('5.6')],\n",
       " [19, Decimal('6.3')],\n",
       " [20, Decimal('7.0')],\n",
       " [21, Decimal('7.1')],\n",
       " [22, Decimal('4.3')],\n",
       " [23, Decimal('4.5')],\n",
       " [24, Decimal('4.3')],\n",
       " [25, Decimal('3.9')],\n",
       " [26, Decimal('3.3')],\n",
       " [27, Decimal('3.9')],\n",
       " [28, Decimal('4.4')],\n",
       " [29, Decimal('4.6')],\n",
       " [30, Decimal('5.0')],\n",
       " [31, Decimal('5.3')],\n",
       " [32, Decimal('5.1')],\n",
       " [33, Decimal('4.7')],\n",
       " [34, Decimal('4.2')],\n",
       " [35, Decimal('4.7')],\n",
       " [36, Decimal('5.2')],\n",
       " [37, Decimal('5.4')],\n",
       " [38, Decimal('2.8')],\n",
       " [39, Decimal('2.7')],\n",
       " [40, Decimal('2.5')],\n",
       " [41, Decimal('2.4')],\n",
       " [42, Decimal('2.1')],\n",
       " [43, Decimal('2.4')],\n",
       " [44, Decimal('2.5')],\n",
       " [45, Decimal('2.8')],\n",
       " [46, Decimal('3.2')],\n",
       " [47, Decimal('3.2')],\n",
       " [48, Decimal('2.9')],\n",
       " [49, Decimal('2.8')],\n",
       " [50, Decimal('2.6')],\n",
       " [51, Decimal('2.8')],\n",
       " [52, Decimal('3.0')],\n",
       " [53, Decimal('3.2')],\n",
       " [54, Decimal('2.1')],\n",
       " [55, Decimal('1.9')],\n",
       " [56, Decimal('1.9')],\n",
       " [57, Decimal('1.7')],\n",
       " [58, Decimal('1.7')],\n",
       " [59, Decimal('1.7')],\n",
       " [60, Decimal('1.9')],\n",
       " [61, Decimal('1.9')],\n",
       " [62, Decimal('2.4')],\n",
       " [63, Decimal('2.2')],\n",
       " [64, Decimal('2.1')],\n",
       " [65, Decimal('2.0')],\n",
       " [66, Decimal('2.0')],\n",
       " [67, Decimal('2.0')],\n",
       " [68, Decimal('2.1')],\n",
       " [69, Decimal('2.2')],\n",
       " [70, Decimal('5.6')],\n",
       " [71, Decimal('5.9')],\n",
       " [72, Decimal('5.8')],\n",
       " [73, Decimal('5.2')],\n",
       " [74, Decimal('4.5')],\n",
       " [75, Decimal('5.1')],\n",
       " [76, Decimal('5.6')],\n",
       " [77, Decimal('5.7')],\n",
       " [78, Decimal('6.5')],\n",
       " [79, Decimal('7.1')],\n",
       " [80, Decimal('7.0')],\n",
       " [81, Decimal('6.4')],\n",
       " [82, Decimal('5.7')],\n",
       " [83, Decimal('6.2')],\n",
       " [84, Decimal('6.7')],\n",
       " [85, Decimal('6.8')],\n",
       " [86, Decimal('4.3')],\n",
       " [87, Decimal('4.5')],\n",
       " [88, Decimal('4.4')],\n",
       " [89, Decimal('4.0')],\n",
       " [90, Decimal('3.4')],\n",
       " [91, Decimal('3.9')],\n",
       " [92, Decimal('4.2')],\n",
       " [93, Decimal('4.4')],\n",
       " [94, Decimal('5.0')],\n",
       " [95, Decimal('5.4')],\n",
       " [96, Decimal('5.2')],\n",
       " [97, Decimal('4.8')],\n",
       " [98, Decimal('4.2')],\n",
       " [99, Decimal('4.7')],\n",
       " [100, Decimal('5.0')],\n",
       " [101, Decimal('5.2')],\n",
       " [102, Decimal('2.8')],\n",
       " [103, Decimal('2.8')],\n",
       " [104, Decimal('2.6')],\n",
       " [105, Decimal('2.4')],\n",
       " [106, Decimal('2.2')],\n",
       " [107, Decimal('2.4')],\n",
       " [108, Decimal('2.5')],\n",
       " [109, Decimal('2.7')],\n",
       " [110, Decimal('3.2')],\n",
       " [111, Decimal('3.2')],\n",
       " [112, Decimal('3.0')],\n",
       " [113, Decimal('2.8')],\n",
       " [114, Decimal('2.6')],\n",
       " [115, Decimal('2.8')],\n",
       " [116, Decimal('2.9')],\n",
       " [117, Decimal('3.1')],\n",
       " [118, Decimal('2.1')],\n",
       " [119, Decimal('1.9')],\n",
       " [120, Decimal('1.9')],\n",
       " [121, Decimal('1.7')],\n",
       " [122, Decimal('1.7')],\n",
       " [123, Decimal('1.7')],\n",
       " [124, Decimal('1.8')],\n",
       " [125, Decimal('1.9')],\n",
       " [126, Decimal('2.4')],\n",
       " [127, Decimal('2.2')],\n",
       " [128, Decimal('2.1')],\n",
       " [129, Decimal('2.0')],\n",
       " [130, Decimal('2.0')],\n",
       " [131, Decimal('2.0')],\n",
       " [132, Decimal('2.1')],\n",
       " [133, Decimal('2.1')],\n",
       " [134, Decimal('5.3')],\n",
       " [135, Decimal('5.8')],\n",
       " [136, Decimal('5.8')],\n",
       " [137, Decimal('5.2')],\n",
       " [138, Decimal('4.3')],\n",
       " [139, Decimal('4.9')],\n",
       " [140, Decimal('5.4')],\n",
       " [141, Decimal('5.5')],\n",
       " [142, Decimal('6.2')],\n",
       " [143, Decimal('7.0')],\n",
       " [144, Decimal('7.1')],\n",
       " [145, Decimal('6.4')],\n",
       " [146, Decimal('5.6')],\n",
       " [147, Decimal('6.0')],\n",
       " [148, Decimal('6.4')],\n",
       " [149, Decimal('6.5')],\n",
       " [150, Decimal('4.1')],\n",
       " [151, Decimal('4.5')],\n",
       " [152, Decimal('4.3')],\n",
       " [153, Decimal('3.9')],\n",
       " [154, Decimal('3.3')],\n",
       " [155, Decimal('3.7')],\n",
       " [156, Decimal('4.0')],\n",
       " [157, Decimal('4.2')],\n",
       " [158, Decimal('4.8')],\n",
       " [159, Decimal('5.4')],\n",
       " [160, Decimal('5.2')],\n",
       " [161, Decimal('4.8')],\n",
       " [162, Decimal('4.2')],\n",
       " [163, Decimal('4.5')],\n",
       " [164, Decimal('4.8')],\n",
       " [165, Decimal('5.0')],\n",
       " [166, Decimal('2.7')],\n",
       " [167, Decimal('2.7')],\n",
       " [168, Decimal('2.6')],\n",
       " [169, Decimal('2.4')],\n",
       " [170, Decimal('2.1')],\n",
       " [171, Decimal('2.3')],\n",
       " [172, Decimal('2.4')],\n",
       " [173, Decimal('2.6')],\n",
       " [174, Decimal('3.1')],\n",
       " [175, Decimal('3.2')],\n",
       " [176, Decimal('3.0')],\n",
       " [177, Decimal('2.9')],\n",
       " [178, Decimal('2.6')],\n",
       " [179, Decimal('2.7')],\n",
       " [180, Decimal('2.8')],\n",
       " [181, Decimal('3.0')],\n",
       " [182, Decimal('2.1')],\n",
       " [183, Decimal('1.9')],\n",
       " [184, Decimal('1.9')],\n",
       " [185, Decimal('1.7')],\n",
       " [186, Decimal('1.6')],\n",
       " [187, Decimal('1.7')],\n",
       " [188, Decimal('1.8')],\n",
       " [189, Decimal('1.8')],\n",
       " [190, Decimal('2.3')],\n",
       " [191, Decimal('2.2')],\n",
       " [192, Decimal('2.1')],\n",
       " [193, Decimal('2.0')],\n",
       " [194, Decimal('1.9')],\n",
       " [195, Decimal('1.9')],\n",
       " [196, Decimal('2.0')],\n",
       " [197, Decimal('2.1')],\n",
       " [198, Decimal('5.0')],\n",
       " [199, Decimal('5.4')],\n",
       " [200, Decimal('5.4')],\n",
       " [201, Decimal('4.9')],\n",
       " [202, Decimal('4.1')],\n",
       " [203, Decimal('4.9')],\n",
       " [204, Decimal('5.5')],\n",
       " [205, Decimal('5.4')],\n",
       " [206, Decimal('5.8')],\n",
       " [207, Decimal('6.4')],\n",
       " [208, Decimal('6.5')],\n",
       " [209, Decimal('6.0')],\n",
       " [210, Decimal('5.3')],\n",
       " [211, Decimal('6.1')],\n",
       " [212, Decimal('6.7')],\n",
       " [213, Decimal('6.6')],\n",
       " [214, Decimal('3.9')],\n",
       " [215, Decimal('4.2')],\n",
       " [216, Decimal('4.1')],\n",
       " [217, Decimal('3.7')],\n",
       " [218, Decimal('3.1')],\n",
       " [219, Decimal('3.7')],\n",
       " [220, Decimal('4.1')],\n",
       " [221, Decimal('4.2')],\n",
       " [222, Decimal('4.5')],\n",
       " [223, Decimal('5.0')],\n",
       " [224, Decimal('4.8')],\n",
       " [225, Decimal('4.5')],\n",
       " [226, Decimal('4.0')],\n",
       " [227, Decimal('4.6')],\n",
       " [228, Decimal('4.9')],\n",
       " [229, Decimal('5.0')],\n",
       " [230, Decimal('2.6')],\n",
       " [231, Decimal('2.6')],\n",
       " [232, Decimal('2.4')],\n",
       " [233, Decimal('2.3')],\n",
       " [234, Decimal('2.0')],\n",
       " [235, Decimal('2.3')],\n",
       " [236, Decimal('2.4')],\n",
       " [237, Decimal('2.6')],\n",
       " [238, Decimal('2.9')],\n",
       " [239, Decimal('3.0')],\n",
       " [240, Decimal('2.8')],\n",
       " [241, Decimal('2.7')],\n",
       " [242, Decimal('2.5')],\n",
       " [243, Decimal('2.7')],\n",
       " [244, Decimal('2.8')],\n",
       " [245, Decimal('3.0')],\n",
       " [246, Decimal('2.0')],\n",
       " [247, Decimal('1.8')],\n",
       " [248, Decimal('1.8')],\n",
       " [249, Decimal('1.7')],\n",
       " [250, Decimal('1.6')],\n",
       " [251, Decimal('1.7')],\n",
       " [252, Decimal('1.8')],\n",
       " [253, Decimal('1.8')],\n",
       " [254, Decimal('2.2')],\n",
       " [255, Decimal('2.0')],\n",
       " [256, Decimal('2.0')],\n",
       " [257, Decimal('1.9')],\n",
       " [258, Decimal('1.9')],\n",
       " [259, Decimal('1.9')],\n",
       " [260, Decimal('2.0')],\n",
       " [261, Decimal('2.1')],\n",
       " [262, Decimal('5.4')],\n",
       " [263, Decimal('5.7')],\n",
       " [264, Decimal('5.7')],\n",
       " [265, Decimal('5.2')],\n",
       " [266, Decimal('4.6')],\n",
       " [267, Decimal('5.2')],\n",
       " [268, Decimal('5.5')],\n",
       " [269, Decimal('5.5')],\n",
       " [270, Decimal('6.2')],\n",
       " [271, Decimal('6.8')],\n",
       " [272, Decimal('6.9')],\n",
       " [273, Decimal('6.4')],\n",
       " [274, Decimal('5.9')],\n",
       " [275, Decimal('6.3')],\n",
       " [276, Decimal('6.7')],\n",
       " [277, Decimal('6.7')],\n",
       " [278, Decimal('4.2')],\n",
       " [279, Decimal('4.4')],\n",
       " [280, Decimal('4.3')],\n",
       " [281, Decimal('4.0')],\n",
       " [282, Decimal('3.5')],\n",
       " [283, Decimal('3.9')],\n",
       " [284, Decimal('4.1')],\n",
       " [285, Decimal('4.3')],\n",
       " [286, Decimal('4.8')],\n",
       " [287, Decimal('5.3')],\n",
       " [288, Decimal('5.1')],\n",
       " [289, Decimal('4.8')],\n",
       " [290, Decimal('4.4')],\n",
       " [291, Decimal('4.7')],\n",
       " [292, Decimal('5.0')],\n",
       " [293, Decimal('5.1')],\n",
       " [294, Decimal('2.8')],\n",
       " [295, Decimal('2.7')],\n",
       " [296, Decimal('2.5')],\n",
       " [297, Decimal('2.4')],\n",
       " [298, Decimal('2.2')],\n",
       " [299, Decimal('2.4')],\n",
       " [300, Decimal('2.4')],\n",
       " [301, Decimal('2.6')],\n",
       " [302, Decimal('3.1')],\n",
       " [303, Decimal('3.1')],\n",
       " [304, Decimal('2.9')],\n",
       " [305, Decimal('2.8')],\n",
       " [306, Decimal('2.7')],\n",
       " [307, Decimal('2.8')],\n",
       " [308, Decimal('2.9')],\n",
       " [309, Decimal('3.1')],\n",
       " [310, Decimal('2.1')],\n",
       " [311, Decimal('1.9')],\n",
       " [312, Decimal('1.8')],\n",
       " [313, Decimal('1.7')],\n",
       " [314, Decimal('1.7')],\n",
       " [315, Decimal('1.7')],\n",
       " [316, Decimal('1.8')],\n",
       " [317, Decimal('1.8')],\n",
       " [318, Decimal('2.3')],\n",
       " [319, Decimal('2.1')],\n",
       " [320, Decimal('2.1')],\n",
       " [321, Decimal('2.0')],\n",
       " [322, Decimal('2.0')],\n",
       " [323, Decimal('2.0')],\n",
       " [324, Decimal('2.1')],\n",
       " [325, Decimal('2.1')],\n",
       " [326, Decimal('5.1')],\n",
       " [327, Decimal('5.5')],\n",
       " [328, Decimal('5.6')],\n",
       " [329, Decimal('5.0')],\n",
       " [330, Decimal('4.3')],\n",
       " [331, Decimal('5.0')],\n",
       " [332, Decimal('5.5')],\n",
       " [333, Decimal('5.5')],\n",
       " [334, Decimal('5.9')],\n",
       " [335, Decimal('6.6')],\n",
       " [336, Decimal('6.7')],\n",
       " [337, Decimal('6.2')],\n",
       " [338, Decimal('5.5')],\n",
       " [339, Decimal('6.2')],\n",
       " [340, Decimal('6.7')],\n",
       " [341, Decimal('6.6')],\n",
       " [342, Decimal('3.9')],\n",
       " [343, Decimal('4.2')],\n",
       " [344, Decimal('4.2')],\n",
       " [345, Decimal('3.8')],\n",
       " [346, Decimal('3.3')],\n",
       " [347, Decimal('3.8')],\n",
       " [348, Decimal('4.1')],\n",
       " [349, Decimal('4.2')],\n",
       " [350, Decimal('4.5')],\n",
       " [351, Decimal('5.0')],\n",
       " [352, Decimal('5.0')],\n",
       " [353, Decimal('4.7')],\n",
       " [354, Decimal('4.1')],\n",
       " [355, Decimal('4.7')],\n",
       " [356, Decimal('5.0')],\n",
       " [357, Decimal('5.0')],\n",
       " [358, Decimal('2.6')],\n",
       " [359, Decimal('2.6')],\n",
       " [360, Decimal('2.5')],\n",
       " [361, Decimal('2.3')],\n",
       " [362, Decimal('2.1')],\n",
       " [363, Decimal('2.3')],\n",
       " [364, Decimal('2.4')],\n",
       " [365, Decimal('2.6')],\n",
       " [366, Decimal('2.9')],\n",
       " [367, Decimal('3.0')],\n",
       " [368, Decimal('2.9')],\n",
       " [369, Decimal('2.8')],\n",
       " [370, Decimal('2.5')],\n",
       " [371, Decimal('2.8')],\n",
       " [372, Decimal('2.8')],\n",
       " [373, Decimal('3.0')],\n",
       " [374, Decimal('2.0')],\n",
       " [375, Decimal('1.8')],\n",
       " [376, Decimal('1.8')],\n",
       " [377, Decimal('1.7')],\n",
       " [378, Decimal('1.6')],\n",
       " [379, Decimal('1.7')],\n",
       " [380, Decimal('1.8')],\n",
       " [381, Decimal('1.8')],\n",
       " [382, Decimal('2.2')],\n",
       " [383, Decimal('2.1')],\n",
       " [384, Decimal('2.1')],\n",
       " [385, Decimal('2.0')],\n",
       " [386, Decimal('1.9')],\n",
       " [387, Decimal('2.0')],\n",
       " [388, Decimal('2.0')],\n",
       " [389, Decimal('2.1')],\n",
       " [390, Decimal('4.8')],\n",
       " [391, Decimal('5.3')],\n",
       " [392, Decimal('5.4')],\n",
       " [393, Decimal('4.9')],\n",
       " [394, Decimal('4.1')],\n",
       " [395, Decimal('4.8')],\n",
       " [396, Decimal('5.4')],\n",
       " [397, Decimal('5.3')],\n",
       " [398, Decimal('5.6')],\n",
       " [399, Decimal('6.4')],\n",
       " [400, Decimal('6.5')],\n",
       " [401, Decimal('6.0')],\n",
       " [402, Decimal('5.1')],\n",
       " [403, Decimal('6.0')],\n",
       " [404, Decimal('6.6')],\n",
       " [405, Decimal('6.4')],\n",
       " [406, Decimal('3.8')],\n",
       " [407, Decimal('4.1')],\n",
       " [408, Decimal('4.1')],\n",
       " [409, Decimal('3.7')],\n",
       " [410, Decimal('3.1')],\n",
       " [411, Decimal('3.7')],\n",
       " [412, Decimal('4.1')],\n",
       " [413, Decimal('4.1')],\n",
       " [414, Decimal('4.3')],\n",
       " [415, Decimal('4.9')],\n",
       " [416, Decimal('4.9')],\n",
       " [417, Decimal('4.5')],\n",
       " [418, Decimal('3.9')],\n",
       " [419, Decimal('4.5')],\n",
       " [420, Decimal('4.9')],\n",
       " [421, Decimal('4.9')],\n",
       " [422, Decimal('2.5')],\n",
       " [423, Decimal('2.5')],\n",
       " [424, Decimal('2.4')],\n",
       " [425, Decimal('2.3')],\n",
       " [426, Decimal('2.0')],\n",
       " [427, Decimal('2.3')],\n",
       " [428, Decimal('2.4')],\n",
       " [429, Decimal('2.5')],\n",
       " [430, Decimal('2.8')],\n",
       " [431, Decimal('3.0')],\n",
       " [432, Decimal('2.8')],\n",
       " [433, Decimal('2.7')],\n",
       " [434, Decimal('2.4')],\n",
       " [435, Decimal('2.7')],\n",
       " [436, Decimal('2.8')],\n",
       " [437, Decimal('3.0')],\n",
       " [438, Decimal('1.9')],\n",
       " [439, Decimal('1.8')],\n",
       " [440, Decimal('1.8')],\n",
       " [441, Decimal('1.6')],\n",
       " [442, Decimal('1.6')],\n",
       " [443, Decimal('1.6')],\n",
       " [444, Decimal('1.8')],\n",
       " [445, Decimal('1.8')],\n",
       " [446, Decimal('2.1')],\n",
       " [447, Decimal('2.0')],\n",
       " [448, Decimal('2.0')],\n",
       " [449, Decimal('1.9')],\n",
       " [450, Decimal('1.8')],\n",
       " [451, Decimal('1.9')],\n",
       " [452, Decimal('2.0')],\n",
       " [453, Decimal('2.0')],\n",
       " [454, Decimal('5.4')],\n",
       " [455, Decimal('5.6')],\n",
       " [456, Decimal('5.6')],\n",
       " [457, Decimal('5.1')],\n",
       " [458, Decimal('4.5')],\n",
       " [459, Decimal('5.0')],\n",
       " [460, Decimal('5.6')],\n",
       " [461, Decimal('5.6')],\n",
       " [462, Decimal('6.3')],\n",
       " [463, Decimal('6.8')],\n",
       " [464, Decimal('6.8')],\n",
       " [465, Decimal('6.2')],\n",
       " [466, Decimal('5.5')],\n",
       " [467, Decimal('6.1')],\n",
       " [468, Decimal('6.7')],\n",
       " [469, Decimal('6.8')],\n",
       " [470, Decimal('4.2')],\n",
       " [471, Decimal('4.3')],\n",
       " [472, Decimal('4.2')],\n",
       " [473, Decimal('3.9')],\n",
       " [474, Decimal('3.4')],\n",
       " [475, Decimal('3.8')],\n",
       " [476, Decimal('4.2')],\n",
       " [477, Decimal('4.3')],\n",
       " [478, Decimal('4.9')],\n",
       " [479, Decimal('5.2')],\n",
       " [480, Decimal('5.0')],\n",
       " [481, Decimal('4.6')],\n",
       " [482, Decimal('4.1')],\n",
       " [483, Decimal('4.6')],\n",
       " [484, Decimal('5.0')],\n",
       " [485, Decimal('5.2')],\n",
       " [486, Decimal('2.7')],\n",
       " [487, Decimal('2.7')],\n",
       " [488, Decimal('2.5')],\n",
       " [489, Decimal('2.4')],\n",
       " [490, Decimal('2.2')],\n",
       " [491, Decimal('2.3')],\n",
       " [492, Decimal('2.5')],\n",
       " [493, Decimal('2.7')],\n",
       " [494, Decimal('3.2')],\n",
       " [495, Decimal('3.1')],\n",
       " [496, Decimal('2.9')],\n",
       " [497, Decimal('2.8')],\n",
       " [498, Decimal('2.5')],\n",
       " [499, Decimal('2.7')],\n",
       " [500, Decimal('2.9')],\n",
       " [501, Decimal('3.1')],\n",
       " [502, Decimal('2.1')],\n",
       " [503, Decimal('1.8')],\n",
       " [504, Decimal('1.8')],\n",
       " [505, Decimal('1.7')],\n",
       " [506, Decimal('1.7')],\n",
       " [507, Decimal('1.7')],\n",
       " [508, Decimal('1.8')],\n",
       " [509, Decimal('1.9')],\n",
       " [510, Decimal('2.4')],\n",
       " [511, Decimal('2.1')],\n",
       " [512, Decimal('2.1')],\n",
       " [513, Decimal('1.9')],\n",
       " [514, Decimal('1.9')],\n",
       " [515, Decimal('1.9')],\n",
       " [516, Decimal('2.1')],\n",
       " [517, Decimal('2.1')]]"
      ]
     },
     "execution_count": 37,
     "metadata": {},
     "output_type": "execute_result"
    }
   ],
   "source": [
    "test_eta_A_C_output = []\n",
    "for i, t in enumerate(test_eta_A_C_input):\n",
    "    test_eta_A_C_output.append( [i, eta_A_C( t[0], t[1], t[2], t[3], t[4], t[5], t[6], t[7], t[8], t[9], t[10], t[11], t[12], t[13], t[14], t[15], t[16], t[17] ) ] )\n",
    "test_eta_A_C_output"
   ]
  },
  {
   "cell_type": "markdown",
   "metadata": {
    "collapsed": true
   },
   "source": [
    "# 外皮平均熱貫流率(一次エネ計算プログラム使用版)のテスト"
   ]
  },
  {
   "cell_type": "markdown",
   "metadata": {},
   "source": [
    "テストの方針  \n",
    "家の種類・・・全種類実施(3種類)  \n",
    "屋根・壁・ドア・主開口窓・その他の開口窓・床のU値・・・1.0固定  \n",
    "土間床外周部・土間床外周部(玄関ドア等)のψ値・・・全て、1.0の場合と2.0の場合の2種類"
   ]
  },
  {
   "cell_type": "code",
   "execution_count": 38,
   "metadata": {
    "collapsed": true
   },
   "outputs": [],
   "source": [
    "test_U_A_2_input = []\n",
    "\n",
    "    # 引数:\n",
    "        # 第1引数: 家の種類( 'floor_ins' , 'base_ins' , 'floor_base_ins' )\n",
    "        # 第2引数: 屋根のU値(W/m2K)\n",
    "        # 第3引数: 壁のU値(W/m2K)\n",
    "        # 第4引数: ドアのU値(W/m2K)\n",
    "        # 第5引数: 主開口窓のU値(W/m2K)\n",
    "        # 第6引数: その他の開口窓のU値(W/m2K)\n",
    "        # 第7引数: 床のU値(W/m2K)\n",
    "        # 第8引数: 土間床外周部のψ値(W/mK)\n",
    "        # 第9引数: 土間床外周部(玄関ドア等)のψ値(W/mK)\n",
    "\n",
    "test_U_A_2_input.append( [ 'floor_ins', 1.0, 1.0, 1.0, 1.0, 1.0, 1.0, 1.0, 1.0 ] )\n",
    "test_U_A_2_input.append( [ 'base_ins', 1.0, 1.0, 1.0, 1.0, 1.0, 1.0, 1.0, 1.0 ] )\n",
    "test_U_A_2_input.append( [ 'floor_base_ins', 1.0, 1.0, 1.0, 1.0, 1.0, 1.0, 1.0, 1.0 ] )\n",
    "test_U_A_2_input.append( [ 'floor_ins', 1.0, 1.0, 1.0, 1.0, 1.0, 1.0, 2.0, 2.0 ] )\n",
    "test_U_A_2_input.append( [ 'base_ins', 1.0, 1.0, 1.0, 1.0, 1.0, 1.0, 2.0, 2.0 ] )\n",
    "test_U_A_2_input.append( [ 'floor_base_ins', 1.0, 1.0, 1.0, 1.0, 1.0, 1.0, 2.0, 2.0 ] )"
   ]
  },
  {
   "cell_type": "code",
   "execution_count": 39,
   "metadata": {
    "collapsed": false
   },
   "outputs": [
    {
     "data": {
      "text/plain": [
       "[[0, Decimal('0.96')],\n",
       " [1, Decimal('0.88')],\n",
       " [2, Decimal('0.96')],\n",
       " [3, Decimal('1.00')],\n",
       " [4, Decimal('0.99')],\n",
       " [5, Decimal('1.00')]]"
      ]
     },
     "execution_count": 39,
     "metadata": {},
     "output_type": "execute_result"
    }
   ],
   "source": [
    "test_U_A_2_output = []\n",
    "for i, t in enumerate(test_U_A_2_input):\n",
    "    test_U_A_2_output.append( [i, U_A_2( t[0], t[1], t[2], t[3], t[4], t[5], t[6], t[7], t[8] ) ] )\n",
    "test_U_A_2_output"
   ]
  },
  {
   "cell_type": "markdown",
   "metadata": {},
   "source": [
    "# 平均日射熱取得率(一次エネ計算プログラム使用版)のテスト"
   ]
  },
  {
   "cell_type": "markdown",
   "metadata": {},
   "source": [
    "## 1) 暖房期"
   ]
  },
  {
   "cell_type": "markdown",
   "metadata": {},
   "source": [
    "テストの方針\n",
    "\n",
    "家の種類・・・全種類実施(1種類) 'floor_ins'  \n",
    "地域の区分・・・1地域(1種類)  \n",
    "主開口の方位・・・南('s')(1種類)  \n",
    "屋根・壁・ドア・主開口窓・その他の開口窓・床のU値・・・1.0固定  \n",
    "土間床外周部・土間床外周部(玄関ドア等)のψ値・・・全て、1.0固定  \n",
    "主開口窓の暖房期のηd値・その他開口窓の暖房期のηd値・・・1.0固定  \n",
    "立地・・・全種類実施(3種類)  \n",
    "隣棟の影響・・・すべて実施(2種類) "
   ]
  },
  {
   "cell_type": "code",
   "execution_count": 40,
   "metadata": {
    "collapsed": true
   },
   "outputs": [],
   "source": [
    "test_eta_A_H_2_input = []\n",
    "\n",
    "    # 引数:\n",
    "        # 第1引数: 家の種類( 'floor_ins' , 'base_ins' , 'floor_base_ins' )\n",
    "        # 第2引数: 地域の区分\n",
    "        # 第3引数: 主開口の方位\n",
    "        # 第4引数: 屋根のU値(W/m2K)\n",
    "        # 第5引数: 壁のU値(W/m2K)\n",
    "        # 第6引数: ドアのU値(W/m2K)\n",
    "        # 第7引数: 主開口窓のU値(W/m2K)\n",
    "        # 第8引数: その他の開口窓のU値(W/m2K)\n",
    "        # 第9引数: 床のU値(W/m2K)\n",
    "        # 第10引数: 土間床外周部のψ値(W/mK)\n",
    "        # 第11引数: 土間床外周部(玄関ドア等)のψ値(W/mK)\n",
    "        # 第12引数: 主開口窓の暖房期のηd値\n",
    "        # 第13引数: その他開口窓の暖房期のηd値\n",
    "        # 第14引数: 立地\n",
    "            # kougai: 郊外\n",
    "            # toshibu: 密集していない都市部\n",
    "            # misshu_toshibu: 密集している都市部\n",
    "        # 第15引数: 隣棟の影響 'yes' 考慮する 'no' 考慮しない\n",
    "        \n",
    "test_eta_A_H_2_input.append( [ 'floor_ins', 1, 'S', 1.0, 1.0, 1.0, 1.0, 1.0, 1.0, 1.0, 1.0, 1.0, 1.0, 'kougai', 'yes' ] )\n",
    "test_eta_A_H_2_input.append( [ 'floor_ins', 1, 'S', 1.0, 1.0, 1.0, 1.0, 1.0, 1.0, 1.0, 1.0, 1.0, 1.0, 'kougai', 'no' ] )\n",
    "test_eta_A_H_2_input.append( [ 'floor_ins', 1, 'S', 1.0, 1.0, 1.0, 1.0, 1.0, 1.0, 1.0, 1.0, 1.0, 1.0, 'toshibu', 'yes' ] )\n",
    "test_eta_A_H_2_input.append( [ 'floor_ins', 1, 'S', 1.0, 1.0, 1.0, 1.0, 1.0, 1.0, 1.0, 1.0, 1.0, 1.0, 'toshibu', 'no' ] )\n",
    "test_eta_A_H_2_input.append( [ 'floor_ins', 1, 'S', 1.0, 1.0, 1.0, 1.0, 1.0, 1.0, 1.0, 1.0, 1.0, 1.0, 'misshu_toshibu', 'yes' ] )\n",
    "test_eta_A_H_2_input.append( [ 'floor_ins', 1, 'S', 1.0, 1.0, 1.0, 1.0, 1.0, 1.0, 1.0, 1.0, 1.0, 1.0, 'misshu_toshibu', 'no' ] )"
   ]
  },
  {
   "cell_type": "code",
   "execution_count": 41,
   "metadata": {
    "collapsed": false
   },
   "outputs": [
    {
     "data": {
      "text/plain": [
       "[[0, Decimal('7.1')],\n",
       " [1, Decimal('7.8')],\n",
       " [2, Decimal('5.9')],\n",
       " [3, Decimal('7.8')],\n",
       " [4, Decimal('2.9')],\n",
       " [5, Decimal('7.8')]]"
      ]
     },
     "execution_count": 41,
     "metadata": {},
     "output_type": "execute_result"
    }
   ],
   "source": [
    "test_eta_A_H_2_output = []\n",
    "for i, t in enumerate(test_eta_A_H_2_input):\n",
    "    test_eta_A_H_2_output.append( [i, eta_A_H_2( t[0], t[1], t[2], t[3], t[4], t[5], t[6], t[7], t[8], t[9], t[10], t[11], t[12], t[13], t[14] ) ] )\n",
    "test_eta_A_H_2_output"
   ]
  },
  {
   "cell_type": "markdown",
   "metadata": {},
   "source": [
    "## 2) 冷房期"
   ]
  },
  {
   "cell_type": "markdown",
   "metadata": {},
   "source": [
    "テストの方針\n",
    "\n",
    "家の種類・・・全種類実施(1種類) 'floor_ins'  \n",
    "地域の区分・・・1地域(1種類)  \n",
    "主開口の方位・・・南('s')(1種類)  \n",
    "屋根・壁・ドア・主開口窓・その他の開口窓・床のU値・・・1.0固定  \n",
    "土間床外周部・土間床外周部(玄関ドア等)のψ値・・・全て、1.0固定  \n",
    "主開口窓の暖房期のηd値・その他開口窓の暖房期のηd値・・・1.0固定  \n",
    "立地・・・全種類実施(3種類)  \n",
    "隣棟の影響・・・すべて実施(2種類)  \n",
    "有効な日除けの有無・・・固定（有り）"
   ]
  },
  {
   "cell_type": "code",
   "execution_count": 42,
   "metadata": {
    "collapsed": true
   },
   "outputs": [],
   "source": [
    "test_eta_A_C_2_input = []\n",
    "\n",
    "    # 引数:\n",
    "        # 第1引数: 家の種類( 'floor_ins' , 'base_ins' , 'floor_base_ins' )\n",
    "        # 第2引数: 地域の区分\n",
    "        # 第3引数: 主開口の方位\n",
    "        # 第4引数: 屋根のU値(W/m2K)\n",
    "        # 第5引数: 壁のU値(W/m2K)\n",
    "        # 第6引数: ドアのU値(W/m2K)\n",
    "        # 第7引数: 主開口窓のU値(W/m2K)\n",
    "        # 第8引数: その他の開口窓のU値(W/m2K)\n",
    "        # 第9引数: 床のU値(W/m2K)\n",
    "        # 第10引数: 土間床外周部のψ値(W/mK)\n",
    "        # 第11引数: 土間床外周部(玄関ドア等)のψ値(W/mK)\n",
    "        # 第12引数: 主開口窓の冷房期のηd値\n",
    "        # 第13引数: その他開口窓の冷房期のηd値\n",
    "        # 第14引数: 立地\n",
    "            # kougai: 郊外\n",
    "            # toshibu: 密集していない都市部\n",
    "            # misshu_toshibu: 密集している都市部\n",
    "        # 第15引数: 隣棟の影響 'yes' 考慮する 'no' 考慮しない\n",
    "        # 第16引数: effective_eaves: 有効な日除けの有無(yes, no)\n",
    "        \n",
    "test_eta_A_C_2_input.append( [ 'floor_ins', 1, 'S', 1.0, 1.0, 1.0, 1.0, 1.0, 1.0, 1.0, 1.0, 1.0, 1.0, 'kougai', 'yes', 'yes' ] )\n",
    "test_eta_A_C_2_input.append( [ 'floor_ins', 1, 'S', 1.0, 1.0, 1.0, 1.0, 1.0, 1.0, 1.0, 1.0, 1.0, 1.0, 'kougai', 'no', 'yes' ] )\n",
    "test_eta_A_C_2_input.append( [ 'floor_ins', 1, 'S', 1.0, 1.0, 1.0, 1.0, 1.0, 1.0, 1.0, 1.0, 1.0, 1.0, 'toshibu', 'yes', 'yes' ] )\n",
    "test_eta_A_C_2_input.append( [ 'floor_ins', 1, 'S', 1.0, 1.0, 1.0, 1.0, 1.0, 1.0, 1.0, 1.0, 1.0, 1.0, 'toshibu', 'no', 'yes' ] )\n",
    "test_eta_A_C_2_input.append( [ 'floor_ins', 1, 'S', 1.0, 1.0, 1.0, 1.0, 1.0, 1.0, 1.0, 1.0, 1.0, 1.0, 'misshu_toshibu', 'yes', 'yes' ] )\n",
    "test_eta_A_C_2_input.append( [ 'floor_ins', 1, 'S', 1.0, 1.0, 1.0, 1.0, 1.0, 1.0, 1.0, 1.0, 1.0, 1.0, 'misshu_toshibu', 'no', 'yes' ] )"
   ]
  },
  {
   "cell_type": "code",
   "execution_count": 43,
   "metadata": {
    "collapsed": false
   },
   "outputs": [
    {
     "data": {
      "text/plain": [
       "[[0, Decimal('5.0')],\n",
       " [1, Decimal('5.5')],\n",
       " [2, Decimal('4.3')],\n",
       " [3, Decimal('5.5')],\n",
       " [4, Decimal('2.8')],\n",
       " [5, Decimal('5.5')]]"
      ]
     },
     "execution_count": 43,
     "metadata": {},
     "output_type": "execute_result"
    }
   ],
   "source": [
    "test_eta_A_C_2_output = []\n",
    "for i, t in enumerate(test_eta_A_C_2_input):\n",
    "    test_eta_A_C_2_output.append( [i, eta_A_C_2( t[0], t[1], t[2], t[3], t[4], t[5], t[6], t[7], t[8], t[9], t[10], t[11], t[12], t[13], t[14], t[15] ) ] )\n",
    "test_eta_A_C_2_output"
   ]
  }
 ],
 "metadata": {
  "kernelspec": {
   "display_name": "Python 3",
   "language": "python",
   "name": "python3"
  },
  "language_info": {
   "codemirror_mode": {
    "name": "ipython",
    "version": 3
   },
   "file_extension": ".py",
   "mimetype": "text/x-python",
   "name": "python",
   "nbconvert_exporter": "python",
   "pygments_lexer": "ipython3",
   "version": "3.6.0"
  }
 },
 "nbformat": 4,
 "nbformat_minor": 2
}
